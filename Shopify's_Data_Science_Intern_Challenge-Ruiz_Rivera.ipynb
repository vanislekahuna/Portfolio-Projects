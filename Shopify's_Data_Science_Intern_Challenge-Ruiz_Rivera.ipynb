{
  "nbformat": 4,
  "nbformat_minor": 0,
  "metadata": {
    "colab": {
      "name": "Shopify's Data Science Intern Challenge.ipynb",
      "provenance": [],
      "collapsed_sections": []
    },
    "kernelspec": {
      "name": "python3",
      "display_name": "Python 3"
    },
    "language_info": {
      "name": "python"
    }
  },
  "cells": [
    {
      "cell_type": "markdown",
      "source": [
        "# **Fall 2022 Data Science Intern Challenge**\n",
        "\n",
        "**Ruiz Rivera**\n",
        "\n",
        "**Junior Data Scientist**\n",
        "\n",
        "\n",
        "*Please complete the following questions, and provide your thought process/work. You can attach your work in a text file, link, etc. on the application page. Please ensure answers are easily visible for reviewers!*"
      ],
      "metadata": {
        "id": "_yOnn53PZhTH"
      }
    },
    {
      "cell_type": "markdown",
      "source": [
        "### Question 1: Given some sample data, write a program to answer the following: [click here to access the required data set](https://docs.google.com/spreadsheets/d/16i38oonuX1y1g7C_UAmiK9GkY7cS-64DfiDMNiR41LM/edit#gid=0)\n",
        "\n",
        "\n",
        "\n",
        "*On Shopify, we have exactly 100 sneaker shops, and each of these shops sells only one model of shoe. We want to do some analysis of the average order value (AOV). When we look at orders data over a 30 day window, we naively calculate an AOV of $3145.13. Given that we know these shops are selling sneakers, a relatively affordable item, something seems wrong with our analysis.*\n",
        "\n",
        "- *Think about what could be going wrong with our calculation. Think about a better way to evaluate this data.*\n",
        "- *What metric would you report for this dataset?*\n",
        "- *What is its value?*"
      ],
      "metadata": {
        "id": "1A6bjZDDZqbE"
      }
    },
    {
      "cell_type": "markdown",
      "source": [
        "## **Introduction**\n",
        "\n",
        "Identifying the right metrics is crucial for any brand tracking its growth over time, identifying key customer segments, or forecasting revenue streams as examples of critical business functions. For example, metrics such as **average order value (AOV)** tell us the average price at which a customer is willing to pay for a class of items. It's a crucial metric for any retailer because it helps decision-makers understand how much revenue each customer drives and how customers spend their money. Alone, the scope of information we can infer about a business is limited. However, when combined with other metrics such as the volume of customer purchases, or the peak hours during a business day, we can obtain a more accurate view of the business' health.\n",
        "\n",
        "As one of the world's leading eCommerce platforms, Shopify's business model provides online merchants with the tooling to succeed in their business endeavours. As a result, Shopify has a huge incentive to see its merchant userbase succeed since a significant portion of its revenue comes from the transaction volume that merchants generate. Therefore, having an accurate understanding of a business' health is vital if Shopify is to continue fulfilling its value proposition of providing merchants with the right data and insights to make good decisions. And when data teams feed business leaders with poorly designed metrics that inaccurately measure the outcomes they're interested in tracking, bad decisions then follow suit.\n",
        "\n",
        "In the following paragraphs, we will highlight an example of how a  poorly designed metric can aversely affect Shopify's platform, how we can improve it, and what we can learn from this incident. "
      ],
      "metadata": {
        "id": "GC4a2RYrWl9E"
      }
    },
    {
      "cell_type": "markdown",
      "source": [
        "One day, an executive team member came to us with a dataset containing five thousand rows of transaction data on one hundred unique sneaker merchants using the Shopify platform. The executive was very excited by the recent report that their sneaker merchant's customers spent an average of $3,145.13 per order over the past month. May isn't a typical month where we'd see sneaker sales rise this much, so the executive tasked the marketing department with exploring an initiative to keep this trend going while our job, as the data team, was to learn from this trend and dig into what was causing it. \n",
        "\n",
        "Once we had the datasets, we sat down and applied the typical data science procedures, such as importing the software packages needed for our analysis, uploading the data, and checking for null and duplicate values."
      ],
      "metadata": {
        "id": "TJioW9RguSrv"
      }
    },
    {
      "cell_type": "code",
      "execution_count": 1,
      "metadata": {
        "id": "wKESJeOqW-Qm"
      },
      "outputs": [],
      "source": [
        "import pandas as pd\n",
        "import numpy as np\n",
        "import matplotlib.pyplot as plt\n",
        "import seaborn as sns\n",
        "import plotly.express as px\n",
        "import plotly.graph_objects as go"
      ]
    },
    {
      "cell_type": "code",
      "source": [
        "url = 'https://docs.google.com/spreadsheets/d/16i38oonuX1y1g7C_UAmiK9GkY7cS-64DfiDMNiR41LM/export?format=csv&gid=0'\n",
        "orders_df = pd.read_csv(url)\n",
        "orders_df.head()"
      ],
      "metadata": {
        "colab": {
          "base_uri": "https://localhost:8080/",
          "height": 206
        },
        "id": "FOJr8QxgbhEM",
        "outputId": "d098e872-fa66-47cb-d7c4-023c4472f8c6"
      },
      "execution_count": 2,
      "outputs": [
        {
          "output_type": "execute_result",
          "data": {
            "text/plain": [
              "   order_id  shop_id  user_id  order_amount  total_items payment_method  \\\n",
              "0         1       53      746           224            2           cash   \n",
              "1         2       92      925            90            1           cash   \n",
              "2         3       44      861           144            1           cash   \n",
              "3         4       18      935           156            1    credit_card   \n",
              "4         5       18      883           156            1    credit_card   \n",
              "\n",
              "            created_at  \n",
              "0  2017-03-13 12:36:56  \n",
              "1  2017-03-03 17:38:52  \n",
              "2   2017-03-14 4:23:56  \n",
              "3  2017-03-26 12:43:37  \n",
              "4   2017-03-01 4:35:11  "
            ],
            "text/html": [
              "\n",
              "  <div id=\"df-652abb18-65a6-4cb7-8348-80f4f61d9c0a\">\n",
              "    <div class=\"colab-df-container\">\n",
              "      <div>\n",
              "<style scoped>\n",
              "    .dataframe tbody tr th:only-of-type {\n",
              "        vertical-align: middle;\n",
              "    }\n",
              "\n",
              "    .dataframe tbody tr th {\n",
              "        vertical-align: top;\n",
              "    }\n",
              "\n",
              "    .dataframe thead th {\n",
              "        text-align: right;\n",
              "    }\n",
              "</style>\n",
              "<table border=\"1\" class=\"dataframe\">\n",
              "  <thead>\n",
              "    <tr style=\"text-align: right;\">\n",
              "      <th></th>\n",
              "      <th>order_id</th>\n",
              "      <th>shop_id</th>\n",
              "      <th>user_id</th>\n",
              "      <th>order_amount</th>\n",
              "      <th>total_items</th>\n",
              "      <th>payment_method</th>\n",
              "      <th>created_at</th>\n",
              "    </tr>\n",
              "  </thead>\n",
              "  <tbody>\n",
              "    <tr>\n",
              "      <th>0</th>\n",
              "      <td>1</td>\n",
              "      <td>53</td>\n",
              "      <td>746</td>\n",
              "      <td>224</td>\n",
              "      <td>2</td>\n",
              "      <td>cash</td>\n",
              "      <td>2017-03-13 12:36:56</td>\n",
              "    </tr>\n",
              "    <tr>\n",
              "      <th>1</th>\n",
              "      <td>2</td>\n",
              "      <td>92</td>\n",
              "      <td>925</td>\n",
              "      <td>90</td>\n",
              "      <td>1</td>\n",
              "      <td>cash</td>\n",
              "      <td>2017-03-03 17:38:52</td>\n",
              "    </tr>\n",
              "    <tr>\n",
              "      <th>2</th>\n",
              "      <td>3</td>\n",
              "      <td>44</td>\n",
              "      <td>861</td>\n",
              "      <td>144</td>\n",
              "      <td>1</td>\n",
              "      <td>cash</td>\n",
              "      <td>2017-03-14 4:23:56</td>\n",
              "    </tr>\n",
              "    <tr>\n",
              "      <th>3</th>\n",
              "      <td>4</td>\n",
              "      <td>18</td>\n",
              "      <td>935</td>\n",
              "      <td>156</td>\n",
              "      <td>1</td>\n",
              "      <td>credit_card</td>\n",
              "      <td>2017-03-26 12:43:37</td>\n",
              "    </tr>\n",
              "    <tr>\n",
              "      <th>4</th>\n",
              "      <td>5</td>\n",
              "      <td>18</td>\n",
              "      <td>883</td>\n",
              "      <td>156</td>\n",
              "      <td>1</td>\n",
              "      <td>credit_card</td>\n",
              "      <td>2017-03-01 4:35:11</td>\n",
              "    </tr>\n",
              "  </tbody>\n",
              "</table>\n",
              "</div>\n",
              "      <button class=\"colab-df-convert\" onclick=\"convertToInteractive('df-652abb18-65a6-4cb7-8348-80f4f61d9c0a')\"\n",
              "              title=\"Convert this dataframe to an interactive table.\"\n",
              "              style=\"display:none;\">\n",
              "        \n",
              "  <svg xmlns=\"http://www.w3.org/2000/svg\" height=\"24px\"viewBox=\"0 0 24 24\"\n",
              "       width=\"24px\">\n",
              "    <path d=\"M0 0h24v24H0V0z\" fill=\"none\"/>\n",
              "    <path d=\"M18.56 5.44l.94 2.06.94-2.06 2.06-.94-2.06-.94-.94-2.06-.94 2.06-2.06.94zm-11 1L8.5 8.5l.94-2.06 2.06-.94-2.06-.94L8.5 2.5l-.94 2.06-2.06.94zm10 10l.94 2.06.94-2.06 2.06-.94-2.06-.94-.94-2.06-.94 2.06-2.06.94z\"/><path d=\"M17.41 7.96l-1.37-1.37c-.4-.4-.92-.59-1.43-.59-.52 0-1.04.2-1.43.59L10.3 9.45l-7.72 7.72c-.78.78-.78 2.05 0 2.83L4 21.41c.39.39.9.59 1.41.59.51 0 1.02-.2 1.41-.59l7.78-7.78 2.81-2.81c.8-.78.8-2.07 0-2.86zM5.41 20L4 18.59l7.72-7.72 1.47 1.35L5.41 20z\"/>\n",
              "  </svg>\n",
              "      </button>\n",
              "      \n",
              "  <style>\n",
              "    .colab-df-container {\n",
              "      display:flex;\n",
              "      flex-wrap:wrap;\n",
              "      gap: 12px;\n",
              "    }\n",
              "\n",
              "    .colab-df-convert {\n",
              "      background-color: #E8F0FE;\n",
              "      border: none;\n",
              "      border-radius: 50%;\n",
              "      cursor: pointer;\n",
              "      display: none;\n",
              "      fill: #1967D2;\n",
              "      height: 32px;\n",
              "      padding: 0 0 0 0;\n",
              "      width: 32px;\n",
              "    }\n",
              "\n",
              "    .colab-df-convert:hover {\n",
              "      background-color: #E2EBFA;\n",
              "      box-shadow: 0px 1px 2px rgba(60, 64, 67, 0.3), 0px 1px 3px 1px rgba(60, 64, 67, 0.15);\n",
              "      fill: #174EA6;\n",
              "    }\n",
              "\n",
              "    [theme=dark] .colab-df-convert {\n",
              "      background-color: #3B4455;\n",
              "      fill: #D2E3FC;\n",
              "    }\n",
              "\n",
              "    [theme=dark] .colab-df-convert:hover {\n",
              "      background-color: #434B5C;\n",
              "      box-shadow: 0px 1px 3px 1px rgba(0, 0, 0, 0.15);\n",
              "      filter: drop-shadow(0px 1px 2px rgba(0, 0, 0, 0.3));\n",
              "      fill: #FFFFFF;\n",
              "    }\n",
              "  </style>\n",
              "\n",
              "      <script>\n",
              "        const buttonEl =\n",
              "          document.querySelector('#df-652abb18-65a6-4cb7-8348-80f4f61d9c0a button.colab-df-convert');\n",
              "        buttonEl.style.display =\n",
              "          google.colab.kernel.accessAllowed ? 'block' : 'none';\n",
              "\n",
              "        async function convertToInteractive(key) {\n",
              "          const element = document.querySelector('#df-652abb18-65a6-4cb7-8348-80f4f61d9c0a');\n",
              "          const dataTable =\n",
              "            await google.colab.kernel.invokeFunction('convertToInteractive',\n",
              "                                                     [key], {});\n",
              "          if (!dataTable) return;\n",
              "\n",
              "          const docLinkHtml = 'Like what you see? Visit the ' +\n",
              "            '<a target=\"_blank\" href=https://colab.research.google.com/notebooks/data_table.ipynb>data table notebook</a>'\n",
              "            + ' to learn more about interactive tables.';\n",
              "          element.innerHTML = '';\n",
              "          dataTable['output_type'] = 'display_data';\n",
              "          await google.colab.output.renderOutput(dataTable, element);\n",
              "          const docLink = document.createElement('div');\n",
              "          docLink.innerHTML = docLinkHtml;\n",
              "          element.appendChild(docLink);\n",
              "        }\n",
              "      </script>\n",
              "    </div>\n",
              "  </div>\n",
              "  "
            ]
          },
          "metadata": {},
          "execution_count": 2
        }
      ]
    },
    {
      "cell_type": "markdown",
      "source": [
        "## **Data Cleaning**\n",
        "\n",
        "Luckily for us, the dataset was very clean. There were no duplicate rows or null values. In terms of features, the only area that needed to be adjusted was the `created_at` column as it was stored as a string rather than in a DateTime format which we then modified using pandas' `pd.to_datetime()` function. "
      ],
      "metadata": {
        "id": "LF7zFLGbcQYt"
      }
    },
    {
      "cell_type": "code",
      "source": [
        "orders_df.info()"
      ],
      "metadata": {
        "colab": {
          "base_uri": "https://localhost:8080/"
        },
        "id": "SBUb-_2qcUBU",
        "outputId": "c250956b-dc52-49c3-d545-5c34c2944db4"
      },
      "execution_count": 3,
      "outputs": [
        {
          "output_type": "stream",
          "name": "stdout",
          "text": [
            "<class 'pandas.core.frame.DataFrame'>\n",
            "RangeIndex: 5000 entries, 0 to 4999\n",
            "Data columns (total 7 columns):\n",
            " #   Column          Non-Null Count  Dtype \n",
            "---  ------          --------------  ----- \n",
            " 0   order_id        5000 non-null   int64 \n",
            " 1   shop_id         5000 non-null   int64 \n",
            " 2   user_id         5000 non-null   int64 \n",
            " 3   order_amount    5000 non-null   int64 \n",
            " 4   total_items     5000 non-null   int64 \n",
            " 5   payment_method  5000 non-null   object\n",
            " 6   created_at      5000 non-null   object\n",
            "dtypes: int64(5), object(2)\n",
            "memory usage: 273.6+ KB\n"
          ]
        }
      ]
    },
    {
      "cell_type": "code",
      "source": [
        "print(f\"There are {orders_df[orders_df.duplicated()].shape[0]} duplicates in this dataset\")"
      ],
      "metadata": {
        "colab": {
          "base_uri": "https://localhost:8080/"
        },
        "id": "2zNkhVeeemRe",
        "outputId": "8d162c0f-8149-4e6c-fc38-de090573ed5c"
      },
      "execution_count": 4,
      "outputs": [
        {
          "output_type": "stream",
          "name": "stdout",
          "text": [
            "There are 0 duplicates in this dataset\n"
          ]
        }
      ]
    },
    {
      "cell_type": "code",
      "source": [
        "orders_df['created_at'] = pd.to_datetime(orders_df['created_at'])"
      ],
      "metadata": {
        "id": "ZTLhr9zxaWjp"
      },
      "execution_count": 5,
      "outputs": []
    },
    {
      "cell_type": "markdown",
      "source": [
        "### **Metric Evaluation**\n",
        "\n",
        "However, when we examined the numeric columns using pandas’ `.describe()`, we noticed a critical error in how the previous team reported average order value (AOV) to the executives. If we look at the `order_amount` and `total_items` columns, we’ll find that the mean for each column is vastly much greater than the median. For `order_amount`, which tracks the amount that customers pay, our median order value is \\\\$284, while the average is \\$3,145.13, as reported earlier. For the `total_items` that customers purchased, we’ll find that the median value is 2 items while the average value is almost 9! Why is there such a difference? As we dug deeper, we found several reasons for this misconception. \n",
        "\n",
        "In the context of sneakers, AOV should allow us to infer the average price that a customer is willing to pay for these products. Unless the dataset lists these values in another currency, \\$3,145.13 is quite expensive for the average consumer to pay for a sneaker, assuming we’re denominating in Canadian Dollars (CAD). One of the reasons that AOV is so high is that we’re dividing the sum of the total `order_amount` by the number of transactions which will inflate these numbers as it fails to account for the orders where consumers purchased two or more items. If we’re using AOV to identify the average price a customer is willing to pay for a sneaker, we should instead divide the sum of the `order_amount` by the sum of the `total_items` purchased.\n",
        "\n",
        "$$ TrueAOV = \\frac{\\sum_{i=1}^n Order Amount_{i}}{\\sum_{i=1}^n Total Items_{i}} $$\n",
        "\n"
      ],
      "metadata": {
        "id": "I5GdEW1G00qF"
      }
    },
    {
      "cell_type": "code",
      "source": [
        "orders_df.describe()"
      ],
      "metadata": {
        "colab": {
          "base_uri": "https://localhost:8080/",
          "height": 300
        },
        "id": "24IObOX9cV9-",
        "outputId": "629fff77-b1fe-4720-ce2b-da044254578f"
      },
      "execution_count": 6,
      "outputs": [
        {
          "output_type": "execute_result",
          "data": {
            "text/plain": [
              "          order_id      shop_id      user_id   order_amount  total_items\n",
              "count  5000.000000  5000.000000  5000.000000    5000.000000   5000.00000\n",
              "mean   2500.500000    50.078800   849.092400    3145.128000      8.78720\n",
              "std    1443.520003    29.006118    87.798982   41282.539349    116.32032\n",
              "min       1.000000     1.000000   607.000000      90.000000      1.00000\n",
              "25%    1250.750000    24.000000   775.000000     163.000000      1.00000\n",
              "50%    2500.500000    50.000000   849.000000     284.000000      2.00000\n",
              "75%    3750.250000    75.000000   925.000000     390.000000      3.00000\n",
              "max    5000.000000   100.000000   999.000000  704000.000000   2000.00000"
            ],
            "text/html": [
              "\n",
              "  <div id=\"df-9f7b7506-13a8-4201-9214-9526fc291f93\">\n",
              "    <div class=\"colab-df-container\">\n",
              "      <div>\n",
              "<style scoped>\n",
              "    .dataframe tbody tr th:only-of-type {\n",
              "        vertical-align: middle;\n",
              "    }\n",
              "\n",
              "    .dataframe tbody tr th {\n",
              "        vertical-align: top;\n",
              "    }\n",
              "\n",
              "    .dataframe thead th {\n",
              "        text-align: right;\n",
              "    }\n",
              "</style>\n",
              "<table border=\"1\" class=\"dataframe\">\n",
              "  <thead>\n",
              "    <tr style=\"text-align: right;\">\n",
              "      <th></th>\n",
              "      <th>order_id</th>\n",
              "      <th>shop_id</th>\n",
              "      <th>user_id</th>\n",
              "      <th>order_amount</th>\n",
              "      <th>total_items</th>\n",
              "    </tr>\n",
              "  </thead>\n",
              "  <tbody>\n",
              "    <tr>\n",
              "      <th>count</th>\n",
              "      <td>5000.000000</td>\n",
              "      <td>5000.000000</td>\n",
              "      <td>5000.000000</td>\n",
              "      <td>5000.000000</td>\n",
              "      <td>5000.00000</td>\n",
              "    </tr>\n",
              "    <tr>\n",
              "      <th>mean</th>\n",
              "      <td>2500.500000</td>\n",
              "      <td>50.078800</td>\n",
              "      <td>849.092400</td>\n",
              "      <td>3145.128000</td>\n",
              "      <td>8.78720</td>\n",
              "    </tr>\n",
              "    <tr>\n",
              "      <th>std</th>\n",
              "      <td>1443.520003</td>\n",
              "      <td>29.006118</td>\n",
              "      <td>87.798982</td>\n",
              "      <td>41282.539349</td>\n",
              "      <td>116.32032</td>\n",
              "    </tr>\n",
              "    <tr>\n",
              "      <th>min</th>\n",
              "      <td>1.000000</td>\n",
              "      <td>1.000000</td>\n",
              "      <td>607.000000</td>\n",
              "      <td>90.000000</td>\n",
              "      <td>1.00000</td>\n",
              "    </tr>\n",
              "    <tr>\n",
              "      <th>25%</th>\n",
              "      <td>1250.750000</td>\n",
              "      <td>24.000000</td>\n",
              "      <td>775.000000</td>\n",
              "      <td>163.000000</td>\n",
              "      <td>1.00000</td>\n",
              "    </tr>\n",
              "    <tr>\n",
              "      <th>50%</th>\n",
              "      <td>2500.500000</td>\n",
              "      <td>50.000000</td>\n",
              "      <td>849.000000</td>\n",
              "      <td>284.000000</td>\n",
              "      <td>2.00000</td>\n",
              "    </tr>\n",
              "    <tr>\n",
              "      <th>75%</th>\n",
              "      <td>3750.250000</td>\n",
              "      <td>75.000000</td>\n",
              "      <td>925.000000</td>\n",
              "      <td>390.000000</td>\n",
              "      <td>3.00000</td>\n",
              "    </tr>\n",
              "    <tr>\n",
              "      <th>max</th>\n",
              "      <td>5000.000000</td>\n",
              "      <td>100.000000</td>\n",
              "      <td>999.000000</td>\n",
              "      <td>704000.000000</td>\n",
              "      <td>2000.00000</td>\n",
              "    </tr>\n",
              "  </tbody>\n",
              "</table>\n",
              "</div>\n",
              "      <button class=\"colab-df-convert\" onclick=\"convertToInteractive('df-9f7b7506-13a8-4201-9214-9526fc291f93')\"\n",
              "              title=\"Convert this dataframe to an interactive table.\"\n",
              "              style=\"display:none;\">\n",
              "        \n",
              "  <svg xmlns=\"http://www.w3.org/2000/svg\" height=\"24px\"viewBox=\"0 0 24 24\"\n",
              "       width=\"24px\">\n",
              "    <path d=\"M0 0h24v24H0V0z\" fill=\"none\"/>\n",
              "    <path d=\"M18.56 5.44l.94 2.06.94-2.06 2.06-.94-2.06-.94-.94-2.06-.94 2.06-2.06.94zm-11 1L8.5 8.5l.94-2.06 2.06-.94-2.06-.94L8.5 2.5l-.94 2.06-2.06.94zm10 10l.94 2.06.94-2.06 2.06-.94-2.06-.94-.94-2.06-.94 2.06-2.06.94z\"/><path d=\"M17.41 7.96l-1.37-1.37c-.4-.4-.92-.59-1.43-.59-.52 0-1.04.2-1.43.59L10.3 9.45l-7.72 7.72c-.78.78-.78 2.05 0 2.83L4 21.41c.39.39.9.59 1.41.59.51 0 1.02-.2 1.41-.59l7.78-7.78 2.81-2.81c.8-.78.8-2.07 0-2.86zM5.41 20L4 18.59l7.72-7.72 1.47 1.35L5.41 20z\"/>\n",
              "  </svg>\n",
              "      </button>\n",
              "      \n",
              "  <style>\n",
              "    .colab-df-container {\n",
              "      display:flex;\n",
              "      flex-wrap:wrap;\n",
              "      gap: 12px;\n",
              "    }\n",
              "\n",
              "    .colab-df-convert {\n",
              "      background-color: #E8F0FE;\n",
              "      border: none;\n",
              "      border-radius: 50%;\n",
              "      cursor: pointer;\n",
              "      display: none;\n",
              "      fill: #1967D2;\n",
              "      height: 32px;\n",
              "      padding: 0 0 0 0;\n",
              "      width: 32px;\n",
              "    }\n",
              "\n",
              "    .colab-df-convert:hover {\n",
              "      background-color: #E2EBFA;\n",
              "      box-shadow: 0px 1px 2px rgba(60, 64, 67, 0.3), 0px 1px 3px 1px rgba(60, 64, 67, 0.15);\n",
              "      fill: #174EA6;\n",
              "    }\n",
              "\n",
              "    [theme=dark] .colab-df-convert {\n",
              "      background-color: #3B4455;\n",
              "      fill: #D2E3FC;\n",
              "    }\n",
              "\n",
              "    [theme=dark] .colab-df-convert:hover {\n",
              "      background-color: #434B5C;\n",
              "      box-shadow: 0px 1px 3px 1px rgba(0, 0, 0, 0.15);\n",
              "      filter: drop-shadow(0px 1px 2px rgba(0, 0, 0, 0.3));\n",
              "      fill: #FFFFFF;\n",
              "    }\n",
              "  </style>\n",
              "\n",
              "      <script>\n",
              "        const buttonEl =\n",
              "          document.querySelector('#df-9f7b7506-13a8-4201-9214-9526fc291f93 button.colab-df-convert');\n",
              "        buttonEl.style.display =\n",
              "          google.colab.kernel.accessAllowed ? 'block' : 'none';\n",
              "\n",
              "        async function convertToInteractive(key) {\n",
              "          const element = document.querySelector('#df-9f7b7506-13a8-4201-9214-9526fc291f93');\n",
              "          const dataTable =\n",
              "            await google.colab.kernel.invokeFunction('convertToInteractive',\n",
              "                                                     [key], {});\n",
              "          if (!dataTable) return;\n",
              "\n",
              "          const docLinkHtml = 'Like what you see? Visit the ' +\n",
              "            '<a target=\"_blank\" href=https://colab.research.google.com/notebooks/data_table.ipynb>data table notebook</a>'\n",
              "            + ' to learn more about interactive tables.';\n",
              "          element.innerHTML = '';\n",
              "          dataTable['output_type'] = 'display_data';\n",
              "          await google.colab.output.renderOutput(dataTable, element);\n",
              "          const docLink = document.createElement('div');\n",
              "          docLink.innerHTML = docLinkHtml;\n",
              "          element.appendChild(docLink);\n",
              "        }\n",
              "      </script>\n",
              "    </div>\n",
              "  </div>\n",
              "  "
            ]
          },
          "metadata": {},
          "execution_count": 6
        }
      ]
    },
    {
      "cell_type": "code",
      "source": [
        "print(f\"Verifying the Average Order Value (AOV): $ {round(orders_df['order_amount'].sum() / orders_df.shape[0], 2)}\")"
      ],
      "metadata": {
        "colab": {
          "base_uri": "https://localhost:8080/"
        },
        "id": "EEI01AnjfbKT",
        "outputId": "ce9b740d-e3d5-4924-cc38-95e476662f6f"
      },
      "execution_count": 7,
      "outputs": [
        {
          "output_type": "stream",
          "name": "stdout",
          "text": [
            "Verifying the Average Order Value (AOV): $ 3145.13\n"
          ]
        }
      ]
    },
    {
      "cell_type": "markdown",
      "source": [
        "If we follow this logic, then the true AOV for our dataset should be $357.92, which is still relatively high in terms of an average price of a sneaker, but almost 90% less than the original figure reported."
      ],
      "metadata": {
        "id": "YlGe9nHIehGo"
      }
    },
    {
      "cell_type": "code",
      "source": [
        "print(f\"The way that Average Order Value (AOV) should be calculated: $ {round(orders_df['order_amount'].sum() / orders_df['total_items'].sum(), 2)}\")"
      ],
      "metadata": {
        "colab": {
          "base_uri": "https://localhost:8080/"
        },
        "id": "YvHX-1fHgCDX",
        "outputId": "4a369650-8e0a-406d-f542-1bf35a1b3cb8"
      },
      "execution_count": 8,
      "outputs": [
        {
          "output_type": "stream",
          "name": "stdout",
          "text": [
            "The way that Average Order Value (AOV) should be calculated: $ 357.92\n"
          ]
        }
      ]
    },
    {
      "cell_type": "markdown",
      "source": [
        "We can also do some minor feature engineering here by constructing an `aov` column which divides `order_amout` by `total_items` for each row on our dataset to get the approximate range of individual sneaker prices for each order (since the individual sneaker prices aren't listed) amongst our merchant base."
      ],
      "metadata": {
        "id": "fZBI7dhneXrL"
      }
    },
    {
      "cell_type": "code",
      "source": [
        "orders_df['aov'] = round(orders_df['order_amount'] / orders_df['total_items'], 2)"
      ],
      "metadata": {
        "id": "xm5oCy0mgV-u"
      },
      "execution_count": 9,
      "outputs": []
    },
    {
      "cell_type": "code",
      "source": [
        "orders_df['aov'].describe()"
      ],
      "metadata": {
        "colab": {
          "base_uri": "https://localhost:8080/"
        },
        "id": "neNdmoC5hdfU",
        "outputId": "df1970a1-470a-4c5d-c39d-2a2e4a9d15e6"
      },
      "execution_count": 10,
      "outputs": [
        {
          "output_type": "execute_result",
          "data": {
            "text/plain": [
              "count     5000.000000\n",
              "mean       387.742800\n",
              "std       2441.963725\n",
              "min         90.000000\n",
              "25%        133.000000\n",
              "50%        153.000000\n",
              "75%        169.000000\n",
              "max      25725.000000\n",
              "Name: aov, dtype: float64"
            ]
          },
          "metadata": {},
          "execution_count": 10
        }
      ]
    },
    {
      "cell_type": "markdown",
      "source": [
        "Now that we have the approximate range of sneaker prices amongst our sneaker prices, we can begin digging for insights on our merchants and their consumer's purchasing patterns. \n",
        "\n",
        "For example, we'll find that the lowest AOV which we can infer as the cheapest shoes offered is \\$90, while the most expensive shoe (inferred from AOV) is a whopping \\$25,725! Furthermore, if we construct a box plot for our `aov` metric, we'll find that the sneakers costing \\$25K are clear outliers in our dataset. In addition, the data from this high-end sneaker merchant represents about 1% of the dataset."
      ],
      "metadata": {
        "id": "QHzEfQMWCouu"
      }
    },
    {
      "cell_type": "code",
      "source": [
        "fig1 = px.box(orders_df, y=\"aov\")\n",
        "fig1.update_yaxes(title_text=\"AOV Values\")\n",
        "fig1.update_layout(title='Average Order Value Box Plot',template='plotly_dark', showlegend=True)\n",
        "fig1.show()"
      ],
      "metadata": {
        "colab": {
          "base_uri": "https://localhost:8080/",
          "height": 542
        },
        "id": "jOkGAktC695z",
        "outputId": "1df1b565-601c-4ac2-de3d-cf72fa3c8f2e"
      },
      "execution_count": 11,
      "outputs": [
        {
          "output_type": "display_data",
          "data": {
            "text/html": [
              "<html>\n",
              "<head><meta charset=\"utf-8\" /></head>\n",
              "<body>\n",
              "    <div>            <script src=\"https://cdnjs.cloudflare.com/ajax/libs/mathjax/2.7.5/MathJax.js?config=TeX-AMS-MML_SVG\"></script><script type=\"text/javascript\">if (window.MathJax) {MathJax.Hub.Config({SVG: {font: \"STIX-Web\"}});}</script>                <script type=\"text/javascript\">window.PlotlyConfig = {MathJaxConfig: 'local'};</script>\n",
              "        <script src=\"https://cdn.plot.ly/plotly-2.8.3.min.js\"></script>                <div id=\"dee9349e-6f76-4dfb-8cd7-40252186b93e\" class=\"plotly-graph-div\" style=\"height:525px; width:100%;\"></div>            <script type=\"text/javascript\">                                    window.PLOTLYENV=window.PLOTLYENV || {};                                    if (document.getElementById(\"dee9349e-6f76-4dfb-8cd7-40252186b93e\")) {                    Plotly.newPlot(                        \"dee9349e-6f76-4dfb-8cd7-40252186b93e\",                        [{\"alignmentgroup\":\"True\",\"hovertemplate\":\"aov=%{y}<extra></extra>\",\"legendgroup\":\"\",\"marker\":{\"color\":\"#636efa\"},\"name\":\"\",\"notched\":false,\"offsetgroup\":\"\",\"orientation\":\"v\",\"showlegend\":false,\"x0\":\" \",\"xaxis\":\"x\",\"y\":[112.0,90.0,144.0,156.0,156.0,138.0,149.0,146.0,133.0,146.0,161.0,161.0,133.0,111.0,149.0,352.0,176.0,164.0,129.0,136.0,161.0,162.0,176.0,128.0,165.0,177.0,145.0,112.0,161.0,178.0,155.0,147.0,155.0,112.0,122.0,158.0,153.0,161.0,148.0,158.0,352.0,158.0,156.0,142.0,195.0,163.0,173.0,146.0,148.0,133.0,138.0,177.0,153.0,173.0,181.0,187.0,112.0,187.0,145.0,145.0,352.0,177.0,130.0,160.0,160.0,112.0,161.0,142.0,130.0,138.0,184.0,122.0,130.0,116.0,142.0,153.0,127.0,118.0,132.0,127.0,146.0,164.0,117.0,111.0,118.0,112.0,117.0,133.0,171.0,164.0,193.0,148.0,146.0,138.0,149.0,164.0,173.0,90.0,181.0,156.0,156.0,153.0,118.0,112.0,133.0,160.0,149.0,201.0,138.0,138.0,129.0,136.0,165.0,131.0,118.0,130.0,187.0,158.0,153.0,133.0,142.0,160.0,164.0,140.0,94.0,129.0,156.0,156.0,136.0,187.0,128.0,173.0,112.0,140.0,130.0,138.0,153.0,122.0,142.0,171.0,147.0,165.0,145.0,145.0,142.0,160.0,111.0,147.0,164.0,111.0,145.0,156.0,173.0,133.0,173.0,118.0,153.0,176.0,90.0,165.0,25725.0,148.0,114.0,136.0,163.0,144.0,116.0,117.0,117.0,142.0,160.0,147.0,171.0,112.0,129.0,193.0,162.0,147.0,153.0,142.0,201.0,127.0,130.0,176.0,122.0,164.0,114.0,118.0,176.0,181.0,112.0,176.0,164.0,153.0,136.0,142.0,172.0,163.0,169.0,117.0,163.0,129.0,131.0,130.0,134.0,196.0,156.0,176.0,176.0,142.0,160.0,146.0,176.0,176.0,133.0,118.0,101.0,153.0,128.0,156.0,142.0,147.0,153.0,136.0,163.0,133.0,138.0,165.0,90.0,181.0,136.0,169.0,187.0,168.0,163.0,177.0,90.0,195.0,94.0,136.0,176.0,122.0,190.0,114.0,101.0,90.0,160.0,176.0,173.0,156.0,153.0,128.0,155.0,111.0,156.0,187.0,181.0,187.0,128.0,195.0,146.0,176.0,118.0,162.0,156.0,131.0,201.0,165.0,117.0,187.0,173.0,201.0,101.0,122.0,142.0,171.0,129.0,187.0,133.0,128.0,178.0,187.0,164.0,118.0,133.0,156.0,138.0,133.0,145.0,193.0,173.0,142.0,163.0,187.0,184.0,190.0,181.0,173.0,112.0,163.0,173.0,131.0,130.0,153.0,134.0,130.0,122.0,177.0,352.0,142.0,181.0,155.0,153.0,140.0,187.0,94.0,184.0,146.0,129.0,156.0,130.0,148.0,90.0,128.0,181.0,116.0,201.0,128.0,129.0,130.0,145.0,161.0,147.0,136.0,144.0,90.0,156.0,160.0,146.0,164.0,112.0,133.0,133.0,136.0,153.0,160.0,161.0,158.0,129.0,145.0,133.0,122.0,168.0,129.0,148.0,133.0,116.0,173.0,116.0,142.0,145.0,178.0,112.0,138.0,111.0,184.0,133.0,127.0,90.0,164.0,146.0,142.0,133.0,160.0,158.0,164.0,161.0,148.0,164.0,147.0,153.0,164.0,145.0,153.0,184.0,136.0,153.0,164.0,158.0,156.0,112.0,153.0,136.0,131.0,166.0,181.0,112.0,146.0,146.0,165.0,164.0,181.0,178.0,181.0,184.0,142.0,163.0,117.0,171.0,352.0,101.0,153.0,190.0,134.0,133.0,161.0,164.0,133.0,156.0,153.0,132.0,162.0,178.0,166.0,181.0,142.0,127.0,195.0,146.0,133.0,127.0,133.0,114.0,134.0,177.0,181.0,178.0,128.0,153.0,160.0,166.0,133.0,118.0,136.0,193.0,146.0,153.0,153.0,128.0,160.0,177.0,136.0,196.0,160.0,142.0,136.0,176.0,128.0,149.0,173.0,173.0,154.0,168.0,172.0,172.0,156.0,112.0,149.0,94.0,156.0,140.0,169.0,195.0,136.0,195.0,171.0,163.0,144.0,130.0,114.0,128.0,111.0,111.0,176.0,178.0,168.0,176.0,178.0,118.0,161.0,25725.0,156.0,128.0,25725.0,154.0,178.0,201.0,163.0,196.0,128.0,130.0,130.0,156.0,177.0,164.0,160.0,140.0,163.0,160.0,169.0,116.0,25725.0,158.0,160.0,134.0,163.0,145.0,164.0,178.0,156.0,352.0,196.0,166.0,187.0,132.0,165.0,116.0,193.0,142.0,161.0,117.0,171.0,165.0,176.0,148.0,118.0,134.0,142.0,130.0,156.0,177.0,158.0,153.0,133.0,138.0,142.0,129.0,158.0,161.0,112.0,117.0,129.0,148.0,129.0,181.0,134.0,122.0,160.0,193.0,154.0,193.0,142.0,178.0,153.0,142.0,176.0,177.0,177.0,163.0,153.0,114.0,164.0,147.0,138.0,129.0,176.0,187.0,153.0,176.0,90.0,149.0,178.0,136.0,153.0,160.0,162.0,196.0,153.0,158.0,142.0,90.0,134.0,127.0,133.0,114.0,176.0,130.0,145.0,94.0,156.0,153.0,148.0,154.0,94.0,130.0,158.0,166.0,148.0,131.0,146.0,173.0,130.0,129.0,164.0,148.0,112.0,169.0,25725.0,163.0,178.0,190.0,158.0,163.0,118.0,173.0,148.0,165.0,148.0,134.0,164.0,173.0,156.0,144.0,193.0,127.0,156.0,178.0,129.0,195.0,129.0,156.0,156.0,133.0,136.0,133.0,181.0,134.0,173.0,131.0,111.0,129.0,187.0,165.0,176.0,145.0,94.0,160.0,131.0,173.0,173.0,130.0,130.0,176.0,145.0,148.0,181.0,145.0,129.0,156.0,173.0,147.0,142.0,163.0,136.0,133.0,173.0,156.0,133.0,94.0,136.0,127.0,177.0,187.0,130.0,160.0,148.0,133.0,201.0,101.0,153.0,142.0,25725.0,140.0,154.0,116.0,112.0,164.0,133.0,161.0,176.0,172.0,187.0,177.0,163.0,142.0,156.0,117.0,158.0,176.0,132.0,168.0,156.0,154.0,117.0,118.0,153.0,112.0,163.0,177.0,148.0,168.0,168.0,163.0,128.0,130.0,146.0,177.0,112.0,158.0,193.0,187.0,181.0,148.0,160.0,196.0,160.0,129.0,193.0,155.0,114.0,156.0,153.0,201.0,169.0,177.0,136.0,181.0,156.0,177.0,140.0,160.0,128.0,173.0,178.0,181.0,128.0,201.0,164.0,153.0,130.0,111.0,153.0,127.0,142.0,168.0,148.0,148.0,160.0,176.0,158.0,130.0,163.0,130.0,112.0,146.0,153.0,184.0,195.0,133.0,153.0,136.0,156.0,136.0,94.0,156.0,112.0,181.0,168.0,149.0,129.0,184.0,187.0,177.0,173.0,117.0,142.0,118.0,160.0,148.0,177.0,142.0,153.0,165.0,148.0,156.0,142.0,129.0,142.0,172.0,140.0,142.0,136.0,163.0,176.0,164.0,160.0,160.0,130.0,177.0,130.0,149.0,160.0,184.0,140.0,184.0,94.0,144.0,164.0,177.0,193.0,176.0,156.0,171.0,156.0,352.0,352.0,142.0,129.0,114.0,130.0,160.0,153.0,134.0,127.0,128.0,196.0,111.0,164.0,131.0,130.0,138.0,153.0,163.0,140.0,171.0,133.0,94.0,118.0,153.0,166.0,165.0,118.0,153.0,177.0,160.0,133.0,94.0,142.0,128.0,196.0,112.0,177.0,156.0,195.0,172.0,112.0,168.0,187.0,176.0,177.0,118.0,163.0,156.0,161.0,114.0,178.0,140.0,132.0,160.0,193.0,176.0,129.0,177.0,164.0,156.0,101.0,181.0,176.0,140.0,94.0,160.0,114.0,181.0,142.0,164.0,196.0,154.0,177.0,160.0,164.0,134.0,163.0,136.0,156.0,147.0,195.0,173.0,130.0,177.0,146.0,187.0,138.0,118.0,127.0,196.0,176.0,173.0,94.0,153.0,129.0,131.0,178.0,158.0,101.0,184.0,149.0,129.0,169.0,352.0,94.0,122.0,176.0,114.0,155.0,160.0,148.0,122.0,177.0,158.0,169.0,101.0,136.0,156.0,161.0,142.0,145.0,173.0,201.0,116.0,129.0,160.0,176.0,117.0,142.0,193.0,142.0,195.0,153.0,118.0,128.0,181.0,118.0,178.0,136.0,127.0,164.0,130.0,195.0,178.0,352.0,158.0,112.0,158.0,162.0,177.0,130.0,153.0,112.0,176.0,90.0,129.0,168.0,160.0,142.0,196.0,187.0,112.0,138.0,132.0,160.0,145.0,140.0,145.0,148.0,134.0,158.0,195.0,133.0,190.0,161.0,129.0,112.0,156.0,160.0,155.0,156.0,164.0,142.0,116.0,136.0,158.0,160.0,160.0,181.0,161.0,153.0,164.0,142.0,149.0,153.0,156.0,184.0,112.0,147.0,142.0,114.0,166.0,166.0,94.0,133.0,160.0,171.0,132.0,148.0,153.0,142.0,130.0,172.0,160.0,201.0,148.0,142.0,114.0,153.0,116.0,195.0,25725.0,193.0,153.0,164.0,178.0,134.0,168.0,144.0,128.0,177.0,176.0,153.0,160.0,176.0,164.0,130.0,164.0,146.0,171.0,201.0,117.0,114.0,201.0,161.0,133.0,149.0,190.0,116.0,90.0,112.0,173.0,148.0,116.0,154.0,161.0,177.0,177.0,153.0,177.0,176.0,118.0,133.0,154.0,145.0,178.0,129.0,153.0,177.0,352.0,118.0,118.0,129.0,181.0,181.0,138.0,101.0,117.0,149.0,142.0,146.0,161.0,138.0,118.0,153.0,153.0,129.0,173.0,163.0,146.0,195.0,118.0,145.0,165.0,176.0,164.0,134.0,177.0,164.0,112.0,156.0,101.0,117.0,173.0,165.0,133.0,163.0,142.0,148.0,145.0,155.0,177.0,166.0,94.0,160.0,177.0,178.0,153.0,162.0,94.0,201.0,146.0,176.0,140.0,130.0,154.0,181.0,176.0,164.0,118.0,146.0,130.0,158.0,177.0,162.0,112.0,142.0,181.0,161.0,173.0,166.0,184.0,178.0,160.0,145.0,196.0,142.0,146.0,171.0,161.0,153.0,168.0,171.0,130.0,118.0,158.0,133.0,196.0,25725.0,201.0,117.0,176.0,148.0,146.0,142.0,156.0,128.0,156.0,133.0,25725.0,129.0,201.0,156.0,195.0,148.0,111.0,128.0,148.0,136.0,112.0,116.0,172.0,177.0,118.0,146.0,101.0,133.0,131.0,146.0,147.0,117.0,153.0,144.0,94.0,142.0,130.0,133.0,161.0,136.0,130.0,130.0,156.0,116.0,133.0,164.0,127.0,177.0,164.0,134.0,156.0,156.0,148.0,196.0,155.0,140.0,193.0,168.0,146.0,136.0,184.0,168.0,187.0,173.0,190.0,25725.0,131.0,165.0,142.0,117.0,147.0,153.0,146.0,145.0,178.0,131.0,147.0,130.0,195.0,127.0,101.0,133.0,94.0,173.0,173.0,90.0,147.0,177.0,195.0,101.0,133.0,176.0,160.0,114.0,101.0,136.0,158.0,156.0,177.0,163.0,153.0,153.0,163.0,160.0,129.0,177.0,116.0,165.0,153.0,134.0,187.0,155.0,146.0,172.0,140.0,156.0,160.0,161.0,177.0,163.0,196.0,130.0,145.0,156.0,134.0,129.0,187.0,112.0,117.0,160.0,116.0,158.0,118.0,184.0,176.0,169.0,162.0,160.0,163.0,181.0,160.0,122.0,133.0,160.0,149.0,129.0,101.0,101.0,153.0,134.0,173.0,131.0,111.0,130.0,160.0,178.0,178.0,160.0,130.0,193.0,129.0,127.0,146.0,173.0,148.0,131.0,169.0,190.0,352.0,176.0,352.0,127.0,178.0,352.0,162.0,161.0,162.0,160.0,129.0,154.0,162.0,164.0,112.0,158.0,176.0,112.0,129.0,132.0,131.0,169.0,25725.0,142.0,190.0,162.0,136.0,117.0,153.0,160.0,101.0,153.0,144.0,145.0,154.0,146.0,130.0,131.0,153.0,130.0,118.0,118.0,114.0,173.0,176.0,112.0,156.0,111.0,162.0,193.0,114.0,118.0,177.0,145.0,128.0,196.0,140.0,25725.0,142.0,156.0,153.0,118.0,158.0,133.0,112.0,138.0,153.0,153.0,112.0,163.0,177.0,153.0,156.0,153.0,352.0,142.0,193.0,142.0,131.0,134.0,145.0,187.0,156.0,148.0,117.0,127.0,169.0,161.0,161.0,147.0,25725.0,187.0,94.0,160.0,127.0,181.0,134.0,156.0,173.0,169.0,112.0,163.0,128.0,132.0,154.0,112.0,129.0,153.0,178.0,352.0,131.0,131.0,142.0,181.0,118.0,122.0,156.0,160.0,161.0,111.0,149.0,166.0,153.0,142.0,184.0,160.0,165.0,153.0,181.0,176.0,117.0,156.0,112.0,129.0,177.0,193.0,153.0,181.0,177.0,133.0,164.0,184.0,161.0,164.0,187.0,133.0,112.0,201.0,118.0,114.0,352.0,176.0,129.0,142.0,187.0,153.0,145.0,148.0,352.0,129.0,160.0,153.0,176.0,156.0,112.0,145.0,154.0,25725.0,122.0,177.0,160.0,153.0,142.0,173.0,193.0,181.0,118.0,142.0,181.0,187.0,164.0,164.0,122.0,163.0,158.0,190.0,117.0,160.0,136.0,133.0,195.0,156.0,163.0,177.0,173.0,153.0,122.0,153.0,112.0,156.0,352.0,160.0,128.0,187.0,111.0,201.0,160.0,153.0,173.0,145.0,169.0,160.0,163.0,145.0,165.0,176.0,173.0,161.0,164.0,145.0,156.0,145.0,116.0,173.0,160.0,160.0,131.0,94.0,176.0,195.0,117.0,169.0,148.0,149.0,131.0,158.0,112.0,136.0,134.0,117.0,352.0,177.0,181.0,128.0,148.0,136.0,156.0,148.0,130.0,161.0,178.0,156.0,154.0,156.0,156.0,118.0,172.0,168.0,160.0,153.0,173.0,134.0,153.0,118.0,153.0,176.0,160.0,162.0,161.0,176.0,165.0,165.0,130.0,196.0,130.0,147.0,190.0,173.0,140.0,133.0,129.0,101.0,156.0,118.0,156.0,138.0,117.0,140.0,138.0,156.0,136.0,158.0,134.0,112.0,172.0,168.0,127.0,90.0,161.0,134.0,130.0,172.0,130.0,153.0,153.0,101.0,131.0,122.0,156.0,134.0,160.0,138.0,181.0,118.0,176.0,129.0,111.0,138.0,187.0,161.0,160.0,130.0,122.0,122.0,153.0,127.0,142.0,149.0,176.0,153.0,142.0,190.0,154.0,112.0,111.0,161.0,129.0,163.0,156.0,149.0,112.0,136.0,171.0,160.0,187.0,171.0,133.0,187.0,133.0,118.0,130.0,138.0,176.0,160.0,156.0,112.0,156.0,94.0,168.0,112.0,166.0,114.0,187.0,171.0,171.0,160.0,112.0,181.0,136.0,165.0,136.0,127.0,148.0,177.0,187.0,130.0,158.0,134.0,173.0,134.0,129.0,177.0,166.0,114.0,145.0,176.0,165.0,187.0,140.0,153.0,136.0,153.0,133.0,181.0,169.0,156.0,163.0,160.0,178.0,118.0,114.0,136.0,201.0,169.0,166.0,178.0,160.0,118.0,181.0,156.0,133.0,131.0,156.0,116.0,94.0,163.0,133.0,133.0,163.0,111.0,147.0,178.0,158.0,163.0,173.0,134.0,195.0,176.0,156.0,176.0,140.0,130.0,129.0,160.0,118.0,131.0,149.0,153.0,145.0,101.0,94.0,181.0,111.0,153.0,178.0,128.0,172.0,158.0,176.0,129.0,116.0,187.0,156.0,168.0,181.0,164.0,145.0,193.0,161.0,164.0,163.0,201.0,158.0,187.0,131.0,162.0,146.0,164.0,181.0,173.0,164.0,153.0,134.0,116.0,136.0,178.0,176.0,173.0,184.0,158.0,187.0,90.0,177.0,163.0,130.0,116.0,142.0,131.0,136.0,163.0,161.0,148.0,190.0,140.0,129.0,146.0,127.0,177.0,118.0,156.0,134.0,128.0,164.0,163.0,165.0,146.0,94.0,147.0,122.0,138.0,164.0,94.0,148.0,133.0,158.0,181.0,169.0,148.0,162.0,142.0,158.0,122.0,171.0,129.0,138.0,112.0,161.0,94.0,90.0,146.0,201.0,178.0,128.0,148.0,156.0,148.0,142.0,136.0,164.0,112.0,164.0,177.0,127.0,127.0,130.0,160.0,178.0,142.0,181.0,352.0,162.0,132.0,130.0,156.0,164.0,201.0,201.0,161.0,142.0,145.0,153.0,160.0,160.0,153.0,163.0,90.0,178.0,352.0,164.0,128.0,128.0,101.0,187.0,161.0,176.0,153.0,177.0,128.0,166.0,163.0,156.0,171.0,118.0,164.0,173.0,160.0,149.0,164.0,153.0,142.0,127.0,136.0,169.0,161.0,156.0,164.0,164.0,144.0,118.0,173.0,166.0,154.0,172.0,187.0,142.0,153.0,165.0,116.0,156.0,148.0,181.0,142.0,117.0,164.0,132.0,145.0,146.0,156.0,161.0,166.0,195.0,184.0,134.0,162.0,114.0,163.0,166.0,134.0,136.0,187.0,181.0,146.0,172.0,160.0,153.0,177.0,145.0,184.0,131.0,156.0,160.0,352.0,153.0,114.0,133.0,133.0,176.0,146.0,177.0,149.0,130.0,160.0,142.0,162.0,147.0,129.0,352.0,130.0,129.0,136.0,129.0,140.0,145.0,142.0,193.0,133.0,163.0,173.0,158.0,176.0,176.0,148.0,171.0,128.0,184.0,131.0,153.0,184.0,142.0,187.0,176.0,153.0,117.0,160.0,153.0,164.0,162.0,153.0,133.0,153.0,195.0,352.0,112.0,142.0,164.0,153.0,153.0,163.0,111.0,166.0,177.0,117.0,178.0,158.0,117.0,181.0,131.0,145.0,138.0,178.0,114.0,131.0,165.0,164.0,164.0,153.0,158.0,165.0,130.0,177.0,134.0,166.0,160.0,177.0,145.0,176.0,112.0,118.0,129.0,196.0,90.0,153.0,112.0,176.0,178.0,142.0,160.0,177.0,164.0,153.0,166.0,130.0,160.0,158.0,153.0,168.0,138.0,158.0,148.0,148.0,133.0,169.0,133.0,136.0,154.0,148.0,187.0,195.0,160.0,178.0,164.0,145.0,164.0,127.0,196.0,129.0,90.0,155.0,132.0,187.0,176.0,116.0,190.0,164.0,158.0,149.0,114.0,184.0,196.0,133.0,178.0,161.0,127.0,160.0,195.0,164.0,176.0,163.0,142.0,177.0,142.0,352.0,116.0,177.0,146.0,118.0,112.0,177.0,130.0,153.0,161.0,156.0,146.0,114.0,129.0,165.0,153.0,128.0,178.0,130.0,165.0,160.0,129.0,164.0,162.0,176.0,178.0,134.0,142.0,132.0,90.0,131.0,196.0,184.0,171.0,144.0,153.0,128.0,177.0,177.0,161.0,158.0,153.0,163.0,187.0,169.0,195.0,165.0,193.0,145.0,160.0,165.0,148.0,177.0,142.0,187.0,133.0,156.0,146.0,154.0,195.0,153.0,160.0,156.0,160.0,145.0,142.0,116.0,118.0,112.0,178.0,122.0,136.0,158.0,131.0,128.0,201.0,163.0,153.0,178.0,127.0,163.0,134.0,169.0,114.0,153.0,164.0,128.0,128.0,181.0,177.0,187.0,173.0,136.0,142.0,153.0,168.0,128.0,94.0,129.0,169.0,178.0,133.0,129.0,130.0,181.0,201.0,142.0,153.0,133.0,187.0,154.0,161.0,117.0,169.0,163.0,158.0,133.0,25725.0,129.0,162.0,352.0,172.0,181.0,112.0,133.0,169.0,142.0,134.0,153.0,201.0,176.0,161.0,149.0,129.0,133.0,153.0,160.0,176.0,112.0,164.0,156.0,148.0,193.0,142.0,352.0,133.0,156.0,177.0,158.0,153.0,156.0,146.0,114.0,130.0,158.0,187.0,128.0,176.0,149.0,181.0,112.0,144.0,156.0,201.0,146.0,181.0,162.0,156.0,190.0,169.0,133.0,196.0,131.0,101.0,138.0,130.0,160.0,129.0,131.0,158.0,153.0,133.0,148.0,163.0,176.0,138.0,148.0,173.0,163.0,140.0,118.0,164.0,117.0,129.0,146.0,149.0,184.0,169.0,156.0,184.0,169.0,128.0,142.0,136.0,161.0,122.0,116.0,130.0,178.0,163.0,153.0,116.0,146.0,176.0,146.0,171.0,153.0,156.0,181.0,177.0,177.0,127.0,187.0,129.0,146.0,178.0,140.0,178.0,138.0,133.0,101.0,134.0,114.0,190.0,153.0,165.0,149.0,133.0,118.0,184.0,168.0,165.0,127.0,164.0,131.0,130.0,153.0,142.0,158.0,162.0,164.0,164.0,196.0,133.0,144.0,176.0,112.0,187.0,176.0,129.0,128.0,148.0,164.0,176.0,154.0,131.0,148.0,156.0,193.0,164.0,190.0,166.0,134.0,147.0,196.0,149.0,132.0,187.0,166.0,140.0,153.0,133.0,133.0,130.0,128.0,160.0,171.0,154.0,142.0,129.0,161.0,130.0,196.0,177.0,117.0,142.0,153.0,142.0,117.0,25725.0,132.0,165.0,162.0,133.0,168.0,136.0,158.0,165.0,196.0,142.0,153.0,118.0,130.0,161.0,142.0,128.0,145.0,128.0,130.0,181.0,153.0,94.0,154.0,129.0,166.0,156.0,114.0,160.0,148.0,117.0,133.0,132.0,156.0,132.0,129.0,133.0,122.0,112.0,352.0,25725.0,178.0,193.0,25725.0,164.0,156.0,128.0,138.0,146.0,156.0,153.0,90.0,177.0,177.0,156.0,112.0,94.0,147.0,129.0,187.0,25725.0,144.0,176.0,111.0,160.0,177.0,178.0,177.0,178.0,142.0,153.0,187.0,158.0,129.0,131.0,138.0,142.0,155.0,129.0,176.0,147.0,134.0,160.0,140.0,195.0,190.0,181.0,155.0,164.0,164.0,142.0,164.0,130.0,162.0,118.0,169.0,25725.0,187.0,160.0,142.0,176.0,129.0,118.0,117.0,149.0,130.0,158.0,177.0,187.0,177.0,153.0,114.0,25725.0,148.0,111.0,148.0,132.0,138.0,187.0,138.0,193.0,127.0,128.0,160.0,116.0,117.0,158.0,112.0,134.0,146.0,176.0,201.0,196.0,134.0,127.0,158.0,133.0,130.0,140.0,181.0,130.0,155.0,138.0,181.0,161.0,148.0,129.0,160.0,128.0,177.0,156.0,168.0,187.0,129.0,134.0,131.0,131.0,352.0,133.0,201.0,94.0,173.0,142.0,154.0,195.0,117.0,177.0,176.0,190.0,156.0,162.0,122.0,154.0,118.0,147.0,177.0,156.0,114.0,112.0,177.0,163.0,193.0,136.0,146.0,134.0,181.0,147.0,187.0,160.0,117.0,196.0,155.0,181.0,118.0,129.0,142.0,177.0,177.0,133.0,129.0,187.0,177.0,164.0,153.0,133.0,158.0,142.0,161.0,190.0,134.0,155.0,146.0,134.0,181.0,187.0,156.0,101.0,145.0,156.0,178.0,176.0,177.0,163.0,164.0,128.0,168.0,114.0,136.0,114.0,156.0,138.0,128.0,163.0,114.0,160.0,131.0,129.0,129.0,25725.0,163.0,117.0,116.0,176.0,181.0,162.0,165.0,153.0,166.0,155.0,133.0,165.0,94.0,154.0,144.0,132.0,148.0,160.0,129.0,147.0,153.0,177.0,163.0,90.0,155.0,131.0,173.0,118.0,112.0,160.0,160.0,130.0,173.0,146.0,161.0,153.0,133.0,128.0,94.0,145.0,176.0,145.0,118.0,173.0,131.0,140.0,122.0,134.0,153.0,161.0,138.0,154.0,172.0,118.0,140.0,94.0,142.0,155.0,128.0,131.0,134.0,146.0,156.0,153.0,181.0,129.0,161.0,195.0,158.0,158.0,148.0,176.0,134.0,136.0,118.0,352.0,153.0,153.0,187.0,116.0,163.0,145.0,25725.0,136.0,177.0,129.0,118.0,127.0,153.0,153.0,117.0,177.0,156.0,156.0,142.0,181.0,160.0,130.0,129.0,101.0,173.0,169.0,142.0,134.0,118.0,156.0,178.0,128.0,164.0,149.0,160.0,160.0,131.0,153.0,177.0,133.0,177.0,138.0,156.0,201.0,134.0,94.0,142.0,153.0,116.0,142.0,153.0,25725.0,162.0,94.0,25725.0,147.0,117.0,122.0,161.0,148.0,117.0,142.0,161.0,134.0,160.0,144.0,129.0,156.0,352.0,161.0,133.0,142.0,140.0,134.0,114.0,112.0,122.0,145.0,90.0,187.0,163.0,160.0,129.0,133.0,154.0,164.0,181.0,153.0,133.0,133.0,165.0,130.0,133.0,161.0,132.0,131.0,112.0,148.0,177.0,153.0,146.0,148.0,156.0,129.0,90.0,166.0,129.0,117.0,195.0,132.0,168.0,168.0,134.0,118.0,117.0,131.0,193.0,131.0,173.0,148.0,117.0,160.0,128.0,153.0,177.0,176.0,129.0,154.0,142.0,160.0,153.0,128.0,122.0,117.0,176.0,117.0,154.0,127.0,169.0,25725.0,156.0,173.0,144.0,176.0,168.0,90.0,101.0,149.0,145.0,140.0,153.0,118.0,169.0,129.0,153.0,25725.0,147.0,177.0,130.0,171.0,116.0,177.0,101.0,138.0,158.0,178.0,130.0,166.0,181.0,131.0,147.0,136.0,160.0,153.0,158.0,163.0,129.0,142.0,132.0,133.0,165.0,158.0,131.0,133.0,160.0,176.0,160.0,118.0,134.0,155.0,114.0,140.0,131.0,181.0,133.0,142.0,131.0,133.0,153.0,196.0,166.0,155.0,352.0,112.0,173.0,116.0,164.0,118.0,163.0,142.0,130.0,187.0,161.0,177.0,128.0,131.0,149.0,116.0,142.0,163.0,352.0,101.0,142.0,156.0,145.0,131.0,142.0,195.0,164.0,142.0,136.0,161.0,178.0,178.0,196.0,111.0,176.0,130.0,176.0,156.0,118.0,153.0,156.0,112.0,163.0,165.0,171.0,130.0,101.0,133.0,163.0,118.0,133.0,153.0,156.0,128.0,142.0,118.0,114.0,155.0,130.0,130.0,142.0,195.0,142.0,147.0,133.0,136.0,201.0,156.0,129.0,172.0,178.0,153.0,114.0,161.0,156.0,181.0,148.0,181.0,127.0,155.0,178.0,112.0,193.0,153.0,130.0,160.0,160.0,148.0,117.0,142.0,201.0,201.0,132.0,164.0,129.0,130.0,129.0,118.0,101.0,181.0,153.0,160.0,177.0,195.0,178.0,133.0,117.0,156.0,196.0,187.0,178.0,172.0,132.0,196.0,178.0,153.0,25725.0,142.0,142.0,128.0,176.0,114.0,131.0,145.0,153.0,156.0,114.0,117.0,187.0,181.0,153.0,156.0,25725.0,196.0,132.0,94.0,181.0,130.0,130.0,160.0,195.0,158.0,146.0,117.0,153.0,164.0,196.0,173.0,190.0,163.0,149.0,173.0,177.0,178.0,138.0,145.0,111.0,171.0,201.0,138.0,160.0,187.0,101.0,164.0,153.0,176.0,177.0,131.0,142.0,146.0,164.0,163.0,187.0,140.0,160.0,117.0,147.0,164.0,176.0,130.0,131.0,133.0,25725.0,166.0,130.0,190.0,145.0,161.0,94.0,161.0,156.0,169.0,176.0,164.0,127.0,142.0,142.0,144.0,25725.0,116.0,128.0,164.0,178.0,160.0,187.0,164.0,153.0,153.0,181.0,178.0,136.0,101.0,145.0,195.0,193.0,163.0,148.0,145.0,90.0,130.0,156.0,112.0,146.0,164.0,177.0,153.0,165.0,133.0,134.0,165.0,164.0,90.0,171.0,187.0,138.0,160.0,118.0,165.0,160.0,178.0,171.0,148.0,165.0,181.0,146.0,149.0,162.0,142.0,146.0,160.0,177.0,142.0,153.0,158.0,129.0,146.0,177.0,122.0,133.0,162.0,112.0,155.0,184.0,131.0,130.0,145.0,156.0,154.0,173.0,176.0,164.0,145.0,181.0,156.0,130.0,153.0,166.0,171.0,160.0,162.0,177.0,169.0,142.0,131.0,160.0,178.0,144.0,158.0,195.0,178.0,160.0,148.0,136.0,153.0,144.0,156.0,147.0,164.0,129.0,144.0,128.0,118.0,176.0,148.0,195.0,129.0,181.0,158.0,145.0,117.0,153.0,163.0,173.0,164.0,177.0,140.0,177.0,146.0,160.0,133.0,114.0,142.0,164.0,130.0,127.0,187.0,133.0,172.0,94.0,116.0,129.0,163.0,164.0,132.0,195.0,156.0,142.0,142.0,128.0,160.0,181.0,118.0,166.0,178.0,173.0,146.0,195.0,158.0,160.0,164.0,153.0,165.0,160.0,187.0,117.0,153.0,116.0,163.0,156.0,128.0,163.0,153.0,162.0,352.0,160.0,112.0,164.0,142.0,118.0,154.0,164.0,133.0,201.0,112.0,118.0,129.0,160.0,112.0,178.0,142.0,148.0,156.0,178.0,142.0,154.0,176.0,112.0,154.0,184.0,177.0,134.0,142.0,153.0,130.0,90.0,144.0,176.0,187.0,142.0,177.0,146.0,171.0,161.0,181.0,132.0,168.0,184.0,136.0,134.0,184.0,195.0,193.0,149.0,131.0,130.0,184.0,129.0,156.0,101.0,136.0,118.0,134.0,128.0,196.0,193.0,181.0,134.0,155.0,156.0,164.0,142.0,133.0,133.0,118.0,25725.0,130.0,136.0,153.0,169.0,173.0,177.0,187.0,131.0,187.0,154.0,149.0,156.0,122.0,173.0,190.0,127.0,158.0,130.0,127.0,132.0,138.0,153.0,130.0,112.0,184.0,160.0,140.0,153.0,196.0,176.0,142.0,195.0,153.0,118.0,161.0,158.0,25725.0,163.0,164.0,118.0,162.0,164.0,178.0,154.0,140.0,177.0,144.0,118.0,145.0,136.0,177.0,178.0,178.0,160.0,140.0,166.0,148.0,146.0,138.0,129.0,156.0,163.0,160.0,176.0,173.0,163.0,158.0,184.0,131.0,140.0,127.0,160.0,161.0,118.0,153.0,129.0,145.0,160.0,187.0,164.0,149.0,156.0,160.0,161.0,148.0,172.0,177.0,136.0,153.0,193.0,156.0,163.0,178.0,111.0,160.0,131.0,130.0,177.0,142.0,153.0,155.0,142.0,160.0,142.0,177.0,112.0,164.0,164.0,172.0,352.0,116.0,154.0,153.0,184.0,130.0,142.0,176.0,148.0,176.0,128.0,133.0,149.0,176.0,122.0,181.0,130.0,176.0,153.0,187.0,132.0,153.0,128.0,130.0,153.0,181.0,147.0,181.0,163.0,154.0,187.0,118.0,146.0,187.0,148.0,163.0,161.0,133.0,154.0,177.0,196.0,163.0,116.0,156.0,176.0,201.0,172.0,173.0,122.0,117.0,164.0,156.0,169.0,153.0,118.0,153.0,94.0,144.0,201.0,178.0,129.0,132.0,117.0,118.0,181.0,94.0,176.0,193.0,142.0,172.0,130.0,178.0,130.0,165.0,142.0,114.0,190.0,172.0,163.0,153.0,176.0,176.0,156.0,171.0,178.0,163.0,116.0,136.0,201.0,173.0,156.0,181.0,153.0,161.0,129.0,187.0,184.0,153.0,130.0,181.0,154.0,160.0,153.0,136.0,164.0,155.0,160.0,131.0,177.0,131.0,153.0,136.0,184.0,169.0,156.0,112.0,177.0,140.0,171.0,131.0,178.0,154.0,114.0,140.0,148.0,140.0,130.0,112.0,146.0,114.0,118.0,138.0,134.0,147.0,133.0,118.0,181.0,118.0,352.0,163.0,160.0,118.0,169.0,193.0,147.0,168.0,116.0,133.0,128.0,140.0,163.0,112.0,193.0,122.0,142.0,129.0,142.0,173.0,164.0,136.0,112.0,140.0,177.0,101.0,116.0,160.0,164.0,131.0,142.0,153.0,155.0,161.0,131.0,153.0,131.0,176.0,190.0,128.0,131.0,176.0,162.0,122.0,162.0,156.0,352.0,156.0,176.0,111.0,153.0,156.0,176.0,148.0,25725.0,128.0,193.0,173.0,145.0,177.0,193.0,128.0,196.0,130.0,146.0,145.0,160.0,160.0,142.0,145.0,118.0,142.0,176.0,25725.0,142.0,94.0,153.0,138.0,134.0,196.0,164.0,153.0,187.0,163.0,164.0,146.0,128.0,187.0,128.0,163.0,177.0,142.0,164.0,153.0,158.0,163.0,114.0,153.0,193.0,112.0,176.0,161.0,130.0,146.0,118.0,133.0,163.0,136.0,112.0,160.0,160.0,160.0,153.0,163.0,195.0,176.0,172.0,156.0,133.0,146.0,160.0,133.0,149.0,165.0,201.0,116.0,165.0,160.0,155.0,25725.0,166.0,187.0,148.0,130.0,116.0,142.0,133.0,164.0,156.0,134.0,184.0,201.0,190.0,142.0,184.0,136.0,196.0,161.0,136.0,142.0,94.0,171.0,153.0,130.0,196.0,130.0,147.0,156.0,163.0,136.0,118.0,133.0,166.0,163.0,160.0,178.0,195.0,166.0,130.0,142.0,142.0,187.0,148.0,181.0,130.0,129.0,142.0,112.0,131.0,146.0,140.0,129.0,169.0,112.0,136.0,148.0,128.0,176.0,118.0,164.0,171.0,172.0,149.0,164.0,112.0,136.0,178.0,160.0,172.0,130.0,129.0,161.0,160.0,153.0,164.0,94.0,178.0,195.0,178.0,195.0,133.0,156.0,153.0,133.0,136.0,138.0,177.0,133.0,146.0,148.0,90.0,134.0,164.0,136.0,127.0,112.0,160.0,160.0,161.0,116.0,145.0,161.0,177.0,176.0,153.0,161.0,165.0,146.0,142.0,173.0,196.0,134.0,176.0,171.0,149.0,133.0,131.0,153.0,134.0,136.0,177.0,160.0,352.0,187.0,160.0,153.0,145.0,127.0,118.0,142.0,162.0,144.0,177.0,117.0,90.0,145.0,173.0,178.0,163.0,133.0,176.0,156.0,131.0,138.0,134.0,144.0,162.0,122.0,160.0,176.0,111.0,136.0,147.0,154.0,117.0,176.0,136.0,153.0,176.0,173.0,161.0,116.0,117.0,133.0,153.0,134.0,160.0,172.0,134.0,130.0,142.0,114.0,166.0,146.0,129.0,146.0,164.0,196.0,160.0,173.0,178.0,160.0,133.0,173.0,133.0,148.0,153.0,158.0,131.0,147.0,154.0,184.0,177.0,136.0,154.0,190.0,171.0,171.0,129.0,117.0,111.0,153.0,181.0,160.0,158.0,162.0,127.0,169.0,111.0,156.0,136.0,112.0,149.0,164.0,187.0,145.0,164.0,352.0,133.0,181.0,163.0,163.0,136.0,164.0,165.0,128.0,142.0,130.0,196.0,171.0,173.0,129.0,156.0,169.0,133.0,169.0,161.0,153.0,112.0,168.0,147.0,136.0,163.0,114.0,129.0,187.0,153.0,158.0,118.0,129.0,181.0,134.0,132.0,165.0,165.0,173.0,114.0,145.0,101.0,25725.0,138.0,136.0,112.0,147.0,153.0,117.0,131.0,168.0,161.0,144.0,163.0,136.0,132.0,196.0,132.0,352.0,177.0,164.0,111.0,153.0,129.0,165.0,184.0,160.0,116.0,101.0,164.0,162.0,168.0,147.0,166.0,122.0,196.0,136.0,160.0,122.0,116.0,169.0,25725.0,156.0,142.0,148.0,118.0,155.0,163.0,195.0,173.0,112.0,164.0,178.0,142.0,178.0,134.0,153.0,156.0,160.0,131.0,142.0,178.0,140.0,112.0,178.0,116.0,184.0,177.0,176.0,136.0,142.0,138.0,146.0,155.0,130.0,153.0,134.0,164.0,201.0,101.0,133.0,131.0,173.0,131.0,148.0,181.0,111.0,190.0,196.0,161.0,145.0,140.0,131.0,129.0,155.0,112.0,117.0,164.0,111.0,154.0,161.0,158.0,153.0,133.0,153.0,160.0,196.0,201.0,145.0,166.0,116.0,164.0,134.0,176.0,146.0,158.0,181.0,176.0,187.0,160.0,163.0,129.0,160.0,130.0,160.0,129.0,196.0,133.0,101.0,128.0,112.0,133.0,129.0,177.0,136.0,112.0,112.0,145.0,173.0,138.0,134.0,145.0,161.0,176.0,136.0,90.0,168.0,122.0,153.0,153.0,160.0,181.0,130.0,145.0,25725.0,144.0,129.0,178.0,163.0,162.0,94.0,156.0,144.0,148.0,173.0,153.0,111.0,153.0,133.0,156.0,117.0,133.0,181.0,156.0,176.0,129.0,146.0,145.0,112.0,144.0,154.0,90.0,111.0,173.0,173.0,171.0,160.0,112.0,138.0,166.0,161.0,146.0,149.0,352.0,111.0,181.0,164.0,132.0,122.0,133.0,94.0,153.0,196.0,156.0,177.0,160.0,178.0,160.0,164.0,168.0,130.0,127.0,142.0,136.0,148.0,131.0,134.0,134.0,166.0,163.0,117.0,112.0,146.0,160.0,133.0,190.0,116.0,160.0,181.0,153.0,131.0,160.0,153.0,161.0,138.0,178.0,130.0,184.0,178.0,160.0,145.0,164.0,130.0,114.0,153.0,130.0,173.0,129.0,190.0,138.0,134.0,128.0,187.0,134.0,164.0,177.0,352.0,195.0,136.0,161.0,195.0,156.0,136.0,154.0,94.0,142.0,129.0,164.0,114.0,195.0,177.0,131.0,153.0,25725.0,122.0,156.0,168.0,132.0,196.0,164.0,142.0,161.0,162.0,118.0,112.0,128.0,127.0,156.0,352.0,172.0,142.0,165.0,171.0,168.0,130.0,131.0,155.0,153.0,162.0,142.0,128.0,163.0,148.0,181.0,171.0,160.0,130.0,156.0,177.0,158.0,177.0,163.0,94.0,136.0,142.0,118.0,130.0,128.0,142.0,118.0,158.0,146.0,145.0,122.0,130.0,112.0,178.0,169.0,163.0,133.0,134.0,178.0,155.0,169.0,130.0,129.0,129.0,147.0,171.0,153.0,122.0,129.0,193.0,184.0,158.0,160.0,132.0,187.0,156.0,114.0,114.0,140.0,154.0,164.0,142.0,177.0,94.0,168.0,117.0,146.0,160.0,117.0,160.0,144.0,172.0,153.0,173.0,133.0,187.0,201.0,154.0,142.0,201.0,193.0,25725.0,176.0,90.0,154.0,155.0,145.0,112.0,131.0,25725.0,352.0,178.0,181.0,111.0,145.0,173.0,177.0,111.0,176.0,164.0,128.0,128.0,145.0,148.0,133.0,144.0,163.0,118.0,160.0,142.0,128.0,147.0,122.0,129.0,155.0,142.0,129.0,178.0,149.0,138.0,140.0,149.0,117.0,94.0,193.0,163.0,116.0,196.0,164.0,158.0,146.0,116.0,118.0,116.0,132.0,142.0,181.0,131.0,148.0,154.0,160.0,164.0,177.0,90.0,181.0,142.0,176.0,195.0,131.0,176.0,112.0,142.0,196.0,163.0,129.0,118.0,181.0,173.0,161.0,147.0,155.0,128.0,142.0,118.0,177.0,146.0,131.0,145.0,118.0,133.0,142.0,173.0,134.0,156.0,25725.0,130.0,129.0,172.0,128.0,128.0,161.0,190.0,177.0,128.0,158.0,148.0,132.0,118.0,134.0,160.0,149.0,128.0,176.0,161.0,172.0,148.0,133.0,131.0,148.0,140.0,164.0,131.0,145.0,101.0,90.0,142.0,164.0,164.0,133.0,138.0,173.0,153.0,181.0,118.0,163.0,164.0,131.0,172.0,156.0,161.0,158.0,160.0,122.0,156.0,132.0,112.0,176.0,176.0,181.0,176.0,164.0,187.0,127.0,114.0,161.0,148.0,160.0,181.0,165.0,160.0,173.0,117.0,156.0,187.0,181.0,173.0,118.0,173.0,187.0,187.0,177.0,129.0,164.0,25725.0,164.0,187.0,163.0,160.0,201.0,169.0,148.0,195.0,163.0,112.0,129.0,187.0,149.0,145.0,176.0,201.0,176.0,156.0,130.0,156.0,156.0,163.0,101.0,177.0,155.0,149.0,128.0,163.0,142.0,190.0,169.0,142.0,129.0,147.0,160.0,156.0,173.0,153.0,156.0,129.0,352.0,160.0,154.0,155.0,162.0,165.0,132.0,138.0,158.0,142.0,156.0,171.0,176.0,196.0,142.0,196.0,130.0,190.0,101.0,130.0,94.0,352.0,116.0,122.0,146.0,118.0,187.0,172.0,128.0,118.0,129.0,156.0,158.0,163.0,145.0,176.0,153.0,187.0,118.0,153.0,130.0,153.0,149.0,196.0,153.0,133.0,161.0,147.0,112.0,181.0,153.0,145.0,171.0,158.0,156.0,153.0,155.0,166.0,178.0,94.0,129.0,156.0,136.0,144.0,196.0,176.0,112.0,153.0,195.0,133.0,156.0,149.0,146.0,147.0,171.0,153.0,133.0,178.0,153.0,177.0,142.0,163.0,144.0,163.0,130.0,171.0,130.0,181.0,147.0,134.0,25725.0,156.0,149.0,140.0,196.0,164.0,142.0,169.0,142.0,132.0,127.0,176.0,112.0,158.0,114.0,153.0,127.0,160.0,176.0,178.0,127.0,161.0,112.0,149.0,149.0,158.0,145.0,178.0,112.0,112.0,352.0,136.0,129.0,178.0,130.0,144.0,153.0,145.0,148.0,176.0,147.0,187.0,166.0,160.0,146.0,90.0,163.0,148.0,196.0,184.0,129.0,169.0,352.0,134.0,130.0,201.0,161.0,134.0,112.0,118.0,145.0,196.0,122.0,171.0,130.0,171.0,154.0,163.0,156.0,158.0,136.0,140.0,160.0,131.0,156.0,156.0,160.0,133.0,178.0,153.0,190.0,133.0,178.0,148.0,142.0,117.0,169.0,130.0,129.0,164.0,162.0,156.0,177.0,201.0,161.0,136.0,177.0,142.0,130.0,161.0,117.0,142.0,146.0,176.0,118.0,94.0,153.0,169.0,144.0,176.0,127.0,132.0,158.0,156.0,156.0,147.0,129.0,178.0,118.0,133.0,128.0,134.0,130.0,161.0,164.0,178.0,153.0,173.0,181.0,201.0,111.0,136.0,160.0,181.0,142.0,164.0,145.0,131.0,162.0,118.0,177.0,138.0,101.0,177.0,165.0,164.0,169.0,112.0,153.0,153.0,117.0,156.0,162.0,352.0,153.0,158.0,136.0,90.0,184.0,118.0,122.0,127.0,196.0,156.0,140.0,116.0,130.0,352.0,169.0,134.0,114.0,187.0,187.0,176.0,112.0,136.0,129.0,122.0,130.0,118.0,181.0,112.0,153.0,160.0,187.0,201.0,164.0,163.0,178.0,168.0,190.0,136.0,154.0,158.0,153.0,117.0,201.0,114.0,142.0,155.0,118.0,117.0,129.0,25725.0,156.0,112.0,144.0,132.0,90.0,90.0,131.0,178.0,153.0,142.0,131.0,161.0,132.0,90.0,140.0,161.0,184.0,164.0,181.0,156.0,130.0,181.0,142.0,131.0,177.0,148.0,164.0,133.0,112.0,201.0,147.0,142.0,163.0,176.0,160.0,116.0,158.0,142.0,131.0,173.0,132.0,195.0,160.0,160.0,169.0,148.0,147.0,136.0,128.0,148.0,112.0,122.0,129.0,138.0,90.0,112.0,155.0,114.0,131.0,94.0,128.0,193.0,130.0,158.0,166.0,144.0,132.0,111.0,184.0,130.0,184.0,140.0,158.0,129.0,128.0,201.0,165.0,117.0,117.0,177.0,144.0],\"y0\":\" \",\"yaxis\":\"y\",\"type\":\"box\"}],                        {\"template\":{\"data\":{\"barpolar\":[{\"marker\":{\"line\":{\"color\":\"rgb(17,17,17)\",\"width\":0.5},\"pattern\":{\"fillmode\":\"overlay\",\"size\":10,\"solidity\":0.2}},\"type\":\"barpolar\"}],\"bar\":[{\"error_x\":{\"color\":\"#f2f5fa\"},\"error_y\":{\"color\":\"#f2f5fa\"},\"marker\":{\"line\":{\"color\":\"rgb(17,17,17)\",\"width\":0.5},\"pattern\":{\"fillmode\":\"overlay\",\"size\":10,\"solidity\":0.2}},\"type\":\"bar\"}],\"carpet\":[{\"aaxis\":{\"endlinecolor\":\"#A2B1C6\",\"gridcolor\":\"#506784\",\"linecolor\":\"#506784\",\"minorgridcolor\":\"#506784\",\"startlinecolor\":\"#A2B1C6\"},\"baxis\":{\"endlinecolor\":\"#A2B1C6\",\"gridcolor\":\"#506784\",\"linecolor\":\"#506784\",\"minorgridcolor\":\"#506784\",\"startlinecolor\":\"#A2B1C6\"},\"type\":\"carpet\"}],\"choropleth\":[{\"colorbar\":{\"outlinewidth\":0,\"ticks\":\"\"},\"type\":\"choropleth\"}],\"contourcarpet\":[{\"colorbar\":{\"outlinewidth\":0,\"ticks\":\"\"},\"type\":\"contourcarpet\"}],\"contour\":[{\"colorbar\":{\"outlinewidth\":0,\"ticks\":\"\"},\"colorscale\":[[0.0,\"#0d0887\"],[0.1111111111111111,\"#46039f\"],[0.2222222222222222,\"#7201a8\"],[0.3333333333333333,\"#9c179e\"],[0.4444444444444444,\"#bd3786\"],[0.5555555555555556,\"#d8576b\"],[0.6666666666666666,\"#ed7953\"],[0.7777777777777778,\"#fb9f3a\"],[0.8888888888888888,\"#fdca26\"],[1.0,\"#f0f921\"]],\"type\":\"contour\"}],\"heatmapgl\":[{\"colorbar\":{\"outlinewidth\":0,\"ticks\":\"\"},\"colorscale\":[[0.0,\"#0d0887\"],[0.1111111111111111,\"#46039f\"],[0.2222222222222222,\"#7201a8\"],[0.3333333333333333,\"#9c179e\"],[0.4444444444444444,\"#bd3786\"],[0.5555555555555556,\"#d8576b\"],[0.6666666666666666,\"#ed7953\"],[0.7777777777777778,\"#fb9f3a\"],[0.8888888888888888,\"#fdca26\"],[1.0,\"#f0f921\"]],\"type\":\"heatmapgl\"}],\"heatmap\":[{\"colorbar\":{\"outlinewidth\":0,\"ticks\":\"\"},\"colorscale\":[[0.0,\"#0d0887\"],[0.1111111111111111,\"#46039f\"],[0.2222222222222222,\"#7201a8\"],[0.3333333333333333,\"#9c179e\"],[0.4444444444444444,\"#bd3786\"],[0.5555555555555556,\"#d8576b\"],[0.6666666666666666,\"#ed7953\"],[0.7777777777777778,\"#fb9f3a\"],[0.8888888888888888,\"#fdca26\"],[1.0,\"#f0f921\"]],\"type\":\"heatmap\"}],\"histogram2dcontour\":[{\"colorbar\":{\"outlinewidth\":0,\"ticks\":\"\"},\"colorscale\":[[0.0,\"#0d0887\"],[0.1111111111111111,\"#46039f\"],[0.2222222222222222,\"#7201a8\"],[0.3333333333333333,\"#9c179e\"],[0.4444444444444444,\"#bd3786\"],[0.5555555555555556,\"#d8576b\"],[0.6666666666666666,\"#ed7953\"],[0.7777777777777778,\"#fb9f3a\"],[0.8888888888888888,\"#fdca26\"],[1.0,\"#f0f921\"]],\"type\":\"histogram2dcontour\"}],\"histogram2d\":[{\"colorbar\":{\"outlinewidth\":0,\"ticks\":\"\"},\"colorscale\":[[0.0,\"#0d0887\"],[0.1111111111111111,\"#46039f\"],[0.2222222222222222,\"#7201a8\"],[0.3333333333333333,\"#9c179e\"],[0.4444444444444444,\"#bd3786\"],[0.5555555555555556,\"#d8576b\"],[0.6666666666666666,\"#ed7953\"],[0.7777777777777778,\"#fb9f3a\"],[0.8888888888888888,\"#fdca26\"],[1.0,\"#f0f921\"]],\"type\":\"histogram2d\"}],\"histogram\":[{\"marker\":{\"pattern\":{\"fillmode\":\"overlay\",\"size\":10,\"solidity\":0.2}},\"type\":\"histogram\"}],\"mesh3d\":[{\"colorbar\":{\"outlinewidth\":0,\"ticks\":\"\"},\"type\":\"mesh3d\"}],\"parcoords\":[{\"line\":{\"colorbar\":{\"outlinewidth\":0,\"ticks\":\"\"}},\"type\":\"parcoords\"}],\"pie\":[{\"automargin\":true,\"type\":\"pie\"}],\"scatter3d\":[{\"line\":{\"colorbar\":{\"outlinewidth\":0,\"ticks\":\"\"}},\"marker\":{\"colorbar\":{\"outlinewidth\":0,\"ticks\":\"\"}},\"type\":\"scatter3d\"}],\"scattercarpet\":[{\"marker\":{\"colorbar\":{\"outlinewidth\":0,\"ticks\":\"\"}},\"type\":\"scattercarpet\"}],\"scattergeo\":[{\"marker\":{\"colorbar\":{\"outlinewidth\":0,\"ticks\":\"\"}},\"type\":\"scattergeo\"}],\"scattergl\":[{\"marker\":{\"line\":{\"color\":\"#283442\"}},\"type\":\"scattergl\"}],\"scattermapbox\":[{\"marker\":{\"colorbar\":{\"outlinewidth\":0,\"ticks\":\"\"}},\"type\":\"scattermapbox\"}],\"scatterpolargl\":[{\"marker\":{\"colorbar\":{\"outlinewidth\":0,\"ticks\":\"\"}},\"type\":\"scatterpolargl\"}],\"scatterpolar\":[{\"marker\":{\"colorbar\":{\"outlinewidth\":0,\"ticks\":\"\"}},\"type\":\"scatterpolar\"}],\"scatter\":[{\"marker\":{\"line\":{\"color\":\"#283442\"}},\"type\":\"scatter\"}],\"scatterternary\":[{\"marker\":{\"colorbar\":{\"outlinewidth\":0,\"ticks\":\"\"}},\"type\":\"scatterternary\"}],\"surface\":[{\"colorbar\":{\"outlinewidth\":0,\"ticks\":\"\"},\"colorscale\":[[0.0,\"#0d0887\"],[0.1111111111111111,\"#46039f\"],[0.2222222222222222,\"#7201a8\"],[0.3333333333333333,\"#9c179e\"],[0.4444444444444444,\"#bd3786\"],[0.5555555555555556,\"#d8576b\"],[0.6666666666666666,\"#ed7953\"],[0.7777777777777778,\"#fb9f3a\"],[0.8888888888888888,\"#fdca26\"],[1.0,\"#f0f921\"]],\"type\":\"surface\"}],\"table\":[{\"cells\":{\"fill\":{\"color\":\"#506784\"},\"line\":{\"color\":\"rgb(17,17,17)\"}},\"header\":{\"fill\":{\"color\":\"#2a3f5f\"},\"line\":{\"color\":\"rgb(17,17,17)\"}},\"type\":\"table\"}]},\"layout\":{\"annotationdefaults\":{\"arrowcolor\":\"#f2f5fa\",\"arrowhead\":0,\"arrowwidth\":1},\"autotypenumbers\":\"strict\",\"coloraxis\":{\"colorbar\":{\"outlinewidth\":0,\"ticks\":\"\"}},\"colorscale\":{\"diverging\":[[0,\"#8e0152\"],[0.1,\"#c51b7d\"],[0.2,\"#de77ae\"],[0.3,\"#f1b6da\"],[0.4,\"#fde0ef\"],[0.5,\"#f7f7f7\"],[0.6,\"#e6f5d0\"],[0.7,\"#b8e186\"],[0.8,\"#7fbc41\"],[0.9,\"#4d9221\"],[1,\"#276419\"]],\"sequential\":[[0.0,\"#0d0887\"],[0.1111111111111111,\"#46039f\"],[0.2222222222222222,\"#7201a8\"],[0.3333333333333333,\"#9c179e\"],[0.4444444444444444,\"#bd3786\"],[0.5555555555555556,\"#d8576b\"],[0.6666666666666666,\"#ed7953\"],[0.7777777777777778,\"#fb9f3a\"],[0.8888888888888888,\"#fdca26\"],[1.0,\"#f0f921\"]],\"sequentialminus\":[[0.0,\"#0d0887\"],[0.1111111111111111,\"#46039f\"],[0.2222222222222222,\"#7201a8\"],[0.3333333333333333,\"#9c179e\"],[0.4444444444444444,\"#bd3786\"],[0.5555555555555556,\"#d8576b\"],[0.6666666666666666,\"#ed7953\"],[0.7777777777777778,\"#fb9f3a\"],[0.8888888888888888,\"#fdca26\"],[1.0,\"#f0f921\"]]},\"colorway\":[\"#636efa\",\"#EF553B\",\"#00cc96\",\"#ab63fa\",\"#FFA15A\",\"#19d3f3\",\"#FF6692\",\"#B6E880\",\"#FF97FF\",\"#FECB52\"],\"font\":{\"color\":\"#f2f5fa\"},\"geo\":{\"bgcolor\":\"rgb(17,17,17)\",\"lakecolor\":\"rgb(17,17,17)\",\"landcolor\":\"rgb(17,17,17)\",\"showlakes\":true,\"showland\":true,\"subunitcolor\":\"#506784\"},\"hoverlabel\":{\"align\":\"left\"},\"hovermode\":\"closest\",\"mapbox\":{\"style\":\"dark\"},\"paper_bgcolor\":\"rgb(17,17,17)\",\"plot_bgcolor\":\"rgb(17,17,17)\",\"polar\":{\"angularaxis\":{\"gridcolor\":\"#506784\",\"linecolor\":\"#506784\",\"ticks\":\"\"},\"bgcolor\":\"rgb(17,17,17)\",\"radialaxis\":{\"gridcolor\":\"#506784\",\"linecolor\":\"#506784\",\"ticks\":\"\"}},\"scene\":{\"xaxis\":{\"backgroundcolor\":\"rgb(17,17,17)\",\"gridcolor\":\"#506784\",\"gridwidth\":2,\"linecolor\":\"#506784\",\"showbackground\":true,\"ticks\":\"\",\"zerolinecolor\":\"#C8D4E3\"},\"yaxis\":{\"backgroundcolor\":\"rgb(17,17,17)\",\"gridcolor\":\"#506784\",\"gridwidth\":2,\"linecolor\":\"#506784\",\"showbackground\":true,\"ticks\":\"\",\"zerolinecolor\":\"#C8D4E3\"},\"zaxis\":{\"backgroundcolor\":\"rgb(17,17,17)\",\"gridcolor\":\"#506784\",\"gridwidth\":2,\"linecolor\":\"#506784\",\"showbackground\":true,\"ticks\":\"\",\"zerolinecolor\":\"#C8D4E3\"}},\"shapedefaults\":{\"line\":{\"color\":\"#f2f5fa\"}},\"sliderdefaults\":{\"bgcolor\":\"#C8D4E3\",\"bordercolor\":\"rgb(17,17,17)\",\"borderwidth\":1,\"tickwidth\":0},\"ternary\":{\"aaxis\":{\"gridcolor\":\"#506784\",\"linecolor\":\"#506784\",\"ticks\":\"\"},\"baxis\":{\"gridcolor\":\"#506784\",\"linecolor\":\"#506784\",\"ticks\":\"\"},\"bgcolor\":\"rgb(17,17,17)\",\"caxis\":{\"gridcolor\":\"#506784\",\"linecolor\":\"#506784\",\"ticks\":\"\"}},\"title\":{\"x\":0.05},\"updatemenudefaults\":{\"bgcolor\":\"#506784\",\"borderwidth\":0},\"xaxis\":{\"automargin\":true,\"gridcolor\":\"#283442\",\"linecolor\":\"#506784\",\"ticks\":\"\",\"title\":{\"standoff\":15},\"zerolinecolor\":\"#283442\",\"zerolinewidth\":2},\"yaxis\":{\"automargin\":true,\"gridcolor\":\"#283442\",\"linecolor\":\"#506784\",\"ticks\":\"\",\"title\":{\"standoff\":15},\"zerolinecolor\":\"#283442\",\"zerolinewidth\":2}}},\"xaxis\":{\"anchor\":\"y\",\"domain\":[0.0,1.0]},\"yaxis\":{\"anchor\":\"x\",\"domain\":[0.0,1.0],\"title\":{\"text\":\"AOV Values\"}},\"legend\":{\"tracegroupgap\":0},\"margin\":{\"t\":60},\"boxmode\":\"group\",\"title\":{\"text\":\"Average Order Value Box Plot\"},\"showlegend\":true},                        {\"responsive\": true}                    ).then(function(){\n",
              "                            \n",
              "var gd = document.getElementById('dee9349e-6f76-4dfb-8cd7-40252186b93e');\n",
              "var x = new MutationObserver(function (mutations, observer) {{\n",
              "        var display = window.getComputedStyle(gd).display;\n",
              "        if (!display || display === 'none') {{\n",
              "            console.log([gd, 'removed!']);\n",
              "            Plotly.purge(gd);\n",
              "            observer.disconnect();\n",
              "        }}\n",
              "}});\n",
              "\n",
              "// Listen for the removal of the full notebook cells\n",
              "var notebookContainer = gd.closest('#notebook-container');\n",
              "if (notebookContainer) {{\n",
              "    x.observe(notebookContainer, {childList: true});\n",
              "}}\n",
              "\n",
              "// Listen for the clearing of the current output cell\n",
              "var outputEl = gd.closest('.output');\n",
              "if (outputEl) {{\n",
              "    x.observe(outputEl, {childList: true});\n",
              "}}\n",
              "\n",
              "                        })                };                            </script>        </div>\n",
              "</body>\n",
              "</html>"
            ]
          },
          "metadata": {}
        }
      ]
    },
    {
      "cell_type": "code",
      "source": [
        "print(f\"The number of orders for the shoe costing $25,725: {orders_df[orders_df['aov'] >= 20000].shape[0]}\")\n",
        "print(f\"The proportion of outlier values in the dataset: {round(100 * (orders_df[orders_df['aov'] >= 20000].shape[0] / orders_df.shape[0]))} %\")\n",
        "orders_df[orders_df['aov'] >= 20000].head(10)"
      ],
      "metadata": {
        "colab": {
          "base_uri": "https://localhost:8080/",
          "height": 398
        },
        "id": "G5LrafLjhn2E",
        "outputId": "728bdff5-941c-4f33-ab08-39da364776b9"
      },
      "execution_count": 12,
      "outputs": [
        {
          "output_type": "stream",
          "name": "stdout",
          "text": [
            "The number of orders for the shoe costing $25,725: 46\n",
            "The proportion of outlier values in the dataset: 1 %\n"
          ]
        },
        {
          "output_type": "execute_result",
          "data": {
            "text/plain": [
              "      order_id  shop_id  user_id  order_amount  total_items payment_method  \\\n",
              "160        161       78      990         25725            1    credit_card   \n",
              "490        491       78      936         51450            2          debit   \n",
              "493        494       78      983         51450            2           cash   \n",
              "511        512       78      967         51450            2           cash   \n",
              "617        618       78      760         51450            2           cash   \n",
              "691        692       78      878        154350            6          debit   \n",
              "1056      1057       78      800         25725            1          debit   \n",
              "1193      1194       78      944         25725            1          debit   \n",
              "1204      1205       78      970         25725            1    credit_card   \n",
              "1259      1260       78      775         77175            3    credit_card   \n",
              "\n",
              "              created_at      aov  \n",
              "160  2017-03-12 05:56:57  25725.0  \n",
              "490  2017-03-26 17:08:19  25725.0  \n",
              "493  2017-03-16 21:39:35  25725.0  \n",
              "511  2017-03-09 07:23:14  25725.0  \n",
              "617  2017-03-18 11:18:42  25725.0  \n",
              "691  2017-03-27 22:51:43  25725.0  \n",
              "1056 2017-03-15 10:16:45  25725.0  \n",
              "1193 2017-03-16 16:38:26  25725.0  \n",
              "1204 2017-03-17 22:32:21  25725.0  \n",
              "1259 2017-03-27 09:27:20  25725.0  "
            ],
            "text/html": [
              "\n",
              "  <div id=\"df-57af3744-8982-470b-8186-86a0ec74a09e\">\n",
              "    <div class=\"colab-df-container\">\n",
              "      <div>\n",
              "<style scoped>\n",
              "    .dataframe tbody tr th:only-of-type {\n",
              "        vertical-align: middle;\n",
              "    }\n",
              "\n",
              "    .dataframe tbody tr th {\n",
              "        vertical-align: top;\n",
              "    }\n",
              "\n",
              "    .dataframe thead th {\n",
              "        text-align: right;\n",
              "    }\n",
              "</style>\n",
              "<table border=\"1\" class=\"dataframe\">\n",
              "  <thead>\n",
              "    <tr style=\"text-align: right;\">\n",
              "      <th></th>\n",
              "      <th>order_id</th>\n",
              "      <th>shop_id</th>\n",
              "      <th>user_id</th>\n",
              "      <th>order_amount</th>\n",
              "      <th>total_items</th>\n",
              "      <th>payment_method</th>\n",
              "      <th>created_at</th>\n",
              "      <th>aov</th>\n",
              "    </tr>\n",
              "  </thead>\n",
              "  <tbody>\n",
              "    <tr>\n",
              "      <th>160</th>\n",
              "      <td>161</td>\n",
              "      <td>78</td>\n",
              "      <td>990</td>\n",
              "      <td>25725</td>\n",
              "      <td>1</td>\n",
              "      <td>credit_card</td>\n",
              "      <td>2017-03-12 05:56:57</td>\n",
              "      <td>25725.0</td>\n",
              "    </tr>\n",
              "    <tr>\n",
              "      <th>490</th>\n",
              "      <td>491</td>\n",
              "      <td>78</td>\n",
              "      <td>936</td>\n",
              "      <td>51450</td>\n",
              "      <td>2</td>\n",
              "      <td>debit</td>\n",
              "      <td>2017-03-26 17:08:19</td>\n",
              "      <td>25725.0</td>\n",
              "    </tr>\n",
              "    <tr>\n",
              "      <th>493</th>\n",
              "      <td>494</td>\n",
              "      <td>78</td>\n",
              "      <td>983</td>\n",
              "      <td>51450</td>\n",
              "      <td>2</td>\n",
              "      <td>cash</td>\n",
              "      <td>2017-03-16 21:39:35</td>\n",
              "      <td>25725.0</td>\n",
              "    </tr>\n",
              "    <tr>\n",
              "      <th>511</th>\n",
              "      <td>512</td>\n",
              "      <td>78</td>\n",
              "      <td>967</td>\n",
              "      <td>51450</td>\n",
              "      <td>2</td>\n",
              "      <td>cash</td>\n",
              "      <td>2017-03-09 07:23:14</td>\n",
              "      <td>25725.0</td>\n",
              "    </tr>\n",
              "    <tr>\n",
              "      <th>617</th>\n",
              "      <td>618</td>\n",
              "      <td>78</td>\n",
              "      <td>760</td>\n",
              "      <td>51450</td>\n",
              "      <td>2</td>\n",
              "      <td>cash</td>\n",
              "      <td>2017-03-18 11:18:42</td>\n",
              "      <td>25725.0</td>\n",
              "    </tr>\n",
              "    <tr>\n",
              "      <th>691</th>\n",
              "      <td>692</td>\n",
              "      <td>78</td>\n",
              "      <td>878</td>\n",
              "      <td>154350</td>\n",
              "      <td>6</td>\n",
              "      <td>debit</td>\n",
              "      <td>2017-03-27 22:51:43</td>\n",
              "      <td>25725.0</td>\n",
              "    </tr>\n",
              "    <tr>\n",
              "      <th>1056</th>\n",
              "      <td>1057</td>\n",
              "      <td>78</td>\n",
              "      <td>800</td>\n",
              "      <td>25725</td>\n",
              "      <td>1</td>\n",
              "      <td>debit</td>\n",
              "      <td>2017-03-15 10:16:45</td>\n",
              "      <td>25725.0</td>\n",
              "    </tr>\n",
              "    <tr>\n",
              "      <th>1193</th>\n",
              "      <td>1194</td>\n",
              "      <td>78</td>\n",
              "      <td>944</td>\n",
              "      <td>25725</td>\n",
              "      <td>1</td>\n",
              "      <td>debit</td>\n",
              "      <td>2017-03-16 16:38:26</td>\n",
              "      <td>25725.0</td>\n",
              "    </tr>\n",
              "    <tr>\n",
              "      <th>1204</th>\n",
              "      <td>1205</td>\n",
              "      <td>78</td>\n",
              "      <td>970</td>\n",
              "      <td>25725</td>\n",
              "      <td>1</td>\n",
              "      <td>credit_card</td>\n",
              "      <td>2017-03-17 22:32:21</td>\n",
              "      <td>25725.0</td>\n",
              "    </tr>\n",
              "    <tr>\n",
              "      <th>1259</th>\n",
              "      <td>1260</td>\n",
              "      <td>78</td>\n",
              "      <td>775</td>\n",
              "      <td>77175</td>\n",
              "      <td>3</td>\n",
              "      <td>credit_card</td>\n",
              "      <td>2017-03-27 09:27:20</td>\n",
              "      <td>25725.0</td>\n",
              "    </tr>\n",
              "  </tbody>\n",
              "</table>\n",
              "</div>\n",
              "      <button class=\"colab-df-convert\" onclick=\"convertToInteractive('df-57af3744-8982-470b-8186-86a0ec74a09e')\"\n",
              "              title=\"Convert this dataframe to an interactive table.\"\n",
              "              style=\"display:none;\">\n",
              "        \n",
              "  <svg xmlns=\"http://www.w3.org/2000/svg\" height=\"24px\"viewBox=\"0 0 24 24\"\n",
              "       width=\"24px\">\n",
              "    <path d=\"M0 0h24v24H0V0z\" fill=\"none\"/>\n",
              "    <path d=\"M18.56 5.44l.94 2.06.94-2.06 2.06-.94-2.06-.94-.94-2.06-.94 2.06-2.06.94zm-11 1L8.5 8.5l.94-2.06 2.06-.94-2.06-.94L8.5 2.5l-.94 2.06-2.06.94zm10 10l.94 2.06.94-2.06 2.06-.94-2.06-.94-.94-2.06-.94 2.06-2.06.94z\"/><path d=\"M17.41 7.96l-1.37-1.37c-.4-.4-.92-.59-1.43-.59-.52 0-1.04.2-1.43.59L10.3 9.45l-7.72 7.72c-.78.78-.78 2.05 0 2.83L4 21.41c.39.39.9.59 1.41.59.51 0 1.02-.2 1.41-.59l7.78-7.78 2.81-2.81c.8-.78.8-2.07 0-2.86zM5.41 20L4 18.59l7.72-7.72 1.47 1.35L5.41 20z\"/>\n",
              "  </svg>\n",
              "      </button>\n",
              "      \n",
              "  <style>\n",
              "    .colab-df-container {\n",
              "      display:flex;\n",
              "      flex-wrap:wrap;\n",
              "      gap: 12px;\n",
              "    }\n",
              "\n",
              "    .colab-df-convert {\n",
              "      background-color: #E8F0FE;\n",
              "      border: none;\n",
              "      border-radius: 50%;\n",
              "      cursor: pointer;\n",
              "      display: none;\n",
              "      fill: #1967D2;\n",
              "      height: 32px;\n",
              "      padding: 0 0 0 0;\n",
              "      width: 32px;\n",
              "    }\n",
              "\n",
              "    .colab-df-convert:hover {\n",
              "      background-color: #E2EBFA;\n",
              "      box-shadow: 0px 1px 2px rgba(60, 64, 67, 0.3), 0px 1px 3px 1px rgba(60, 64, 67, 0.15);\n",
              "      fill: #174EA6;\n",
              "    }\n",
              "\n",
              "    [theme=dark] .colab-df-convert {\n",
              "      background-color: #3B4455;\n",
              "      fill: #D2E3FC;\n",
              "    }\n",
              "\n",
              "    [theme=dark] .colab-df-convert:hover {\n",
              "      background-color: #434B5C;\n",
              "      box-shadow: 0px 1px 3px 1px rgba(0, 0, 0, 0.15);\n",
              "      filter: drop-shadow(0px 1px 2px rgba(0, 0, 0, 0.3));\n",
              "      fill: #FFFFFF;\n",
              "    }\n",
              "  </style>\n",
              "\n",
              "      <script>\n",
              "        const buttonEl =\n",
              "          document.querySelector('#df-57af3744-8982-470b-8186-86a0ec74a09e button.colab-df-convert');\n",
              "        buttonEl.style.display =\n",
              "          google.colab.kernel.accessAllowed ? 'block' : 'none';\n",
              "\n",
              "        async function convertToInteractive(key) {\n",
              "          const element = document.querySelector('#df-57af3744-8982-470b-8186-86a0ec74a09e');\n",
              "          const dataTable =\n",
              "            await google.colab.kernel.invokeFunction('convertToInteractive',\n",
              "                                                     [key], {});\n",
              "          if (!dataTable) return;\n",
              "\n",
              "          const docLinkHtml = 'Like what you see? Visit the ' +\n",
              "            '<a target=\"_blank\" href=https://colab.research.google.com/notebooks/data_table.ipynb>data table notebook</a>'\n",
              "            + ' to learn more about interactive tables.';\n",
              "          element.innerHTML = '';\n",
              "          dataTable['output_type'] = 'display_data';\n",
              "          await google.colab.output.renderOutput(dataTable, element);\n",
              "          const docLink = document.createElement('div');\n",
              "          docLink.innerHTML = docLinkHtml;\n",
              "          element.appendChild(docLink);\n",
              "        }\n",
              "      </script>\n",
              "    </div>\n",
              "  </div>\n",
              "  "
            ]
          },
          "metadata": {},
          "execution_count": 12
        }
      ]
    },
    {
      "cell_type": "markdown",
      "source": [
        "If we wanted to analyze the AOV of our sneaker merchant's customers, we could consider dropping the data from our sole high-end sneaker merchant. Without our outlier data, the average AOV falls slightly closer to our median AOV at approximately \\$307. \n",
        "\n",
        "The histogram below demonstrates just how much the outliers skew our data. For example, the mean AOV we reported earlier with the outliers included (highlighted in green) would be the maximum value amongst the distribution of sneaker prices (excluding outliers, of course). "
      ],
      "metadata": {
        "id": "-SyDtNQfKYmc"
      }
    },
    {
      "cell_type": "code",
      "source": [
        "excl_outliers = orders_df[orders_df['aov'] < 25725]\n",
        "\n",
        "fig2 = px.histogram(excl_outliers, x='aov')\n",
        "fig2.update_xaxes(title_text=\"Sneaker Price Ranges\")\n",
        "fig2.update_yaxes(title_text=\"Order Count\")\n",
        "fig2.add_vline(x=round(excl_outliers['order_amount'].sum() / excl_outliers['total_items'].sum(), 2), annotation_text=\"Mean AOV\", line_color='red', annotation_position=\"top left\", line_dash=\"dot\")\n",
        "fig2.add_vline(x=orders_df['aov'].median(), annotation_text=\"Median AOV\", annotation_position=\"top right\", line_color='gold')\n",
        "fig2.add_vline(x=round(orders_df['order_amount'].sum() / orders_df['total_items'].sum(), 2), annotation_text=\"Mean AOV (incl. outliers)\", annotation_position=\"top left\", line_color='green')\n",
        "fig2.update_layout(title='Sneaker Price Order Distribution (excl. outliers)',template='plotly_dark', showlegend=True)\n",
        "fig2.show()"
      ],
      "metadata": {
        "colab": {
          "base_uri": "https://localhost:8080/",
          "height": 542
        },
        "id": "oS1J1SvoihVM",
        "outputId": "a1b8cfe1-225e-4404-a778-77ab795f77ec"
      },
      "execution_count": 13,
      "outputs": [
        {
          "output_type": "display_data",
          "data": {
            "text/html": [
              "<html>\n",
              "<head><meta charset=\"utf-8\" /></head>\n",
              "<body>\n",
              "    <div>            <script src=\"https://cdnjs.cloudflare.com/ajax/libs/mathjax/2.7.5/MathJax.js?config=TeX-AMS-MML_SVG\"></script><script type=\"text/javascript\">if (window.MathJax) {MathJax.Hub.Config({SVG: {font: \"STIX-Web\"}});}</script>                <script type=\"text/javascript\">window.PlotlyConfig = {MathJaxConfig: 'local'};</script>\n",
              "        <script src=\"https://cdn.plot.ly/plotly-2.8.3.min.js\"></script>                <div id=\"4d7ddc78-8be2-48d9-bb16-f90846fc8a54\" class=\"plotly-graph-div\" style=\"height:525px; width:100%;\"></div>            <script type=\"text/javascript\">                                    window.PLOTLYENV=window.PLOTLYENV || {};                                    if (document.getElementById(\"4d7ddc78-8be2-48d9-bb16-f90846fc8a54\")) {                    Plotly.newPlot(                        \"4d7ddc78-8be2-48d9-bb16-f90846fc8a54\",                        [{\"alignmentgroup\":\"True\",\"bingroup\":\"x\",\"hovertemplate\":\"aov=%{x}<br>count=%{y}<extra></extra>\",\"legendgroup\":\"\",\"marker\":{\"color\":\"#636efa\",\"pattern\":{\"shape\":\"\"}},\"name\":\"\",\"offsetgroup\":\"\",\"orientation\":\"v\",\"showlegend\":false,\"x\":[112.0,90.0,144.0,156.0,156.0,138.0,149.0,146.0,133.0,146.0,161.0,161.0,133.0,111.0,149.0,352.0,176.0,164.0,129.0,136.0,161.0,162.0,176.0,128.0,165.0,177.0,145.0,112.0,161.0,178.0,155.0,147.0,155.0,112.0,122.0,158.0,153.0,161.0,148.0,158.0,352.0,158.0,156.0,142.0,195.0,163.0,173.0,146.0,148.0,133.0,138.0,177.0,153.0,173.0,181.0,187.0,112.0,187.0,145.0,145.0,352.0,177.0,130.0,160.0,160.0,112.0,161.0,142.0,130.0,138.0,184.0,122.0,130.0,116.0,142.0,153.0,127.0,118.0,132.0,127.0,146.0,164.0,117.0,111.0,118.0,112.0,117.0,133.0,171.0,164.0,193.0,148.0,146.0,138.0,149.0,164.0,173.0,90.0,181.0,156.0,156.0,153.0,118.0,112.0,133.0,160.0,149.0,201.0,138.0,138.0,129.0,136.0,165.0,131.0,118.0,130.0,187.0,158.0,153.0,133.0,142.0,160.0,164.0,140.0,94.0,129.0,156.0,156.0,136.0,187.0,128.0,173.0,112.0,140.0,130.0,138.0,153.0,122.0,142.0,171.0,147.0,165.0,145.0,145.0,142.0,160.0,111.0,147.0,164.0,111.0,145.0,156.0,173.0,133.0,173.0,118.0,153.0,176.0,90.0,165.0,148.0,114.0,136.0,163.0,144.0,116.0,117.0,117.0,142.0,160.0,147.0,171.0,112.0,129.0,193.0,162.0,147.0,153.0,142.0,201.0,127.0,130.0,176.0,122.0,164.0,114.0,118.0,176.0,181.0,112.0,176.0,164.0,153.0,136.0,142.0,172.0,163.0,169.0,117.0,163.0,129.0,131.0,130.0,134.0,196.0,156.0,176.0,176.0,142.0,160.0,146.0,176.0,176.0,133.0,118.0,101.0,153.0,128.0,156.0,142.0,147.0,153.0,136.0,163.0,133.0,138.0,165.0,90.0,181.0,136.0,169.0,187.0,168.0,163.0,177.0,90.0,195.0,94.0,136.0,176.0,122.0,190.0,114.0,101.0,90.0,160.0,176.0,173.0,156.0,153.0,128.0,155.0,111.0,156.0,187.0,181.0,187.0,128.0,195.0,146.0,176.0,118.0,162.0,156.0,131.0,201.0,165.0,117.0,187.0,173.0,201.0,101.0,122.0,142.0,171.0,129.0,187.0,133.0,128.0,178.0,187.0,164.0,118.0,133.0,156.0,138.0,133.0,145.0,193.0,173.0,142.0,163.0,187.0,184.0,190.0,181.0,173.0,112.0,163.0,173.0,131.0,130.0,153.0,134.0,130.0,122.0,177.0,352.0,142.0,181.0,155.0,153.0,140.0,187.0,94.0,184.0,146.0,129.0,156.0,130.0,148.0,90.0,128.0,181.0,116.0,201.0,128.0,129.0,130.0,145.0,161.0,147.0,136.0,144.0,90.0,156.0,160.0,146.0,164.0,112.0,133.0,133.0,136.0,153.0,160.0,161.0,158.0,129.0,145.0,133.0,122.0,168.0,129.0,148.0,133.0,116.0,173.0,116.0,142.0,145.0,178.0,112.0,138.0,111.0,184.0,133.0,127.0,90.0,164.0,146.0,142.0,133.0,160.0,158.0,164.0,161.0,148.0,164.0,147.0,153.0,164.0,145.0,153.0,184.0,136.0,153.0,164.0,158.0,156.0,112.0,153.0,136.0,131.0,166.0,181.0,112.0,146.0,146.0,165.0,164.0,181.0,178.0,181.0,184.0,142.0,163.0,117.0,171.0,352.0,101.0,153.0,190.0,134.0,133.0,161.0,164.0,133.0,156.0,153.0,132.0,162.0,178.0,166.0,181.0,142.0,127.0,195.0,146.0,133.0,127.0,133.0,114.0,134.0,177.0,181.0,178.0,128.0,153.0,160.0,166.0,133.0,118.0,136.0,193.0,146.0,153.0,153.0,128.0,160.0,177.0,136.0,196.0,160.0,142.0,136.0,176.0,128.0,149.0,173.0,173.0,154.0,168.0,172.0,172.0,156.0,112.0,149.0,94.0,156.0,140.0,169.0,195.0,136.0,195.0,171.0,163.0,144.0,130.0,114.0,128.0,111.0,111.0,176.0,178.0,168.0,176.0,178.0,118.0,161.0,156.0,128.0,154.0,178.0,201.0,163.0,196.0,128.0,130.0,130.0,156.0,177.0,164.0,160.0,140.0,163.0,160.0,169.0,116.0,158.0,160.0,134.0,163.0,145.0,164.0,178.0,156.0,352.0,196.0,166.0,187.0,132.0,165.0,116.0,193.0,142.0,161.0,117.0,171.0,165.0,176.0,148.0,118.0,134.0,142.0,130.0,156.0,177.0,158.0,153.0,133.0,138.0,142.0,129.0,158.0,161.0,112.0,117.0,129.0,148.0,129.0,181.0,134.0,122.0,160.0,193.0,154.0,193.0,142.0,178.0,153.0,142.0,176.0,177.0,177.0,163.0,153.0,114.0,164.0,147.0,138.0,129.0,176.0,187.0,153.0,176.0,90.0,149.0,178.0,136.0,153.0,160.0,162.0,196.0,153.0,158.0,142.0,90.0,134.0,127.0,133.0,114.0,176.0,130.0,145.0,94.0,156.0,153.0,148.0,154.0,94.0,130.0,158.0,166.0,148.0,131.0,146.0,173.0,130.0,129.0,164.0,148.0,112.0,169.0,163.0,178.0,190.0,158.0,163.0,118.0,173.0,148.0,165.0,148.0,134.0,164.0,173.0,156.0,144.0,193.0,127.0,156.0,178.0,129.0,195.0,129.0,156.0,156.0,133.0,136.0,133.0,181.0,134.0,173.0,131.0,111.0,129.0,187.0,165.0,176.0,145.0,94.0,160.0,131.0,173.0,173.0,130.0,130.0,176.0,145.0,148.0,181.0,145.0,129.0,156.0,173.0,147.0,142.0,163.0,136.0,133.0,173.0,156.0,133.0,94.0,136.0,127.0,177.0,187.0,130.0,160.0,148.0,133.0,201.0,101.0,153.0,142.0,140.0,154.0,116.0,112.0,164.0,133.0,161.0,176.0,172.0,187.0,177.0,163.0,142.0,156.0,117.0,158.0,176.0,132.0,168.0,156.0,154.0,117.0,118.0,153.0,112.0,163.0,177.0,148.0,168.0,168.0,163.0,128.0,130.0,146.0,177.0,112.0,158.0,193.0,187.0,181.0,148.0,160.0,196.0,160.0,129.0,193.0,155.0,114.0,156.0,153.0,201.0,169.0,177.0,136.0,181.0,156.0,177.0,140.0,160.0,128.0,173.0,178.0,181.0,128.0,201.0,164.0,153.0,130.0,111.0,153.0,127.0,142.0,168.0,148.0,148.0,160.0,176.0,158.0,130.0,163.0,130.0,112.0,146.0,153.0,184.0,195.0,133.0,153.0,136.0,156.0,136.0,94.0,156.0,112.0,181.0,168.0,149.0,129.0,184.0,187.0,177.0,173.0,117.0,142.0,118.0,160.0,148.0,177.0,142.0,153.0,165.0,148.0,156.0,142.0,129.0,142.0,172.0,140.0,142.0,136.0,163.0,176.0,164.0,160.0,160.0,130.0,177.0,130.0,149.0,160.0,184.0,140.0,184.0,94.0,144.0,164.0,177.0,193.0,176.0,156.0,171.0,156.0,352.0,352.0,142.0,129.0,114.0,130.0,160.0,153.0,134.0,127.0,128.0,196.0,111.0,164.0,131.0,130.0,138.0,153.0,163.0,140.0,171.0,133.0,94.0,118.0,153.0,166.0,165.0,118.0,153.0,177.0,160.0,133.0,94.0,142.0,128.0,196.0,112.0,177.0,156.0,195.0,172.0,112.0,168.0,187.0,176.0,177.0,118.0,163.0,156.0,161.0,114.0,178.0,140.0,132.0,160.0,193.0,176.0,129.0,177.0,164.0,156.0,101.0,181.0,176.0,140.0,94.0,160.0,114.0,181.0,142.0,164.0,196.0,154.0,177.0,160.0,164.0,134.0,163.0,136.0,156.0,147.0,195.0,173.0,130.0,177.0,146.0,187.0,138.0,118.0,127.0,196.0,176.0,173.0,94.0,153.0,129.0,131.0,178.0,158.0,101.0,184.0,149.0,129.0,169.0,352.0,94.0,122.0,176.0,114.0,155.0,160.0,148.0,122.0,177.0,158.0,169.0,101.0,136.0,156.0,161.0,142.0,145.0,173.0,201.0,116.0,129.0,160.0,176.0,117.0,142.0,193.0,142.0,195.0,153.0,118.0,128.0,181.0,118.0,178.0,136.0,127.0,164.0,130.0,195.0,178.0,352.0,158.0,112.0,158.0,162.0,177.0,130.0,153.0,112.0,176.0,90.0,129.0,168.0,160.0,142.0,196.0,187.0,112.0,138.0,132.0,160.0,145.0,140.0,145.0,148.0,134.0,158.0,195.0,133.0,190.0,161.0,129.0,112.0,156.0,160.0,155.0,156.0,164.0,142.0,116.0,136.0,158.0,160.0,160.0,181.0,161.0,153.0,164.0,142.0,149.0,153.0,156.0,184.0,112.0,147.0,142.0,114.0,166.0,166.0,94.0,133.0,160.0,171.0,132.0,148.0,153.0,142.0,130.0,172.0,160.0,201.0,148.0,142.0,114.0,153.0,116.0,195.0,193.0,153.0,164.0,178.0,134.0,168.0,144.0,128.0,177.0,176.0,153.0,160.0,176.0,164.0,130.0,164.0,146.0,171.0,201.0,117.0,114.0,201.0,161.0,133.0,149.0,190.0,116.0,90.0,112.0,173.0,148.0,116.0,154.0,161.0,177.0,177.0,153.0,177.0,176.0,118.0,133.0,154.0,145.0,178.0,129.0,153.0,177.0,352.0,118.0,118.0,129.0,181.0,181.0,138.0,101.0,117.0,149.0,142.0,146.0,161.0,138.0,118.0,153.0,153.0,129.0,173.0,163.0,146.0,195.0,118.0,145.0,165.0,176.0,164.0,134.0,177.0,164.0,112.0,156.0,101.0,117.0,173.0,165.0,133.0,163.0,142.0,148.0,145.0,155.0,177.0,166.0,94.0,160.0,177.0,178.0,153.0,162.0,94.0,201.0,146.0,176.0,140.0,130.0,154.0,181.0,176.0,164.0,118.0,146.0,130.0,158.0,177.0,162.0,112.0,142.0,181.0,161.0,173.0,166.0,184.0,178.0,160.0,145.0,196.0,142.0,146.0,171.0,161.0,153.0,168.0,171.0,130.0,118.0,158.0,133.0,196.0,201.0,117.0,176.0,148.0,146.0,142.0,156.0,128.0,156.0,133.0,129.0,201.0,156.0,195.0,148.0,111.0,128.0,148.0,136.0,112.0,116.0,172.0,177.0,118.0,146.0,101.0,133.0,131.0,146.0,147.0,117.0,153.0,144.0,94.0,142.0,130.0,133.0,161.0,136.0,130.0,130.0,156.0,116.0,133.0,164.0,127.0,177.0,164.0,134.0,156.0,156.0,148.0,196.0,155.0,140.0,193.0,168.0,146.0,136.0,184.0,168.0,187.0,173.0,190.0,131.0,165.0,142.0,117.0,147.0,153.0,146.0,145.0,178.0,131.0,147.0,130.0,195.0,127.0,101.0,133.0,94.0,173.0,173.0,90.0,147.0,177.0,195.0,101.0,133.0,176.0,160.0,114.0,101.0,136.0,158.0,156.0,177.0,163.0,153.0,153.0,163.0,160.0,129.0,177.0,116.0,165.0,153.0,134.0,187.0,155.0,146.0,172.0,140.0,156.0,160.0,161.0,177.0,163.0,196.0,130.0,145.0,156.0,134.0,129.0,187.0,112.0,117.0,160.0,116.0,158.0,118.0,184.0,176.0,169.0,162.0,160.0,163.0,181.0,160.0,122.0,133.0,160.0,149.0,129.0,101.0,101.0,153.0,134.0,173.0,131.0,111.0,130.0,160.0,178.0,178.0,160.0,130.0,193.0,129.0,127.0,146.0,173.0,148.0,131.0,169.0,190.0,352.0,176.0,352.0,127.0,178.0,352.0,162.0,161.0,162.0,160.0,129.0,154.0,162.0,164.0,112.0,158.0,176.0,112.0,129.0,132.0,131.0,169.0,142.0,190.0,162.0,136.0,117.0,153.0,160.0,101.0,153.0,144.0,145.0,154.0,146.0,130.0,131.0,153.0,130.0,118.0,118.0,114.0,173.0,176.0,112.0,156.0,111.0,162.0,193.0,114.0,118.0,177.0,145.0,128.0,196.0,140.0,142.0,156.0,153.0,118.0,158.0,133.0,112.0,138.0,153.0,153.0,112.0,163.0,177.0,153.0,156.0,153.0,352.0,142.0,193.0,142.0,131.0,134.0,145.0,187.0,156.0,148.0,117.0,127.0,169.0,161.0,161.0,147.0,187.0,94.0,160.0,127.0,181.0,134.0,156.0,173.0,169.0,112.0,163.0,128.0,132.0,154.0,112.0,129.0,153.0,178.0,352.0,131.0,131.0,142.0,181.0,118.0,122.0,156.0,160.0,161.0,111.0,149.0,166.0,153.0,142.0,184.0,160.0,165.0,153.0,181.0,176.0,117.0,156.0,112.0,129.0,177.0,193.0,153.0,181.0,177.0,133.0,164.0,184.0,161.0,164.0,187.0,133.0,112.0,201.0,118.0,114.0,352.0,176.0,129.0,142.0,187.0,153.0,145.0,148.0,352.0,129.0,160.0,153.0,176.0,156.0,112.0,145.0,154.0,122.0,177.0,160.0,153.0,142.0,173.0,193.0,181.0,118.0,142.0,181.0,187.0,164.0,164.0,122.0,163.0,158.0,190.0,117.0,160.0,136.0,133.0,195.0,156.0,163.0,177.0,173.0,153.0,122.0,153.0,112.0,156.0,352.0,160.0,128.0,187.0,111.0,201.0,160.0,153.0,173.0,145.0,169.0,160.0,163.0,145.0,165.0,176.0,173.0,161.0,164.0,145.0,156.0,145.0,116.0,173.0,160.0,160.0,131.0,94.0,176.0,195.0,117.0,169.0,148.0,149.0,131.0,158.0,112.0,136.0,134.0,117.0,352.0,177.0,181.0,128.0,148.0,136.0,156.0,148.0,130.0,161.0,178.0,156.0,154.0,156.0,156.0,118.0,172.0,168.0,160.0,153.0,173.0,134.0,153.0,118.0,153.0,176.0,160.0,162.0,161.0,176.0,165.0,165.0,130.0,196.0,130.0,147.0,190.0,173.0,140.0,133.0,129.0,101.0,156.0,118.0,156.0,138.0,117.0,140.0,138.0,156.0,136.0,158.0,134.0,112.0,172.0,168.0,127.0,90.0,161.0,134.0,130.0,172.0,130.0,153.0,153.0,101.0,131.0,122.0,156.0,134.0,160.0,138.0,181.0,118.0,176.0,129.0,111.0,138.0,187.0,161.0,160.0,130.0,122.0,122.0,153.0,127.0,142.0,149.0,176.0,153.0,142.0,190.0,154.0,112.0,111.0,161.0,129.0,163.0,156.0,149.0,112.0,136.0,171.0,160.0,187.0,171.0,133.0,187.0,133.0,118.0,130.0,138.0,176.0,160.0,156.0,112.0,156.0,94.0,168.0,112.0,166.0,114.0,187.0,171.0,171.0,160.0,112.0,181.0,136.0,165.0,136.0,127.0,148.0,177.0,187.0,130.0,158.0,134.0,173.0,134.0,129.0,177.0,166.0,114.0,145.0,176.0,165.0,187.0,140.0,153.0,136.0,153.0,133.0,181.0,169.0,156.0,163.0,160.0,178.0,118.0,114.0,136.0,201.0,169.0,166.0,178.0,160.0,118.0,181.0,156.0,133.0,131.0,156.0,116.0,94.0,163.0,133.0,133.0,163.0,111.0,147.0,178.0,158.0,163.0,173.0,134.0,195.0,176.0,156.0,176.0,140.0,130.0,129.0,160.0,118.0,131.0,149.0,153.0,145.0,101.0,94.0,181.0,111.0,153.0,178.0,128.0,172.0,158.0,176.0,129.0,116.0,187.0,156.0,168.0,181.0,164.0,145.0,193.0,161.0,164.0,163.0,201.0,158.0,187.0,131.0,162.0,146.0,164.0,181.0,173.0,164.0,153.0,134.0,116.0,136.0,178.0,176.0,173.0,184.0,158.0,187.0,90.0,177.0,163.0,130.0,116.0,142.0,131.0,136.0,163.0,161.0,148.0,190.0,140.0,129.0,146.0,127.0,177.0,118.0,156.0,134.0,128.0,164.0,163.0,165.0,146.0,94.0,147.0,122.0,138.0,164.0,94.0,148.0,133.0,158.0,181.0,169.0,148.0,162.0,142.0,158.0,122.0,171.0,129.0,138.0,112.0,161.0,94.0,90.0,146.0,201.0,178.0,128.0,148.0,156.0,148.0,142.0,136.0,164.0,112.0,164.0,177.0,127.0,127.0,130.0,160.0,178.0,142.0,181.0,352.0,162.0,132.0,130.0,156.0,164.0,201.0,201.0,161.0,142.0,145.0,153.0,160.0,160.0,153.0,163.0,90.0,178.0,352.0,164.0,128.0,128.0,101.0,187.0,161.0,176.0,153.0,177.0,128.0,166.0,163.0,156.0,171.0,118.0,164.0,173.0,160.0,149.0,164.0,153.0,142.0,127.0,136.0,169.0,161.0,156.0,164.0,164.0,144.0,118.0,173.0,166.0,154.0,172.0,187.0,142.0,153.0,165.0,116.0,156.0,148.0,181.0,142.0,117.0,164.0,132.0,145.0,146.0,156.0,161.0,166.0,195.0,184.0,134.0,162.0,114.0,163.0,166.0,134.0,136.0,187.0,181.0,146.0,172.0,160.0,153.0,177.0,145.0,184.0,131.0,156.0,160.0,352.0,153.0,114.0,133.0,133.0,176.0,146.0,177.0,149.0,130.0,160.0,142.0,162.0,147.0,129.0,352.0,130.0,129.0,136.0,129.0,140.0,145.0,142.0,193.0,133.0,163.0,173.0,158.0,176.0,176.0,148.0,171.0,128.0,184.0,131.0,153.0,184.0,142.0,187.0,176.0,153.0,117.0,160.0,153.0,164.0,162.0,153.0,133.0,153.0,195.0,352.0,112.0,142.0,164.0,153.0,153.0,163.0,111.0,166.0,177.0,117.0,178.0,158.0,117.0,181.0,131.0,145.0,138.0,178.0,114.0,131.0,165.0,164.0,164.0,153.0,158.0,165.0,130.0,177.0,134.0,166.0,160.0,177.0,145.0,176.0,112.0,118.0,129.0,196.0,90.0,153.0,112.0,176.0,178.0,142.0,160.0,177.0,164.0,153.0,166.0,130.0,160.0,158.0,153.0,168.0,138.0,158.0,148.0,148.0,133.0,169.0,133.0,136.0,154.0,148.0,187.0,195.0,160.0,178.0,164.0,145.0,164.0,127.0,196.0,129.0,90.0,155.0,132.0,187.0,176.0,116.0,190.0,164.0,158.0,149.0,114.0,184.0,196.0,133.0,178.0,161.0,127.0,160.0,195.0,164.0,176.0,163.0,142.0,177.0,142.0,352.0,116.0,177.0,146.0,118.0,112.0,177.0,130.0,153.0,161.0,156.0,146.0,114.0,129.0,165.0,153.0,128.0,178.0,130.0,165.0,160.0,129.0,164.0,162.0,176.0,178.0,134.0,142.0,132.0,90.0,131.0,196.0,184.0,171.0,144.0,153.0,128.0,177.0,177.0,161.0,158.0,153.0,163.0,187.0,169.0,195.0,165.0,193.0,145.0,160.0,165.0,148.0,177.0,142.0,187.0,133.0,156.0,146.0,154.0,195.0,153.0,160.0,156.0,160.0,145.0,142.0,116.0,118.0,112.0,178.0,122.0,136.0,158.0,131.0,128.0,201.0,163.0,153.0,178.0,127.0,163.0,134.0,169.0,114.0,153.0,164.0,128.0,128.0,181.0,177.0,187.0,173.0,136.0,142.0,153.0,168.0,128.0,94.0,129.0,169.0,178.0,133.0,129.0,130.0,181.0,201.0,142.0,153.0,133.0,187.0,154.0,161.0,117.0,169.0,163.0,158.0,133.0,129.0,162.0,352.0,172.0,181.0,112.0,133.0,169.0,142.0,134.0,153.0,201.0,176.0,161.0,149.0,129.0,133.0,153.0,160.0,176.0,112.0,164.0,156.0,148.0,193.0,142.0,352.0,133.0,156.0,177.0,158.0,153.0,156.0,146.0,114.0,130.0,158.0,187.0,128.0,176.0,149.0,181.0,112.0,144.0,156.0,201.0,146.0,181.0,162.0,156.0,190.0,169.0,133.0,196.0,131.0,101.0,138.0,130.0,160.0,129.0,131.0,158.0,153.0,133.0,148.0,163.0,176.0,138.0,148.0,173.0,163.0,140.0,118.0,164.0,117.0,129.0,146.0,149.0,184.0,169.0,156.0,184.0,169.0,128.0,142.0,136.0,161.0,122.0,116.0,130.0,178.0,163.0,153.0,116.0,146.0,176.0,146.0,171.0,153.0,156.0,181.0,177.0,177.0,127.0,187.0,129.0,146.0,178.0,140.0,178.0,138.0,133.0,101.0,134.0,114.0,190.0,153.0,165.0,149.0,133.0,118.0,184.0,168.0,165.0,127.0,164.0,131.0,130.0,153.0,142.0,158.0,162.0,164.0,164.0,196.0,133.0,144.0,176.0,112.0,187.0,176.0,129.0,128.0,148.0,164.0,176.0,154.0,131.0,148.0,156.0,193.0,164.0,190.0,166.0,134.0,147.0,196.0,149.0,132.0,187.0,166.0,140.0,153.0,133.0,133.0,130.0,128.0,160.0,171.0,154.0,142.0,129.0,161.0,130.0,196.0,177.0,117.0,142.0,153.0,142.0,117.0,132.0,165.0,162.0,133.0,168.0,136.0,158.0,165.0,196.0,142.0,153.0,118.0,130.0,161.0,142.0,128.0,145.0,128.0,130.0,181.0,153.0,94.0,154.0,129.0,166.0,156.0,114.0,160.0,148.0,117.0,133.0,132.0,156.0,132.0,129.0,133.0,122.0,112.0,352.0,178.0,193.0,164.0,156.0,128.0,138.0,146.0,156.0,153.0,90.0,177.0,177.0,156.0,112.0,94.0,147.0,129.0,187.0,144.0,176.0,111.0,160.0,177.0,178.0,177.0,178.0,142.0,153.0,187.0,158.0,129.0,131.0,138.0,142.0,155.0,129.0,176.0,147.0,134.0,160.0,140.0,195.0,190.0,181.0,155.0,164.0,164.0,142.0,164.0,130.0,162.0,118.0,169.0,187.0,160.0,142.0,176.0,129.0,118.0,117.0,149.0,130.0,158.0,177.0,187.0,177.0,153.0,114.0,148.0,111.0,148.0,132.0,138.0,187.0,138.0,193.0,127.0,128.0,160.0,116.0,117.0,158.0,112.0,134.0,146.0,176.0,201.0,196.0,134.0,127.0,158.0,133.0,130.0,140.0,181.0,130.0,155.0,138.0,181.0,161.0,148.0,129.0,160.0,128.0,177.0,156.0,168.0,187.0,129.0,134.0,131.0,131.0,352.0,133.0,201.0,94.0,173.0,142.0,154.0,195.0,117.0,177.0,176.0,190.0,156.0,162.0,122.0,154.0,118.0,147.0,177.0,156.0,114.0,112.0,177.0,163.0,193.0,136.0,146.0,134.0,181.0,147.0,187.0,160.0,117.0,196.0,155.0,181.0,118.0,129.0,142.0,177.0,177.0,133.0,129.0,187.0,177.0,164.0,153.0,133.0,158.0,142.0,161.0,190.0,134.0,155.0,146.0,134.0,181.0,187.0,156.0,101.0,145.0,156.0,178.0,176.0,177.0,163.0,164.0,128.0,168.0,114.0,136.0,114.0,156.0,138.0,128.0,163.0,114.0,160.0,131.0,129.0,129.0,163.0,117.0,116.0,176.0,181.0,162.0,165.0,153.0,166.0,155.0,133.0,165.0,94.0,154.0,144.0,132.0,148.0,160.0,129.0,147.0,153.0,177.0,163.0,90.0,155.0,131.0,173.0,118.0,112.0,160.0,160.0,130.0,173.0,146.0,161.0,153.0,133.0,128.0,94.0,145.0,176.0,145.0,118.0,173.0,131.0,140.0,122.0,134.0,153.0,161.0,138.0,154.0,172.0,118.0,140.0,94.0,142.0,155.0,128.0,131.0,134.0,146.0,156.0,153.0,181.0,129.0,161.0,195.0,158.0,158.0,148.0,176.0,134.0,136.0,118.0,352.0,153.0,153.0,187.0,116.0,163.0,145.0,136.0,177.0,129.0,118.0,127.0,153.0,153.0,117.0,177.0,156.0,156.0,142.0,181.0,160.0,130.0,129.0,101.0,173.0,169.0,142.0,134.0,118.0,156.0,178.0,128.0,164.0,149.0,160.0,160.0,131.0,153.0,177.0,133.0,177.0,138.0,156.0,201.0,134.0,94.0,142.0,153.0,116.0,142.0,153.0,162.0,94.0,147.0,117.0,122.0,161.0,148.0,117.0,142.0,161.0,134.0,160.0,144.0,129.0,156.0,352.0,161.0,133.0,142.0,140.0,134.0,114.0,112.0,122.0,145.0,90.0,187.0,163.0,160.0,129.0,133.0,154.0,164.0,181.0,153.0,133.0,133.0,165.0,130.0,133.0,161.0,132.0,131.0,112.0,148.0,177.0,153.0,146.0,148.0,156.0,129.0,90.0,166.0,129.0,117.0,195.0,132.0,168.0,168.0,134.0,118.0,117.0,131.0,193.0,131.0,173.0,148.0,117.0,160.0,128.0,153.0,177.0,176.0,129.0,154.0,142.0,160.0,153.0,128.0,122.0,117.0,176.0,117.0,154.0,127.0,169.0,156.0,173.0,144.0,176.0,168.0,90.0,101.0,149.0,145.0,140.0,153.0,118.0,169.0,129.0,153.0,147.0,177.0,130.0,171.0,116.0,177.0,101.0,138.0,158.0,178.0,130.0,166.0,181.0,131.0,147.0,136.0,160.0,153.0,158.0,163.0,129.0,142.0,132.0,133.0,165.0,158.0,131.0,133.0,160.0,176.0,160.0,118.0,134.0,155.0,114.0,140.0,131.0,181.0,133.0,142.0,131.0,133.0,153.0,196.0,166.0,155.0,352.0,112.0,173.0,116.0,164.0,118.0,163.0,142.0,130.0,187.0,161.0,177.0,128.0,131.0,149.0,116.0,142.0,163.0,352.0,101.0,142.0,156.0,145.0,131.0,142.0,195.0,164.0,142.0,136.0,161.0,178.0,178.0,196.0,111.0,176.0,130.0,176.0,156.0,118.0,153.0,156.0,112.0,163.0,165.0,171.0,130.0,101.0,133.0,163.0,118.0,133.0,153.0,156.0,128.0,142.0,118.0,114.0,155.0,130.0,130.0,142.0,195.0,142.0,147.0,133.0,136.0,201.0,156.0,129.0,172.0,178.0,153.0,114.0,161.0,156.0,181.0,148.0,181.0,127.0,155.0,178.0,112.0,193.0,153.0,130.0,160.0,160.0,148.0,117.0,142.0,201.0,201.0,132.0,164.0,129.0,130.0,129.0,118.0,101.0,181.0,153.0,160.0,177.0,195.0,178.0,133.0,117.0,156.0,196.0,187.0,178.0,172.0,132.0,196.0,178.0,153.0,142.0,142.0,128.0,176.0,114.0,131.0,145.0,153.0,156.0,114.0,117.0,187.0,181.0,153.0,156.0,196.0,132.0,94.0,181.0,130.0,130.0,160.0,195.0,158.0,146.0,117.0,153.0,164.0,196.0,173.0,190.0,163.0,149.0,173.0,177.0,178.0,138.0,145.0,111.0,171.0,201.0,138.0,160.0,187.0,101.0,164.0,153.0,176.0,177.0,131.0,142.0,146.0,164.0,163.0,187.0,140.0,160.0,117.0,147.0,164.0,176.0,130.0,131.0,133.0,166.0,130.0,190.0,145.0,161.0,94.0,161.0,156.0,169.0,176.0,164.0,127.0,142.0,142.0,144.0,116.0,128.0,164.0,178.0,160.0,187.0,164.0,153.0,153.0,181.0,178.0,136.0,101.0,145.0,195.0,193.0,163.0,148.0,145.0,90.0,130.0,156.0,112.0,146.0,164.0,177.0,153.0,165.0,133.0,134.0,165.0,164.0,90.0,171.0,187.0,138.0,160.0,118.0,165.0,160.0,178.0,171.0,148.0,165.0,181.0,146.0,149.0,162.0,142.0,146.0,160.0,177.0,142.0,153.0,158.0,129.0,146.0,177.0,122.0,133.0,162.0,112.0,155.0,184.0,131.0,130.0,145.0,156.0,154.0,173.0,176.0,164.0,145.0,181.0,156.0,130.0,153.0,166.0,171.0,160.0,162.0,177.0,169.0,142.0,131.0,160.0,178.0,144.0,158.0,195.0,178.0,160.0,148.0,136.0,153.0,144.0,156.0,147.0,164.0,129.0,144.0,128.0,118.0,176.0,148.0,195.0,129.0,181.0,158.0,145.0,117.0,153.0,163.0,173.0,164.0,177.0,140.0,177.0,146.0,160.0,133.0,114.0,142.0,164.0,130.0,127.0,187.0,133.0,172.0,94.0,116.0,129.0,163.0,164.0,132.0,195.0,156.0,142.0,142.0,128.0,160.0,181.0,118.0,166.0,178.0,173.0,146.0,195.0,158.0,160.0,164.0,153.0,165.0,160.0,187.0,117.0,153.0,116.0,163.0,156.0,128.0,163.0,153.0,162.0,352.0,160.0,112.0,164.0,142.0,118.0,154.0,164.0,133.0,201.0,112.0,118.0,129.0,160.0,112.0,178.0,142.0,148.0,156.0,178.0,142.0,154.0,176.0,112.0,154.0,184.0,177.0,134.0,142.0,153.0,130.0,90.0,144.0,176.0,187.0,142.0,177.0,146.0,171.0,161.0,181.0,132.0,168.0,184.0,136.0,134.0,184.0,195.0,193.0,149.0,131.0,130.0,184.0,129.0,156.0,101.0,136.0,118.0,134.0,128.0,196.0,193.0,181.0,134.0,155.0,156.0,164.0,142.0,133.0,133.0,118.0,130.0,136.0,153.0,169.0,173.0,177.0,187.0,131.0,187.0,154.0,149.0,156.0,122.0,173.0,190.0,127.0,158.0,130.0,127.0,132.0,138.0,153.0,130.0,112.0,184.0,160.0,140.0,153.0,196.0,176.0,142.0,195.0,153.0,118.0,161.0,158.0,163.0,164.0,118.0,162.0,164.0,178.0,154.0,140.0,177.0,144.0,118.0,145.0,136.0,177.0,178.0,178.0,160.0,140.0,166.0,148.0,146.0,138.0,129.0,156.0,163.0,160.0,176.0,173.0,163.0,158.0,184.0,131.0,140.0,127.0,160.0,161.0,118.0,153.0,129.0,145.0,160.0,187.0,164.0,149.0,156.0,160.0,161.0,148.0,172.0,177.0,136.0,153.0,193.0,156.0,163.0,178.0,111.0,160.0,131.0,130.0,177.0,142.0,153.0,155.0,142.0,160.0,142.0,177.0,112.0,164.0,164.0,172.0,352.0,116.0,154.0,153.0,184.0,130.0,142.0,176.0,148.0,176.0,128.0,133.0,149.0,176.0,122.0,181.0,130.0,176.0,153.0,187.0,132.0,153.0,128.0,130.0,153.0,181.0,147.0,181.0,163.0,154.0,187.0,118.0,146.0,187.0,148.0,163.0,161.0,133.0,154.0,177.0,196.0,163.0,116.0,156.0,176.0,201.0,172.0,173.0,122.0,117.0,164.0,156.0,169.0,153.0,118.0,153.0,94.0,144.0,201.0,178.0,129.0,132.0,117.0,118.0,181.0,94.0,176.0,193.0,142.0,172.0,130.0,178.0,130.0,165.0,142.0,114.0,190.0,172.0,163.0,153.0,176.0,176.0,156.0,171.0,178.0,163.0,116.0,136.0,201.0,173.0,156.0,181.0,153.0,161.0,129.0,187.0,184.0,153.0,130.0,181.0,154.0,160.0,153.0,136.0,164.0,155.0,160.0,131.0,177.0,131.0,153.0,136.0,184.0,169.0,156.0,112.0,177.0,140.0,171.0,131.0,178.0,154.0,114.0,140.0,148.0,140.0,130.0,112.0,146.0,114.0,118.0,138.0,134.0,147.0,133.0,118.0,181.0,118.0,352.0,163.0,160.0,118.0,169.0,193.0,147.0,168.0,116.0,133.0,128.0,140.0,163.0,112.0,193.0,122.0,142.0,129.0,142.0,173.0,164.0,136.0,112.0,140.0,177.0,101.0,116.0,160.0,164.0,131.0,142.0,153.0,155.0,161.0,131.0,153.0,131.0,176.0,190.0,128.0,131.0,176.0,162.0,122.0,162.0,156.0,352.0,156.0,176.0,111.0,153.0,156.0,176.0,148.0,128.0,193.0,173.0,145.0,177.0,193.0,128.0,196.0,130.0,146.0,145.0,160.0,160.0,142.0,145.0,118.0,142.0,176.0,142.0,94.0,153.0,138.0,134.0,196.0,164.0,153.0,187.0,163.0,164.0,146.0,128.0,187.0,128.0,163.0,177.0,142.0,164.0,153.0,158.0,163.0,114.0,153.0,193.0,112.0,176.0,161.0,130.0,146.0,118.0,133.0,163.0,136.0,112.0,160.0,160.0,160.0,153.0,163.0,195.0,176.0,172.0,156.0,133.0,146.0,160.0,133.0,149.0,165.0,201.0,116.0,165.0,160.0,155.0,166.0,187.0,148.0,130.0,116.0,142.0,133.0,164.0,156.0,134.0,184.0,201.0,190.0,142.0,184.0,136.0,196.0,161.0,136.0,142.0,94.0,171.0,153.0,130.0,196.0,130.0,147.0,156.0,163.0,136.0,118.0,133.0,166.0,163.0,160.0,178.0,195.0,166.0,130.0,142.0,142.0,187.0,148.0,181.0,130.0,129.0,142.0,112.0,131.0,146.0,140.0,129.0,169.0,112.0,136.0,148.0,128.0,176.0,118.0,164.0,171.0,172.0,149.0,164.0,112.0,136.0,178.0,160.0,172.0,130.0,129.0,161.0,160.0,153.0,164.0,94.0,178.0,195.0,178.0,195.0,133.0,156.0,153.0,133.0,136.0,138.0,177.0,133.0,146.0,148.0,90.0,134.0,164.0,136.0,127.0,112.0,160.0,160.0,161.0,116.0,145.0,161.0,177.0,176.0,153.0,161.0,165.0,146.0,142.0,173.0,196.0,134.0,176.0,171.0,149.0,133.0,131.0,153.0,134.0,136.0,177.0,160.0,352.0,187.0,160.0,153.0,145.0,127.0,118.0,142.0,162.0,144.0,177.0,117.0,90.0,145.0,173.0,178.0,163.0,133.0,176.0,156.0,131.0,138.0,134.0,144.0,162.0,122.0,160.0,176.0,111.0,136.0,147.0,154.0,117.0,176.0,136.0,153.0,176.0,173.0,161.0,116.0,117.0,133.0,153.0,134.0,160.0,172.0,134.0,130.0,142.0,114.0,166.0,146.0,129.0,146.0,164.0,196.0,160.0,173.0,178.0,160.0,133.0,173.0,133.0,148.0,153.0,158.0,131.0,147.0,154.0,184.0,177.0,136.0,154.0,190.0,171.0,171.0,129.0,117.0,111.0,153.0,181.0,160.0,158.0,162.0,127.0,169.0,111.0,156.0,136.0,112.0,149.0,164.0,187.0,145.0,164.0,352.0,133.0,181.0,163.0,163.0,136.0,164.0,165.0,128.0,142.0,130.0,196.0,171.0,173.0,129.0,156.0,169.0,133.0,169.0,161.0,153.0,112.0,168.0,147.0,136.0,163.0,114.0,129.0,187.0,153.0,158.0,118.0,129.0,181.0,134.0,132.0,165.0,165.0,173.0,114.0,145.0,101.0,138.0,136.0,112.0,147.0,153.0,117.0,131.0,168.0,161.0,144.0,163.0,136.0,132.0,196.0,132.0,352.0,177.0,164.0,111.0,153.0,129.0,165.0,184.0,160.0,116.0,101.0,164.0,162.0,168.0,147.0,166.0,122.0,196.0,136.0,160.0,122.0,116.0,169.0,156.0,142.0,148.0,118.0,155.0,163.0,195.0,173.0,112.0,164.0,178.0,142.0,178.0,134.0,153.0,156.0,160.0,131.0,142.0,178.0,140.0,112.0,178.0,116.0,184.0,177.0,176.0,136.0,142.0,138.0,146.0,155.0,130.0,153.0,134.0,164.0,201.0,101.0,133.0,131.0,173.0,131.0,148.0,181.0,111.0,190.0,196.0,161.0,145.0,140.0,131.0,129.0,155.0,112.0,117.0,164.0,111.0,154.0,161.0,158.0,153.0,133.0,153.0,160.0,196.0,201.0,145.0,166.0,116.0,164.0,134.0,176.0,146.0,158.0,181.0,176.0,187.0,160.0,163.0,129.0,160.0,130.0,160.0,129.0,196.0,133.0,101.0,128.0,112.0,133.0,129.0,177.0,136.0,112.0,112.0,145.0,173.0,138.0,134.0,145.0,161.0,176.0,136.0,90.0,168.0,122.0,153.0,153.0,160.0,181.0,130.0,145.0,144.0,129.0,178.0,163.0,162.0,94.0,156.0,144.0,148.0,173.0,153.0,111.0,153.0,133.0,156.0,117.0,133.0,181.0,156.0,176.0,129.0,146.0,145.0,112.0,144.0,154.0,90.0,111.0,173.0,173.0,171.0,160.0,112.0,138.0,166.0,161.0,146.0,149.0,352.0,111.0,181.0,164.0,132.0,122.0,133.0,94.0,153.0,196.0,156.0,177.0,160.0,178.0,160.0,164.0,168.0,130.0,127.0,142.0,136.0,148.0,131.0,134.0,134.0,166.0,163.0,117.0,112.0,146.0,160.0,133.0,190.0,116.0,160.0,181.0,153.0,131.0,160.0,153.0,161.0,138.0,178.0,130.0,184.0,178.0,160.0,145.0,164.0,130.0,114.0,153.0,130.0,173.0,129.0,190.0,138.0,134.0,128.0,187.0,134.0,164.0,177.0,352.0,195.0,136.0,161.0,195.0,156.0,136.0,154.0,94.0,142.0,129.0,164.0,114.0,195.0,177.0,131.0,153.0,122.0,156.0,168.0,132.0,196.0,164.0,142.0,161.0,162.0,118.0,112.0,128.0,127.0,156.0,352.0,172.0,142.0,165.0,171.0,168.0,130.0,131.0,155.0,153.0,162.0,142.0,128.0,163.0,148.0,181.0,171.0,160.0,130.0,156.0,177.0,158.0,177.0,163.0,94.0,136.0,142.0,118.0,130.0,128.0,142.0,118.0,158.0,146.0,145.0,122.0,130.0,112.0,178.0,169.0,163.0,133.0,134.0,178.0,155.0,169.0,130.0,129.0,129.0,147.0,171.0,153.0,122.0,129.0,193.0,184.0,158.0,160.0,132.0,187.0,156.0,114.0,114.0,140.0,154.0,164.0,142.0,177.0,94.0,168.0,117.0,146.0,160.0,117.0,160.0,144.0,172.0,153.0,173.0,133.0,187.0,201.0,154.0,142.0,201.0,193.0,176.0,90.0,154.0,155.0,145.0,112.0,131.0,352.0,178.0,181.0,111.0,145.0,173.0,177.0,111.0,176.0,164.0,128.0,128.0,145.0,148.0,133.0,144.0,163.0,118.0,160.0,142.0,128.0,147.0,122.0,129.0,155.0,142.0,129.0,178.0,149.0,138.0,140.0,149.0,117.0,94.0,193.0,163.0,116.0,196.0,164.0,158.0,146.0,116.0,118.0,116.0,132.0,142.0,181.0,131.0,148.0,154.0,160.0,164.0,177.0,90.0,181.0,142.0,176.0,195.0,131.0,176.0,112.0,142.0,196.0,163.0,129.0,118.0,181.0,173.0,161.0,147.0,155.0,128.0,142.0,118.0,177.0,146.0,131.0,145.0,118.0,133.0,142.0,173.0,134.0,156.0,130.0,129.0,172.0,128.0,128.0,161.0,190.0,177.0,128.0,158.0,148.0,132.0,118.0,134.0,160.0,149.0,128.0,176.0,161.0,172.0,148.0,133.0,131.0,148.0,140.0,164.0,131.0,145.0,101.0,90.0,142.0,164.0,164.0,133.0,138.0,173.0,153.0,181.0,118.0,163.0,164.0,131.0,172.0,156.0,161.0,158.0,160.0,122.0,156.0,132.0,112.0,176.0,176.0,181.0,176.0,164.0,187.0,127.0,114.0,161.0,148.0,160.0,181.0,165.0,160.0,173.0,117.0,156.0,187.0,181.0,173.0,118.0,173.0,187.0,187.0,177.0,129.0,164.0,164.0,187.0,163.0,160.0,201.0,169.0,148.0,195.0,163.0,112.0,129.0,187.0,149.0,145.0,176.0,201.0,176.0,156.0,130.0,156.0,156.0,163.0,101.0,177.0,155.0,149.0,128.0,163.0,142.0,190.0,169.0,142.0,129.0,147.0,160.0,156.0,173.0,153.0,156.0,129.0,352.0,160.0,154.0,155.0,162.0,165.0,132.0,138.0,158.0,142.0,156.0,171.0,176.0,196.0,142.0,196.0,130.0,190.0,101.0,130.0,94.0,352.0,116.0,122.0,146.0,118.0,187.0,172.0,128.0,118.0,129.0,156.0,158.0,163.0,145.0,176.0,153.0,187.0,118.0,153.0,130.0,153.0,149.0,196.0,153.0,133.0,161.0,147.0,112.0,181.0,153.0,145.0,171.0,158.0,156.0,153.0,155.0,166.0,178.0,94.0,129.0,156.0,136.0,144.0,196.0,176.0,112.0,153.0,195.0,133.0,156.0,149.0,146.0,147.0,171.0,153.0,133.0,178.0,153.0,177.0,142.0,163.0,144.0,163.0,130.0,171.0,130.0,181.0,147.0,134.0,156.0,149.0,140.0,196.0,164.0,142.0,169.0,142.0,132.0,127.0,176.0,112.0,158.0,114.0,153.0,127.0,160.0,176.0,178.0,127.0,161.0,112.0,149.0,149.0,158.0,145.0,178.0,112.0,112.0,352.0,136.0,129.0,178.0,130.0,144.0,153.0,145.0,148.0,176.0,147.0,187.0,166.0,160.0,146.0,90.0,163.0,148.0,196.0,184.0,129.0,169.0,352.0,134.0,130.0,201.0,161.0,134.0,112.0,118.0,145.0,196.0,122.0,171.0,130.0,171.0,154.0,163.0,156.0,158.0,136.0,140.0,160.0,131.0,156.0,156.0,160.0,133.0,178.0,153.0,190.0,133.0,178.0,148.0,142.0,117.0,169.0,130.0,129.0,164.0,162.0,156.0,177.0,201.0,161.0,136.0,177.0,142.0,130.0,161.0,117.0,142.0,146.0,176.0,118.0,94.0,153.0,169.0,144.0,176.0,127.0,132.0,158.0,156.0,156.0,147.0,129.0,178.0,118.0,133.0,128.0,134.0,130.0,161.0,164.0,178.0,153.0,173.0,181.0,201.0,111.0,136.0,160.0,181.0,142.0,164.0,145.0,131.0,162.0,118.0,177.0,138.0,101.0,177.0,165.0,164.0,169.0,112.0,153.0,153.0,117.0,156.0,162.0,352.0,153.0,158.0,136.0,90.0,184.0,118.0,122.0,127.0,196.0,156.0,140.0,116.0,130.0,352.0,169.0,134.0,114.0,187.0,187.0,176.0,112.0,136.0,129.0,122.0,130.0,118.0,181.0,112.0,153.0,160.0,187.0,201.0,164.0,163.0,178.0,168.0,190.0,136.0,154.0,158.0,153.0,117.0,201.0,114.0,142.0,155.0,118.0,117.0,129.0,156.0,112.0,144.0,132.0,90.0,90.0,131.0,178.0,153.0,142.0,131.0,161.0,132.0,90.0,140.0,161.0,184.0,164.0,181.0,156.0,130.0,181.0,142.0,131.0,177.0,148.0,164.0,133.0,112.0,201.0,147.0,142.0,163.0,176.0,160.0,116.0,158.0,142.0,131.0,173.0,132.0,195.0,160.0,160.0,169.0,148.0,147.0,136.0,128.0,148.0,112.0,122.0,129.0,138.0,90.0,112.0,155.0,114.0,131.0,94.0,128.0,193.0,130.0,158.0,166.0,144.0,132.0,111.0,184.0,130.0,184.0,140.0,158.0,129.0,128.0,201.0,165.0,117.0,117.0,177.0,144.0],\"xaxis\":\"x\",\"yaxis\":\"y\",\"type\":\"histogram\"}],                        {\"template\":{\"data\":{\"barpolar\":[{\"marker\":{\"line\":{\"color\":\"rgb(17,17,17)\",\"width\":0.5},\"pattern\":{\"fillmode\":\"overlay\",\"size\":10,\"solidity\":0.2}},\"type\":\"barpolar\"}],\"bar\":[{\"error_x\":{\"color\":\"#f2f5fa\"},\"error_y\":{\"color\":\"#f2f5fa\"},\"marker\":{\"line\":{\"color\":\"rgb(17,17,17)\",\"width\":0.5},\"pattern\":{\"fillmode\":\"overlay\",\"size\":10,\"solidity\":0.2}},\"type\":\"bar\"}],\"carpet\":[{\"aaxis\":{\"endlinecolor\":\"#A2B1C6\",\"gridcolor\":\"#506784\",\"linecolor\":\"#506784\",\"minorgridcolor\":\"#506784\",\"startlinecolor\":\"#A2B1C6\"},\"baxis\":{\"endlinecolor\":\"#A2B1C6\",\"gridcolor\":\"#506784\",\"linecolor\":\"#506784\",\"minorgridcolor\":\"#506784\",\"startlinecolor\":\"#A2B1C6\"},\"type\":\"carpet\"}],\"choropleth\":[{\"colorbar\":{\"outlinewidth\":0,\"ticks\":\"\"},\"type\":\"choropleth\"}],\"contourcarpet\":[{\"colorbar\":{\"outlinewidth\":0,\"ticks\":\"\"},\"type\":\"contourcarpet\"}],\"contour\":[{\"colorbar\":{\"outlinewidth\":0,\"ticks\":\"\"},\"colorscale\":[[0.0,\"#0d0887\"],[0.1111111111111111,\"#46039f\"],[0.2222222222222222,\"#7201a8\"],[0.3333333333333333,\"#9c179e\"],[0.4444444444444444,\"#bd3786\"],[0.5555555555555556,\"#d8576b\"],[0.6666666666666666,\"#ed7953\"],[0.7777777777777778,\"#fb9f3a\"],[0.8888888888888888,\"#fdca26\"],[1.0,\"#f0f921\"]],\"type\":\"contour\"}],\"heatmapgl\":[{\"colorbar\":{\"outlinewidth\":0,\"ticks\":\"\"},\"colorscale\":[[0.0,\"#0d0887\"],[0.1111111111111111,\"#46039f\"],[0.2222222222222222,\"#7201a8\"],[0.3333333333333333,\"#9c179e\"],[0.4444444444444444,\"#bd3786\"],[0.5555555555555556,\"#d8576b\"],[0.6666666666666666,\"#ed7953\"],[0.7777777777777778,\"#fb9f3a\"],[0.8888888888888888,\"#fdca26\"],[1.0,\"#f0f921\"]],\"type\":\"heatmapgl\"}],\"heatmap\":[{\"colorbar\":{\"outlinewidth\":0,\"ticks\":\"\"},\"colorscale\":[[0.0,\"#0d0887\"],[0.1111111111111111,\"#46039f\"],[0.2222222222222222,\"#7201a8\"],[0.3333333333333333,\"#9c179e\"],[0.4444444444444444,\"#bd3786\"],[0.5555555555555556,\"#d8576b\"],[0.6666666666666666,\"#ed7953\"],[0.7777777777777778,\"#fb9f3a\"],[0.8888888888888888,\"#fdca26\"],[1.0,\"#f0f921\"]],\"type\":\"heatmap\"}],\"histogram2dcontour\":[{\"colorbar\":{\"outlinewidth\":0,\"ticks\":\"\"},\"colorscale\":[[0.0,\"#0d0887\"],[0.1111111111111111,\"#46039f\"],[0.2222222222222222,\"#7201a8\"],[0.3333333333333333,\"#9c179e\"],[0.4444444444444444,\"#bd3786\"],[0.5555555555555556,\"#d8576b\"],[0.6666666666666666,\"#ed7953\"],[0.7777777777777778,\"#fb9f3a\"],[0.8888888888888888,\"#fdca26\"],[1.0,\"#f0f921\"]],\"type\":\"histogram2dcontour\"}],\"histogram2d\":[{\"colorbar\":{\"outlinewidth\":0,\"ticks\":\"\"},\"colorscale\":[[0.0,\"#0d0887\"],[0.1111111111111111,\"#46039f\"],[0.2222222222222222,\"#7201a8\"],[0.3333333333333333,\"#9c179e\"],[0.4444444444444444,\"#bd3786\"],[0.5555555555555556,\"#d8576b\"],[0.6666666666666666,\"#ed7953\"],[0.7777777777777778,\"#fb9f3a\"],[0.8888888888888888,\"#fdca26\"],[1.0,\"#f0f921\"]],\"type\":\"histogram2d\"}],\"histogram\":[{\"marker\":{\"pattern\":{\"fillmode\":\"overlay\",\"size\":10,\"solidity\":0.2}},\"type\":\"histogram\"}],\"mesh3d\":[{\"colorbar\":{\"outlinewidth\":0,\"ticks\":\"\"},\"type\":\"mesh3d\"}],\"parcoords\":[{\"line\":{\"colorbar\":{\"outlinewidth\":0,\"ticks\":\"\"}},\"type\":\"parcoords\"}],\"pie\":[{\"automargin\":true,\"type\":\"pie\"}],\"scatter3d\":[{\"line\":{\"colorbar\":{\"outlinewidth\":0,\"ticks\":\"\"}},\"marker\":{\"colorbar\":{\"outlinewidth\":0,\"ticks\":\"\"}},\"type\":\"scatter3d\"}],\"scattercarpet\":[{\"marker\":{\"colorbar\":{\"outlinewidth\":0,\"ticks\":\"\"}},\"type\":\"scattercarpet\"}],\"scattergeo\":[{\"marker\":{\"colorbar\":{\"outlinewidth\":0,\"ticks\":\"\"}},\"type\":\"scattergeo\"}],\"scattergl\":[{\"marker\":{\"line\":{\"color\":\"#283442\"}},\"type\":\"scattergl\"}],\"scattermapbox\":[{\"marker\":{\"colorbar\":{\"outlinewidth\":0,\"ticks\":\"\"}},\"type\":\"scattermapbox\"}],\"scatterpolargl\":[{\"marker\":{\"colorbar\":{\"outlinewidth\":0,\"ticks\":\"\"}},\"type\":\"scatterpolargl\"}],\"scatterpolar\":[{\"marker\":{\"colorbar\":{\"outlinewidth\":0,\"ticks\":\"\"}},\"type\":\"scatterpolar\"}],\"scatter\":[{\"marker\":{\"line\":{\"color\":\"#283442\"}},\"type\":\"scatter\"}],\"scatterternary\":[{\"marker\":{\"colorbar\":{\"outlinewidth\":0,\"ticks\":\"\"}},\"type\":\"scatterternary\"}],\"surface\":[{\"colorbar\":{\"outlinewidth\":0,\"ticks\":\"\"},\"colorscale\":[[0.0,\"#0d0887\"],[0.1111111111111111,\"#46039f\"],[0.2222222222222222,\"#7201a8\"],[0.3333333333333333,\"#9c179e\"],[0.4444444444444444,\"#bd3786\"],[0.5555555555555556,\"#d8576b\"],[0.6666666666666666,\"#ed7953\"],[0.7777777777777778,\"#fb9f3a\"],[0.8888888888888888,\"#fdca26\"],[1.0,\"#f0f921\"]],\"type\":\"surface\"}],\"table\":[{\"cells\":{\"fill\":{\"color\":\"#506784\"},\"line\":{\"color\":\"rgb(17,17,17)\"}},\"header\":{\"fill\":{\"color\":\"#2a3f5f\"},\"line\":{\"color\":\"rgb(17,17,17)\"}},\"type\":\"table\"}]},\"layout\":{\"annotationdefaults\":{\"arrowcolor\":\"#f2f5fa\",\"arrowhead\":0,\"arrowwidth\":1},\"autotypenumbers\":\"strict\",\"coloraxis\":{\"colorbar\":{\"outlinewidth\":0,\"ticks\":\"\"}},\"colorscale\":{\"diverging\":[[0,\"#8e0152\"],[0.1,\"#c51b7d\"],[0.2,\"#de77ae\"],[0.3,\"#f1b6da\"],[0.4,\"#fde0ef\"],[0.5,\"#f7f7f7\"],[0.6,\"#e6f5d0\"],[0.7,\"#b8e186\"],[0.8,\"#7fbc41\"],[0.9,\"#4d9221\"],[1,\"#276419\"]],\"sequential\":[[0.0,\"#0d0887\"],[0.1111111111111111,\"#46039f\"],[0.2222222222222222,\"#7201a8\"],[0.3333333333333333,\"#9c179e\"],[0.4444444444444444,\"#bd3786\"],[0.5555555555555556,\"#d8576b\"],[0.6666666666666666,\"#ed7953\"],[0.7777777777777778,\"#fb9f3a\"],[0.8888888888888888,\"#fdca26\"],[1.0,\"#f0f921\"]],\"sequentialminus\":[[0.0,\"#0d0887\"],[0.1111111111111111,\"#46039f\"],[0.2222222222222222,\"#7201a8\"],[0.3333333333333333,\"#9c179e\"],[0.4444444444444444,\"#bd3786\"],[0.5555555555555556,\"#d8576b\"],[0.6666666666666666,\"#ed7953\"],[0.7777777777777778,\"#fb9f3a\"],[0.8888888888888888,\"#fdca26\"],[1.0,\"#f0f921\"]]},\"colorway\":[\"#636efa\",\"#EF553B\",\"#00cc96\",\"#ab63fa\",\"#FFA15A\",\"#19d3f3\",\"#FF6692\",\"#B6E880\",\"#FF97FF\",\"#FECB52\"],\"font\":{\"color\":\"#f2f5fa\"},\"geo\":{\"bgcolor\":\"rgb(17,17,17)\",\"lakecolor\":\"rgb(17,17,17)\",\"landcolor\":\"rgb(17,17,17)\",\"showlakes\":true,\"showland\":true,\"subunitcolor\":\"#506784\"},\"hoverlabel\":{\"align\":\"left\"},\"hovermode\":\"closest\",\"mapbox\":{\"style\":\"dark\"},\"paper_bgcolor\":\"rgb(17,17,17)\",\"plot_bgcolor\":\"rgb(17,17,17)\",\"polar\":{\"angularaxis\":{\"gridcolor\":\"#506784\",\"linecolor\":\"#506784\",\"ticks\":\"\"},\"bgcolor\":\"rgb(17,17,17)\",\"radialaxis\":{\"gridcolor\":\"#506784\",\"linecolor\":\"#506784\",\"ticks\":\"\"}},\"scene\":{\"xaxis\":{\"backgroundcolor\":\"rgb(17,17,17)\",\"gridcolor\":\"#506784\",\"gridwidth\":2,\"linecolor\":\"#506784\",\"showbackground\":true,\"ticks\":\"\",\"zerolinecolor\":\"#C8D4E3\"},\"yaxis\":{\"backgroundcolor\":\"rgb(17,17,17)\",\"gridcolor\":\"#506784\",\"gridwidth\":2,\"linecolor\":\"#506784\",\"showbackground\":true,\"ticks\":\"\",\"zerolinecolor\":\"#C8D4E3\"},\"zaxis\":{\"backgroundcolor\":\"rgb(17,17,17)\",\"gridcolor\":\"#506784\",\"gridwidth\":2,\"linecolor\":\"#506784\",\"showbackground\":true,\"ticks\":\"\",\"zerolinecolor\":\"#C8D4E3\"}},\"shapedefaults\":{\"line\":{\"color\":\"#f2f5fa\"}},\"sliderdefaults\":{\"bgcolor\":\"#C8D4E3\",\"bordercolor\":\"rgb(17,17,17)\",\"borderwidth\":1,\"tickwidth\":0},\"ternary\":{\"aaxis\":{\"gridcolor\":\"#506784\",\"linecolor\":\"#506784\",\"ticks\":\"\"},\"baxis\":{\"gridcolor\":\"#506784\",\"linecolor\":\"#506784\",\"ticks\":\"\"},\"bgcolor\":\"rgb(17,17,17)\",\"caxis\":{\"gridcolor\":\"#506784\",\"linecolor\":\"#506784\",\"ticks\":\"\"}},\"title\":{\"x\":0.05},\"updatemenudefaults\":{\"bgcolor\":\"#506784\",\"borderwidth\":0},\"xaxis\":{\"automargin\":true,\"gridcolor\":\"#283442\",\"linecolor\":\"#506784\",\"ticks\":\"\",\"title\":{\"standoff\":15},\"zerolinecolor\":\"#283442\",\"zerolinewidth\":2},\"yaxis\":{\"automargin\":true,\"gridcolor\":\"#283442\",\"linecolor\":\"#506784\",\"ticks\":\"\",\"title\":{\"standoff\":15},\"zerolinecolor\":\"#283442\",\"zerolinewidth\":2}}},\"xaxis\":{\"anchor\":\"y\",\"domain\":[0.0,1.0],\"title\":{\"text\":\"Sneaker Price Ranges\"}},\"yaxis\":{\"anchor\":\"x\",\"domain\":[0.0,1.0],\"title\":{\"text\":\"Order Count\"}},\"legend\":{\"tracegroupgap\":0},\"margin\":{\"t\":60},\"barmode\":\"relative\",\"shapes\":[{\"line\":{\"color\":\"red\",\"dash\":\"dot\"},\"type\":\"line\",\"x0\":307.01,\"x1\":307.01,\"xref\":\"x\",\"y0\":0,\"y1\":1,\"yref\":\"y domain\"},{\"line\":{\"color\":\"gold\"},\"type\":\"line\",\"x0\":153.0,\"x1\":153.0,\"xref\":\"x\",\"y0\":0,\"y1\":1,\"yref\":\"y domain\"},{\"line\":{\"color\":\"green\"},\"type\":\"line\",\"x0\":357.92,\"x1\":357.92,\"xref\":\"x\",\"y0\":0,\"y1\":1,\"yref\":\"y domain\"}],\"annotations\":[{\"showarrow\":false,\"text\":\"Mean AOV\",\"x\":307.01,\"xanchor\":\"right\",\"xref\":\"x\",\"y\":1,\"yanchor\":\"top\",\"yref\":\"y domain\"},{\"showarrow\":false,\"text\":\"Median AOV\",\"x\":153.0,\"xanchor\":\"left\",\"xref\":\"x\",\"y\":1,\"yanchor\":\"top\",\"yref\":\"y domain\"},{\"showarrow\":false,\"text\":\"Mean AOV (incl. outliers)\",\"x\":357.92,\"xanchor\":\"right\",\"xref\":\"x\",\"y\":1,\"yanchor\":\"top\",\"yref\":\"y domain\"}],\"title\":{\"text\":\"Sneaker Price Order Distribution (excl. outliers)\"},\"showlegend\":true},                        {\"responsive\": true}                    ).then(function(){\n",
              "                            \n",
              "var gd = document.getElementById('4d7ddc78-8be2-48d9-bb16-f90846fc8a54');\n",
              "var x = new MutationObserver(function (mutations, observer) {{\n",
              "        var display = window.getComputedStyle(gd).display;\n",
              "        if (!display || display === 'none') {{\n",
              "            console.log([gd, 'removed!']);\n",
              "            Plotly.purge(gd);\n",
              "            observer.disconnect();\n",
              "        }}\n",
              "}});\n",
              "\n",
              "// Listen for the removal of the full notebook cells\n",
              "var notebookContainer = gd.closest('#notebook-container');\n",
              "if (notebookContainer) {{\n",
              "    x.observe(notebookContainer, {childList: true});\n",
              "}}\n",
              "\n",
              "// Listen for the clearing of the current output cell\n",
              "var outputEl = gd.closest('.output');\n",
              "if (outputEl) {{\n",
              "    x.observe(outputEl, {childList: true});\n",
              "}}\n",
              "\n",
              "                        })                };                            </script>        </div>\n",
              "</body>\n",
              "</html>"
            ]
          },
          "metadata": {}
        }
      ]
    },
    {
      "cell_type": "code",
      "source": [
        "excl_outliers = orders_df[orders_df['aov'] < 25725]\n",
        "print(f\"The Average Order Value (AOV) excluding outliers: $ {round(excl_outliers['order_amount'].sum() / excl_outliers['total_items'].sum(), 2)}\")"
      ],
      "metadata": {
        "colab": {
          "base_uri": "https://localhost:8080/"
        },
        "id": "Ct42xAIDN_UN",
        "outputId": "f6cd4ecf-0316-4217-8c1d-0a4b83adaf28"
      },
      "execution_count": 14,
      "outputs": [
        {
          "output_type": "stream",
          "name": "stdout",
          "text": [
            "The Average Order Value (AOV) excluding outliers: $ 307.01\n"
          ]
        }
      ]
    },
    {
      "cell_type": "markdown",
      "source": [
        "The box plot below can also help us visualize how outliers in the dataset can still affect the AOV we calculated, even if we exclude the extreme outliers."
      ],
      "metadata": {
        "id": "3tgPNvFJiHd4"
      }
    },
    {
      "cell_type": "code",
      "source": [
        "fig3 = px.box(excl_outliers, y=\"aov\")\n",
        "fig3.update_yaxes(title_text=\"AOV Values\")\n",
        "fig3.update_layout(title='Average Order Value Box Plot',template='plotly_dark', showlegend=True)\n",
        "fig3.show()"
      ],
      "metadata": {
        "colab": {
          "base_uri": "https://localhost:8080/",
          "height": 542
        },
        "id": "TzssR6E3hBe_",
        "outputId": "9dd35a85-d568-44c2-c79f-5a7392802d02"
      },
      "execution_count": 15,
      "outputs": [
        {
          "output_type": "display_data",
          "data": {
            "text/html": [
              "<html>\n",
              "<head><meta charset=\"utf-8\" /></head>\n",
              "<body>\n",
              "    <div>            <script src=\"https://cdnjs.cloudflare.com/ajax/libs/mathjax/2.7.5/MathJax.js?config=TeX-AMS-MML_SVG\"></script><script type=\"text/javascript\">if (window.MathJax) {MathJax.Hub.Config({SVG: {font: \"STIX-Web\"}});}</script>                <script type=\"text/javascript\">window.PlotlyConfig = {MathJaxConfig: 'local'};</script>\n",
              "        <script src=\"https://cdn.plot.ly/plotly-2.8.3.min.js\"></script>                <div id=\"099f7f93-b5ff-48ee-abb9-facf92c10ef0\" class=\"plotly-graph-div\" style=\"height:525px; width:100%;\"></div>            <script type=\"text/javascript\">                                    window.PLOTLYENV=window.PLOTLYENV || {};                                    if (document.getElementById(\"099f7f93-b5ff-48ee-abb9-facf92c10ef0\")) {                    Plotly.newPlot(                        \"099f7f93-b5ff-48ee-abb9-facf92c10ef0\",                        [{\"alignmentgroup\":\"True\",\"hovertemplate\":\"aov=%{y}<extra></extra>\",\"legendgroup\":\"\",\"marker\":{\"color\":\"#636efa\"},\"name\":\"\",\"notched\":false,\"offsetgroup\":\"\",\"orientation\":\"v\",\"showlegend\":false,\"x0\":\" \",\"xaxis\":\"x\",\"y\":[112.0,90.0,144.0,156.0,156.0,138.0,149.0,146.0,133.0,146.0,161.0,161.0,133.0,111.0,149.0,352.0,176.0,164.0,129.0,136.0,161.0,162.0,176.0,128.0,165.0,177.0,145.0,112.0,161.0,178.0,155.0,147.0,155.0,112.0,122.0,158.0,153.0,161.0,148.0,158.0,352.0,158.0,156.0,142.0,195.0,163.0,173.0,146.0,148.0,133.0,138.0,177.0,153.0,173.0,181.0,187.0,112.0,187.0,145.0,145.0,352.0,177.0,130.0,160.0,160.0,112.0,161.0,142.0,130.0,138.0,184.0,122.0,130.0,116.0,142.0,153.0,127.0,118.0,132.0,127.0,146.0,164.0,117.0,111.0,118.0,112.0,117.0,133.0,171.0,164.0,193.0,148.0,146.0,138.0,149.0,164.0,173.0,90.0,181.0,156.0,156.0,153.0,118.0,112.0,133.0,160.0,149.0,201.0,138.0,138.0,129.0,136.0,165.0,131.0,118.0,130.0,187.0,158.0,153.0,133.0,142.0,160.0,164.0,140.0,94.0,129.0,156.0,156.0,136.0,187.0,128.0,173.0,112.0,140.0,130.0,138.0,153.0,122.0,142.0,171.0,147.0,165.0,145.0,145.0,142.0,160.0,111.0,147.0,164.0,111.0,145.0,156.0,173.0,133.0,173.0,118.0,153.0,176.0,90.0,165.0,148.0,114.0,136.0,163.0,144.0,116.0,117.0,117.0,142.0,160.0,147.0,171.0,112.0,129.0,193.0,162.0,147.0,153.0,142.0,201.0,127.0,130.0,176.0,122.0,164.0,114.0,118.0,176.0,181.0,112.0,176.0,164.0,153.0,136.0,142.0,172.0,163.0,169.0,117.0,163.0,129.0,131.0,130.0,134.0,196.0,156.0,176.0,176.0,142.0,160.0,146.0,176.0,176.0,133.0,118.0,101.0,153.0,128.0,156.0,142.0,147.0,153.0,136.0,163.0,133.0,138.0,165.0,90.0,181.0,136.0,169.0,187.0,168.0,163.0,177.0,90.0,195.0,94.0,136.0,176.0,122.0,190.0,114.0,101.0,90.0,160.0,176.0,173.0,156.0,153.0,128.0,155.0,111.0,156.0,187.0,181.0,187.0,128.0,195.0,146.0,176.0,118.0,162.0,156.0,131.0,201.0,165.0,117.0,187.0,173.0,201.0,101.0,122.0,142.0,171.0,129.0,187.0,133.0,128.0,178.0,187.0,164.0,118.0,133.0,156.0,138.0,133.0,145.0,193.0,173.0,142.0,163.0,187.0,184.0,190.0,181.0,173.0,112.0,163.0,173.0,131.0,130.0,153.0,134.0,130.0,122.0,177.0,352.0,142.0,181.0,155.0,153.0,140.0,187.0,94.0,184.0,146.0,129.0,156.0,130.0,148.0,90.0,128.0,181.0,116.0,201.0,128.0,129.0,130.0,145.0,161.0,147.0,136.0,144.0,90.0,156.0,160.0,146.0,164.0,112.0,133.0,133.0,136.0,153.0,160.0,161.0,158.0,129.0,145.0,133.0,122.0,168.0,129.0,148.0,133.0,116.0,173.0,116.0,142.0,145.0,178.0,112.0,138.0,111.0,184.0,133.0,127.0,90.0,164.0,146.0,142.0,133.0,160.0,158.0,164.0,161.0,148.0,164.0,147.0,153.0,164.0,145.0,153.0,184.0,136.0,153.0,164.0,158.0,156.0,112.0,153.0,136.0,131.0,166.0,181.0,112.0,146.0,146.0,165.0,164.0,181.0,178.0,181.0,184.0,142.0,163.0,117.0,171.0,352.0,101.0,153.0,190.0,134.0,133.0,161.0,164.0,133.0,156.0,153.0,132.0,162.0,178.0,166.0,181.0,142.0,127.0,195.0,146.0,133.0,127.0,133.0,114.0,134.0,177.0,181.0,178.0,128.0,153.0,160.0,166.0,133.0,118.0,136.0,193.0,146.0,153.0,153.0,128.0,160.0,177.0,136.0,196.0,160.0,142.0,136.0,176.0,128.0,149.0,173.0,173.0,154.0,168.0,172.0,172.0,156.0,112.0,149.0,94.0,156.0,140.0,169.0,195.0,136.0,195.0,171.0,163.0,144.0,130.0,114.0,128.0,111.0,111.0,176.0,178.0,168.0,176.0,178.0,118.0,161.0,156.0,128.0,154.0,178.0,201.0,163.0,196.0,128.0,130.0,130.0,156.0,177.0,164.0,160.0,140.0,163.0,160.0,169.0,116.0,158.0,160.0,134.0,163.0,145.0,164.0,178.0,156.0,352.0,196.0,166.0,187.0,132.0,165.0,116.0,193.0,142.0,161.0,117.0,171.0,165.0,176.0,148.0,118.0,134.0,142.0,130.0,156.0,177.0,158.0,153.0,133.0,138.0,142.0,129.0,158.0,161.0,112.0,117.0,129.0,148.0,129.0,181.0,134.0,122.0,160.0,193.0,154.0,193.0,142.0,178.0,153.0,142.0,176.0,177.0,177.0,163.0,153.0,114.0,164.0,147.0,138.0,129.0,176.0,187.0,153.0,176.0,90.0,149.0,178.0,136.0,153.0,160.0,162.0,196.0,153.0,158.0,142.0,90.0,134.0,127.0,133.0,114.0,176.0,130.0,145.0,94.0,156.0,153.0,148.0,154.0,94.0,130.0,158.0,166.0,148.0,131.0,146.0,173.0,130.0,129.0,164.0,148.0,112.0,169.0,163.0,178.0,190.0,158.0,163.0,118.0,173.0,148.0,165.0,148.0,134.0,164.0,173.0,156.0,144.0,193.0,127.0,156.0,178.0,129.0,195.0,129.0,156.0,156.0,133.0,136.0,133.0,181.0,134.0,173.0,131.0,111.0,129.0,187.0,165.0,176.0,145.0,94.0,160.0,131.0,173.0,173.0,130.0,130.0,176.0,145.0,148.0,181.0,145.0,129.0,156.0,173.0,147.0,142.0,163.0,136.0,133.0,173.0,156.0,133.0,94.0,136.0,127.0,177.0,187.0,130.0,160.0,148.0,133.0,201.0,101.0,153.0,142.0,140.0,154.0,116.0,112.0,164.0,133.0,161.0,176.0,172.0,187.0,177.0,163.0,142.0,156.0,117.0,158.0,176.0,132.0,168.0,156.0,154.0,117.0,118.0,153.0,112.0,163.0,177.0,148.0,168.0,168.0,163.0,128.0,130.0,146.0,177.0,112.0,158.0,193.0,187.0,181.0,148.0,160.0,196.0,160.0,129.0,193.0,155.0,114.0,156.0,153.0,201.0,169.0,177.0,136.0,181.0,156.0,177.0,140.0,160.0,128.0,173.0,178.0,181.0,128.0,201.0,164.0,153.0,130.0,111.0,153.0,127.0,142.0,168.0,148.0,148.0,160.0,176.0,158.0,130.0,163.0,130.0,112.0,146.0,153.0,184.0,195.0,133.0,153.0,136.0,156.0,136.0,94.0,156.0,112.0,181.0,168.0,149.0,129.0,184.0,187.0,177.0,173.0,117.0,142.0,118.0,160.0,148.0,177.0,142.0,153.0,165.0,148.0,156.0,142.0,129.0,142.0,172.0,140.0,142.0,136.0,163.0,176.0,164.0,160.0,160.0,130.0,177.0,130.0,149.0,160.0,184.0,140.0,184.0,94.0,144.0,164.0,177.0,193.0,176.0,156.0,171.0,156.0,352.0,352.0,142.0,129.0,114.0,130.0,160.0,153.0,134.0,127.0,128.0,196.0,111.0,164.0,131.0,130.0,138.0,153.0,163.0,140.0,171.0,133.0,94.0,118.0,153.0,166.0,165.0,118.0,153.0,177.0,160.0,133.0,94.0,142.0,128.0,196.0,112.0,177.0,156.0,195.0,172.0,112.0,168.0,187.0,176.0,177.0,118.0,163.0,156.0,161.0,114.0,178.0,140.0,132.0,160.0,193.0,176.0,129.0,177.0,164.0,156.0,101.0,181.0,176.0,140.0,94.0,160.0,114.0,181.0,142.0,164.0,196.0,154.0,177.0,160.0,164.0,134.0,163.0,136.0,156.0,147.0,195.0,173.0,130.0,177.0,146.0,187.0,138.0,118.0,127.0,196.0,176.0,173.0,94.0,153.0,129.0,131.0,178.0,158.0,101.0,184.0,149.0,129.0,169.0,352.0,94.0,122.0,176.0,114.0,155.0,160.0,148.0,122.0,177.0,158.0,169.0,101.0,136.0,156.0,161.0,142.0,145.0,173.0,201.0,116.0,129.0,160.0,176.0,117.0,142.0,193.0,142.0,195.0,153.0,118.0,128.0,181.0,118.0,178.0,136.0,127.0,164.0,130.0,195.0,178.0,352.0,158.0,112.0,158.0,162.0,177.0,130.0,153.0,112.0,176.0,90.0,129.0,168.0,160.0,142.0,196.0,187.0,112.0,138.0,132.0,160.0,145.0,140.0,145.0,148.0,134.0,158.0,195.0,133.0,190.0,161.0,129.0,112.0,156.0,160.0,155.0,156.0,164.0,142.0,116.0,136.0,158.0,160.0,160.0,181.0,161.0,153.0,164.0,142.0,149.0,153.0,156.0,184.0,112.0,147.0,142.0,114.0,166.0,166.0,94.0,133.0,160.0,171.0,132.0,148.0,153.0,142.0,130.0,172.0,160.0,201.0,148.0,142.0,114.0,153.0,116.0,195.0,193.0,153.0,164.0,178.0,134.0,168.0,144.0,128.0,177.0,176.0,153.0,160.0,176.0,164.0,130.0,164.0,146.0,171.0,201.0,117.0,114.0,201.0,161.0,133.0,149.0,190.0,116.0,90.0,112.0,173.0,148.0,116.0,154.0,161.0,177.0,177.0,153.0,177.0,176.0,118.0,133.0,154.0,145.0,178.0,129.0,153.0,177.0,352.0,118.0,118.0,129.0,181.0,181.0,138.0,101.0,117.0,149.0,142.0,146.0,161.0,138.0,118.0,153.0,153.0,129.0,173.0,163.0,146.0,195.0,118.0,145.0,165.0,176.0,164.0,134.0,177.0,164.0,112.0,156.0,101.0,117.0,173.0,165.0,133.0,163.0,142.0,148.0,145.0,155.0,177.0,166.0,94.0,160.0,177.0,178.0,153.0,162.0,94.0,201.0,146.0,176.0,140.0,130.0,154.0,181.0,176.0,164.0,118.0,146.0,130.0,158.0,177.0,162.0,112.0,142.0,181.0,161.0,173.0,166.0,184.0,178.0,160.0,145.0,196.0,142.0,146.0,171.0,161.0,153.0,168.0,171.0,130.0,118.0,158.0,133.0,196.0,201.0,117.0,176.0,148.0,146.0,142.0,156.0,128.0,156.0,133.0,129.0,201.0,156.0,195.0,148.0,111.0,128.0,148.0,136.0,112.0,116.0,172.0,177.0,118.0,146.0,101.0,133.0,131.0,146.0,147.0,117.0,153.0,144.0,94.0,142.0,130.0,133.0,161.0,136.0,130.0,130.0,156.0,116.0,133.0,164.0,127.0,177.0,164.0,134.0,156.0,156.0,148.0,196.0,155.0,140.0,193.0,168.0,146.0,136.0,184.0,168.0,187.0,173.0,190.0,131.0,165.0,142.0,117.0,147.0,153.0,146.0,145.0,178.0,131.0,147.0,130.0,195.0,127.0,101.0,133.0,94.0,173.0,173.0,90.0,147.0,177.0,195.0,101.0,133.0,176.0,160.0,114.0,101.0,136.0,158.0,156.0,177.0,163.0,153.0,153.0,163.0,160.0,129.0,177.0,116.0,165.0,153.0,134.0,187.0,155.0,146.0,172.0,140.0,156.0,160.0,161.0,177.0,163.0,196.0,130.0,145.0,156.0,134.0,129.0,187.0,112.0,117.0,160.0,116.0,158.0,118.0,184.0,176.0,169.0,162.0,160.0,163.0,181.0,160.0,122.0,133.0,160.0,149.0,129.0,101.0,101.0,153.0,134.0,173.0,131.0,111.0,130.0,160.0,178.0,178.0,160.0,130.0,193.0,129.0,127.0,146.0,173.0,148.0,131.0,169.0,190.0,352.0,176.0,352.0,127.0,178.0,352.0,162.0,161.0,162.0,160.0,129.0,154.0,162.0,164.0,112.0,158.0,176.0,112.0,129.0,132.0,131.0,169.0,142.0,190.0,162.0,136.0,117.0,153.0,160.0,101.0,153.0,144.0,145.0,154.0,146.0,130.0,131.0,153.0,130.0,118.0,118.0,114.0,173.0,176.0,112.0,156.0,111.0,162.0,193.0,114.0,118.0,177.0,145.0,128.0,196.0,140.0,142.0,156.0,153.0,118.0,158.0,133.0,112.0,138.0,153.0,153.0,112.0,163.0,177.0,153.0,156.0,153.0,352.0,142.0,193.0,142.0,131.0,134.0,145.0,187.0,156.0,148.0,117.0,127.0,169.0,161.0,161.0,147.0,187.0,94.0,160.0,127.0,181.0,134.0,156.0,173.0,169.0,112.0,163.0,128.0,132.0,154.0,112.0,129.0,153.0,178.0,352.0,131.0,131.0,142.0,181.0,118.0,122.0,156.0,160.0,161.0,111.0,149.0,166.0,153.0,142.0,184.0,160.0,165.0,153.0,181.0,176.0,117.0,156.0,112.0,129.0,177.0,193.0,153.0,181.0,177.0,133.0,164.0,184.0,161.0,164.0,187.0,133.0,112.0,201.0,118.0,114.0,352.0,176.0,129.0,142.0,187.0,153.0,145.0,148.0,352.0,129.0,160.0,153.0,176.0,156.0,112.0,145.0,154.0,122.0,177.0,160.0,153.0,142.0,173.0,193.0,181.0,118.0,142.0,181.0,187.0,164.0,164.0,122.0,163.0,158.0,190.0,117.0,160.0,136.0,133.0,195.0,156.0,163.0,177.0,173.0,153.0,122.0,153.0,112.0,156.0,352.0,160.0,128.0,187.0,111.0,201.0,160.0,153.0,173.0,145.0,169.0,160.0,163.0,145.0,165.0,176.0,173.0,161.0,164.0,145.0,156.0,145.0,116.0,173.0,160.0,160.0,131.0,94.0,176.0,195.0,117.0,169.0,148.0,149.0,131.0,158.0,112.0,136.0,134.0,117.0,352.0,177.0,181.0,128.0,148.0,136.0,156.0,148.0,130.0,161.0,178.0,156.0,154.0,156.0,156.0,118.0,172.0,168.0,160.0,153.0,173.0,134.0,153.0,118.0,153.0,176.0,160.0,162.0,161.0,176.0,165.0,165.0,130.0,196.0,130.0,147.0,190.0,173.0,140.0,133.0,129.0,101.0,156.0,118.0,156.0,138.0,117.0,140.0,138.0,156.0,136.0,158.0,134.0,112.0,172.0,168.0,127.0,90.0,161.0,134.0,130.0,172.0,130.0,153.0,153.0,101.0,131.0,122.0,156.0,134.0,160.0,138.0,181.0,118.0,176.0,129.0,111.0,138.0,187.0,161.0,160.0,130.0,122.0,122.0,153.0,127.0,142.0,149.0,176.0,153.0,142.0,190.0,154.0,112.0,111.0,161.0,129.0,163.0,156.0,149.0,112.0,136.0,171.0,160.0,187.0,171.0,133.0,187.0,133.0,118.0,130.0,138.0,176.0,160.0,156.0,112.0,156.0,94.0,168.0,112.0,166.0,114.0,187.0,171.0,171.0,160.0,112.0,181.0,136.0,165.0,136.0,127.0,148.0,177.0,187.0,130.0,158.0,134.0,173.0,134.0,129.0,177.0,166.0,114.0,145.0,176.0,165.0,187.0,140.0,153.0,136.0,153.0,133.0,181.0,169.0,156.0,163.0,160.0,178.0,118.0,114.0,136.0,201.0,169.0,166.0,178.0,160.0,118.0,181.0,156.0,133.0,131.0,156.0,116.0,94.0,163.0,133.0,133.0,163.0,111.0,147.0,178.0,158.0,163.0,173.0,134.0,195.0,176.0,156.0,176.0,140.0,130.0,129.0,160.0,118.0,131.0,149.0,153.0,145.0,101.0,94.0,181.0,111.0,153.0,178.0,128.0,172.0,158.0,176.0,129.0,116.0,187.0,156.0,168.0,181.0,164.0,145.0,193.0,161.0,164.0,163.0,201.0,158.0,187.0,131.0,162.0,146.0,164.0,181.0,173.0,164.0,153.0,134.0,116.0,136.0,178.0,176.0,173.0,184.0,158.0,187.0,90.0,177.0,163.0,130.0,116.0,142.0,131.0,136.0,163.0,161.0,148.0,190.0,140.0,129.0,146.0,127.0,177.0,118.0,156.0,134.0,128.0,164.0,163.0,165.0,146.0,94.0,147.0,122.0,138.0,164.0,94.0,148.0,133.0,158.0,181.0,169.0,148.0,162.0,142.0,158.0,122.0,171.0,129.0,138.0,112.0,161.0,94.0,90.0,146.0,201.0,178.0,128.0,148.0,156.0,148.0,142.0,136.0,164.0,112.0,164.0,177.0,127.0,127.0,130.0,160.0,178.0,142.0,181.0,352.0,162.0,132.0,130.0,156.0,164.0,201.0,201.0,161.0,142.0,145.0,153.0,160.0,160.0,153.0,163.0,90.0,178.0,352.0,164.0,128.0,128.0,101.0,187.0,161.0,176.0,153.0,177.0,128.0,166.0,163.0,156.0,171.0,118.0,164.0,173.0,160.0,149.0,164.0,153.0,142.0,127.0,136.0,169.0,161.0,156.0,164.0,164.0,144.0,118.0,173.0,166.0,154.0,172.0,187.0,142.0,153.0,165.0,116.0,156.0,148.0,181.0,142.0,117.0,164.0,132.0,145.0,146.0,156.0,161.0,166.0,195.0,184.0,134.0,162.0,114.0,163.0,166.0,134.0,136.0,187.0,181.0,146.0,172.0,160.0,153.0,177.0,145.0,184.0,131.0,156.0,160.0,352.0,153.0,114.0,133.0,133.0,176.0,146.0,177.0,149.0,130.0,160.0,142.0,162.0,147.0,129.0,352.0,130.0,129.0,136.0,129.0,140.0,145.0,142.0,193.0,133.0,163.0,173.0,158.0,176.0,176.0,148.0,171.0,128.0,184.0,131.0,153.0,184.0,142.0,187.0,176.0,153.0,117.0,160.0,153.0,164.0,162.0,153.0,133.0,153.0,195.0,352.0,112.0,142.0,164.0,153.0,153.0,163.0,111.0,166.0,177.0,117.0,178.0,158.0,117.0,181.0,131.0,145.0,138.0,178.0,114.0,131.0,165.0,164.0,164.0,153.0,158.0,165.0,130.0,177.0,134.0,166.0,160.0,177.0,145.0,176.0,112.0,118.0,129.0,196.0,90.0,153.0,112.0,176.0,178.0,142.0,160.0,177.0,164.0,153.0,166.0,130.0,160.0,158.0,153.0,168.0,138.0,158.0,148.0,148.0,133.0,169.0,133.0,136.0,154.0,148.0,187.0,195.0,160.0,178.0,164.0,145.0,164.0,127.0,196.0,129.0,90.0,155.0,132.0,187.0,176.0,116.0,190.0,164.0,158.0,149.0,114.0,184.0,196.0,133.0,178.0,161.0,127.0,160.0,195.0,164.0,176.0,163.0,142.0,177.0,142.0,352.0,116.0,177.0,146.0,118.0,112.0,177.0,130.0,153.0,161.0,156.0,146.0,114.0,129.0,165.0,153.0,128.0,178.0,130.0,165.0,160.0,129.0,164.0,162.0,176.0,178.0,134.0,142.0,132.0,90.0,131.0,196.0,184.0,171.0,144.0,153.0,128.0,177.0,177.0,161.0,158.0,153.0,163.0,187.0,169.0,195.0,165.0,193.0,145.0,160.0,165.0,148.0,177.0,142.0,187.0,133.0,156.0,146.0,154.0,195.0,153.0,160.0,156.0,160.0,145.0,142.0,116.0,118.0,112.0,178.0,122.0,136.0,158.0,131.0,128.0,201.0,163.0,153.0,178.0,127.0,163.0,134.0,169.0,114.0,153.0,164.0,128.0,128.0,181.0,177.0,187.0,173.0,136.0,142.0,153.0,168.0,128.0,94.0,129.0,169.0,178.0,133.0,129.0,130.0,181.0,201.0,142.0,153.0,133.0,187.0,154.0,161.0,117.0,169.0,163.0,158.0,133.0,129.0,162.0,352.0,172.0,181.0,112.0,133.0,169.0,142.0,134.0,153.0,201.0,176.0,161.0,149.0,129.0,133.0,153.0,160.0,176.0,112.0,164.0,156.0,148.0,193.0,142.0,352.0,133.0,156.0,177.0,158.0,153.0,156.0,146.0,114.0,130.0,158.0,187.0,128.0,176.0,149.0,181.0,112.0,144.0,156.0,201.0,146.0,181.0,162.0,156.0,190.0,169.0,133.0,196.0,131.0,101.0,138.0,130.0,160.0,129.0,131.0,158.0,153.0,133.0,148.0,163.0,176.0,138.0,148.0,173.0,163.0,140.0,118.0,164.0,117.0,129.0,146.0,149.0,184.0,169.0,156.0,184.0,169.0,128.0,142.0,136.0,161.0,122.0,116.0,130.0,178.0,163.0,153.0,116.0,146.0,176.0,146.0,171.0,153.0,156.0,181.0,177.0,177.0,127.0,187.0,129.0,146.0,178.0,140.0,178.0,138.0,133.0,101.0,134.0,114.0,190.0,153.0,165.0,149.0,133.0,118.0,184.0,168.0,165.0,127.0,164.0,131.0,130.0,153.0,142.0,158.0,162.0,164.0,164.0,196.0,133.0,144.0,176.0,112.0,187.0,176.0,129.0,128.0,148.0,164.0,176.0,154.0,131.0,148.0,156.0,193.0,164.0,190.0,166.0,134.0,147.0,196.0,149.0,132.0,187.0,166.0,140.0,153.0,133.0,133.0,130.0,128.0,160.0,171.0,154.0,142.0,129.0,161.0,130.0,196.0,177.0,117.0,142.0,153.0,142.0,117.0,132.0,165.0,162.0,133.0,168.0,136.0,158.0,165.0,196.0,142.0,153.0,118.0,130.0,161.0,142.0,128.0,145.0,128.0,130.0,181.0,153.0,94.0,154.0,129.0,166.0,156.0,114.0,160.0,148.0,117.0,133.0,132.0,156.0,132.0,129.0,133.0,122.0,112.0,352.0,178.0,193.0,164.0,156.0,128.0,138.0,146.0,156.0,153.0,90.0,177.0,177.0,156.0,112.0,94.0,147.0,129.0,187.0,144.0,176.0,111.0,160.0,177.0,178.0,177.0,178.0,142.0,153.0,187.0,158.0,129.0,131.0,138.0,142.0,155.0,129.0,176.0,147.0,134.0,160.0,140.0,195.0,190.0,181.0,155.0,164.0,164.0,142.0,164.0,130.0,162.0,118.0,169.0,187.0,160.0,142.0,176.0,129.0,118.0,117.0,149.0,130.0,158.0,177.0,187.0,177.0,153.0,114.0,148.0,111.0,148.0,132.0,138.0,187.0,138.0,193.0,127.0,128.0,160.0,116.0,117.0,158.0,112.0,134.0,146.0,176.0,201.0,196.0,134.0,127.0,158.0,133.0,130.0,140.0,181.0,130.0,155.0,138.0,181.0,161.0,148.0,129.0,160.0,128.0,177.0,156.0,168.0,187.0,129.0,134.0,131.0,131.0,352.0,133.0,201.0,94.0,173.0,142.0,154.0,195.0,117.0,177.0,176.0,190.0,156.0,162.0,122.0,154.0,118.0,147.0,177.0,156.0,114.0,112.0,177.0,163.0,193.0,136.0,146.0,134.0,181.0,147.0,187.0,160.0,117.0,196.0,155.0,181.0,118.0,129.0,142.0,177.0,177.0,133.0,129.0,187.0,177.0,164.0,153.0,133.0,158.0,142.0,161.0,190.0,134.0,155.0,146.0,134.0,181.0,187.0,156.0,101.0,145.0,156.0,178.0,176.0,177.0,163.0,164.0,128.0,168.0,114.0,136.0,114.0,156.0,138.0,128.0,163.0,114.0,160.0,131.0,129.0,129.0,163.0,117.0,116.0,176.0,181.0,162.0,165.0,153.0,166.0,155.0,133.0,165.0,94.0,154.0,144.0,132.0,148.0,160.0,129.0,147.0,153.0,177.0,163.0,90.0,155.0,131.0,173.0,118.0,112.0,160.0,160.0,130.0,173.0,146.0,161.0,153.0,133.0,128.0,94.0,145.0,176.0,145.0,118.0,173.0,131.0,140.0,122.0,134.0,153.0,161.0,138.0,154.0,172.0,118.0,140.0,94.0,142.0,155.0,128.0,131.0,134.0,146.0,156.0,153.0,181.0,129.0,161.0,195.0,158.0,158.0,148.0,176.0,134.0,136.0,118.0,352.0,153.0,153.0,187.0,116.0,163.0,145.0,136.0,177.0,129.0,118.0,127.0,153.0,153.0,117.0,177.0,156.0,156.0,142.0,181.0,160.0,130.0,129.0,101.0,173.0,169.0,142.0,134.0,118.0,156.0,178.0,128.0,164.0,149.0,160.0,160.0,131.0,153.0,177.0,133.0,177.0,138.0,156.0,201.0,134.0,94.0,142.0,153.0,116.0,142.0,153.0,162.0,94.0,147.0,117.0,122.0,161.0,148.0,117.0,142.0,161.0,134.0,160.0,144.0,129.0,156.0,352.0,161.0,133.0,142.0,140.0,134.0,114.0,112.0,122.0,145.0,90.0,187.0,163.0,160.0,129.0,133.0,154.0,164.0,181.0,153.0,133.0,133.0,165.0,130.0,133.0,161.0,132.0,131.0,112.0,148.0,177.0,153.0,146.0,148.0,156.0,129.0,90.0,166.0,129.0,117.0,195.0,132.0,168.0,168.0,134.0,118.0,117.0,131.0,193.0,131.0,173.0,148.0,117.0,160.0,128.0,153.0,177.0,176.0,129.0,154.0,142.0,160.0,153.0,128.0,122.0,117.0,176.0,117.0,154.0,127.0,169.0,156.0,173.0,144.0,176.0,168.0,90.0,101.0,149.0,145.0,140.0,153.0,118.0,169.0,129.0,153.0,147.0,177.0,130.0,171.0,116.0,177.0,101.0,138.0,158.0,178.0,130.0,166.0,181.0,131.0,147.0,136.0,160.0,153.0,158.0,163.0,129.0,142.0,132.0,133.0,165.0,158.0,131.0,133.0,160.0,176.0,160.0,118.0,134.0,155.0,114.0,140.0,131.0,181.0,133.0,142.0,131.0,133.0,153.0,196.0,166.0,155.0,352.0,112.0,173.0,116.0,164.0,118.0,163.0,142.0,130.0,187.0,161.0,177.0,128.0,131.0,149.0,116.0,142.0,163.0,352.0,101.0,142.0,156.0,145.0,131.0,142.0,195.0,164.0,142.0,136.0,161.0,178.0,178.0,196.0,111.0,176.0,130.0,176.0,156.0,118.0,153.0,156.0,112.0,163.0,165.0,171.0,130.0,101.0,133.0,163.0,118.0,133.0,153.0,156.0,128.0,142.0,118.0,114.0,155.0,130.0,130.0,142.0,195.0,142.0,147.0,133.0,136.0,201.0,156.0,129.0,172.0,178.0,153.0,114.0,161.0,156.0,181.0,148.0,181.0,127.0,155.0,178.0,112.0,193.0,153.0,130.0,160.0,160.0,148.0,117.0,142.0,201.0,201.0,132.0,164.0,129.0,130.0,129.0,118.0,101.0,181.0,153.0,160.0,177.0,195.0,178.0,133.0,117.0,156.0,196.0,187.0,178.0,172.0,132.0,196.0,178.0,153.0,142.0,142.0,128.0,176.0,114.0,131.0,145.0,153.0,156.0,114.0,117.0,187.0,181.0,153.0,156.0,196.0,132.0,94.0,181.0,130.0,130.0,160.0,195.0,158.0,146.0,117.0,153.0,164.0,196.0,173.0,190.0,163.0,149.0,173.0,177.0,178.0,138.0,145.0,111.0,171.0,201.0,138.0,160.0,187.0,101.0,164.0,153.0,176.0,177.0,131.0,142.0,146.0,164.0,163.0,187.0,140.0,160.0,117.0,147.0,164.0,176.0,130.0,131.0,133.0,166.0,130.0,190.0,145.0,161.0,94.0,161.0,156.0,169.0,176.0,164.0,127.0,142.0,142.0,144.0,116.0,128.0,164.0,178.0,160.0,187.0,164.0,153.0,153.0,181.0,178.0,136.0,101.0,145.0,195.0,193.0,163.0,148.0,145.0,90.0,130.0,156.0,112.0,146.0,164.0,177.0,153.0,165.0,133.0,134.0,165.0,164.0,90.0,171.0,187.0,138.0,160.0,118.0,165.0,160.0,178.0,171.0,148.0,165.0,181.0,146.0,149.0,162.0,142.0,146.0,160.0,177.0,142.0,153.0,158.0,129.0,146.0,177.0,122.0,133.0,162.0,112.0,155.0,184.0,131.0,130.0,145.0,156.0,154.0,173.0,176.0,164.0,145.0,181.0,156.0,130.0,153.0,166.0,171.0,160.0,162.0,177.0,169.0,142.0,131.0,160.0,178.0,144.0,158.0,195.0,178.0,160.0,148.0,136.0,153.0,144.0,156.0,147.0,164.0,129.0,144.0,128.0,118.0,176.0,148.0,195.0,129.0,181.0,158.0,145.0,117.0,153.0,163.0,173.0,164.0,177.0,140.0,177.0,146.0,160.0,133.0,114.0,142.0,164.0,130.0,127.0,187.0,133.0,172.0,94.0,116.0,129.0,163.0,164.0,132.0,195.0,156.0,142.0,142.0,128.0,160.0,181.0,118.0,166.0,178.0,173.0,146.0,195.0,158.0,160.0,164.0,153.0,165.0,160.0,187.0,117.0,153.0,116.0,163.0,156.0,128.0,163.0,153.0,162.0,352.0,160.0,112.0,164.0,142.0,118.0,154.0,164.0,133.0,201.0,112.0,118.0,129.0,160.0,112.0,178.0,142.0,148.0,156.0,178.0,142.0,154.0,176.0,112.0,154.0,184.0,177.0,134.0,142.0,153.0,130.0,90.0,144.0,176.0,187.0,142.0,177.0,146.0,171.0,161.0,181.0,132.0,168.0,184.0,136.0,134.0,184.0,195.0,193.0,149.0,131.0,130.0,184.0,129.0,156.0,101.0,136.0,118.0,134.0,128.0,196.0,193.0,181.0,134.0,155.0,156.0,164.0,142.0,133.0,133.0,118.0,130.0,136.0,153.0,169.0,173.0,177.0,187.0,131.0,187.0,154.0,149.0,156.0,122.0,173.0,190.0,127.0,158.0,130.0,127.0,132.0,138.0,153.0,130.0,112.0,184.0,160.0,140.0,153.0,196.0,176.0,142.0,195.0,153.0,118.0,161.0,158.0,163.0,164.0,118.0,162.0,164.0,178.0,154.0,140.0,177.0,144.0,118.0,145.0,136.0,177.0,178.0,178.0,160.0,140.0,166.0,148.0,146.0,138.0,129.0,156.0,163.0,160.0,176.0,173.0,163.0,158.0,184.0,131.0,140.0,127.0,160.0,161.0,118.0,153.0,129.0,145.0,160.0,187.0,164.0,149.0,156.0,160.0,161.0,148.0,172.0,177.0,136.0,153.0,193.0,156.0,163.0,178.0,111.0,160.0,131.0,130.0,177.0,142.0,153.0,155.0,142.0,160.0,142.0,177.0,112.0,164.0,164.0,172.0,352.0,116.0,154.0,153.0,184.0,130.0,142.0,176.0,148.0,176.0,128.0,133.0,149.0,176.0,122.0,181.0,130.0,176.0,153.0,187.0,132.0,153.0,128.0,130.0,153.0,181.0,147.0,181.0,163.0,154.0,187.0,118.0,146.0,187.0,148.0,163.0,161.0,133.0,154.0,177.0,196.0,163.0,116.0,156.0,176.0,201.0,172.0,173.0,122.0,117.0,164.0,156.0,169.0,153.0,118.0,153.0,94.0,144.0,201.0,178.0,129.0,132.0,117.0,118.0,181.0,94.0,176.0,193.0,142.0,172.0,130.0,178.0,130.0,165.0,142.0,114.0,190.0,172.0,163.0,153.0,176.0,176.0,156.0,171.0,178.0,163.0,116.0,136.0,201.0,173.0,156.0,181.0,153.0,161.0,129.0,187.0,184.0,153.0,130.0,181.0,154.0,160.0,153.0,136.0,164.0,155.0,160.0,131.0,177.0,131.0,153.0,136.0,184.0,169.0,156.0,112.0,177.0,140.0,171.0,131.0,178.0,154.0,114.0,140.0,148.0,140.0,130.0,112.0,146.0,114.0,118.0,138.0,134.0,147.0,133.0,118.0,181.0,118.0,352.0,163.0,160.0,118.0,169.0,193.0,147.0,168.0,116.0,133.0,128.0,140.0,163.0,112.0,193.0,122.0,142.0,129.0,142.0,173.0,164.0,136.0,112.0,140.0,177.0,101.0,116.0,160.0,164.0,131.0,142.0,153.0,155.0,161.0,131.0,153.0,131.0,176.0,190.0,128.0,131.0,176.0,162.0,122.0,162.0,156.0,352.0,156.0,176.0,111.0,153.0,156.0,176.0,148.0,128.0,193.0,173.0,145.0,177.0,193.0,128.0,196.0,130.0,146.0,145.0,160.0,160.0,142.0,145.0,118.0,142.0,176.0,142.0,94.0,153.0,138.0,134.0,196.0,164.0,153.0,187.0,163.0,164.0,146.0,128.0,187.0,128.0,163.0,177.0,142.0,164.0,153.0,158.0,163.0,114.0,153.0,193.0,112.0,176.0,161.0,130.0,146.0,118.0,133.0,163.0,136.0,112.0,160.0,160.0,160.0,153.0,163.0,195.0,176.0,172.0,156.0,133.0,146.0,160.0,133.0,149.0,165.0,201.0,116.0,165.0,160.0,155.0,166.0,187.0,148.0,130.0,116.0,142.0,133.0,164.0,156.0,134.0,184.0,201.0,190.0,142.0,184.0,136.0,196.0,161.0,136.0,142.0,94.0,171.0,153.0,130.0,196.0,130.0,147.0,156.0,163.0,136.0,118.0,133.0,166.0,163.0,160.0,178.0,195.0,166.0,130.0,142.0,142.0,187.0,148.0,181.0,130.0,129.0,142.0,112.0,131.0,146.0,140.0,129.0,169.0,112.0,136.0,148.0,128.0,176.0,118.0,164.0,171.0,172.0,149.0,164.0,112.0,136.0,178.0,160.0,172.0,130.0,129.0,161.0,160.0,153.0,164.0,94.0,178.0,195.0,178.0,195.0,133.0,156.0,153.0,133.0,136.0,138.0,177.0,133.0,146.0,148.0,90.0,134.0,164.0,136.0,127.0,112.0,160.0,160.0,161.0,116.0,145.0,161.0,177.0,176.0,153.0,161.0,165.0,146.0,142.0,173.0,196.0,134.0,176.0,171.0,149.0,133.0,131.0,153.0,134.0,136.0,177.0,160.0,352.0,187.0,160.0,153.0,145.0,127.0,118.0,142.0,162.0,144.0,177.0,117.0,90.0,145.0,173.0,178.0,163.0,133.0,176.0,156.0,131.0,138.0,134.0,144.0,162.0,122.0,160.0,176.0,111.0,136.0,147.0,154.0,117.0,176.0,136.0,153.0,176.0,173.0,161.0,116.0,117.0,133.0,153.0,134.0,160.0,172.0,134.0,130.0,142.0,114.0,166.0,146.0,129.0,146.0,164.0,196.0,160.0,173.0,178.0,160.0,133.0,173.0,133.0,148.0,153.0,158.0,131.0,147.0,154.0,184.0,177.0,136.0,154.0,190.0,171.0,171.0,129.0,117.0,111.0,153.0,181.0,160.0,158.0,162.0,127.0,169.0,111.0,156.0,136.0,112.0,149.0,164.0,187.0,145.0,164.0,352.0,133.0,181.0,163.0,163.0,136.0,164.0,165.0,128.0,142.0,130.0,196.0,171.0,173.0,129.0,156.0,169.0,133.0,169.0,161.0,153.0,112.0,168.0,147.0,136.0,163.0,114.0,129.0,187.0,153.0,158.0,118.0,129.0,181.0,134.0,132.0,165.0,165.0,173.0,114.0,145.0,101.0,138.0,136.0,112.0,147.0,153.0,117.0,131.0,168.0,161.0,144.0,163.0,136.0,132.0,196.0,132.0,352.0,177.0,164.0,111.0,153.0,129.0,165.0,184.0,160.0,116.0,101.0,164.0,162.0,168.0,147.0,166.0,122.0,196.0,136.0,160.0,122.0,116.0,169.0,156.0,142.0,148.0,118.0,155.0,163.0,195.0,173.0,112.0,164.0,178.0,142.0,178.0,134.0,153.0,156.0,160.0,131.0,142.0,178.0,140.0,112.0,178.0,116.0,184.0,177.0,176.0,136.0,142.0,138.0,146.0,155.0,130.0,153.0,134.0,164.0,201.0,101.0,133.0,131.0,173.0,131.0,148.0,181.0,111.0,190.0,196.0,161.0,145.0,140.0,131.0,129.0,155.0,112.0,117.0,164.0,111.0,154.0,161.0,158.0,153.0,133.0,153.0,160.0,196.0,201.0,145.0,166.0,116.0,164.0,134.0,176.0,146.0,158.0,181.0,176.0,187.0,160.0,163.0,129.0,160.0,130.0,160.0,129.0,196.0,133.0,101.0,128.0,112.0,133.0,129.0,177.0,136.0,112.0,112.0,145.0,173.0,138.0,134.0,145.0,161.0,176.0,136.0,90.0,168.0,122.0,153.0,153.0,160.0,181.0,130.0,145.0,144.0,129.0,178.0,163.0,162.0,94.0,156.0,144.0,148.0,173.0,153.0,111.0,153.0,133.0,156.0,117.0,133.0,181.0,156.0,176.0,129.0,146.0,145.0,112.0,144.0,154.0,90.0,111.0,173.0,173.0,171.0,160.0,112.0,138.0,166.0,161.0,146.0,149.0,352.0,111.0,181.0,164.0,132.0,122.0,133.0,94.0,153.0,196.0,156.0,177.0,160.0,178.0,160.0,164.0,168.0,130.0,127.0,142.0,136.0,148.0,131.0,134.0,134.0,166.0,163.0,117.0,112.0,146.0,160.0,133.0,190.0,116.0,160.0,181.0,153.0,131.0,160.0,153.0,161.0,138.0,178.0,130.0,184.0,178.0,160.0,145.0,164.0,130.0,114.0,153.0,130.0,173.0,129.0,190.0,138.0,134.0,128.0,187.0,134.0,164.0,177.0,352.0,195.0,136.0,161.0,195.0,156.0,136.0,154.0,94.0,142.0,129.0,164.0,114.0,195.0,177.0,131.0,153.0,122.0,156.0,168.0,132.0,196.0,164.0,142.0,161.0,162.0,118.0,112.0,128.0,127.0,156.0,352.0,172.0,142.0,165.0,171.0,168.0,130.0,131.0,155.0,153.0,162.0,142.0,128.0,163.0,148.0,181.0,171.0,160.0,130.0,156.0,177.0,158.0,177.0,163.0,94.0,136.0,142.0,118.0,130.0,128.0,142.0,118.0,158.0,146.0,145.0,122.0,130.0,112.0,178.0,169.0,163.0,133.0,134.0,178.0,155.0,169.0,130.0,129.0,129.0,147.0,171.0,153.0,122.0,129.0,193.0,184.0,158.0,160.0,132.0,187.0,156.0,114.0,114.0,140.0,154.0,164.0,142.0,177.0,94.0,168.0,117.0,146.0,160.0,117.0,160.0,144.0,172.0,153.0,173.0,133.0,187.0,201.0,154.0,142.0,201.0,193.0,176.0,90.0,154.0,155.0,145.0,112.0,131.0,352.0,178.0,181.0,111.0,145.0,173.0,177.0,111.0,176.0,164.0,128.0,128.0,145.0,148.0,133.0,144.0,163.0,118.0,160.0,142.0,128.0,147.0,122.0,129.0,155.0,142.0,129.0,178.0,149.0,138.0,140.0,149.0,117.0,94.0,193.0,163.0,116.0,196.0,164.0,158.0,146.0,116.0,118.0,116.0,132.0,142.0,181.0,131.0,148.0,154.0,160.0,164.0,177.0,90.0,181.0,142.0,176.0,195.0,131.0,176.0,112.0,142.0,196.0,163.0,129.0,118.0,181.0,173.0,161.0,147.0,155.0,128.0,142.0,118.0,177.0,146.0,131.0,145.0,118.0,133.0,142.0,173.0,134.0,156.0,130.0,129.0,172.0,128.0,128.0,161.0,190.0,177.0,128.0,158.0,148.0,132.0,118.0,134.0,160.0,149.0,128.0,176.0,161.0,172.0,148.0,133.0,131.0,148.0,140.0,164.0,131.0,145.0,101.0,90.0,142.0,164.0,164.0,133.0,138.0,173.0,153.0,181.0,118.0,163.0,164.0,131.0,172.0,156.0,161.0,158.0,160.0,122.0,156.0,132.0,112.0,176.0,176.0,181.0,176.0,164.0,187.0,127.0,114.0,161.0,148.0,160.0,181.0,165.0,160.0,173.0,117.0,156.0,187.0,181.0,173.0,118.0,173.0,187.0,187.0,177.0,129.0,164.0,164.0,187.0,163.0,160.0,201.0,169.0,148.0,195.0,163.0,112.0,129.0,187.0,149.0,145.0,176.0,201.0,176.0,156.0,130.0,156.0,156.0,163.0,101.0,177.0,155.0,149.0,128.0,163.0,142.0,190.0,169.0,142.0,129.0,147.0,160.0,156.0,173.0,153.0,156.0,129.0,352.0,160.0,154.0,155.0,162.0,165.0,132.0,138.0,158.0,142.0,156.0,171.0,176.0,196.0,142.0,196.0,130.0,190.0,101.0,130.0,94.0,352.0,116.0,122.0,146.0,118.0,187.0,172.0,128.0,118.0,129.0,156.0,158.0,163.0,145.0,176.0,153.0,187.0,118.0,153.0,130.0,153.0,149.0,196.0,153.0,133.0,161.0,147.0,112.0,181.0,153.0,145.0,171.0,158.0,156.0,153.0,155.0,166.0,178.0,94.0,129.0,156.0,136.0,144.0,196.0,176.0,112.0,153.0,195.0,133.0,156.0,149.0,146.0,147.0,171.0,153.0,133.0,178.0,153.0,177.0,142.0,163.0,144.0,163.0,130.0,171.0,130.0,181.0,147.0,134.0,156.0,149.0,140.0,196.0,164.0,142.0,169.0,142.0,132.0,127.0,176.0,112.0,158.0,114.0,153.0,127.0,160.0,176.0,178.0,127.0,161.0,112.0,149.0,149.0,158.0,145.0,178.0,112.0,112.0,352.0,136.0,129.0,178.0,130.0,144.0,153.0,145.0,148.0,176.0,147.0,187.0,166.0,160.0,146.0,90.0,163.0,148.0,196.0,184.0,129.0,169.0,352.0,134.0,130.0,201.0,161.0,134.0,112.0,118.0,145.0,196.0,122.0,171.0,130.0,171.0,154.0,163.0,156.0,158.0,136.0,140.0,160.0,131.0,156.0,156.0,160.0,133.0,178.0,153.0,190.0,133.0,178.0,148.0,142.0,117.0,169.0,130.0,129.0,164.0,162.0,156.0,177.0,201.0,161.0,136.0,177.0,142.0,130.0,161.0,117.0,142.0,146.0,176.0,118.0,94.0,153.0,169.0,144.0,176.0,127.0,132.0,158.0,156.0,156.0,147.0,129.0,178.0,118.0,133.0,128.0,134.0,130.0,161.0,164.0,178.0,153.0,173.0,181.0,201.0,111.0,136.0,160.0,181.0,142.0,164.0,145.0,131.0,162.0,118.0,177.0,138.0,101.0,177.0,165.0,164.0,169.0,112.0,153.0,153.0,117.0,156.0,162.0,352.0,153.0,158.0,136.0,90.0,184.0,118.0,122.0,127.0,196.0,156.0,140.0,116.0,130.0,352.0,169.0,134.0,114.0,187.0,187.0,176.0,112.0,136.0,129.0,122.0,130.0,118.0,181.0,112.0,153.0,160.0,187.0,201.0,164.0,163.0,178.0,168.0,190.0,136.0,154.0,158.0,153.0,117.0,201.0,114.0,142.0,155.0,118.0,117.0,129.0,156.0,112.0,144.0,132.0,90.0,90.0,131.0,178.0,153.0,142.0,131.0,161.0,132.0,90.0,140.0,161.0,184.0,164.0,181.0,156.0,130.0,181.0,142.0,131.0,177.0,148.0,164.0,133.0,112.0,201.0,147.0,142.0,163.0,176.0,160.0,116.0,158.0,142.0,131.0,173.0,132.0,195.0,160.0,160.0,169.0,148.0,147.0,136.0,128.0,148.0,112.0,122.0,129.0,138.0,90.0,112.0,155.0,114.0,131.0,94.0,128.0,193.0,130.0,158.0,166.0,144.0,132.0,111.0,184.0,130.0,184.0,140.0,158.0,129.0,128.0,201.0,165.0,117.0,117.0,177.0,144.0],\"y0\":\" \",\"yaxis\":\"y\",\"type\":\"box\"}],                        {\"template\":{\"data\":{\"barpolar\":[{\"marker\":{\"line\":{\"color\":\"rgb(17,17,17)\",\"width\":0.5},\"pattern\":{\"fillmode\":\"overlay\",\"size\":10,\"solidity\":0.2}},\"type\":\"barpolar\"}],\"bar\":[{\"error_x\":{\"color\":\"#f2f5fa\"},\"error_y\":{\"color\":\"#f2f5fa\"},\"marker\":{\"line\":{\"color\":\"rgb(17,17,17)\",\"width\":0.5},\"pattern\":{\"fillmode\":\"overlay\",\"size\":10,\"solidity\":0.2}},\"type\":\"bar\"}],\"carpet\":[{\"aaxis\":{\"endlinecolor\":\"#A2B1C6\",\"gridcolor\":\"#506784\",\"linecolor\":\"#506784\",\"minorgridcolor\":\"#506784\",\"startlinecolor\":\"#A2B1C6\"},\"baxis\":{\"endlinecolor\":\"#A2B1C6\",\"gridcolor\":\"#506784\",\"linecolor\":\"#506784\",\"minorgridcolor\":\"#506784\",\"startlinecolor\":\"#A2B1C6\"},\"type\":\"carpet\"}],\"choropleth\":[{\"colorbar\":{\"outlinewidth\":0,\"ticks\":\"\"},\"type\":\"choropleth\"}],\"contourcarpet\":[{\"colorbar\":{\"outlinewidth\":0,\"ticks\":\"\"},\"type\":\"contourcarpet\"}],\"contour\":[{\"colorbar\":{\"outlinewidth\":0,\"ticks\":\"\"},\"colorscale\":[[0.0,\"#0d0887\"],[0.1111111111111111,\"#46039f\"],[0.2222222222222222,\"#7201a8\"],[0.3333333333333333,\"#9c179e\"],[0.4444444444444444,\"#bd3786\"],[0.5555555555555556,\"#d8576b\"],[0.6666666666666666,\"#ed7953\"],[0.7777777777777778,\"#fb9f3a\"],[0.8888888888888888,\"#fdca26\"],[1.0,\"#f0f921\"]],\"type\":\"contour\"}],\"heatmapgl\":[{\"colorbar\":{\"outlinewidth\":0,\"ticks\":\"\"},\"colorscale\":[[0.0,\"#0d0887\"],[0.1111111111111111,\"#46039f\"],[0.2222222222222222,\"#7201a8\"],[0.3333333333333333,\"#9c179e\"],[0.4444444444444444,\"#bd3786\"],[0.5555555555555556,\"#d8576b\"],[0.6666666666666666,\"#ed7953\"],[0.7777777777777778,\"#fb9f3a\"],[0.8888888888888888,\"#fdca26\"],[1.0,\"#f0f921\"]],\"type\":\"heatmapgl\"}],\"heatmap\":[{\"colorbar\":{\"outlinewidth\":0,\"ticks\":\"\"},\"colorscale\":[[0.0,\"#0d0887\"],[0.1111111111111111,\"#46039f\"],[0.2222222222222222,\"#7201a8\"],[0.3333333333333333,\"#9c179e\"],[0.4444444444444444,\"#bd3786\"],[0.5555555555555556,\"#d8576b\"],[0.6666666666666666,\"#ed7953\"],[0.7777777777777778,\"#fb9f3a\"],[0.8888888888888888,\"#fdca26\"],[1.0,\"#f0f921\"]],\"type\":\"heatmap\"}],\"histogram2dcontour\":[{\"colorbar\":{\"outlinewidth\":0,\"ticks\":\"\"},\"colorscale\":[[0.0,\"#0d0887\"],[0.1111111111111111,\"#46039f\"],[0.2222222222222222,\"#7201a8\"],[0.3333333333333333,\"#9c179e\"],[0.4444444444444444,\"#bd3786\"],[0.5555555555555556,\"#d8576b\"],[0.6666666666666666,\"#ed7953\"],[0.7777777777777778,\"#fb9f3a\"],[0.8888888888888888,\"#fdca26\"],[1.0,\"#f0f921\"]],\"type\":\"histogram2dcontour\"}],\"histogram2d\":[{\"colorbar\":{\"outlinewidth\":0,\"ticks\":\"\"},\"colorscale\":[[0.0,\"#0d0887\"],[0.1111111111111111,\"#46039f\"],[0.2222222222222222,\"#7201a8\"],[0.3333333333333333,\"#9c179e\"],[0.4444444444444444,\"#bd3786\"],[0.5555555555555556,\"#d8576b\"],[0.6666666666666666,\"#ed7953\"],[0.7777777777777778,\"#fb9f3a\"],[0.8888888888888888,\"#fdca26\"],[1.0,\"#f0f921\"]],\"type\":\"histogram2d\"}],\"histogram\":[{\"marker\":{\"pattern\":{\"fillmode\":\"overlay\",\"size\":10,\"solidity\":0.2}},\"type\":\"histogram\"}],\"mesh3d\":[{\"colorbar\":{\"outlinewidth\":0,\"ticks\":\"\"},\"type\":\"mesh3d\"}],\"parcoords\":[{\"line\":{\"colorbar\":{\"outlinewidth\":0,\"ticks\":\"\"}},\"type\":\"parcoords\"}],\"pie\":[{\"automargin\":true,\"type\":\"pie\"}],\"scatter3d\":[{\"line\":{\"colorbar\":{\"outlinewidth\":0,\"ticks\":\"\"}},\"marker\":{\"colorbar\":{\"outlinewidth\":0,\"ticks\":\"\"}},\"type\":\"scatter3d\"}],\"scattercarpet\":[{\"marker\":{\"colorbar\":{\"outlinewidth\":0,\"ticks\":\"\"}},\"type\":\"scattercarpet\"}],\"scattergeo\":[{\"marker\":{\"colorbar\":{\"outlinewidth\":0,\"ticks\":\"\"}},\"type\":\"scattergeo\"}],\"scattergl\":[{\"marker\":{\"line\":{\"color\":\"#283442\"}},\"type\":\"scattergl\"}],\"scattermapbox\":[{\"marker\":{\"colorbar\":{\"outlinewidth\":0,\"ticks\":\"\"}},\"type\":\"scattermapbox\"}],\"scatterpolargl\":[{\"marker\":{\"colorbar\":{\"outlinewidth\":0,\"ticks\":\"\"}},\"type\":\"scatterpolargl\"}],\"scatterpolar\":[{\"marker\":{\"colorbar\":{\"outlinewidth\":0,\"ticks\":\"\"}},\"type\":\"scatterpolar\"}],\"scatter\":[{\"marker\":{\"line\":{\"color\":\"#283442\"}},\"type\":\"scatter\"}],\"scatterternary\":[{\"marker\":{\"colorbar\":{\"outlinewidth\":0,\"ticks\":\"\"}},\"type\":\"scatterternary\"}],\"surface\":[{\"colorbar\":{\"outlinewidth\":0,\"ticks\":\"\"},\"colorscale\":[[0.0,\"#0d0887\"],[0.1111111111111111,\"#46039f\"],[0.2222222222222222,\"#7201a8\"],[0.3333333333333333,\"#9c179e\"],[0.4444444444444444,\"#bd3786\"],[0.5555555555555556,\"#d8576b\"],[0.6666666666666666,\"#ed7953\"],[0.7777777777777778,\"#fb9f3a\"],[0.8888888888888888,\"#fdca26\"],[1.0,\"#f0f921\"]],\"type\":\"surface\"}],\"table\":[{\"cells\":{\"fill\":{\"color\":\"#506784\"},\"line\":{\"color\":\"rgb(17,17,17)\"}},\"header\":{\"fill\":{\"color\":\"#2a3f5f\"},\"line\":{\"color\":\"rgb(17,17,17)\"}},\"type\":\"table\"}]},\"layout\":{\"annotationdefaults\":{\"arrowcolor\":\"#f2f5fa\",\"arrowhead\":0,\"arrowwidth\":1},\"autotypenumbers\":\"strict\",\"coloraxis\":{\"colorbar\":{\"outlinewidth\":0,\"ticks\":\"\"}},\"colorscale\":{\"diverging\":[[0,\"#8e0152\"],[0.1,\"#c51b7d\"],[0.2,\"#de77ae\"],[0.3,\"#f1b6da\"],[0.4,\"#fde0ef\"],[0.5,\"#f7f7f7\"],[0.6,\"#e6f5d0\"],[0.7,\"#b8e186\"],[0.8,\"#7fbc41\"],[0.9,\"#4d9221\"],[1,\"#276419\"]],\"sequential\":[[0.0,\"#0d0887\"],[0.1111111111111111,\"#46039f\"],[0.2222222222222222,\"#7201a8\"],[0.3333333333333333,\"#9c179e\"],[0.4444444444444444,\"#bd3786\"],[0.5555555555555556,\"#d8576b\"],[0.6666666666666666,\"#ed7953\"],[0.7777777777777778,\"#fb9f3a\"],[0.8888888888888888,\"#fdca26\"],[1.0,\"#f0f921\"]],\"sequentialminus\":[[0.0,\"#0d0887\"],[0.1111111111111111,\"#46039f\"],[0.2222222222222222,\"#7201a8\"],[0.3333333333333333,\"#9c179e\"],[0.4444444444444444,\"#bd3786\"],[0.5555555555555556,\"#d8576b\"],[0.6666666666666666,\"#ed7953\"],[0.7777777777777778,\"#fb9f3a\"],[0.8888888888888888,\"#fdca26\"],[1.0,\"#f0f921\"]]},\"colorway\":[\"#636efa\",\"#EF553B\",\"#00cc96\",\"#ab63fa\",\"#FFA15A\",\"#19d3f3\",\"#FF6692\",\"#B6E880\",\"#FF97FF\",\"#FECB52\"],\"font\":{\"color\":\"#f2f5fa\"},\"geo\":{\"bgcolor\":\"rgb(17,17,17)\",\"lakecolor\":\"rgb(17,17,17)\",\"landcolor\":\"rgb(17,17,17)\",\"showlakes\":true,\"showland\":true,\"subunitcolor\":\"#506784\"},\"hoverlabel\":{\"align\":\"left\"},\"hovermode\":\"closest\",\"mapbox\":{\"style\":\"dark\"},\"paper_bgcolor\":\"rgb(17,17,17)\",\"plot_bgcolor\":\"rgb(17,17,17)\",\"polar\":{\"angularaxis\":{\"gridcolor\":\"#506784\",\"linecolor\":\"#506784\",\"ticks\":\"\"},\"bgcolor\":\"rgb(17,17,17)\",\"radialaxis\":{\"gridcolor\":\"#506784\",\"linecolor\":\"#506784\",\"ticks\":\"\"}},\"scene\":{\"xaxis\":{\"backgroundcolor\":\"rgb(17,17,17)\",\"gridcolor\":\"#506784\",\"gridwidth\":2,\"linecolor\":\"#506784\",\"showbackground\":true,\"ticks\":\"\",\"zerolinecolor\":\"#C8D4E3\"},\"yaxis\":{\"backgroundcolor\":\"rgb(17,17,17)\",\"gridcolor\":\"#506784\",\"gridwidth\":2,\"linecolor\":\"#506784\",\"showbackground\":true,\"ticks\":\"\",\"zerolinecolor\":\"#C8D4E3\"},\"zaxis\":{\"backgroundcolor\":\"rgb(17,17,17)\",\"gridcolor\":\"#506784\",\"gridwidth\":2,\"linecolor\":\"#506784\",\"showbackground\":true,\"ticks\":\"\",\"zerolinecolor\":\"#C8D4E3\"}},\"shapedefaults\":{\"line\":{\"color\":\"#f2f5fa\"}},\"sliderdefaults\":{\"bgcolor\":\"#C8D4E3\",\"bordercolor\":\"rgb(17,17,17)\",\"borderwidth\":1,\"tickwidth\":0},\"ternary\":{\"aaxis\":{\"gridcolor\":\"#506784\",\"linecolor\":\"#506784\",\"ticks\":\"\"},\"baxis\":{\"gridcolor\":\"#506784\",\"linecolor\":\"#506784\",\"ticks\":\"\"},\"bgcolor\":\"rgb(17,17,17)\",\"caxis\":{\"gridcolor\":\"#506784\",\"linecolor\":\"#506784\",\"ticks\":\"\"}},\"title\":{\"x\":0.05},\"updatemenudefaults\":{\"bgcolor\":\"#506784\",\"borderwidth\":0},\"xaxis\":{\"automargin\":true,\"gridcolor\":\"#283442\",\"linecolor\":\"#506784\",\"ticks\":\"\",\"title\":{\"standoff\":15},\"zerolinecolor\":\"#283442\",\"zerolinewidth\":2},\"yaxis\":{\"automargin\":true,\"gridcolor\":\"#283442\",\"linecolor\":\"#506784\",\"ticks\":\"\",\"title\":{\"standoff\":15},\"zerolinecolor\":\"#283442\",\"zerolinewidth\":2}}},\"xaxis\":{\"anchor\":\"y\",\"domain\":[0.0,1.0]},\"yaxis\":{\"anchor\":\"x\",\"domain\":[0.0,1.0],\"title\":{\"text\":\"AOV Values\"}},\"legend\":{\"tracegroupgap\":0},\"margin\":{\"t\":60},\"boxmode\":\"group\",\"title\":{\"text\":\"Average Order Value Box Plot\"},\"showlegend\":true},                        {\"responsive\": true}                    ).then(function(){\n",
              "                            \n",
              "var gd = document.getElementById('099f7f93-b5ff-48ee-abb9-facf92c10ef0');\n",
              "var x = new MutationObserver(function (mutations, observer) {{\n",
              "        var display = window.getComputedStyle(gd).display;\n",
              "        if (!display || display === 'none') {{\n",
              "            console.log([gd, 'removed!']);\n",
              "            Plotly.purge(gd);\n",
              "            observer.disconnect();\n",
              "        }}\n",
              "}});\n",
              "\n",
              "// Listen for the removal of the full notebook cells\n",
              "var notebookContainer = gd.closest('#notebook-container');\n",
              "if (notebookContainer) {{\n",
              "    x.observe(notebookContainer, {childList: true});\n",
              "}}\n",
              "\n",
              "// Listen for the clearing of the current output cell\n",
              "var outputEl = gd.closest('.output');\n",
              "if (outputEl) {{\n",
              "    x.observe(outputEl, {childList: true});\n",
              "}}\n",
              "\n",
              "                        })                };                            </script>        </div>\n",
              "</body>\n",
              "</html>"
            ]
          },
          "metadata": {}
        }
      ]
    },
    {
      "cell_type": "code",
      "source": [
        "excl_outliers.describe()"
      ],
      "metadata": {
        "colab": {
          "base_uri": "https://localhost:8080/",
          "height": 300
        },
        "id": "D5-rVbMAOXfE",
        "outputId": "67560e02-6e26-4c4b-dc20-f0173278053c"
      },
      "execution_count": 16,
      "outputs": [
        {
          "output_type": "execute_result",
          "data": {
            "text/plain": [
              "          order_id      shop_id      user_id   order_amount  total_items  \\\n",
              "count  4954.000000  4954.000000  4954.000000    4954.000000  4954.000000   \n",
              "mean   2498.990916    49.819540   848.919257    2717.367784     8.851029   \n",
              "std    1444.498907    29.014845    87.846007   41155.996469   116.857286   \n",
              "min       1.000000     1.000000   607.000000      90.000000     1.000000   \n",
              "25%    1248.250000    24.000000   775.000000     163.000000     1.000000   \n",
              "50%    2494.500000    50.000000   849.000000     284.000000     2.000000   \n",
              "75%    3750.750000    74.000000   925.000000     390.000000     3.000000   \n",
              "max    5000.000000   100.000000   999.000000  704000.000000  2000.000000   \n",
              "\n",
              "               aov  \n",
              "count  4954.000000  \n",
              "mean    152.475575  \n",
              "std      31.260218  \n",
              "min      90.000000  \n",
              "25%     132.000000  \n",
              "50%     153.000000  \n",
              "75%     168.000000  \n",
              "max     352.000000  "
            ],
            "text/html": [
              "\n",
              "  <div id=\"df-84da3e0f-90b1-441f-bdff-c02e38b95035\">\n",
              "    <div class=\"colab-df-container\">\n",
              "      <div>\n",
              "<style scoped>\n",
              "    .dataframe tbody tr th:only-of-type {\n",
              "        vertical-align: middle;\n",
              "    }\n",
              "\n",
              "    .dataframe tbody tr th {\n",
              "        vertical-align: top;\n",
              "    }\n",
              "\n",
              "    .dataframe thead th {\n",
              "        text-align: right;\n",
              "    }\n",
              "</style>\n",
              "<table border=\"1\" class=\"dataframe\">\n",
              "  <thead>\n",
              "    <tr style=\"text-align: right;\">\n",
              "      <th></th>\n",
              "      <th>order_id</th>\n",
              "      <th>shop_id</th>\n",
              "      <th>user_id</th>\n",
              "      <th>order_amount</th>\n",
              "      <th>total_items</th>\n",
              "      <th>aov</th>\n",
              "    </tr>\n",
              "  </thead>\n",
              "  <tbody>\n",
              "    <tr>\n",
              "      <th>count</th>\n",
              "      <td>4954.000000</td>\n",
              "      <td>4954.000000</td>\n",
              "      <td>4954.000000</td>\n",
              "      <td>4954.000000</td>\n",
              "      <td>4954.000000</td>\n",
              "      <td>4954.000000</td>\n",
              "    </tr>\n",
              "    <tr>\n",
              "      <th>mean</th>\n",
              "      <td>2498.990916</td>\n",
              "      <td>49.819540</td>\n",
              "      <td>848.919257</td>\n",
              "      <td>2717.367784</td>\n",
              "      <td>8.851029</td>\n",
              "      <td>152.475575</td>\n",
              "    </tr>\n",
              "    <tr>\n",
              "      <th>std</th>\n",
              "      <td>1444.498907</td>\n",
              "      <td>29.014845</td>\n",
              "      <td>87.846007</td>\n",
              "      <td>41155.996469</td>\n",
              "      <td>116.857286</td>\n",
              "      <td>31.260218</td>\n",
              "    </tr>\n",
              "    <tr>\n",
              "      <th>min</th>\n",
              "      <td>1.000000</td>\n",
              "      <td>1.000000</td>\n",
              "      <td>607.000000</td>\n",
              "      <td>90.000000</td>\n",
              "      <td>1.000000</td>\n",
              "      <td>90.000000</td>\n",
              "    </tr>\n",
              "    <tr>\n",
              "      <th>25%</th>\n",
              "      <td>1248.250000</td>\n",
              "      <td>24.000000</td>\n",
              "      <td>775.000000</td>\n",
              "      <td>163.000000</td>\n",
              "      <td>1.000000</td>\n",
              "      <td>132.000000</td>\n",
              "    </tr>\n",
              "    <tr>\n",
              "      <th>50%</th>\n",
              "      <td>2494.500000</td>\n",
              "      <td>50.000000</td>\n",
              "      <td>849.000000</td>\n",
              "      <td>284.000000</td>\n",
              "      <td>2.000000</td>\n",
              "      <td>153.000000</td>\n",
              "    </tr>\n",
              "    <tr>\n",
              "      <th>75%</th>\n",
              "      <td>3750.750000</td>\n",
              "      <td>74.000000</td>\n",
              "      <td>925.000000</td>\n",
              "      <td>390.000000</td>\n",
              "      <td>3.000000</td>\n",
              "      <td>168.000000</td>\n",
              "    </tr>\n",
              "    <tr>\n",
              "      <th>max</th>\n",
              "      <td>5000.000000</td>\n",
              "      <td>100.000000</td>\n",
              "      <td>999.000000</td>\n",
              "      <td>704000.000000</td>\n",
              "      <td>2000.000000</td>\n",
              "      <td>352.000000</td>\n",
              "    </tr>\n",
              "  </tbody>\n",
              "</table>\n",
              "</div>\n",
              "      <button class=\"colab-df-convert\" onclick=\"convertToInteractive('df-84da3e0f-90b1-441f-bdff-c02e38b95035')\"\n",
              "              title=\"Convert this dataframe to an interactive table.\"\n",
              "              style=\"display:none;\">\n",
              "        \n",
              "  <svg xmlns=\"http://www.w3.org/2000/svg\" height=\"24px\"viewBox=\"0 0 24 24\"\n",
              "       width=\"24px\">\n",
              "    <path d=\"M0 0h24v24H0V0z\" fill=\"none\"/>\n",
              "    <path d=\"M18.56 5.44l.94 2.06.94-2.06 2.06-.94-2.06-.94-.94-2.06-.94 2.06-2.06.94zm-11 1L8.5 8.5l.94-2.06 2.06-.94-2.06-.94L8.5 2.5l-.94 2.06-2.06.94zm10 10l.94 2.06.94-2.06 2.06-.94-2.06-.94-.94-2.06-.94 2.06-2.06.94z\"/><path d=\"M17.41 7.96l-1.37-1.37c-.4-.4-.92-.59-1.43-.59-.52 0-1.04.2-1.43.59L10.3 9.45l-7.72 7.72c-.78.78-.78 2.05 0 2.83L4 21.41c.39.39.9.59 1.41.59.51 0 1.02-.2 1.41-.59l7.78-7.78 2.81-2.81c.8-.78.8-2.07 0-2.86zM5.41 20L4 18.59l7.72-7.72 1.47 1.35L5.41 20z\"/>\n",
              "  </svg>\n",
              "      </button>\n",
              "      \n",
              "  <style>\n",
              "    .colab-df-container {\n",
              "      display:flex;\n",
              "      flex-wrap:wrap;\n",
              "      gap: 12px;\n",
              "    }\n",
              "\n",
              "    .colab-df-convert {\n",
              "      background-color: #E8F0FE;\n",
              "      border: none;\n",
              "      border-radius: 50%;\n",
              "      cursor: pointer;\n",
              "      display: none;\n",
              "      fill: #1967D2;\n",
              "      height: 32px;\n",
              "      padding: 0 0 0 0;\n",
              "      width: 32px;\n",
              "    }\n",
              "\n",
              "    .colab-df-convert:hover {\n",
              "      background-color: #E2EBFA;\n",
              "      box-shadow: 0px 1px 2px rgba(60, 64, 67, 0.3), 0px 1px 3px 1px rgba(60, 64, 67, 0.15);\n",
              "      fill: #174EA6;\n",
              "    }\n",
              "\n",
              "    [theme=dark] .colab-df-convert {\n",
              "      background-color: #3B4455;\n",
              "      fill: #D2E3FC;\n",
              "    }\n",
              "\n",
              "    [theme=dark] .colab-df-convert:hover {\n",
              "      background-color: #434B5C;\n",
              "      box-shadow: 0px 1px 3px 1px rgba(0, 0, 0, 0.15);\n",
              "      filter: drop-shadow(0px 1px 2px rgba(0, 0, 0, 0.3));\n",
              "      fill: #FFFFFF;\n",
              "    }\n",
              "  </style>\n",
              "\n",
              "      <script>\n",
              "        const buttonEl =\n",
              "          document.querySelector('#df-84da3e0f-90b1-441f-bdff-c02e38b95035 button.colab-df-convert');\n",
              "        buttonEl.style.display =\n",
              "          google.colab.kernel.accessAllowed ? 'block' : 'none';\n",
              "\n",
              "        async function convertToInteractive(key) {\n",
              "          const element = document.querySelector('#df-84da3e0f-90b1-441f-bdff-c02e38b95035');\n",
              "          const dataTable =\n",
              "            await google.colab.kernel.invokeFunction('convertToInteractive',\n",
              "                                                     [key], {});\n",
              "          if (!dataTable) return;\n",
              "\n",
              "          const docLinkHtml = 'Like what you see? Visit the ' +\n",
              "            '<a target=\"_blank\" href=https://colab.research.google.com/notebooks/data_table.ipynb>data table notebook</a>'\n",
              "            + ' to learn more about interactive tables.';\n",
              "          element.innerHTML = '';\n",
              "          dataTable['output_type'] = 'display_data';\n",
              "          await google.colab.output.renderOutput(dataTable, element);\n",
              "          const docLink = document.createElement('div');\n",
              "          docLink.innerHTML = docLinkHtml;\n",
              "          element.appendChild(docLink);\n",
              "        }\n",
              "      </script>\n",
              "    </div>\n",
              "  </div>\n",
              "  "
            ]
          },
          "metadata": {},
          "execution_count": 16
        }
      ]
    },
    {
      "cell_type": "code",
      "source": [
        "print(f\"Order Amount Sum (${orders_df['order_amount'].sum()}) / Total Items Sum ({orders_df['total_items'].sum()}) = ${round(orders_df['order_amount'].sum() / orders_df['total_items'].sum(), 2)}\")\n",
        "print(f\"AOV Sum $({orders_df['aov'].sum()}) / Total Rows ({orders_df.shape[0]}) = {round(orders_df['aov'].sum() / orders_df.shape[0], 2)}\")"
      ],
      "metadata": {
        "colab": {
          "base_uri": "https://localhost:8080/"
        },
        "id": "i7zRY8YhAlQ9",
        "outputId": "11f54578-9e1d-4c46-cc91-97aff3889bd6"
      },
      "execution_count": 17,
      "outputs": [
        {
          "output_type": "stream",
          "name": "stdout",
          "text": [
            "Order Amount Sum ($15725640) / Total Items Sum (43936) = $357.92\n",
            "AOV Sum $(1938714.0) / Total Rows (5000) = 387.74\n"
          ]
        }
      ]
    },
    {
      "cell_type": "markdown",
      "source": [
        "## **Utility**\n",
        "\n",
        "As we mentioned earlier, in this dataset alone,  we can infer the average price of a customer's order using `aov`, but when combined with other features, we can glean much richer insights. For example, if we plot an area chart with AOV and the timestamps of customer purchases, we can determine the peak selling times on the platform, which in our graph seems to be at 9:00 PM. This information might be helpful for the marketing team in optimizing ads, for example. "
      ],
      "metadata": {
        "id": "BQvV_hocFeg8"
      }
    },
    {
      "cell_type": "code",
      "source": [
        "peak_hours = orders_df.groupby(orders_df['created_at'].dt.hour)['aov'].mean()\n",
        "\n",
        "fig4 = px.area(peak_hours, x=peak_hours.index, y='aov')\n",
        "fig4.update_xaxes(title_text=\"Hours\")\n",
        "fig4.update_yaxes(title_text=\"Average Order Value (AOV)\")\n",
        "fig4.update_layout(height=600, title='Peak Sales Hours', template='plotly_dark', showlegend=True)\n",
        "fig4.show()"
      ],
      "metadata": {
        "colab": {
          "base_uri": "https://localhost:8080/",
          "height": 617
        },
        "id": "UyBvKCO4dXv8",
        "outputId": "66a16b91-dd45-4dfc-917b-5c9f1edfc28e"
      },
      "execution_count": 18,
      "outputs": [
        {
          "output_type": "display_data",
          "data": {
            "text/html": [
              "<html>\n",
              "<head><meta charset=\"utf-8\" /></head>\n",
              "<body>\n",
              "    <div>            <script src=\"https://cdnjs.cloudflare.com/ajax/libs/mathjax/2.7.5/MathJax.js?config=TeX-AMS-MML_SVG\"></script><script type=\"text/javascript\">if (window.MathJax) {MathJax.Hub.Config({SVG: {font: \"STIX-Web\"}});}</script>                <script type=\"text/javascript\">window.PlotlyConfig = {MathJaxConfig: 'local'};</script>\n",
              "        <script src=\"https://cdn.plot.ly/plotly-2.8.3.min.js\"></script>                <div id=\"b0fbc0c4-801a-48d2-a53a-9660f4f6895f\" class=\"plotly-graph-div\" style=\"height:600px; width:100%;\"></div>            <script type=\"text/javascript\">                                    window.PLOTLYENV=window.PLOTLYENV || {};                                    if (document.getElementById(\"b0fbc0c4-801a-48d2-a53a-9660f4f6895f\")) {                    Plotly.newPlot(                        \"b0fbc0c4-801a-48d2-a53a-9660f4f6895f\",                        [{\"hovertemplate\":\"created_at=%{x}<br>aov=%{y}<extra></extra>\",\"legendgroup\":\"\",\"line\":{\"color\":\"#636efa\"},\"marker\":{\"symbol\":\"circle\"},\"mode\":\"lines\",\"name\":\"\",\"orientation\":\"v\",\"showlegend\":false,\"stackgroup\":\"1\",\"x\":[0,1,2,3,4,5,6,7,8,9,10,11,12,13,14,15,16,17,18,19,20,21,22,23],\"xaxis\":\"x\",\"y\":[152.26903553299493,382.05,151.44976076555025,363.92116182572613,517.5342465753424,557.2063492063492,273.5645933014354,484.03478260869565,154.3134328358209,537.9547738693467,382.17194570135746,388.87441860465117,405.4950495049505,391.3333333333333,404.12745098039215,283.00518134715026,425.7228260869565,377.37280701754383,427.88235294117646,416.85492227979273,403.1617647058824,664.5326633165829,511.27570093457945,266.1484716157205],\"yaxis\":\"y\",\"type\":\"scatter\"}],                        {\"template\":{\"data\":{\"barpolar\":[{\"marker\":{\"line\":{\"color\":\"rgb(17,17,17)\",\"width\":0.5},\"pattern\":{\"fillmode\":\"overlay\",\"size\":10,\"solidity\":0.2}},\"type\":\"barpolar\"}],\"bar\":[{\"error_x\":{\"color\":\"#f2f5fa\"},\"error_y\":{\"color\":\"#f2f5fa\"},\"marker\":{\"line\":{\"color\":\"rgb(17,17,17)\",\"width\":0.5},\"pattern\":{\"fillmode\":\"overlay\",\"size\":10,\"solidity\":0.2}},\"type\":\"bar\"}],\"carpet\":[{\"aaxis\":{\"endlinecolor\":\"#A2B1C6\",\"gridcolor\":\"#506784\",\"linecolor\":\"#506784\",\"minorgridcolor\":\"#506784\",\"startlinecolor\":\"#A2B1C6\"},\"baxis\":{\"endlinecolor\":\"#A2B1C6\",\"gridcolor\":\"#506784\",\"linecolor\":\"#506784\",\"minorgridcolor\":\"#506784\",\"startlinecolor\":\"#A2B1C6\"},\"type\":\"carpet\"}],\"choropleth\":[{\"colorbar\":{\"outlinewidth\":0,\"ticks\":\"\"},\"type\":\"choropleth\"}],\"contourcarpet\":[{\"colorbar\":{\"outlinewidth\":0,\"ticks\":\"\"},\"type\":\"contourcarpet\"}],\"contour\":[{\"colorbar\":{\"outlinewidth\":0,\"ticks\":\"\"},\"colorscale\":[[0.0,\"#0d0887\"],[0.1111111111111111,\"#46039f\"],[0.2222222222222222,\"#7201a8\"],[0.3333333333333333,\"#9c179e\"],[0.4444444444444444,\"#bd3786\"],[0.5555555555555556,\"#d8576b\"],[0.6666666666666666,\"#ed7953\"],[0.7777777777777778,\"#fb9f3a\"],[0.8888888888888888,\"#fdca26\"],[1.0,\"#f0f921\"]],\"type\":\"contour\"}],\"heatmapgl\":[{\"colorbar\":{\"outlinewidth\":0,\"ticks\":\"\"},\"colorscale\":[[0.0,\"#0d0887\"],[0.1111111111111111,\"#46039f\"],[0.2222222222222222,\"#7201a8\"],[0.3333333333333333,\"#9c179e\"],[0.4444444444444444,\"#bd3786\"],[0.5555555555555556,\"#d8576b\"],[0.6666666666666666,\"#ed7953\"],[0.7777777777777778,\"#fb9f3a\"],[0.8888888888888888,\"#fdca26\"],[1.0,\"#f0f921\"]],\"type\":\"heatmapgl\"}],\"heatmap\":[{\"colorbar\":{\"outlinewidth\":0,\"ticks\":\"\"},\"colorscale\":[[0.0,\"#0d0887\"],[0.1111111111111111,\"#46039f\"],[0.2222222222222222,\"#7201a8\"],[0.3333333333333333,\"#9c179e\"],[0.4444444444444444,\"#bd3786\"],[0.5555555555555556,\"#d8576b\"],[0.6666666666666666,\"#ed7953\"],[0.7777777777777778,\"#fb9f3a\"],[0.8888888888888888,\"#fdca26\"],[1.0,\"#f0f921\"]],\"type\":\"heatmap\"}],\"histogram2dcontour\":[{\"colorbar\":{\"outlinewidth\":0,\"ticks\":\"\"},\"colorscale\":[[0.0,\"#0d0887\"],[0.1111111111111111,\"#46039f\"],[0.2222222222222222,\"#7201a8\"],[0.3333333333333333,\"#9c179e\"],[0.4444444444444444,\"#bd3786\"],[0.5555555555555556,\"#d8576b\"],[0.6666666666666666,\"#ed7953\"],[0.7777777777777778,\"#fb9f3a\"],[0.8888888888888888,\"#fdca26\"],[1.0,\"#f0f921\"]],\"type\":\"histogram2dcontour\"}],\"histogram2d\":[{\"colorbar\":{\"outlinewidth\":0,\"ticks\":\"\"},\"colorscale\":[[0.0,\"#0d0887\"],[0.1111111111111111,\"#46039f\"],[0.2222222222222222,\"#7201a8\"],[0.3333333333333333,\"#9c179e\"],[0.4444444444444444,\"#bd3786\"],[0.5555555555555556,\"#d8576b\"],[0.6666666666666666,\"#ed7953\"],[0.7777777777777778,\"#fb9f3a\"],[0.8888888888888888,\"#fdca26\"],[1.0,\"#f0f921\"]],\"type\":\"histogram2d\"}],\"histogram\":[{\"marker\":{\"pattern\":{\"fillmode\":\"overlay\",\"size\":10,\"solidity\":0.2}},\"type\":\"histogram\"}],\"mesh3d\":[{\"colorbar\":{\"outlinewidth\":0,\"ticks\":\"\"},\"type\":\"mesh3d\"}],\"parcoords\":[{\"line\":{\"colorbar\":{\"outlinewidth\":0,\"ticks\":\"\"}},\"type\":\"parcoords\"}],\"pie\":[{\"automargin\":true,\"type\":\"pie\"}],\"scatter3d\":[{\"line\":{\"colorbar\":{\"outlinewidth\":0,\"ticks\":\"\"}},\"marker\":{\"colorbar\":{\"outlinewidth\":0,\"ticks\":\"\"}},\"type\":\"scatter3d\"}],\"scattercarpet\":[{\"marker\":{\"colorbar\":{\"outlinewidth\":0,\"ticks\":\"\"}},\"type\":\"scattercarpet\"}],\"scattergeo\":[{\"marker\":{\"colorbar\":{\"outlinewidth\":0,\"ticks\":\"\"}},\"type\":\"scattergeo\"}],\"scattergl\":[{\"marker\":{\"line\":{\"color\":\"#283442\"}},\"type\":\"scattergl\"}],\"scattermapbox\":[{\"marker\":{\"colorbar\":{\"outlinewidth\":0,\"ticks\":\"\"}},\"type\":\"scattermapbox\"}],\"scatterpolargl\":[{\"marker\":{\"colorbar\":{\"outlinewidth\":0,\"ticks\":\"\"}},\"type\":\"scatterpolargl\"}],\"scatterpolar\":[{\"marker\":{\"colorbar\":{\"outlinewidth\":0,\"ticks\":\"\"}},\"type\":\"scatterpolar\"}],\"scatter\":[{\"marker\":{\"line\":{\"color\":\"#283442\"}},\"type\":\"scatter\"}],\"scatterternary\":[{\"marker\":{\"colorbar\":{\"outlinewidth\":0,\"ticks\":\"\"}},\"type\":\"scatterternary\"}],\"surface\":[{\"colorbar\":{\"outlinewidth\":0,\"ticks\":\"\"},\"colorscale\":[[0.0,\"#0d0887\"],[0.1111111111111111,\"#46039f\"],[0.2222222222222222,\"#7201a8\"],[0.3333333333333333,\"#9c179e\"],[0.4444444444444444,\"#bd3786\"],[0.5555555555555556,\"#d8576b\"],[0.6666666666666666,\"#ed7953\"],[0.7777777777777778,\"#fb9f3a\"],[0.8888888888888888,\"#fdca26\"],[1.0,\"#f0f921\"]],\"type\":\"surface\"}],\"table\":[{\"cells\":{\"fill\":{\"color\":\"#506784\"},\"line\":{\"color\":\"rgb(17,17,17)\"}},\"header\":{\"fill\":{\"color\":\"#2a3f5f\"},\"line\":{\"color\":\"rgb(17,17,17)\"}},\"type\":\"table\"}]},\"layout\":{\"annotationdefaults\":{\"arrowcolor\":\"#f2f5fa\",\"arrowhead\":0,\"arrowwidth\":1},\"autotypenumbers\":\"strict\",\"coloraxis\":{\"colorbar\":{\"outlinewidth\":0,\"ticks\":\"\"}},\"colorscale\":{\"diverging\":[[0,\"#8e0152\"],[0.1,\"#c51b7d\"],[0.2,\"#de77ae\"],[0.3,\"#f1b6da\"],[0.4,\"#fde0ef\"],[0.5,\"#f7f7f7\"],[0.6,\"#e6f5d0\"],[0.7,\"#b8e186\"],[0.8,\"#7fbc41\"],[0.9,\"#4d9221\"],[1,\"#276419\"]],\"sequential\":[[0.0,\"#0d0887\"],[0.1111111111111111,\"#46039f\"],[0.2222222222222222,\"#7201a8\"],[0.3333333333333333,\"#9c179e\"],[0.4444444444444444,\"#bd3786\"],[0.5555555555555556,\"#d8576b\"],[0.6666666666666666,\"#ed7953\"],[0.7777777777777778,\"#fb9f3a\"],[0.8888888888888888,\"#fdca26\"],[1.0,\"#f0f921\"]],\"sequentialminus\":[[0.0,\"#0d0887\"],[0.1111111111111111,\"#46039f\"],[0.2222222222222222,\"#7201a8\"],[0.3333333333333333,\"#9c179e\"],[0.4444444444444444,\"#bd3786\"],[0.5555555555555556,\"#d8576b\"],[0.6666666666666666,\"#ed7953\"],[0.7777777777777778,\"#fb9f3a\"],[0.8888888888888888,\"#fdca26\"],[1.0,\"#f0f921\"]]},\"colorway\":[\"#636efa\",\"#EF553B\",\"#00cc96\",\"#ab63fa\",\"#FFA15A\",\"#19d3f3\",\"#FF6692\",\"#B6E880\",\"#FF97FF\",\"#FECB52\"],\"font\":{\"color\":\"#f2f5fa\"},\"geo\":{\"bgcolor\":\"rgb(17,17,17)\",\"lakecolor\":\"rgb(17,17,17)\",\"landcolor\":\"rgb(17,17,17)\",\"showlakes\":true,\"showland\":true,\"subunitcolor\":\"#506784\"},\"hoverlabel\":{\"align\":\"left\"},\"hovermode\":\"closest\",\"mapbox\":{\"style\":\"dark\"},\"paper_bgcolor\":\"rgb(17,17,17)\",\"plot_bgcolor\":\"rgb(17,17,17)\",\"polar\":{\"angularaxis\":{\"gridcolor\":\"#506784\",\"linecolor\":\"#506784\",\"ticks\":\"\"},\"bgcolor\":\"rgb(17,17,17)\",\"radialaxis\":{\"gridcolor\":\"#506784\",\"linecolor\":\"#506784\",\"ticks\":\"\"}},\"scene\":{\"xaxis\":{\"backgroundcolor\":\"rgb(17,17,17)\",\"gridcolor\":\"#506784\",\"gridwidth\":2,\"linecolor\":\"#506784\",\"showbackground\":true,\"ticks\":\"\",\"zerolinecolor\":\"#C8D4E3\"},\"yaxis\":{\"backgroundcolor\":\"rgb(17,17,17)\",\"gridcolor\":\"#506784\",\"gridwidth\":2,\"linecolor\":\"#506784\",\"showbackground\":true,\"ticks\":\"\",\"zerolinecolor\":\"#C8D4E3\"},\"zaxis\":{\"backgroundcolor\":\"rgb(17,17,17)\",\"gridcolor\":\"#506784\",\"gridwidth\":2,\"linecolor\":\"#506784\",\"showbackground\":true,\"ticks\":\"\",\"zerolinecolor\":\"#C8D4E3\"}},\"shapedefaults\":{\"line\":{\"color\":\"#f2f5fa\"}},\"sliderdefaults\":{\"bgcolor\":\"#C8D4E3\",\"bordercolor\":\"rgb(17,17,17)\",\"borderwidth\":1,\"tickwidth\":0},\"ternary\":{\"aaxis\":{\"gridcolor\":\"#506784\",\"linecolor\":\"#506784\",\"ticks\":\"\"},\"baxis\":{\"gridcolor\":\"#506784\",\"linecolor\":\"#506784\",\"ticks\":\"\"},\"bgcolor\":\"rgb(17,17,17)\",\"caxis\":{\"gridcolor\":\"#506784\",\"linecolor\":\"#506784\",\"ticks\":\"\"}},\"title\":{\"x\":0.05},\"updatemenudefaults\":{\"bgcolor\":\"#506784\",\"borderwidth\":0},\"xaxis\":{\"automargin\":true,\"gridcolor\":\"#283442\",\"linecolor\":\"#506784\",\"ticks\":\"\",\"title\":{\"standoff\":15},\"zerolinecolor\":\"#283442\",\"zerolinewidth\":2},\"yaxis\":{\"automargin\":true,\"gridcolor\":\"#283442\",\"linecolor\":\"#506784\",\"ticks\":\"\",\"title\":{\"standoff\":15},\"zerolinecolor\":\"#283442\",\"zerolinewidth\":2}}},\"xaxis\":{\"anchor\":\"y\",\"domain\":[0.0,1.0],\"title\":{\"text\":\"Hours\"}},\"yaxis\":{\"anchor\":\"x\",\"domain\":[0.0,1.0],\"title\":{\"text\":\"Average Order Value (AOV)\"}},\"legend\":{\"tracegroupgap\":0},\"margin\":{\"t\":60},\"height\":600,\"title\":{\"text\":\"Peak Sales Hours\"},\"showlegend\":true},                        {\"responsive\": true}                    ).then(function(){\n",
              "                            \n",
              "var gd = document.getElementById('b0fbc0c4-801a-48d2-a53a-9660f4f6895f');\n",
              "var x = new MutationObserver(function (mutations, observer) {{\n",
              "        var display = window.getComputedStyle(gd).display;\n",
              "        if (!display || display === 'none') {{\n",
              "            console.log([gd, 'removed!']);\n",
              "            Plotly.purge(gd);\n",
              "            observer.disconnect();\n",
              "        }}\n",
              "}});\n",
              "\n",
              "// Listen for the removal of the full notebook cells\n",
              "var notebookContainer = gd.closest('#notebook-container');\n",
              "if (notebookContainer) {{\n",
              "    x.observe(notebookContainer, {childList: true});\n",
              "}}\n",
              "\n",
              "// Listen for the clearing of the current output cell\n",
              "var outputEl = gd.closest('.output');\n",
              "if (outputEl) {{\n",
              "    x.observe(outputEl, {childList: true});\n",
              "}}\n",
              "\n",
              "                        })                };                            </script>        </div>\n",
              "</body>\n",
              "</html>"
            ]
          },
          "metadata": {}
        }
      ]
    },
    {
      "cell_type": "markdown",
      "source": [
        "Additionally, we can also use the `total_items` sold to visualize sales volume. Here we see that, for some reason, there are much more transactions happening at 4 a.m than at any other time on the platform. Could this be an error with our data? Or are there any potential security concerns? Let's find out. "
      ],
      "metadata": {
        "id": "zfj2iCv9NzC-"
      }
    },
    {
      "cell_type": "code",
      "source": [
        "peak_volume = orders_df.groupby(orders_df['created_at'].dt.hour)['total_items'].mean()\n",
        "\n",
        "fig5 = px.area(peak_volume, x=peak_volume.index, y='total_items')\n",
        "fig5.update_xaxes(title_text=\"Hours\")\n",
        "fig5.update_yaxes(title_text=\"Total Items\")\n",
        "fig5.update_layout(height=600, title='Peak Sales Volume',template='plotly_dark', showlegend=True)\n",
        "fig5.show()"
      ],
      "metadata": {
        "colab": {
          "base_uri": "https://localhost:8080/",
          "height": 617
        },
        "id": "WHYcenTQDyuW",
        "outputId": "e4bcf8c9-68c2-48db-dd31-89e0a4903ec5"
      },
      "execution_count": 19,
      "outputs": [
        {
          "output_type": "display_data",
          "data": {
            "text/html": [
              "<html>\n",
              "<head><meta charset=\"utf-8\" /></head>\n",
              "<body>\n",
              "    <div>            <script src=\"https://cdnjs.cloudflare.com/ajax/libs/mathjax/2.7.5/MathJax.js?config=TeX-AMS-MML_SVG\"></script><script type=\"text/javascript\">if (window.MathJax) {MathJax.Hub.Config({SVG: {font: \"STIX-Web\"}});}</script>                <script type=\"text/javascript\">window.PlotlyConfig = {MathJaxConfig: 'local'};</script>\n",
              "        <script src=\"https://cdn.plot.ly/plotly-2.8.3.min.js\"></script>                <div id=\"ee9e0941-d1e5-4313-9219-9fbe8aae6af5\" class=\"plotly-graph-div\" style=\"height:600px; width:100%;\"></div>            <script type=\"text/javascript\">                                    window.PLOTLYENV=window.PLOTLYENV || {};                                    if (document.getElementById(\"ee9e0941-d1e5-4313-9219-9fbe8aae6af5\")) {                    Plotly.newPlot(                        \"ee9e0941-d1e5-4313-9219-9fbe8aae6af5\",                        [{\"hovertemplate\":\"created_at=%{x}<br>total_items=%{y}<extra></extra>\",\"legendgroup\":\"\",\"line\":{\"color\":\"#636efa\"},\"marker\":{\"symbol\":\"circle\"},\"mode\":\"lines\",\"name\":\"\",\"orientation\":\"v\",\"showlegend\":false,\"stackgroup\":\"1\",\"x\":[0,1,2,3,4,5,6,7,8,9,10,11,12,13,14,15,16,17,18,19,20,21,22,23],\"xaxis\":\"x\",\"y\":[1.9289340101522843,2.05,2.0191387559808613,1.941908713692946,157.08219178082192,2.1534391534391535,1.9617224880382775,2.0956521739130434,2.1194029850746268,2.0150753768844223,1.8778280542986425,2.0093023255813955,1.9504950495049505,1.9389671361502347,1.9558823529411764,1.9896373056994818,1.9891304347826086,2.008771929824561,1.946524064171123,1.9637305699481866,2.0245098039215685,1.9447236180904524,2.0,1.9912663755458515],\"yaxis\":\"y\",\"type\":\"scatter\"}],                        {\"template\":{\"data\":{\"barpolar\":[{\"marker\":{\"line\":{\"color\":\"rgb(17,17,17)\",\"width\":0.5},\"pattern\":{\"fillmode\":\"overlay\",\"size\":10,\"solidity\":0.2}},\"type\":\"barpolar\"}],\"bar\":[{\"error_x\":{\"color\":\"#f2f5fa\"},\"error_y\":{\"color\":\"#f2f5fa\"},\"marker\":{\"line\":{\"color\":\"rgb(17,17,17)\",\"width\":0.5},\"pattern\":{\"fillmode\":\"overlay\",\"size\":10,\"solidity\":0.2}},\"type\":\"bar\"}],\"carpet\":[{\"aaxis\":{\"endlinecolor\":\"#A2B1C6\",\"gridcolor\":\"#506784\",\"linecolor\":\"#506784\",\"minorgridcolor\":\"#506784\",\"startlinecolor\":\"#A2B1C6\"},\"baxis\":{\"endlinecolor\":\"#A2B1C6\",\"gridcolor\":\"#506784\",\"linecolor\":\"#506784\",\"minorgridcolor\":\"#506784\",\"startlinecolor\":\"#A2B1C6\"},\"type\":\"carpet\"}],\"choropleth\":[{\"colorbar\":{\"outlinewidth\":0,\"ticks\":\"\"},\"type\":\"choropleth\"}],\"contourcarpet\":[{\"colorbar\":{\"outlinewidth\":0,\"ticks\":\"\"},\"type\":\"contourcarpet\"}],\"contour\":[{\"colorbar\":{\"outlinewidth\":0,\"ticks\":\"\"},\"colorscale\":[[0.0,\"#0d0887\"],[0.1111111111111111,\"#46039f\"],[0.2222222222222222,\"#7201a8\"],[0.3333333333333333,\"#9c179e\"],[0.4444444444444444,\"#bd3786\"],[0.5555555555555556,\"#d8576b\"],[0.6666666666666666,\"#ed7953\"],[0.7777777777777778,\"#fb9f3a\"],[0.8888888888888888,\"#fdca26\"],[1.0,\"#f0f921\"]],\"type\":\"contour\"}],\"heatmapgl\":[{\"colorbar\":{\"outlinewidth\":0,\"ticks\":\"\"},\"colorscale\":[[0.0,\"#0d0887\"],[0.1111111111111111,\"#46039f\"],[0.2222222222222222,\"#7201a8\"],[0.3333333333333333,\"#9c179e\"],[0.4444444444444444,\"#bd3786\"],[0.5555555555555556,\"#d8576b\"],[0.6666666666666666,\"#ed7953\"],[0.7777777777777778,\"#fb9f3a\"],[0.8888888888888888,\"#fdca26\"],[1.0,\"#f0f921\"]],\"type\":\"heatmapgl\"}],\"heatmap\":[{\"colorbar\":{\"outlinewidth\":0,\"ticks\":\"\"},\"colorscale\":[[0.0,\"#0d0887\"],[0.1111111111111111,\"#46039f\"],[0.2222222222222222,\"#7201a8\"],[0.3333333333333333,\"#9c179e\"],[0.4444444444444444,\"#bd3786\"],[0.5555555555555556,\"#d8576b\"],[0.6666666666666666,\"#ed7953\"],[0.7777777777777778,\"#fb9f3a\"],[0.8888888888888888,\"#fdca26\"],[1.0,\"#f0f921\"]],\"type\":\"heatmap\"}],\"histogram2dcontour\":[{\"colorbar\":{\"outlinewidth\":0,\"ticks\":\"\"},\"colorscale\":[[0.0,\"#0d0887\"],[0.1111111111111111,\"#46039f\"],[0.2222222222222222,\"#7201a8\"],[0.3333333333333333,\"#9c179e\"],[0.4444444444444444,\"#bd3786\"],[0.5555555555555556,\"#d8576b\"],[0.6666666666666666,\"#ed7953\"],[0.7777777777777778,\"#fb9f3a\"],[0.8888888888888888,\"#fdca26\"],[1.0,\"#f0f921\"]],\"type\":\"histogram2dcontour\"}],\"histogram2d\":[{\"colorbar\":{\"outlinewidth\":0,\"ticks\":\"\"},\"colorscale\":[[0.0,\"#0d0887\"],[0.1111111111111111,\"#46039f\"],[0.2222222222222222,\"#7201a8\"],[0.3333333333333333,\"#9c179e\"],[0.4444444444444444,\"#bd3786\"],[0.5555555555555556,\"#d8576b\"],[0.6666666666666666,\"#ed7953\"],[0.7777777777777778,\"#fb9f3a\"],[0.8888888888888888,\"#fdca26\"],[1.0,\"#f0f921\"]],\"type\":\"histogram2d\"}],\"histogram\":[{\"marker\":{\"pattern\":{\"fillmode\":\"overlay\",\"size\":10,\"solidity\":0.2}},\"type\":\"histogram\"}],\"mesh3d\":[{\"colorbar\":{\"outlinewidth\":0,\"ticks\":\"\"},\"type\":\"mesh3d\"}],\"parcoords\":[{\"line\":{\"colorbar\":{\"outlinewidth\":0,\"ticks\":\"\"}},\"type\":\"parcoords\"}],\"pie\":[{\"automargin\":true,\"type\":\"pie\"}],\"scatter3d\":[{\"line\":{\"colorbar\":{\"outlinewidth\":0,\"ticks\":\"\"}},\"marker\":{\"colorbar\":{\"outlinewidth\":0,\"ticks\":\"\"}},\"type\":\"scatter3d\"}],\"scattercarpet\":[{\"marker\":{\"colorbar\":{\"outlinewidth\":0,\"ticks\":\"\"}},\"type\":\"scattercarpet\"}],\"scattergeo\":[{\"marker\":{\"colorbar\":{\"outlinewidth\":0,\"ticks\":\"\"}},\"type\":\"scattergeo\"}],\"scattergl\":[{\"marker\":{\"line\":{\"color\":\"#283442\"}},\"type\":\"scattergl\"}],\"scattermapbox\":[{\"marker\":{\"colorbar\":{\"outlinewidth\":0,\"ticks\":\"\"}},\"type\":\"scattermapbox\"}],\"scatterpolargl\":[{\"marker\":{\"colorbar\":{\"outlinewidth\":0,\"ticks\":\"\"}},\"type\":\"scatterpolargl\"}],\"scatterpolar\":[{\"marker\":{\"colorbar\":{\"outlinewidth\":0,\"ticks\":\"\"}},\"type\":\"scatterpolar\"}],\"scatter\":[{\"marker\":{\"line\":{\"color\":\"#283442\"}},\"type\":\"scatter\"}],\"scatterternary\":[{\"marker\":{\"colorbar\":{\"outlinewidth\":0,\"ticks\":\"\"}},\"type\":\"scatterternary\"}],\"surface\":[{\"colorbar\":{\"outlinewidth\":0,\"ticks\":\"\"},\"colorscale\":[[0.0,\"#0d0887\"],[0.1111111111111111,\"#46039f\"],[0.2222222222222222,\"#7201a8\"],[0.3333333333333333,\"#9c179e\"],[0.4444444444444444,\"#bd3786\"],[0.5555555555555556,\"#d8576b\"],[0.6666666666666666,\"#ed7953\"],[0.7777777777777778,\"#fb9f3a\"],[0.8888888888888888,\"#fdca26\"],[1.0,\"#f0f921\"]],\"type\":\"surface\"}],\"table\":[{\"cells\":{\"fill\":{\"color\":\"#506784\"},\"line\":{\"color\":\"rgb(17,17,17)\"}},\"header\":{\"fill\":{\"color\":\"#2a3f5f\"},\"line\":{\"color\":\"rgb(17,17,17)\"}},\"type\":\"table\"}]},\"layout\":{\"annotationdefaults\":{\"arrowcolor\":\"#f2f5fa\",\"arrowhead\":0,\"arrowwidth\":1},\"autotypenumbers\":\"strict\",\"coloraxis\":{\"colorbar\":{\"outlinewidth\":0,\"ticks\":\"\"}},\"colorscale\":{\"diverging\":[[0,\"#8e0152\"],[0.1,\"#c51b7d\"],[0.2,\"#de77ae\"],[0.3,\"#f1b6da\"],[0.4,\"#fde0ef\"],[0.5,\"#f7f7f7\"],[0.6,\"#e6f5d0\"],[0.7,\"#b8e186\"],[0.8,\"#7fbc41\"],[0.9,\"#4d9221\"],[1,\"#276419\"]],\"sequential\":[[0.0,\"#0d0887\"],[0.1111111111111111,\"#46039f\"],[0.2222222222222222,\"#7201a8\"],[0.3333333333333333,\"#9c179e\"],[0.4444444444444444,\"#bd3786\"],[0.5555555555555556,\"#d8576b\"],[0.6666666666666666,\"#ed7953\"],[0.7777777777777778,\"#fb9f3a\"],[0.8888888888888888,\"#fdca26\"],[1.0,\"#f0f921\"]],\"sequentialminus\":[[0.0,\"#0d0887\"],[0.1111111111111111,\"#46039f\"],[0.2222222222222222,\"#7201a8\"],[0.3333333333333333,\"#9c179e\"],[0.4444444444444444,\"#bd3786\"],[0.5555555555555556,\"#d8576b\"],[0.6666666666666666,\"#ed7953\"],[0.7777777777777778,\"#fb9f3a\"],[0.8888888888888888,\"#fdca26\"],[1.0,\"#f0f921\"]]},\"colorway\":[\"#636efa\",\"#EF553B\",\"#00cc96\",\"#ab63fa\",\"#FFA15A\",\"#19d3f3\",\"#FF6692\",\"#B6E880\",\"#FF97FF\",\"#FECB52\"],\"font\":{\"color\":\"#f2f5fa\"},\"geo\":{\"bgcolor\":\"rgb(17,17,17)\",\"lakecolor\":\"rgb(17,17,17)\",\"landcolor\":\"rgb(17,17,17)\",\"showlakes\":true,\"showland\":true,\"subunitcolor\":\"#506784\"},\"hoverlabel\":{\"align\":\"left\"},\"hovermode\":\"closest\",\"mapbox\":{\"style\":\"dark\"},\"paper_bgcolor\":\"rgb(17,17,17)\",\"plot_bgcolor\":\"rgb(17,17,17)\",\"polar\":{\"angularaxis\":{\"gridcolor\":\"#506784\",\"linecolor\":\"#506784\",\"ticks\":\"\"},\"bgcolor\":\"rgb(17,17,17)\",\"radialaxis\":{\"gridcolor\":\"#506784\",\"linecolor\":\"#506784\",\"ticks\":\"\"}},\"scene\":{\"xaxis\":{\"backgroundcolor\":\"rgb(17,17,17)\",\"gridcolor\":\"#506784\",\"gridwidth\":2,\"linecolor\":\"#506784\",\"showbackground\":true,\"ticks\":\"\",\"zerolinecolor\":\"#C8D4E3\"},\"yaxis\":{\"backgroundcolor\":\"rgb(17,17,17)\",\"gridcolor\":\"#506784\",\"gridwidth\":2,\"linecolor\":\"#506784\",\"showbackground\":true,\"ticks\":\"\",\"zerolinecolor\":\"#C8D4E3\"},\"zaxis\":{\"backgroundcolor\":\"rgb(17,17,17)\",\"gridcolor\":\"#506784\",\"gridwidth\":2,\"linecolor\":\"#506784\",\"showbackground\":true,\"ticks\":\"\",\"zerolinecolor\":\"#C8D4E3\"}},\"shapedefaults\":{\"line\":{\"color\":\"#f2f5fa\"}},\"sliderdefaults\":{\"bgcolor\":\"#C8D4E3\",\"bordercolor\":\"rgb(17,17,17)\",\"borderwidth\":1,\"tickwidth\":0},\"ternary\":{\"aaxis\":{\"gridcolor\":\"#506784\",\"linecolor\":\"#506784\",\"ticks\":\"\"},\"baxis\":{\"gridcolor\":\"#506784\",\"linecolor\":\"#506784\",\"ticks\":\"\"},\"bgcolor\":\"rgb(17,17,17)\",\"caxis\":{\"gridcolor\":\"#506784\",\"linecolor\":\"#506784\",\"ticks\":\"\"}},\"title\":{\"x\":0.05},\"updatemenudefaults\":{\"bgcolor\":\"#506784\",\"borderwidth\":0},\"xaxis\":{\"automargin\":true,\"gridcolor\":\"#283442\",\"linecolor\":\"#506784\",\"ticks\":\"\",\"title\":{\"standoff\":15},\"zerolinecolor\":\"#283442\",\"zerolinewidth\":2},\"yaxis\":{\"automargin\":true,\"gridcolor\":\"#283442\",\"linecolor\":\"#506784\",\"ticks\":\"\",\"title\":{\"standoff\":15},\"zerolinecolor\":\"#283442\",\"zerolinewidth\":2}}},\"xaxis\":{\"anchor\":\"y\",\"domain\":[0.0,1.0],\"title\":{\"text\":\"Hours\"}},\"yaxis\":{\"anchor\":\"x\",\"domain\":[0.0,1.0],\"title\":{\"text\":\"Total Items\"}},\"legend\":{\"tracegroupgap\":0},\"margin\":{\"t\":60},\"height\":600,\"title\":{\"text\":\"Peak Sales Volume\"},\"showlegend\":true},                        {\"responsive\": true}                    ).then(function(){\n",
              "                            \n",
              "var gd = document.getElementById('ee9e0941-d1e5-4313-9219-9fbe8aae6af5');\n",
              "var x = new MutationObserver(function (mutations, observer) {{\n",
              "        var display = window.getComputedStyle(gd).display;\n",
              "        if (!display || display === 'none') {{\n",
              "            console.log([gd, 'removed!']);\n",
              "            Plotly.purge(gd);\n",
              "            observer.disconnect();\n",
              "        }}\n",
              "}});\n",
              "\n",
              "// Listen for the removal of the full notebook cells\n",
              "var notebookContainer = gd.closest('#notebook-container');\n",
              "if (notebookContainer) {{\n",
              "    x.observe(notebookContainer, {childList: true});\n",
              "}}\n",
              "\n",
              "// Listen for the clearing of the current output cell\n",
              "var outputEl = gd.closest('.output');\n",
              "if (outputEl) {{\n",
              "    x.observe(outputEl, {childList: true});\n",
              "}}\n",
              "\n",
              "                        })                };                            </script>        </div>\n",
              "</body>\n",
              "</html>"
            ]
          },
          "metadata": {}
        }
      ]
    },
    {
      "cell_type": "markdown",
      "source": [
        "What's interesting about purchases during this hour is that the same customer (`user_id` = 607) repeatedly buys 2,000 items from the same merchant at exactly 4:00 AM. Each transaction always results in the same `order_amount`, `aov`, and `payment_method`. If we had to hazard a guess, we'd suspect that these transactions may be automated, which may or may not warrant further investigation. \n",
        "\n",
        "It's worth noting that when comparing time series plots between `aov` and its constituent predictors, `total_items` and `order_amount`, it wasn't as affected by outliers. Through this metric, we were able to gain a more robust understanding of the times on the platform which saw the most sales. \n",
        "\n",
        "However, we should add a disclaimer that there's no information in the dataset indicating which time zone these DateTime stamps are referring to. Additionally, we have no information on the customer's geographic location at the time of the transaction, so we shouldn't be making any conclusions about these insights without the appropriate contextual data."
      ],
      "metadata": {
        "id": "T_5LaFqePutP"
      }
    },
    {
      "cell_type": "code",
      "source": [
        "purchases_4am = orders_df[orders_df['created_at'].dt.hour == 4]\n",
        "print(purchases_4am['total_items'].value_counts(sort=True))"
      ],
      "metadata": {
        "colab": {
          "base_uri": "https://localhost:8080/"
        },
        "id": "h-P1q4lcELjC",
        "outputId": "d9aa02df-4faf-43d1-d93a-7f26c02b939a"
      },
      "execution_count": 20,
      "outputs": [
        {
          "output_type": "stream",
          "name": "stdout",
          "text": [
            "1       75\n",
            "2       71\n",
            "3       43\n",
            "2000    17\n",
            "4       10\n",
            "5        3\n",
            "Name: total_items, dtype: int64\n"
          ]
        }
      ]
    },
    {
      "cell_type": "code",
      "source": [
        "print(f\"The number of times where a customer purchased more than 6 items: {orders_df[orders_df['total_items'] > 6].shape[0]}\")\n",
        "purchases_4am[purchases_4am['total_items'] > 6]"
      ],
      "metadata": {
        "colab": {
          "base_uri": "https://localhost:8080/",
          "height": 600
        },
        "id": "2fFNACRGEwl8",
        "outputId": "4096ea08-ca1f-45e0-8df5-046e59d67b0d"
      },
      "execution_count": 21,
      "outputs": [
        {
          "output_type": "stream",
          "name": "stdout",
          "text": [
            "The number of times where a customer purchased more than 6 items: 18\n"
          ]
        },
        {
          "output_type": "execute_result",
          "data": {
            "text/plain": [
              "      order_id  shop_id  user_id  order_amount  total_items payment_method  \\\n",
              "15          16       42      607        704000         2000    credit_card   \n",
              "60          61       42      607        704000         2000    credit_card   \n",
              "520        521       42      607        704000         2000    credit_card   \n",
              "1104      1105       42      607        704000         2000    credit_card   \n",
              "1362      1363       42      607        704000         2000    credit_card   \n",
              "1436      1437       42      607        704000         2000    credit_card   \n",
              "1562      1563       42      607        704000         2000    credit_card   \n",
              "1602      1603       42      607        704000         2000    credit_card   \n",
              "2153      2154       42      607        704000         2000    credit_card   \n",
              "2297      2298       42      607        704000         2000    credit_card   \n",
              "2835      2836       42      607        704000         2000    credit_card   \n",
              "2969      2970       42      607        704000         2000    credit_card   \n",
              "3332      3333       42      607        704000         2000    credit_card   \n",
              "4056      4057       42      607        704000         2000    credit_card   \n",
              "4646      4647       42      607        704000         2000    credit_card   \n",
              "4868      4869       42      607        704000         2000    credit_card   \n",
              "4882      4883       42      607        704000         2000    credit_card   \n",
              "\n",
              "              created_at    aov  \n",
              "15   2017-03-07 04:00:00  352.0  \n",
              "60   2017-03-04 04:00:00  352.0  \n",
              "520  2017-03-02 04:00:00  352.0  \n",
              "1104 2017-03-24 04:00:00  352.0  \n",
              "1362 2017-03-15 04:00:00  352.0  \n",
              "1436 2017-03-11 04:00:00  352.0  \n",
              "1562 2017-03-19 04:00:00  352.0  \n",
              "1602 2017-03-17 04:00:00  352.0  \n",
              "2153 2017-03-12 04:00:00  352.0  \n",
              "2297 2017-03-07 04:00:00  352.0  \n",
              "2835 2017-03-28 04:00:00  352.0  \n",
              "2969 2017-03-28 04:00:00  352.0  \n",
              "3332 2017-03-24 04:00:00  352.0  \n",
              "4056 2017-03-28 04:00:00  352.0  \n",
              "4646 2017-03-02 04:00:00  352.0  \n",
              "4868 2017-03-22 04:00:00  352.0  \n",
              "4882 2017-03-25 04:00:00  352.0  "
            ],
            "text/html": [
              "\n",
              "  <div id=\"df-80228498-6b21-4007-9888-a84b1782ec19\">\n",
              "    <div class=\"colab-df-container\">\n",
              "      <div>\n",
              "<style scoped>\n",
              "    .dataframe tbody tr th:only-of-type {\n",
              "        vertical-align: middle;\n",
              "    }\n",
              "\n",
              "    .dataframe tbody tr th {\n",
              "        vertical-align: top;\n",
              "    }\n",
              "\n",
              "    .dataframe thead th {\n",
              "        text-align: right;\n",
              "    }\n",
              "</style>\n",
              "<table border=\"1\" class=\"dataframe\">\n",
              "  <thead>\n",
              "    <tr style=\"text-align: right;\">\n",
              "      <th></th>\n",
              "      <th>order_id</th>\n",
              "      <th>shop_id</th>\n",
              "      <th>user_id</th>\n",
              "      <th>order_amount</th>\n",
              "      <th>total_items</th>\n",
              "      <th>payment_method</th>\n",
              "      <th>created_at</th>\n",
              "      <th>aov</th>\n",
              "    </tr>\n",
              "  </thead>\n",
              "  <tbody>\n",
              "    <tr>\n",
              "      <th>15</th>\n",
              "      <td>16</td>\n",
              "      <td>42</td>\n",
              "      <td>607</td>\n",
              "      <td>704000</td>\n",
              "      <td>2000</td>\n",
              "      <td>credit_card</td>\n",
              "      <td>2017-03-07 04:00:00</td>\n",
              "      <td>352.0</td>\n",
              "    </tr>\n",
              "    <tr>\n",
              "      <th>60</th>\n",
              "      <td>61</td>\n",
              "      <td>42</td>\n",
              "      <td>607</td>\n",
              "      <td>704000</td>\n",
              "      <td>2000</td>\n",
              "      <td>credit_card</td>\n",
              "      <td>2017-03-04 04:00:00</td>\n",
              "      <td>352.0</td>\n",
              "    </tr>\n",
              "    <tr>\n",
              "      <th>520</th>\n",
              "      <td>521</td>\n",
              "      <td>42</td>\n",
              "      <td>607</td>\n",
              "      <td>704000</td>\n",
              "      <td>2000</td>\n",
              "      <td>credit_card</td>\n",
              "      <td>2017-03-02 04:00:00</td>\n",
              "      <td>352.0</td>\n",
              "    </tr>\n",
              "    <tr>\n",
              "      <th>1104</th>\n",
              "      <td>1105</td>\n",
              "      <td>42</td>\n",
              "      <td>607</td>\n",
              "      <td>704000</td>\n",
              "      <td>2000</td>\n",
              "      <td>credit_card</td>\n",
              "      <td>2017-03-24 04:00:00</td>\n",
              "      <td>352.0</td>\n",
              "    </tr>\n",
              "    <tr>\n",
              "      <th>1362</th>\n",
              "      <td>1363</td>\n",
              "      <td>42</td>\n",
              "      <td>607</td>\n",
              "      <td>704000</td>\n",
              "      <td>2000</td>\n",
              "      <td>credit_card</td>\n",
              "      <td>2017-03-15 04:00:00</td>\n",
              "      <td>352.0</td>\n",
              "    </tr>\n",
              "    <tr>\n",
              "      <th>1436</th>\n",
              "      <td>1437</td>\n",
              "      <td>42</td>\n",
              "      <td>607</td>\n",
              "      <td>704000</td>\n",
              "      <td>2000</td>\n",
              "      <td>credit_card</td>\n",
              "      <td>2017-03-11 04:00:00</td>\n",
              "      <td>352.0</td>\n",
              "    </tr>\n",
              "    <tr>\n",
              "      <th>1562</th>\n",
              "      <td>1563</td>\n",
              "      <td>42</td>\n",
              "      <td>607</td>\n",
              "      <td>704000</td>\n",
              "      <td>2000</td>\n",
              "      <td>credit_card</td>\n",
              "      <td>2017-03-19 04:00:00</td>\n",
              "      <td>352.0</td>\n",
              "    </tr>\n",
              "    <tr>\n",
              "      <th>1602</th>\n",
              "      <td>1603</td>\n",
              "      <td>42</td>\n",
              "      <td>607</td>\n",
              "      <td>704000</td>\n",
              "      <td>2000</td>\n",
              "      <td>credit_card</td>\n",
              "      <td>2017-03-17 04:00:00</td>\n",
              "      <td>352.0</td>\n",
              "    </tr>\n",
              "    <tr>\n",
              "      <th>2153</th>\n",
              "      <td>2154</td>\n",
              "      <td>42</td>\n",
              "      <td>607</td>\n",
              "      <td>704000</td>\n",
              "      <td>2000</td>\n",
              "      <td>credit_card</td>\n",
              "      <td>2017-03-12 04:00:00</td>\n",
              "      <td>352.0</td>\n",
              "    </tr>\n",
              "    <tr>\n",
              "      <th>2297</th>\n",
              "      <td>2298</td>\n",
              "      <td>42</td>\n",
              "      <td>607</td>\n",
              "      <td>704000</td>\n",
              "      <td>2000</td>\n",
              "      <td>credit_card</td>\n",
              "      <td>2017-03-07 04:00:00</td>\n",
              "      <td>352.0</td>\n",
              "    </tr>\n",
              "    <tr>\n",
              "      <th>2835</th>\n",
              "      <td>2836</td>\n",
              "      <td>42</td>\n",
              "      <td>607</td>\n",
              "      <td>704000</td>\n",
              "      <td>2000</td>\n",
              "      <td>credit_card</td>\n",
              "      <td>2017-03-28 04:00:00</td>\n",
              "      <td>352.0</td>\n",
              "    </tr>\n",
              "    <tr>\n",
              "      <th>2969</th>\n",
              "      <td>2970</td>\n",
              "      <td>42</td>\n",
              "      <td>607</td>\n",
              "      <td>704000</td>\n",
              "      <td>2000</td>\n",
              "      <td>credit_card</td>\n",
              "      <td>2017-03-28 04:00:00</td>\n",
              "      <td>352.0</td>\n",
              "    </tr>\n",
              "    <tr>\n",
              "      <th>3332</th>\n",
              "      <td>3333</td>\n",
              "      <td>42</td>\n",
              "      <td>607</td>\n",
              "      <td>704000</td>\n",
              "      <td>2000</td>\n",
              "      <td>credit_card</td>\n",
              "      <td>2017-03-24 04:00:00</td>\n",
              "      <td>352.0</td>\n",
              "    </tr>\n",
              "    <tr>\n",
              "      <th>4056</th>\n",
              "      <td>4057</td>\n",
              "      <td>42</td>\n",
              "      <td>607</td>\n",
              "      <td>704000</td>\n",
              "      <td>2000</td>\n",
              "      <td>credit_card</td>\n",
              "      <td>2017-03-28 04:00:00</td>\n",
              "      <td>352.0</td>\n",
              "    </tr>\n",
              "    <tr>\n",
              "      <th>4646</th>\n",
              "      <td>4647</td>\n",
              "      <td>42</td>\n",
              "      <td>607</td>\n",
              "      <td>704000</td>\n",
              "      <td>2000</td>\n",
              "      <td>credit_card</td>\n",
              "      <td>2017-03-02 04:00:00</td>\n",
              "      <td>352.0</td>\n",
              "    </tr>\n",
              "    <tr>\n",
              "      <th>4868</th>\n",
              "      <td>4869</td>\n",
              "      <td>42</td>\n",
              "      <td>607</td>\n",
              "      <td>704000</td>\n",
              "      <td>2000</td>\n",
              "      <td>credit_card</td>\n",
              "      <td>2017-03-22 04:00:00</td>\n",
              "      <td>352.0</td>\n",
              "    </tr>\n",
              "    <tr>\n",
              "      <th>4882</th>\n",
              "      <td>4883</td>\n",
              "      <td>42</td>\n",
              "      <td>607</td>\n",
              "      <td>704000</td>\n",
              "      <td>2000</td>\n",
              "      <td>credit_card</td>\n",
              "      <td>2017-03-25 04:00:00</td>\n",
              "      <td>352.0</td>\n",
              "    </tr>\n",
              "  </tbody>\n",
              "</table>\n",
              "</div>\n",
              "      <button class=\"colab-df-convert\" onclick=\"convertToInteractive('df-80228498-6b21-4007-9888-a84b1782ec19')\"\n",
              "              title=\"Convert this dataframe to an interactive table.\"\n",
              "              style=\"display:none;\">\n",
              "        \n",
              "  <svg xmlns=\"http://www.w3.org/2000/svg\" height=\"24px\"viewBox=\"0 0 24 24\"\n",
              "       width=\"24px\">\n",
              "    <path d=\"M0 0h24v24H0V0z\" fill=\"none\"/>\n",
              "    <path d=\"M18.56 5.44l.94 2.06.94-2.06 2.06-.94-2.06-.94-.94-2.06-.94 2.06-2.06.94zm-11 1L8.5 8.5l.94-2.06 2.06-.94-2.06-.94L8.5 2.5l-.94 2.06-2.06.94zm10 10l.94 2.06.94-2.06 2.06-.94-2.06-.94-.94-2.06-.94 2.06-2.06.94z\"/><path d=\"M17.41 7.96l-1.37-1.37c-.4-.4-.92-.59-1.43-.59-.52 0-1.04.2-1.43.59L10.3 9.45l-7.72 7.72c-.78.78-.78 2.05 0 2.83L4 21.41c.39.39.9.59 1.41.59.51 0 1.02-.2 1.41-.59l7.78-7.78 2.81-2.81c.8-.78.8-2.07 0-2.86zM5.41 20L4 18.59l7.72-7.72 1.47 1.35L5.41 20z\"/>\n",
              "  </svg>\n",
              "      </button>\n",
              "      \n",
              "  <style>\n",
              "    .colab-df-container {\n",
              "      display:flex;\n",
              "      flex-wrap:wrap;\n",
              "      gap: 12px;\n",
              "    }\n",
              "\n",
              "    .colab-df-convert {\n",
              "      background-color: #E8F0FE;\n",
              "      border: none;\n",
              "      border-radius: 50%;\n",
              "      cursor: pointer;\n",
              "      display: none;\n",
              "      fill: #1967D2;\n",
              "      height: 32px;\n",
              "      padding: 0 0 0 0;\n",
              "      width: 32px;\n",
              "    }\n",
              "\n",
              "    .colab-df-convert:hover {\n",
              "      background-color: #E2EBFA;\n",
              "      box-shadow: 0px 1px 2px rgba(60, 64, 67, 0.3), 0px 1px 3px 1px rgba(60, 64, 67, 0.15);\n",
              "      fill: #174EA6;\n",
              "    }\n",
              "\n",
              "    [theme=dark] .colab-df-convert {\n",
              "      background-color: #3B4455;\n",
              "      fill: #D2E3FC;\n",
              "    }\n",
              "\n",
              "    [theme=dark] .colab-df-convert:hover {\n",
              "      background-color: #434B5C;\n",
              "      box-shadow: 0px 1px 3px 1px rgba(0, 0, 0, 0.15);\n",
              "      filter: drop-shadow(0px 1px 2px rgba(0, 0, 0, 0.3));\n",
              "      fill: #FFFFFF;\n",
              "    }\n",
              "  </style>\n",
              "\n",
              "      <script>\n",
              "        const buttonEl =\n",
              "          document.querySelector('#df-80228498-6b21-4007-9888-a84b1782ec19 button.colab-df-convert');\n",
              "        buttonEl.style.display =\n",
              "          google.colab.kernel.accessAllowed ? 'block' : 'none';\n",
              "\n",
              "        async function convertToInteractive(key) {\n",
              "          const element = document.querySelector('#df-80228498-6b21-4007-9888-a84b1782ec19');\n",
              "          const dataTable =\n",
              "            await google.colab.kernel.invokeFunction('convertToInteractive',\n",
              "                                                     [key], {});\n",
              "          if (!dataTable) return;\n",
              "\n",
              "          const docLinkHtml = 'Like what you see? Visit the ' +\n",
              "            '<a target=\"_blank\" href=https://colab.research.google.com/notebooks/data_table.ipynb>data table notebook</a>'\n",
              "            + ' to learn more about interactive tables.';\n",
              "          element.innerHTML = '';\n",
              "          dataTable['output_type'] = 'display_data';\n",
              "          await google.colab.output.renderOutput(dataTable, element);\n",
              "          const docLink = document.createElement('div');\n",
              "          docLink.innerHTML = docLinkHtml;\n",
              "          element.appendChild(docLink);\n",
              "        }\n",
              "      </script>\n",
              "    </div>\n",
              "  </div>\n",
              "  "
            ]
          },
          "metadata": {},
          "execution_count": 21
        }
      ]
    },
    {
      "cell_type": "markdown",
      "source": [
        "## **Final Thoughts**\n",
        "\n",
        "Average order value (AOV) in the way that stakeholders had calculated initially did not do a good job measuring the outcomes that it was intended to measure. The previous iteration of AOV did not account for orders where customers purchased two or more items which inflated the resulting figure. If every transaction only involved a single item, it would have been correct to divide the total `order_amount` by the total number of transactions in the dataset. However, this was not the case. So to improve the metric and account for the variable number of items purchased, we divided the sum of `order_amount` by the sum of `total_items` to get an accurate figure of the average that customers spent per order.\n",
        "\n",
        "By dividing `order_amount` by `total_items`, we can now accurately track the true average value of our customer's purchases, which turned out to be \\$357.92 for the entire dataset. However, if we remove the store that was selling sneakers at outlier prices north of \\$25k, we'll find that the average value of our customer's purchases drops slightly down to \\$307.  This new AOV value is still affected somewhat by outlier data points valued at \\$352. Therefore, another metric we can consider **reporting** once we've calculated each customer's individual AOV is to look at the median AOV, which isn't affected at all by outliers. \n",
        "\n",
        "When combining AOV with other features like the transaction timestamps or by segmenting the data per store, we can start to have a more robust snapshot of the state of our merchant's businesses. In doing so, we've ensured that stakeholders accurately track the outcomes they're interested in following. And from a broader perspective, we've also added **value** to the bottom line by establishing a common ground for truth and empowering leaders to make data-driven decisions about the future of the business."
      ],
      "metadata": {
        "id": "77_Q7zC2soyp"
      }
    },
    {
      "cell_type": "markdown",
      "source": [
        "### *Question 2: For this question you’ll need to use SQL. [Follow this link](https://www.w3schools.com/SQL/TRYSQL.ASP?FILENAME=TRYSQL_SELECT_ALL) to access the data set required for the challenge.*\n",
        "*Please use queries to answer the following questions. Paste your queries along with your final numerical answers below.*\n",
        "\n",
        "- *How many orders were shipped by Speedy Express in total?*\n",
        "- *What is the last name of the employee with the most orders?*\n",
        "- *What product was ordered the most by customers in Germany?*"
      ],
      "metadata": {
        "id": "84svhg0AZttL"
      }
    },
    {
      "cell_type": "markdown",
      "source": [
        "*Q: How many orders were shipped by Speedy Express in total?*\n",
        "\n",
        "A: There were 54 orders shipped by Speedy Express."
      ],
      "metadata": {
        "id": "9pP6Z4Papfwl"
      }
    },
    {
      "cell_type": "code",
      "source": [
        "# Q2.1 - How many orders were shipped by Speedy Express in total?\n",
        "# Since there were only 3 shippers in the \"Shippers\" table and for computational efficiency, \n",
        "# we decided to directly reference Speedy Express' ShipperID in the \"WHERE\" clause of our SQL query rather than joining the \"Shippers\" and \"Orders\" table together.\n",
        "\n",
        "SELECT COUNT(*) \n",
        "FROM Orders\n",
        "WHERE ShipperID = 1;"
      ],
      "metadata": {
        "id": "aoNDLiLhZv99"
      },
      "execution_count": null,
      "outputs": []
    },
    {
      "cell_type": "markdown",
      "source": [
        "*Q: What is the last name of the employee with the most orders?*\n",
        "\n",
        "A: The employee with the last name Peacock processed the most orders at 40."
      ],
      "metadata": {
        "id": "RpJc74pkpogP"
      }
    },
    {
      "cell_type": "code",
      "source": [
        "# Q2.2 - What is the last name of the employee with the most orders?\n",
        "\n",
        "SELECT e.LastName, o.EmployeeID, COUNT(o.EmployeeID) AS orders_by_employees\n",
        "FROM Orders AS o\n",
        "INNER JOIN Employees AS e ON o.EmployeeID = e.EmployeeID\n",
        "GROUP BY o.EmployeeID\n",
        "ORDER BY orders_by_employees DESC\n",
        "LIMIT 1;"
      ],
      "metadata": {
        "id": "Y0I6tEa5nR0Q"
      },
      "execution_count": null,
      "outputs": []
    },
    {
      "cell_type": "markdown",
      "source": [
        "*Q: What product was ordered the most by customers in Germany?*\n",
        "\n",
        "A: Boston Crab Meat was the most popular item ordered by customers in Germany, amounting to 160 orders and generating $73.60 in total revenue.\n"
      ],
      "metadata": {
        "id": "y1ZUZqQ3pvhF"
      }
    },
    {
      "cell_type": "code",
      "source": [
        "# Q2.3 - What product was ordered the most by customers in Germany?\n",
        "\n",
        "SELECT c.Country, d.ProductID, p.ProductName, ROUND(SUM(p.Price), 2) AS total_product_rev, SUM(d.Quantity) AS total_product_vol\n",
        "FROM OrderDetails AS d\n",
        "INNER JOIN Orders AS o ON o.OrderID = d.OrderID\n",
        "INNER JOIN Products AS p ON p.ProductID = d.ProductID\n",
        "INNER JOIN Customers AS c ON c.CustomerID = o.CustomerID\n",
        "WHERE c.Country = 'Germany'\n",
        "GROUP BY d.ProductID\n",
        "ORDER BY total_product_vol DESC\n",
        "LIMIT 1;"
      ],
      "metadata": {
        "id": "mJ6XD3FmmRw4"
      },
      "execution_count": null,
      "outputs": []
    }
  ]
}