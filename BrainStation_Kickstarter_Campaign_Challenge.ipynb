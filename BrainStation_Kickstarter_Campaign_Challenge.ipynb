{
  "nbformat": 4,
  "nbformat_minor": 0,
  "metadata": {
    "colab": {
      "name": "BrainStation Kickstarter Campaign Challenge.ipynb",
      "provenance": [],
      "collapsed_sections": [],
      "authorship_tag": "ABX9TyNqBdNy5carPnb2DJKJM4kr",
      "include_colab_link": true
    },
    "kernelspec": {
      "name": "python3",
      "display_name": "Python 3"
    },
    "language_info": {
      "name": "python"
    }
  },
  "cells": [
    {
      "cell_type": "markdown",
      "metadata": {
        "id": "view-in-github",
        "colab_type": "text"
      },
      "source": [
        "<a href=\"https://colab.research.google.com/github/vanislekahuna/Portfolio-Projects/blob/main/BrainStation_Kickstarter_Campaign_Challenge.ipynb\" target=\"_parent\"><img src=\"https://colab.research.google.com/assets/colab-badge.svg\" alt=\"Open In Colab\"/></a>"
      ]
    },
    {
      "cell_type": "markdown",
      "metadata": {
        "id": "pAgI0VRWnOSM"
      },
      "source": [
        "# **KickStarter Board Game Campaign Analysis**\n"
      ]
    },
    {
      "cell_type": "markdown",
      "metadata": {
        "id": "hsA6OGLKdbhu"
      },
      "source": [
        "## **Introduction**\n",
        "### **Stage 1 - Establishing the Business Question**\n",
        "\n",
        "\n",
        "Through crowdfunding, one of the most viable ways to raise funding, find product-market fit and amass hype for a project. However, before we move forward, let's run through a quick breakdown of the crowdfunding model for those new to the term. [**Crowdfunding**]('https://en.wikipedia.org/wiki/Crowdfunding') is the practice of raising capital from the public towards a project, venture, or initiative and is now usually mediated through the internet. In exchange for their financial contribution, participants typically receive a tangible reward, such as a limited-version release of the product. We can liken this process to the funding model of Renaissance-era artists and scientists who appealed to their patrons for capital to continue advancing their respective fields. To date, the most popular platform for hosting crowdfunding has been [**KickStarter**]('https://www.kickstarter.com/about'), whose focus is more towards bringing exposure to creative projects.\n",
        "\n",
        "As the leading crowdfunding platform, Kickstarter is the avenue that best aligns with our goals for funding a future board game product launch. The trouble is, navigating the intricacies of a Kickstarter's all-or-nothing crowdfunding model is tricky and will require optimal decision-making to succeed. With the all-or-nothing crowdfunding model, creators must post a monetary funding goal and reach it at a specified deadline. Else, they lose all the previous money that they, and their patrons, pledged to the project. But, on the other hand, there is no ceiling to the capital that a project can receive once it has surpassed the stated goal. Other additional perks of achieving their targets include the potential to go viral amongst their potential user base and access to early-stage venture of a successful product launch. With that said, Brainstation, our Data Science Consulting Team, is excited to work with you and help you successfully launch your board game to the masses!\n",
        "\n",
        "As you've requested, we've focused our consulting engagement with you to help answer the three key questions you've so concisely developed about your campaign initiative:\n",
        "\n",
        "1. *What is a realistic Kickstarter campaign goal (in dollars) should the company aim to raise?*\n",
        "2. *How many backers will be needed to meet their goal?*\n",
        "3. *How many backers can the company realistically expect, based on trends in their category?* (BrainStation, n.d.)\n",
        "\n",
        "In addition, we were given a list and a description of all the unique features in the `campaign` table for us to reference:\n",
        "\n",
        "- `ID`: unique project ID\n",
        "- `name`: project name\n",
        "- `sub_category_id`: what industry/category was the project in?\n",
        "- `country_id`: id number associated to country of origin\n",
        "- `currency_id`: what currency funding was given in?\n",
        "- `launched`: date fundraising began\n",
        "- `deadline`: when the target amount must be raised by\n",
        "- `goal`: desired amount of funding\n",
        "- `pledged`: how much was promised by the backer (whether or not the goal was achieved)\n",
        "- `backers`: how many individuals contributed to the campaign?\n",
        "- `outcome`: was the project funded or not? \n",
        "\n",
        "We've developed the following Data Science Consultation Report containing the data-driven insights, analysis, and recommendations you need to succeed in your Kickstarter campaign. In addition, our report will also focus on transparency by walking through our thought process leading up to the recommendation. Now that we've had a chance to address the key issues and our vision let's get started with our analysis."
      ]
    },
    {
      "cell_type": "markdown",
      "metadata": {
        "id": "SkjfvwxumFaC"
      },
      "source": [
        "### **Stage 2 - Data Collection**\n",
        "\n",
        "Thanks to the data-mining efforts and the database that your team has provided, we focused our efforts on cleaning, querying, analyzing, and re-contextualizing the data to address the business question. First, we re-created the MySQL database containing data on previous Kickstarter campaigns with the [scipt]('https://drive.google.com/file/d/1nbHzU5nCbuoAmQzE0KkKgnJE6W04gpLy/view?usp=sharing') you provided. Then, for our convenience, [we wrote an additional SQL script]('https://drive.google.com/file/d/1ddCtL_23Wtc4bbL1oXyIH9v3-bh2QRac/view?usp=sharing') to combine all the related tables in the database into a CSV-formatted master table. Afterwards, we stored the table in Google Drive and accessed it using our Google Colab Notebook. Lastly, we manipulated the data using Python and SQL programming languages.\n",
        "\n",
        "We've summarized our data collection process with the following steps:\n",
        "1. Upgrading and uploading the necessary software libraries,\n",
        "2. \"Mount(ing)\" our Google Drive,\n",
        "3. Uploading the converted CSV file into Colab,\n",
        "4. And using Pandas to read the converted CSV file into a DataFrame. One of the benefits of uploading the data this way was that Pandas automatically removed data entries (or rows) that did not align with the DataFrame's schema. In other words, we automatically removed rows that had more, or less, columns than the amount pre-constructed in the DataFrame. Only a few rows had this problem, so the data we removed did not significantly impact the results of our analysis.\n",
        "\n",
        "\n",
        "In the following stage, we also established a SQL engine using the SQLAlchemy Library to continue running SQL queries throughout the Python notebook."
      ]
    },
    {
      "cell_type": "code",
      "metadata": {
        "id": "WK8o3nZt-Zdt",
        "colab": {
          "base_uri": "https://localhost:8080/"
        },
        "outputId": "08084ca1-bab9-429c-806d-5f5dedfdf0a3"
      },
      "source": [
        "#Step 1\n",
        "!pip install --upgrade plotly"
      ],
      "execution_count": null,
      "outputs": [
        {
          "output_type": "stream",
          "name": "stdout",
          "text": [
            "Requirement already satisfied: plotly in /usr/local/lib/python3.7/dist-packages (4.4.1)\n",
            "Collecting plotly\n",
            "  Downloading plotly-5.4.0-py2.py3-none-any.whl (25.3 MB)\n",
            "\u001b[K     |████████████████████████████████| 25.3 MB 67 kB/s \n",
            "\u001b[?25hCollecting tenacity>=6.2.0\n",
            "  Downloading tenacity-8.0.1-py3-none-any.whl (24 kB)\n",
            "Requirement already satisfied: six in /usr/local/lib/python3.7/dist-packages (from plotly) (1.15.0)\n",
            "Installing collected packages: tenacity, plotly\n",
            "  Attempting uninstall: plotly\n",
            "    Found existing installation: plotly 4.4.1\n",
            "    Uninstalling plotly-4.4.1:\n",
            "      Successfully uninstalled plotly-4.4.1\n",
            "Successfully installed plotly-5.4.0 tenacity-8.0.1\n"
          ]
        }
      ]
    },
    {
      "cell_type": "code",
      "metadata": {
        "id": "2X8c9xyZaiwW"
      },
      "source": [
        "import pandas as pd\n",
        "import sqlite3\n",
        "from google.colab import drive\n",
        "import matplotlib.pyplot as plt\n",
        "import plotly.graph_objects as go\n",
        "import plotly.express as px\n",
        "import os\n",
        "import sqlalchemy\n",
        "import numpy as np\n",
        "import seaborn as sns"
      ],
      "execution_count": null,
      "outputs": []
    },
    {
      "cell_type": "code",
      "metadata": {
        "id": "Js15_C-WZb9f",
        "colab": {
          "base_uri": "https://localhost:8080/"
        },
        "cellView": "form",
        "outputId": "c39123f1-4046-4b31-f329-8fdb8b571cc5"
      },
      "source": [
        "#@title\n",
        "\n",
        "# Step 2\n",
        "drive.mount('/content/drive')"
      ],
      "execution_count": null,
      "outputs": [
        {
          "output_type": "stream",
          "name": "stdout",
          "text": [
            "Mounted at /content/drive\n"
          ]
        }
      ]
    },
    {
      "cell_type": "code",
      "metadata": {
        "colab": {
          "base_uri": "https://localhost:8080/"
        },
        "id": "hApaRdiZru5C",
        "cellView": "form",
        "outputId": "d0773959-8b15-43d8-82ae-6df6fc0fdda8"
      },
      "source": [
        "#@title\n",
        "\n",
        "# Step 3\n",
        "path = '/content/drive/My Drive/BrainStation/kickstarter_mysql_export.csv'\n",
        "os.path.exists(path)"
      ],
      "execution_count": null,
      "outputs": [
        {
          "output_type": "execute_result",
          "data": {
            "text/plain": [
              "True"
            ]
          },
          "metadata": {},
          "execution_count": 6
        }
      ]
    },
    {
      "cell_type": "code",
      "metadata": {
        "colab": {
          "base_uri": "https://localhost:8080/",
          "height": 118
        },
        "id": "1aJOdi58U4fP",
        "cellView": "form",
        "outputId": "ff23dbd2-e801-45d3-ffe8-d78fd20a662a"
      },
      "source": [
        "#@title\n",
        "\n",
        "# Step 4\n",
        "ks = pd.read_csv(path, delimiter=',', encoding='utf-8', error_bad_lines=False)\n",
        "ks.head(1)"
      ],
      "execution_count": null,
      "outputs": [
        {
          "output_type": "stream",
          "name": "stderr",
          "text": [
            "b'Skipping line 92: expected 20 fields, saw 31\\nSkipping line 112: expected 20 fields, saw 21\\nSkipping line 390: expected 20 fields, saw 21\\nSkipping line 471: expected 20 fields, saw 31\\nSkipping line 588: expected 20 fields, saw 31\\nSkipping line 613: expected 20 fields, saw 31\\nSkipping line 655: expected 20 fields, saw 31\\nSkipping line 718: expected 20 fields, saw 31\\nSkipping line 844: expected 20 fields, saw 31\\nSkipping line 906: expected 20 fields, saw 21\\n'\n"
          ]
        },
        {
          "output_type": "execute_result",
          "data": {
            "text/html": [
              "<div>\n",
              "<style scoped>\n",
              "    .dataframe tbody tr th:only-of-type {\n",
              "        vertical-align: middle;\n",
              "    }\n",
              "\n",
              "    .dataframe tbody tr th {\n",
              "        vertical-align: top;\n",
              "    }\n",
              "\n",
              "    .dataframe thead th {\n",
              "        text-align: right;\n",
              "    }\n",
              "</style>\n",
              "<table border=\"1\" class=\"dataframe\">\n",
              "  <thead>\n",
              "    <tr style=\"text-align: right;\">\n",
              "      <th></th>\n",
              "      <th>id</th>\n",
              "      <th>name</th>\n",
              "      <th>sub_category_id</th>\n",
              "      <th>country_id</th>\n",
              "      <th>currency_id</th>\n",
              "      <th>launched</th>\n",
              "      <th>deadline</th>\n",
              "      <th>goal</th>\n",
              "      <th>pledged</th>\n",
              "      <th>backers</th>\n",
              "      <th>outcome</th>\n",
              "      <th>id.1</th>\n",
              "      <th>name.1</th>\n",
              "      <th>id.2</th>\n",
              "      <th>name.2</th>\n",
              "      <th>id.3</th>\n",
              "      <th>name.3</th>\n",
              "      <th>category_id</th>\n",
              "      <th>id.4</th>\n",
              "      <th>name.4</th>\n",
              "    </tr>\n",
              "  </thead>\n",
              "  <tbody>\n",
              "    <tr>\n",
              "      <th>0</th>\n",
              "      <td>1</td>\n",
              "      <td>Ragdolls</td>\n",
              "      <td>23</td>\n",
              "      <td>2</td>\n",
              "      <td>2</td>\n",
              "      <td>2013-04-25 00:00:00</td>\n",
              "      <td>2013-05-25 00:00:00</td>\n",
              "      <td>15000.0</td>\n",
              "      <td>20.0</td>\n",
              "      <td>3</td>\n",
              "      <td>failed</td>\n",
              "      <td>2</td>\n",
              "      <td>US</td>\n",
              "      <td>2</td>\n",
              "      <td>USD</td>\n",
              "      <td>23</td>\n",
              "      <td>Webseries</td>\n",
              "      <td>2</td>\n",
              "      <td>2</td>\n",
              "      <td>Film &amp; Video</td>\n",
              "    </tr>\n",
              "  </tbody>\n",
              "</table>\n",
              "</div>"
            ],
            "text/plain": [
              "   id      name  sub_category_id  ...  category_id  id.4        name.4\n",
              "0   1  Ragdolls               23  ...            2     2  Film & Video\n",
              "\n",
              "[1 rows x 20 columns]"
            ]
          },
          "metadata": {},
          "execution_count": 7
        }
      ]
    },
    {
      "cell_type": "markdown",
      "metadata": {
        "id": "b47BH4h4C4jc"
      },
      "source": [
        "## **Stage 3 - Data Cleaning**\n",
        "\n",
        "Upon uploading the CSV file in Google Colab, we noticed that the lone SQL script we wrote in MySQL duplicated several of our `id` columns so we proceeded to delete the duplicates. We also had to rename several columns to accurately reflect the values within them."
      ]
    },
    {
      "cell_type": "code",
      "metadata": {
        "id": "HG7m2irP1pG7"
      },
      "source": [
        "ks.rename(columns={\"name.1\":\"country\", \n",
        "                   \"name.2\": \"currency\", \n",
        "                   \"name.3\": \"subcategory\",\n",
        "                   \"name.4\": \"category\"}, inplace=True)\n",
        "\n",
        "ks.drop(['id.1', 'id.2', 'id.3', 'id.4'], axis=1, inplace=True)"
      ],
      "execution_count": null,
      "outputs": []
    },
    {
      "cell_type": "markdown",
      "metadata": {
        "id": "dEzA4TIUhA8n"
      },
      "source": [
        "### Accessing the SQL Querying Engine\n",
        "\n",
        "Below is the code we mentioned at the end of Stage 2 to establish a connection to the SQL engine."
      ]
    },
    {
      "cell_type": "code",
      "metadata": {
        "id": "EI-rTMaXfZSB"
      },
      "source": [
        "engine = sqlalchemy.create_engine('sqlite://', echo=False)\n",
        "ks.to_sql('ks_combined', con=engine)"
      ],
      "execution_count": null,
      "outputs": []
    },
    {
      "cell_type": "code",
      "metadata": {
        "id": "PU7XEObjgpZI",
        "cellView": "form"
      },
      "source": [
        "#@title\n",
        "\n",
        "query = \"\"\"\n",
        "SELECT *\n",
        "FROM ks_combined;\n",
        "\"\"\"\n",
        "\n",
        "result = engine.execute(query).fetchall()\n",
        "result_df = pd.DataFrame(result, columns=['extra', 'id', 'name', 'sub_category_id', 'country_id', 'currency_id',\n",
        "                                         'launched', 'deadline', 'goal', 'pledged', 'backers', 'outcome',\n",
        "                                         'country', 'currency', 'subcategory', 'category_id', 'category'])\n",
        "\n",
        "result_df.drop('extra', axis=1, inplace=True)"
      ],
      "execution_count": null,
      "outputs": []
    },
    {
      "cell_type": "markdown",
      "metadata": {
        "id": "dA_1fHIsY35C"
      },
      "source": [
        "### Replacing acronyms with the country's actual name:\n",
        "\n",
        "Another procedure that we thought was necessary was to replace the acronyms representing a country with it's actual name. The acronyms were confusing to understand at times so by replacing them with their names, we removed any possible confusion or ambiguity for later on when we start building data visualizations. "
      ]
    },
    {
      "cell_type": "code",
      "metadata": {
        "id": "B1Z1e6V6Yqie",
        "cellView": "form"
      },
      "source": [
        "#@title\n",
        "\n",
        "country_acronym_replacements = {\n",
        "    'US':'United States',\n",
        "    'AT': 'Austria',\n",
        "    'GB': 'Great Britain',\n",
        "    'DE': 'Germany',\n",
        "    'AU': 'Australia',\n",
        "    'CA': 'Canada',\n",
        "    'IT': 'Italy',\n",
        "    'CH': 'Switzerland',\n",
        "    'SG': 'Singapore',\n",
        "    'FR': 'France',\n",
        "    'NZ': 'New Zealand',\n",
        "    'NL': 'Netherlands',\n",
        "    'ES': 'Spain',\n",
        "    'SE': 'Sweeden',\n",
        "    'BE': 'Belgium',\n",
        "    'IE': 'Ireland',\n",
        "    'DK': 'Denmark',\n",
        "    'NO': 'Norway',\n",
        "    'HK': 'Hong Kong',\n",
        "    'MX': 'Mexico'\n",
        "}"
      ],
      "execution_count": null,
      "outputs": []
    },
    {
      "cell_type": "markdown",
      "metadata": {
        "id": "XP1LCdPJ-eXM"
      },
      "source": [
        "### Converting the various currencies into Canadian Dollar amount\n",
        "\n",
        "The last piece about the dataset that needed cleaning was the various `currency` that denoted the funding in the `pledged` column. It would not be easy to compare the financing for different projects if they're all represented in foreign currencies. Our solution, therefore, was to standardize the denominations by converting them to the equivalent of Canadian Dollars (CAD) and storing them in the `pledged_CAD` column. The [currency rates]('https://www.webull.com/quote/fx-gbpcad') used for these conversions reflect those of Tuesday, Nov 16th, 2021."
      ]
    },
    {
      "cell_type": "code",
      "metadata": {
        "colab": {
          "base_uri": "https://localhost:8080/",
          "height": 112
        },
        "id": "KE0T80xFct9y",
        "outputId": "cfdf7481-a7fe-4c9c-83ba-824dd04f1e2a"
      },
      "source": [
        "currency_conversion_query = \"\"\"\n",
        "SELECT name,\n",
        "  goal,\n",
        "  (julianday(deadline)-julianday(launched)) AS total_campaign_days,  \n",
        "  pledged,\n",
        "  CASE currency\n",
        "WHEN 'USD' THEN ROUND(pledged * 1.2561, 2)\n",
        "WHEN 'GBP' THEN ROUND(pledged * 1.6875, 2)\n",
        "WHEN 'EUR' THEN ROUND(pledged * 1.4204, 2)\n",
        "WHEN 'SEK' THEN ROUND(pledged * 0.1410, 2)\n",
        "WHEN 'HKD' THEN ROUND(pledged * 0.16122, 2)\n",
        "WHEN 'AUD' THEN ROUND(pledged * 0.9164, 2)\n",
        "WHEN 'MXN' THEN ROUND(pledged * 0.0604, 2)\n",
        "WHEN 'NZD' THEN ROUND(pledged * 0.8802, 2)\n",
        "WHEN 'DKK' THEN ROUND(pledged * 0.1908, 2)\n",
        "WHEN 'NOK' THEN ROUND(pledged * 0.1434, 2)\n",
        "WHEN 'SGD' THEN ROUND(pledged * 0.9246, 2)\n",
        "WHEN 'CHF' THEN ROUND(pledged * 1.3482, 2)\n",
        "ELSE pledged\n",
        "END AS pledged_CAD,\n",
        "  backers, \n",
        "  outcome, \n",
        "  country, \n",
        "  currency, \n",
        "  subcategory, \n",
        "  category\n",
        "FROM ks_combined;\n",
        "\"\"\"\n",
        "currency_conversion = engine.execute(currency_conversion_query).fetchall()\n",
        "clean_df = pd.DataFrame(currency_conversion, columns=['name', 'goal', 'total_campaign_days', 'pledged', 'pledged_CAD', 'backers', 'outcome', 'country', 'currency', 'subcategory', 'category'])\n",
        "clean_df['country'].replace(country_acronym_replacements, inplace=True)\n",
        "clean_df.tail(2)"
      ],
      "execution_count": null,
      "outputs": [
        {
          "output_type": "execute_result",
          "data": {
            "text/html": [
              "<div>\n",
              "<style scoped>\n",
              "    .dataframe tbody tr th:only-of-type {\n",
              "        vertical-align: middle;\n",
              "    }\n",
              "\n",
              "    .dataframe tbody tr th {\n",
              "        vertical-align: top;\n",
              "    }\n",
              "\n",
              "    .dataframe thead th {\n",
              "        text-align: right;\n",
              "    }\n",
              "</style>\n",
              "<table border=\"1\" class=\"dataframe\">\n",
              "  <thead>\n",
              "    <tr style=\"text-align: right;\">\n",
              "      <th></th>\n",
              "      <th>name</th>\n",
              "      <th>goal</th>\n",
              "      <th>total_campaign_days</th>\n",
              "      <th>pledged</th>\n",
              "      <th>pledged_CAD</th>\n",
              "      <th>backers</th>\n",
              "      <th>outcome</th>\n",
              "      <th>country</th>\n",
              "      <th>currency</th>\n",
              "      <th>subcategory</th>\n",
              "      <th>category</th>\n",
              "    </tr>\n",
              "  </thead>\n",
              "  <tbody>\n",
              "    <tr>\n",
              "      <th>981</th>\n",
              "      <td>Paria Exchange at Dave's Leicester Comedy Fest...</td>\n",
              "      <td>223.65</td>\n",
              "      <td>30.0</td>\n",
              "      <td>342.93</td>\n",
              "      <td>578.69</td>\n",
              "      <td>17</td>\n",
              "      <td>successful</td>\n",
              "      <td>Great Britain</td>\n",
              "      <td>GBP</td>\n",
              "      <td>Plays</td>\n",
              "      <td>Theater</td>\n",
              "    </tr>\n",
              "    <tr>\n",
              "      <th>982</th>\n",
              "      <td>Udgivelse: Månen og jeg</td>\n",
              "      <td>1198.29</td>\n",
              "      <td>40.0</td>\n",
              "      <td>1250.71</td>\n",
              "      <td>238.64</td>\n",
              "      <td>28</td>\n",
              "      <td>successful</td>\n",
              "      <td>Denmark</td>\n",
              "      <td>DKK</td>\n",
              "      <td>Music</td>\n",
              "      <td>Music</td>\n",
              "    </tr>\n",
              "  </tbody>\n",
              "</table>\n",
              "</div>"
            ],
            "text/plain": [
              "                                                  name  ...  category\n",
              "981  Paria Exchange at Dave's Leicester Comedy Fest...  ...   Theater\n",
              "982                            Udgivelse: Månen og jeg  ...     Music\n",
              "\n",
              "[2 rows x 11 columns]"
            ]
          },
          "metadata": {},
          "execution_count": 93
        }
      ]
    },
    {
      "cell_type": "markdown",
      "metadata": {
        "id": "a-WXrZYCtCOk"
      },
      "source": [
        "## **Stage 4 - Preliminary Data Analysis**\n",
        "\n",
        "Now the fun part, analyzing the dataset for insights that can significantly drive the Kickstarter campaign forward. Since our goal is to attain funding for our board game, it would be helpful to survey the competitive landscape we'll compete with alongside other fascinating projects.\n",
        "\n",
        "There are three main metrics with which we'll use to measure campaign success:\n",
        "\n",
        "1. The stated `outcome` of the campaign;\n",
        "2. The dollar amount `pledged_CAD` by patrons, denoted and standardized by Canadian Dollar amount;\n",
        "3. And the number of `backers` backing the project.\n",
        "\n",
        "These three metrics will appear continuously throughout our data visualizations.\n",
        "\n",
        "Another critical point to understand here is Kickstarter's classifications to categorize the various projects on the platform. For example, Kickstarter classifies board game projects within the \"Games\" category and the \"Tabletop Games\" subcategory.\n",
        "\n",
        "Our first order of business is to determine how much attention \"Tabletop Games\" gets amongst funders compared to other subcategories. For example, it typically wouldn't be productive if funders ignore board games for other subcategories, such as photography or video games.\n",
        "To explore the differences in funding across subcategories, we developed a treemap to visualize and better understand the competitive landscape. In the treemap, we also distinguished subcategories by their campaign outcomes to understand how capital circulates among projects that succeed and those that fail."
      ]
    },
    {
      "cell_type": "code",
      "metadata": {
        "id": "zBi6YtsRtP1x",
        "cellView": "form"
      },
      "source": [
        "#@title\n",
        "# Are the goals for dollars raised significantly different between campaigns that are successful and unsuccessful?\n",
        "\n",
        "outcome_difference = \"\"\"\n",
        "SELECT \n",
        "  name,\n",
        "  category,\n",
        "  subcategory,\n",
        "  goal, \n",
        "  pledged, \n",
        "  currency,\n",
        "CASE currency\n",
        "WHEN 'USD' THEN ROUND(pledged * 1.2561, 2)\n",
        "WHEN 'GBP' THEN ROUND(pledged * 1.6875, 2)\n",
        "WHEN 'EUR' THEN ROUND(pledged * 1.4204, 2)\n",
        "WHEN 'SEK' THEN ROUND(pledged * 0.1410, 2)\n",
        "WHEN 'HKD' THEN ROUND(pledged * 0.16122, 2)\n",
        "WHEN 'AUD' THEN ROUND(pledged * 0.9164, 2)\n",
        "WHEN 'MXN' THEN ROUND(pledged * 0.0604, 2)\n",
        "WHEN 'NZD' THEN ROUND(pledged * 0.8802, 2)\n",
        "WHEN 'DKK' THEN ROUND(pledged * 0.1908, 2)\n",
        "WHEN 'NOK' THEN ROUND(pledged * 0.1434, 2)\n",
        "WHEN 'SGD' THEN ROUND(pledged * 0.9246, 2)\n",
        "WHEN 'CHF' THEN ROUND(pledged * 1.3482, 2)\n",
        "ELSE pledged\n",
        "END AS pledged_CAD,\n",
        "  backers, \n",
        "  outcome, \n",
        "  country \n",
        "FROM ks_combined\n",
        "WHERE outcome == 'successful' OR outcome=='failed';\n",
        "\"\"\"\n",
        "outcome_query = engine.execute(outcome_difference).fetchall()\n",
        "outcome_df = pd.DataFrame(outcome_query, columns=['name', 'category', 'subcategory', 'goal', 'pledged', 'currency', 'pledged_CAD', 'backers', 'outcome', 'country'])\n",
        "successes = outcome_df[outcome_df['outcome'] == 'successful']\n",
        "failures = outcome_df[outcome_df['outcome'] == 'failed']"
      ],
      "execution_count": null,
      "outputs": []
    },
    {
      "cell_type": "code",
      "metadata": {
        "colab": {
          "base_uri": "https://localhost:8080/",
          "height": 542
        },
        "id": "ag7Ie1mHwZXx",
        "outputId": "c61f1fca-835c-47fe-d6d1-45d7c7559422"
      },
      "source": [
        "outcome_breakdown = px.treemap(outcome_df, \n",
        "                          path=[px.Constant('category'), 'outcome', 'subcategory'],\n",
        "                          values='pledged_CAD',\n",
        "                          color='outcome',\n",
        "                          color_discrete_sequence=['red', 'green', 'teal'],\n",
        "                          title='Funding Outcome Tree'\n",
        "                          )\n",
        "outcome_breakdown.show()"
      ],
      "execution_count": null,
      "outputs": [
        {
          "output_type": "display_data",
          "data": {
            "text/html": [
              "<html>\n",
              "<head><meta charset=\"utf-8\" /></head>\n",
              "<body>\n",
              "    <div>            <script src=\"https://cdnjs.cloudflare.com/ajax/libs/mathjax/2.7.5/MathJax.js?config=TeX-AMS-MML_SVG\"></script><script type=\"text/javascript\">if (window.MathJax) {MathJax.Hub.Config({SVG: {font: \"STIX-Web\"}});}</script>                <script type=\"text/javascript\">window.PlotlyConfig = {MathJaxConfig: 'local'};</script>\n",
              "        <script src=\"https://cdn.plot.ly/plotly-2.6.3.min.js\"></script>                <div id=\"fde2427c-9f83-4d0c-a955-fb2f453aecfc\" class=\"plotly-graph-div\" style=\"height:525px; width:100%;\"></div>            <script type=\"text/javascript\">                                    window.PLOTLYENV=window.PLOTLYENV || {};                                    if (document.getElementById(\"fde2427c-9f83-4d0c-a955-fb2f453aecfc\")) {                    Plotly.newPlot(                        \"fde2427c-9f83-4d0c-a955-fb2f453aecfc\",                        [{\"branchvalues\":\"total\",\"customdata\":[[\"failed\"],[\"failed\"],[\"successful\"],[\"failed\"],[\"failed\"],[\"successful\"],[\"successful\"],[\"failed\"],[\"successful\"],[\"successful\"],[\"successful\"],[\"failed\"],[\"failed\"],[\"successful\"],[\"failed\"],[\"failed\"],[\"successful\"],[\"successful\"],[\"successful\"],[\"successful\"],[\"successful\"],[\"successful\"],[\"successful\"],[\"successful\"],[\"successful\"],[\"successful\"],[\"failed\"],[\"successful\"],[\"failed\"],[\"failed\"],[\"failed\"],[\"failed\"],[\"successful\"],[\"successful\"],[\"successful\"],[\"failed\"],[\"successful\"],[\"failed\"],[\"failed\"],[\"failed\"],[\"successful\"],[\"successful\"],[\"failed\"],[\"failed\"],[\"failed\"],[\"successful\"],[\"failed\"],[\"successful\"],[\"failed\"],[\"failed\"],[\"successful\"],[\"failed\"],[\"successful\"],[\"successful\"],[\"failed\"],[\"failed\"],[\"successful\"],[\"failed\"],[\"successful\"],[\"successful\"],[\"failed\"],[\"successful\"],[\"failed\"],[\"successful\"],[\"successful\"],[\"successful\"],[\"failed\"],[\"successful\"],[\"failed\"],[\"failed\"],[\"successful\"],[\"failed\"],[\"failed\"],[\"failed\"],[\"failed\"],[\"successful\"],[\"successful\"],[\"successful\"],[\"successful\"],[\"failed\"],[\"failed\"],[\"failed\"],[\"successful\"],[\"failed\"],[\"successful\"],[\"failed\"],[\"successful\"],[\"failed\"],[\"failed\"],[\"successful\"],[\"failed\"],[\"successful\"],[\"failed\"],[\"successful\"],[\"failed\"],[\"successful\"],[\"failed\"],[\"failed\"],[\"successful\"],[\"successful\"],[\"failed\"],[\"successful\"],[\"failed\"],[\"successful\"],[\"failed\"],[\"successful\"],[\"successful\"],[\"failed\"],[\"successful\"],[\"successful\"],[\"successful\"],[\"successful\"],[\"failed\"],[\"failed\"],[\"successful\"],[\"failed\"],[\"failed\"],[\"failed\"],[\"successful\"],[\"failed\"],[\"failed\"],[\"successful\"],[\"failed\"],[\"successful\"],[\"failed\"],[\"failed\"],[\"failed\"],[\"failed\"],[\"failed\"],[\"successful\"],[\"failed\"],[\"successful\"],[\"failed\"],[\"failed\"],[\"successful\"],[\"failed\"],[\"failed\"],[\"successful\"],[\"failed\"],[\"failed\"],[\"successful\"],[\"failed\"],[\"failed\"],[\"failed\"],[\"successful\"],[\"failed\"],[\"failed\"],[\"failed\"],[\"failed\"],[\"failed\"],[\"successful\"],[\"failed\"],[\"successful\"],[\"failed\"],[\"successful\"],[\"failed\"],[\"successful\"],[\"failed\"],[\"successful\"],[\"successful\"],[\"failed\"],[\"failed\"],[\"failed\"],[\"successful\"],[\"successful\"],[\"failed\"],[\"successful\"],[\"successful\"],[\"failed\"],[\"successful\"],[\"failed\"],[\"successful\"],[\"failed\"],[\"failed\"],[\"successful\"],[\"successful\"],[\"successful\"],[\"successful\"],[\"failed\"],[\"successful\"],[\"failed\"],[\"failed\"],[\"successful\"],[\"failed\"],[\"successful\"],[\"failed\"],[\"failed\"],[\"failed\"],[\"failed\"],[\"(?)\"]],\"domain\":{\"x\":[0.0,1.0],\"y\":[0.0,1.0]},\"hovertemplate\":\"labels=%{label}<br>pledged_CAD=%{value}<br>parent=%{parent}<br>id=%{id}<br>outcome=%{customdata[0]}<extra></extra>\",\"ids\":[\"category/failed/3D Printing\",\"category/failed/Indie Rock\",\"category/successful/Illustration\",\"category/failed/Ready-to-wear\",\"category/failed/Horror\",\"category/successful/Hip-Hop\",\"category/successful/Hardware\",\"category/failed/Hardware\",\"category/successful/Graphic Novels\",\"category/successful/Restaurants\",\"category/successful/Rock\",\"category/failed/Glass\",\"category/failed/Gaming Hardware\",\"category/successful/Indie Rock\",\"category/failed/Games\",\"category/failed/Gadgets\",\"category/successful/Footwear\",\"category/successful/Science Fiction\",\"category/successful/Food Trucks\",\"category/successful/Food\",\"category/successful/Sculpture\",\"category/successful/Fine Art\",\"category/successful/Film & Video\",\"category/successful/Festivals\",\"category/successful/Small Batch\",\"category/successful/Fashion\",\"category/failed/Software\",\"category/successful/Gadgets\",\"category/failed/Interactive Design\",\"category/failed/Jazz\",\"category/failed/Jewelry\",\"category/failed/Playing Cards\",\"category/successful/Photography\",\"category/successful/Poetry\",\"category/successful/Photobooks\",\"category/failed/Photobooks\",\"category/successful/Periodicals\",\"category/failed/Performances\",\"category/failed/Performance Art\",\"category/failed/Painting\",\"category/successful/Nonfiction\",\"category/successful/Pottery\",\"category/failed/Nature\",\"category/failed/Print\",\"category/failed/Narrative Film\",\"category/successful/Musical\",\"category/failed/Product Design\",\"category/successful/Product Design\",\"category/failed/Movie Theaters\",\"category/failed/Public Art\",\"category/successful/Public Art\",\"category/failed/Mixed Media\",\"category/successful/Makerspaces\",\"category/successful/Live Games\",\"category/failed/Live Games\",\"category/failed/Publishing\",\"category/successful/Journalism\",\"category/failed/Journalism\",\"category/successful/Farms\",\"category/successful/Sound\",\"category/failed/Fiction\",\"category/successful/Plays\",\"category/failed/Crafts\",\"category/successful/Country & Folk\",\"category/successful/Translations\",\"category/successful/Comics\",\"category/failed/Comics\",\"category/successful/Comic Books\",\"category/failed/Comic Books\",\"category/failed/Farmer's Markets\",\"category/successful/Apparel\",\"category/failed/Apps\",\"category/failed/Comedy\",\"category/failed/Apparel\",\"category/failed/Architecture\",\"category/successful/Architecture\",\"category/successful/Civic Design\",\"category/successful/Childrenswear\",\"category/successful/Children's Books\",\"category/failed/Children's Books\",\"category/failed/Ceramics\",\"category/failed/Candles\",\"category/successful/Camera Equipment\",\"category/failed/Calendars\",\"category/successful/Video Games\",\"category/failed/Web\",\"category/successful/Classical Music\",\"category/failed/Art\",\"category/failed/DIY\",\"category/successful/Drinks\",\"category/failed/Tabletop Games\",\"category/successful/Fabrication Tools\",\"category/failed/Accessories\",\"category/successful/World Music\",\"category/failed/Embroidery\",\"category/successful/Electronic Music\",\"category/failed/Action\",\"category/failed/Animation\",\"category/successful/DIY\",\"category/successful/Animation\",\"category/failed/Technology\",\"category/successful/Technology\",\"category/failed/Television\",\"category/successful/Documentary\",\"category/failed/Theater\",\"category/successful/Theater\",\"category/successful/Anthologies\",\"category/failed/Thrillers\",\"category/successful/Dance\",\"category/successful/Faith\",\"category/successful/Thrillers\",\"category/successful/Events\",\"category/failed/Experimental\",\"category/failed/Pop\",\"category/successful/Pop\",\"category/failed\",\"category/failed/World Music\",\"category/failed/Space Exploration\",\"category/successful/Printing\",\"category/failed/Poetry\",\"category/failed/Small Batch\",\"category/successful/Shorts\",\"category/failed/Shorts\",\"category/successful/Tabletop Games\",\"category/failed/Sculpture\",\"category/failed/Science Fiction\",\"category/failed/Rock\",\"category/failed/Translations\",\"category/failed/Restaurants\",\"category/successful/Punk\",\"category/failed/Video Art\",\"category/successful/Publishing\",\"category/failed/Video Games\",\"category/failed/Webseries\",\"category/successful/Webseries\",\"category/failed/Puzzles\",\"category/failed/Illustration\",\"category/successful/Playing Cards\",\"category/failed/Fashion\",\"category/failed/Farms\",\"category/successful/Fantasy\",\"category/failed/Events\",\"category/failed/Electronic Music\",\"category/failed/Drinks\",\"category/successful/Drama\",\"category/failed/Drama\",\"category/failed/Documentary\",\"category/failed/Digital Art\",\"category/failed/Design\",\"category/failed/DIY Electronics\",\"category/successful/Crafts\",\"category/failed/Cookbooks\",\"category/successful/Comedy\",\"category/failed/Classical Music\",\"category/successful/Blues\",\"category/failed/Blues\",\"category/successful/Art Books\",\"category/failed/Art Books\",\"category/successful/Art\",\"category/successful/Accessories\",\"category/failed/Academic\",\"category/failed/Festivals\",\"category/failed/Plays\",\"category/successful/Fiction\",\"category/successful/Flight\",\"category/failed/Photography\",\"category/successful/Performance Art\",\"category/successful/Painting\",\"category/failed/Nonfiction\",\"category/successful/Narrative Film\",\"category/failed/Musical\",\"category/successful/Music\",\"category/failed/Music\",\"category/failed/Mobile Games\",\"category/successful/Mixed Media\",\"category/successful/Letterpress\",\"category/successful/Jazz\",\"category/successful/Installations\",\"category/failed/Installations\",\"category/successful\",\"category/failed/Hip-Hop\",\"category/failed/Graphic Novels\",\"category/successful/Graphic Design\",\"category/failed/Graphic Design\",\"category/successful/Games\",\"category/failed/Footwear\",\"category/failed/Food Trucks\",\"category/failed/Food\",\"category/failed/Film & Video\",\"category\"],\"labels\":[\"3D Printing\",\"Indie Rock\",\"Illustration\",\"Ready-to-wear\",\"Horror\",\"Hip-Hop\",\"Hardware\",\"Hardware\",\"Graphic Novels\",\"Restaurants\",\"Rock\",\"Glass\",\"Gaming Hardware\",\"Indie Rock\",\"Games\",\"Gadgets\",\"Footwear\",\"Science Fiction\",\"Food Trucks\",\"Food\",\"Sculpture\",\"Fine Art\",\"Film & Video\",\"Festivals\",\"Small Batch\",\"Fashion\",\"Software\",\"Gadgets\",\"Interactive Design\",\"Jazz\",\"Jewelry\",\"Playing Cards\",\"Photography\",\"Poetry\",\"Photobooks\",\"Photobooks\",\"Periodicals\",\"Performances\",\"Performance Art\",\"Painting\",\"Nonfiction\",\"Pottery\",\"Nature\",\"Print\",\"Narrative Film\",\"Musical\",\"Product Design\",\"Product Design\",\"Movie Theaters\",\"Public Art\",\"Public Art\",\"Mixed Media\",\"Makerspaces\",\"Live Games\",\"Live Games\",\"Publishing\",\"Journalism\",\"Journalism\",\"Farms\",\"Sound\",\"Fiction\",\"Plays\",\"Crafts\",\"Country & Folk\",\"Translations\",\"Comics\",\"Comics\",\"Comic Books\",\"Comic Books\",\"Farmer's Markets\",\"Apparel\",\"Apps\",\"Comedy\",\"Apparel\",\"Architecture\",\"Architecture\",\"Civic Design\",\"Childrenswear\",\"Children's Books\",\"Children's Books\",\"Ceramics\",\"Candles\",\"Camera Equipment\",\"Calendars\",\"Video Games\",\"Web\",\"Classical Music\",\"Art\",\"DIY\",\"Drinks\",\"Tabletop Games\",\"Fabrication Tools\",\"Accessories\",\"World Music\",\"Embroidery\",\"Electronic Music\",\"Action\",\"Animation\",\"DIY\",\"Animation\",\"Technology\",\"Technology\",\"Television\",\"Documentary\",\"Theater\",\"Theater\",\"Anthologies\",\"Thrillers\",\"Dance\",\"Faith\",\"Thrillers\",\"Events\",\"Experimental\",\"Pop\",\"Pop\",\"failed\",\"World Music\",\"Space Exploration\",\"Printing\",\"Poetry\",\"Small Batch\",\"Shorts\",\"Shorts\",\"Tabletop Games\",\"Sculpture\",\"Science Fiction\",\"Rock\",\"Translations\",\"Restaurants\",\"Punk\",\"Video Art\",\"Publishing\",\"Video Games\",\"Webseries\",\"Webseries\",\"Puzzles\",\"Illustration\",\"Playing Cards\",\"Fashion\",\"Farms\",\"Fantasy\",\"Events\",\"Electronic Music\",\"Drinks\",\"Drama\",\"Drama\",\"Documentary\",\"Digital Art\",\"Design\",\"DIY Electronics\",\"Crafts\",\"Cookbooks\",\"Comedy\",\"Classical Music\",\"Blues\",\"Blues\",\"Art Books\",\"Art Books\",\"Art\",\"Accessories\",\"Academic\",\"Festivals\",\"Plays\",\"Fiction\",\"Flight\",\"Photography\",\"Performance Art\",\"Painting\",\"Nonfiction\",\"Narrative Film\",\"Musical\",\"Music\",\"Music\",\"Mobile Games\",\"Mixed Media\",\"Letterpress\",\"Jazz\",\"Installations\",\"Installations\",\"successful\",\"Hip-Hop\",\"Graphic Novels\",\"Graphic Design\",\"Graphic Design\",\"Games\",\"Footwear\",\"Food Trucks\",\"Food\",\"Film & Video\",\"category\"],\"marker\":{\"colors\":[\"red\",\"red\",\"green\",\"red\",\"red\",\"green\",\"green\",\"red\",\"green\",\"green\",\"green\",\"red\",\"red\",\"green\",\"red\",\"red\",\"green\",\"green\",\"green\",\"green\",\"green\",\"green\",\"green\",\"green\",\"green\",\"green\",\"red\",\"green\",\"red\",\"red\",\"red\",\"red\",\"green\",\"green\",\"green\",\"red\",\"green\",\"red\",\"red\",\"red\",\"green\",\"green\",\"red\",\"red\",\"red\",\"green\",\"red\",\"green\",\"red\",\"red\",\"green\",\"red\",\"green\",\"green\",\"red\",\"red\",\"green\",\"red\",\"green\",\"green\",\"red\",\"green\",\"red\",\"green\",\"green\",\"green\",\"red\",\"green\",\"red\",\"red\",\"green\",\"red\",\"red\",\"red\",\"red\",\"green\",\"green\",\"green\",\"green\",\"red\",\"red\",\"red\",\"green\",\"red\",\"green\",\"red\",\"green\",\"red\",\"red\",\"green\",\"red\",\"green\",\"red\",\"green\",\"red\",\"green\",\"red\",\"red\",\"green\",\"green\",\"red\",\"green\",\"red\",\"green\",\"red\",\"green\",\"green\",\"red\",\"green\",\"green\",\"green\",\"green\",\"red\",\"red\",\"green\",\"red\",\"red\",\"red\",\"green\",\"red\",\"red\",\"green\",\"red\",\"green\",\"red\",\"red\",\"red\",\"red\",\"red\",\"green\",\"red\",\"green\",\"red\",\"red\",\"green\",\"red\",\"red\",\"green\",\"red\",\"red\",\"green\",\"red\",\"red\",\"red\",\"green\",\"red\",\"red\",\"red\",\"red\",\"red\",\"green\",\"red\",\"green\",\"red\",\"green\",\"red\",\"green\",\"red\",\"green\",\"green\",\"red\",\"red\",\"red\",\"green\",\"green\",\"red\",\"green\",\"green\",\"red\",\"green\",\"red\",\"green\",\"red\",\"red\",\"green\",\"green\",\"green\",\"green\",\"red\",\"green\",\"red\",\"red\",\"green\",\"red\",\"green\",\"red\",\"red\",\"red\",\"red\",\"teal\"]},\"name\":\"\",\"parents\":[\"category/failed\",\"category/failed\",\"category/successful\",\"category/failed\",\"category/failed\",\"category/successful\",\"category/successful\",\"category/failed\",\"category/successful\",\"category/successful\",\"category/successful\",\"category/failed\",\"category/failed\",\"category/successful\",\"category/failed\",\"category/failed\",\"category/successful\",\"category/successful\",\"category/successful\",\"category/successful\",\"category/successful\",\"category/successful\",\"category/successful\",\"category/successful\",\"category/successful\",\"category/successful\",\"category/failed\",\"category/successful\",\"category/failed\",\"category/failed\",\"category/failed\",\"category/failed\",\"category/successful\",\"category/successful\",\"category/successful\",\"category/failed\",\"category/successful\",\"category/failed\",\"category/failed\",\"category/failed\",\"category/successful\",\"category/successful\",\"category/failed\",\"category/failed\",\"category/failed\",\"category/successful\",\"category/failed\",\"category/successful\",\"category/failed\",\"category/failed\",\"category/successful\",\"category/failed\",\"category/successful\",\"category/successful\",\"category/failed\",\"category/failed\",\"category/successful\",\"category/failed\",\"category/successful\",\"category/successful\",\"category/failed\",\"category/successful\",\"category/failed\",\"category/successful\",\"category/successful\",\"category/successful\",\"category/failed\",\"category/successful\",\"category/failed\",\"category/failed\",\"category/successful\",\"category/failed\",\"category/failed\",\"category/failed\",\"category/failed\",\"category/successful\",\"category/successful\",\"category/successful\",\"category/successful\",\"category/failed\",\"category/failed\",\"category/failed\",\"category/successful\",\"category/failed\",\"category/successful\",\"category/failed\",\"category/successful\",\"category/failed\",\"category/failed\",\"category/successful\",\"category/failed\",\"category/successful\",\"category/failed\",\"category/successful\",\"category/failed\",\"category/successful\",\"category/failed\",\"category/failed\",\"category/successful\",\"category/successful\",\"category/failed\",\"category/successful\",\"category/failed\",\"category/successful\",\"category/failed\",\"category/successful\",\"category/successful\",\"category/failed\",\"category/successful\",\"category/successful\",\"category/successful\",\"category/successful\",\"category/failed\",\"category/failed\",\"category/successful\",\"category\",\"category/failed\",\"category/failed\",\"category/successful\",\"category/failed\",\"category/failed\",\"category/successful\",\"category/failed\",\"category/successful\",\"category/failed\",\"category/failed\",\"category/failed\",\"category/failed\",\"category/failed\",\"category/successful\",\"category/failed\",\"category/successful\",\"category/failed\",\"category/failed\",\"category/successful\",\"category/failed\",\"category/failed\",\"category/successful\",\"category/failed\",\"category/failed\",\"category/successful\",\"category/failed\",\"category/failed\",\"category/failed\",\"category/successful\",\"category/failed\",\"category/failed\",\"category/failed\",\"category/failed\",\"category/failed\",\"category/successful\",\"category/failed\",\"category/successful\",\"category/failed\",\"category/successful\",\"category/failed\",\"category/successful\",\"category/failed\",\"category/successful\",\"category/successful\",\"category/failed\",\"category/failed\",\"category/failed\",\"category/successful\",\"category/successful\",\"category/failed\",\"category/successful\",\"category/successful\",\"category/failed\",\"category/successful\",\"category/failed\",\"category/successful\",\"category/failed\",\"category/failed\",\"category/successful\",\"category/successful\",\"category/successful\",\"category/successful\",\"category/failed\",\"category\",\"category/failed\",\"category/failed\",\"category/successful\",\"category/failed\",\"category/successful\",\"category/failed\",\"category/failed\",\"category/failed\",\"category/failed\",\"\"],\"values\":[50.24,268.81,41196.46,2.56,389.39,9118.11,1339268.03,50587.340000000004,37152.17,7753.42,78253.39,31.4,0.0,36667.450000000004,1336.68,2539.83,4334.1,14441.630000000001,9747.34,118219.11000000002,5797.0,24971.27,104715.27999999998,22018.809999999998,1890.43,104295.23999999999,323.95000000000005,155492.24,187.04,910.67,0.0,3741.92,63990.759999999995,10168.15,23227.8,122.3,42369.22,163.29,4089.8599999999997,286.92,93256.58,1107.88,2.52,87.93,7019.08,6487.469999999999,75542.16,2536034.5500000003,0.0,810.28,98319.11,3643.33,6462.63,8805.26,470.82,24511.66,96582.15,787.45,5705.21,6307.9,8817.439999999999,578.69,3441.3200000000006,11063.73,15173.69,71489.26000000001,15940.55,58305.66999999999,303.24,77.4,189152.89,4792.57,185.25,1249.82,3.77,3211.86,24833.1,26391.92,40120.71,4261.8099999999995,0.0,109.68,45203.27,97.4,41102.1,1708.3,24124.630000000005,14208.059999999998,12.56,79526.98,42507.469999999994,17657.0,4866.82,7775.26,1.26,8330.21,6.28,3481.91,3473.9900000000002,1666.84,16718.54,90946.9,1.55,369412.46,35143.34,159543.36,10489.69,0.0,43056.159999999996,1934.39,31741.16,1062.66,2098.94,0.0,30361.19,1078958.4400000018,96.97,277.25,2154.21,1297.06,6471.610000000001,151398.63000000003,13287.92,350120.93,422.15000000000003,1.26,8525.280000000002,0.0,486.90999999999997,378.09,0.0,78416.06999999999,514639.23000000004,6901.000000000001,99887.35,3450.08,1011.16,74688.32,4498.71,3361.3199999999997,68761.5,30.15,12.56,27.400000000000002,1649.16,21.36,78086.83999999998,150.73000000000002,5717.77,1907.68,6878.4,0.0,76333.06,0.0,3140.25,185.9,46135.96,2343.89,52753.579999999994,234261.32,11317.46,0.0,998.6,24789.48,25278.77,3821.870000000001,29662.8,25653.33,2607.9700000000003,39347.35,13.82,165700.06,3903.34,2177.7799999999997,8505.05,15921.33,11543.56,146046.75,329.1,8311081.970000002,380.15999999999997,2906.21,35867.3,10799.95,13923.439999999999,0.0,2.51,45856.42,2688.35,9390040.409999996],\"type\":\"treemap\"}],                        {\"template\":{\"data\":{\"bar\":[{\"error_x\":{\"color\":\"#2a3f5f\"},\"error_y\":{\"color\":\"#2a3f5f\"},\"marker\":{\"line\":{\"color\":\"#E5ECF6\",\"width\":0.5},\"pattern\":{\"fillmode\":\"overlay\",\"size\":10,\"solidity\":0.2}},\"type\":\"bar\"}],\"barpolar\":[{\"marker\":{\"line\":{\"color\":\"#E5ECF6\",\"width\":0.5},\"pattern\":{\"fillmode\":\"overlay\",\"size\":10,\"solidity\":0.2}},\"type\":\"barpolar\"}],\"carpet\":[{\"aaxis\":{\"endlinecolor\":\"#2a3f5f\",\"gridcolor\":\"white\",\"linecolor\":\"white\",\"minorgridcolor\":\"white\",\"startlinecolor\":\"#2a3f5f\"},\"baxis\":{\"endlinecolor\":\"#2a3f5f\",\"gridcolor\":\"white\",\"linecolor\":\"white\",\"minorgridcolor\":\"white\",\"startlinecolor\":\"#2a3f5f\"},\"type\":\"carpet\"}],\"choropleth\":[{\"colorbar\":{\"outlinewidth\":0,\"ticks\":\"\"},\"type\":\"choropleth\"}],\"contour\":[{\"colorbar\":{\"outlinewidth\":0,\"ticks\":\"\"},\"colorscale\":[[0.0,\"#0d0887\"],[0.1111111111111111,\"#46039f\"],[0.2222222222222222,\"#7201a8\"],[0.3333333333333333,\"#9c179e\"],[0.4444444444444444,\"#bd3786\"],[0.5555555555555556,\"#d8576b\"],[0.6666666666666666,\"#ed7953\"],[0.7777777777777778,\"#fb9f3a\"],[0.8888888888888888,\"#fdca26\"],[1.0,\"#f0f921\"]],\"type\":\"contour\"}],\"contourcarpet\":[{\"colorbar\":{\"outlinewidth\":0,\"ticks\":\"\"},\"type\":\"contourcarpet\"}],\"heatmap\":[{\"colorbar\":{\"outlinewidth\":0,\"ticks\":\"\"},\"colorscale\":[[0.0,\"#0d0887\"],[0.1111111111111111,\"#46039f\"],[0.2222222222222222,\"#7201a8\"],[0.3333333333333333,\"#9c179e\"],[0.4444444444444444,\"#bd3786\"],[0.5555555555555556,\"#d8576b\"],[0.6666666666666666,\"#ed7953\"],[0.7777777777777778,\"#fb9f3a\"],[0.8888888888888888,\"#fdca26\"],[1.0,\"#f0f921\"]],\"type\":\"heatmap\"}],\"heatmapgl\":[{\"colorbar\":{\"outlinewidth\":0,\"ticks\":\"\"},\"colorscale\":[[0.0,\"#0d0887\"],[0.1111111111111111,\"#46039f\"],[0.2222222222222222,\"#7201a8\"],[0.3333333333333333,\"#9c179e\"],[0.4444444444444444,\"#bd3786\"],[0.5555555555555556,\"#d8576b\"],[0.6666666666666666,\"#ed7953\"],[0.7777777777777778,\"#fb9f3a\"],[0.8888888888888888,\"#fdca26\"],[1.0,\"#f0f921\"]],\"type\":\"heatmapgl\"}],\"histogram\":[{\"marker\":{\"pattern\":{\"fillmode\":\"overlay\",\"size\":10,\"solidity\":0.2}},\"type\":\"histogram\"}],\"histogram2d\":[{\"colorbar\":{\"outlinewidth\":0,\"ticks\":\"\"},\"colorscale\":[[0.0,\"#0d0887\"],[0.1111111111111111,\"#46039f\"],[0.2222222222222222,\"#7201a8\"],[0.3333333333333333,\"#9c179e\"],[0.4444444444444444,\"#bd3786\"],[0.5555555555555556,\"#d8576b\"],[0.6666666666666666,\"#ed7953\"],[0.7777777777777778,\"#fb9f3a\"],[0.8888888888888888,\"#fdca26\"],[1.0,\"#f0f921\"]],\"type\":\"histogram2d\"}],\"histogram2dcontour\":[{\"colorbar\":{\"outlinewidth\":0,\"ticks\":\"\"},\"colorscale\":[[0.0,\"#0d0887\"],[0.1111111111111111,\"#46039f\"],[0.2222222222222222,\"#7201a8\"],[0.3333333333333333,\"#9c179e\"],[0.4444444444444444,\"#bd3786\"],[0.5555555555555556,\"#d8576b\"],[0.6666666666666666,\"#ed7953\"],[0.7777777777777778,\"#fb9f3a\"],[0.8888888888888888,\"#fdca26\"],[1.0,\"#f0f921\"]],\"type\":\"histogram2dcontour\"}],\"mesh3d\":[{\"colorbar\":{\"outlinewidth\":0,\"ticks\":\"\"},\"type\":\"mesh3d\"}],\"parcoords\":[{\"line\":{\"colorbar\":{\"outlinewidth\":0,\"ticks\":\"\"}},\"type\":\"parcoords\"}],\"pie\":[{\"automargin\":true,\"type\":\"pie\"}],\"scatter\":[{\"marker\":{\"colorbar\":{\"outlinewidth\":0,\"ticks\":\"\"}},\"type\":\"scatter\"}],\"scatter3d\":[{\"line\":{\"colorbar\":{\"outlinewidth\":0,\"ticks\":\"\"}},\"marker\":{\"colorbar\":{\"outlinewidth\":0,\"ticks\":\"\"}},\"type\":\"scatter3d\"}],\"scattercarpet\":[{\"marker\":{\"colorbar\":{\"outlinewidth\":0,\"ticks\":\"\"}},\"type\":\"scattercarpet\"}],\"scattergeo\":[{\"marker\":{\"colorbar\":{\"outlinewidth\":0,\"ticks\":\"\"}},\"type\":\"scattergeo\"}],\"scattergl\":[{\"marker\":{\"colorbar\":{\"outlinewidth\":0,\"ticks\":\"\"}},\"type\":\"scattergl\"}],\"scattermapbox\":[{\"marker\":{\"colorbar\":{\"outlinewidth\":0,\"ticks\":\"\"}},\"type\":\"scattermapbox\"}],\"scatterpolar\":[{\"marker\":{\"colorbar\":{\"outlinewidth\":0,\"ticks\":\"\"}},\"type\":\"scatterpolar\"}],\"scatterpolargl\":[{\"marker\":{\"colorbar\":{\"outlinewidth\":0,\"ticks\":\"\"}},\"type\":\"scatterpolargl\"}],\"scatterternary\":[{\"marker\":{\"colorbar\":{\"outlinewidth\":0,\"ticks\":\"\"}},\"type\":\"scatterternary\"}],\"surface\":[{\"colorbar\":{\"outlinewidth\":0,\"ticks\":\"\"},\"colorscale\":[[0.0,\"#0d0887\"],[0.1111111111111111,\"#46039f\"],[0.2222222222222222,\"#7201a8\"],[0.3333333333333333,\"#9c179e\"],[0.4444444444444444,\"#bd3786\"],[0.5555555555555556,\"#d8576b\"],[0.6666666666666666,\"#ed7953\"],[0.7777777777777778,\"#fb9f3a\"],[0.8888888888888888,\"#fdca26\"],[1.0,\"#f0f921\"]],\"type\":\"surface\"}],\"table\":[{\"cells\":{\"fill\":{\"color\":\"#EBF0F8\"},\"line\":{\"color\":\"white\"}},\"header\":{\"fill\":{\"color\":\"#C8D4E3\"},\"line\":{\"color\":\"white\"}},\"type\":\"table\"}]},\"layout\":{\"annotationdefaults\":{\"arrowcolor\":\"#2a3f5f\",\"arrowhead\":0,\"arrowwidth\":1},\"autotypenumbers\":\"strict\",\"coloraxis\":{\"colorbar\":{\"outlinewidth\":0,\"ticks\":\"\"}},\"colorscale\":{\"diverging\":[[0,\"#8e0152\"],[0.1,\"#c51b7d\"],[0.2,\"#de77ae\"],[0.3,\"#f1b6da\"],[0.4,\"#fde0ef\"],[0.5,\"#f7f7f7\"],[0.6,\"#e6f5d0\"],[0.7,\"#b8e186\"],[0.8,\"#7fbc41\"],[0.9,\"#4d9221\"],[1,\"#276419\"]],\"sequential\":[[0.0,\"#0d0887\"],[0.1111111111111111,\"#46039f\"],[0.2222222222222222,\"#7201a8\"],[0.3333333333333333,\"#9c179e\"],[0.4444444444444444,\"#bd3786\"],[0.5555555555555556,\"#d8576b\"],[0.6666666666666666,\"#ed7953\"],[0.7777777777777778,\"#fb9f3a\"],[0.8888888888888888,\"#fdca26\"],[1.0,\"#f0f921\"]],\"sequentialminus\":[[0.0,\"#0d0887\"],[0.1111111111111111,\"#46039f\"],[0.2222222222222222,\"#7201a8\"],[0.3333333333333333,\"#9c179e\"],[0.4444444444444444,\"#bd3786\"],[0.5555555555555556,\"#d8576b\"],[0.6666666666666666,\"#ed7953\"],[0.7777777777777778,\"#fb9f3a\"],[0.8888888888888888,\"#fdca26\"],[1.0,\"#f0f921\"]]},\"colorway\":[\"#636efa\",\"#EF553B\",\"#00cc96\",\"#ab63fa\",\"#FFA15A\",\"#19d3f3\",\"#FF6692\",\"#B6E880\",\"#FF97FF\",\"#FECB52\"],\"font\":{\"color\":\"#2a3f5f\"},\"geo\":{\"bgcolor\":\"white\",\"lakecolor\":\"white\",\"landcolor\":\"#E5ECF6\",\"showlakes\":true,\"showland\":true,\"subunitcolor\":\"white\"},\"hoverlabel\":{\"align\":\"left\"},\"hovermode\":\"closest\",\"mapbox\":{\"style\":\"light\"},\"paper_bgcolor\":\"white\",\"plot_bgcolor\":\"#E5ECF6\",\"polar\":{\"angularaxis\":{\"gridcolor\":\"white\",\"linecolor\":\"white\",\"ticks\":\"\"},\"bgcolor\":\"#E5ECF6\",\"radialaxis\":{\"gridcolor\":\"white\",\"linecolor\":\"white\",\"ticks\":\"\"}},\"scene\":{\"xaxis\":{\"backgroundcolor\":\"#E5ECF6\",\"gridcolor\":\"white\",\"gridwidth\":2,\"linecolor\":\"white\",\"showbackground\":true,\"ticks\":\"\",\"zerolinecolor\":\"white\"},\"yaxis\":{\"backgroundcolor\":\"#E5ECF6\",\"gridcolor\":\"white\",\"gridwidth\":2,\"linecolor\":\"white\",\"showbackground\":true,\"ticks\":\"\",\"zerolinecolor\":\"white\"},\"zaxis\":{\"backgroundcolor\":\"#E5ECF6\",\"gridcolor\":\"white\",\"gridwidth\":2,\"linecolor\":\"white\",\"showbackground\":true,\"ticks\":\"\",\"zerolinecolor\":\"white\"}},\"shapedefaults\":{\"line\":{\"color\":\"#2a3f5f\"}},\"ternary\":{\"aaxis\":{\"gridcolor\":\"white\",\"linecolor\":\"white\",\"ticks\":\"\"},\"baxis\":{\"gridcolor\":\"white\",\"linecolor\":\"white\",\"ticks\":\"\"},\"bgcolor\":\"#E5ECF6\",\"caxis\":{\"gridcolor\":\"white\",\"linecolor\":\"white\",\"ticks\":\"\"}},\"title\":{\"x\":0.05},\"xaxis\":{\"automargin\":true,\"gridcolor\":\"white\",\"linecolor\":\"white\",\"ticks\":\"\",\"title\":{\"standoff\":15},\"zerolinecolor\":\"white\",\"zerolinewidth\":2},\"yaxis\":{\"automargin\":true,\"gridcolor\":\"white\",\"linecolor\":\"white\",\"ticks\":\"\",\"title\":{\"standoff\":15},\"zerolinecolor\":\"white\",\"zerolinewidth\":2}}},\"legend\":{\"tracegroupgap\":0},\"title\":{\"text\":\"Funding Outcome Tree\"},\"treemapcolorway\":[\"red\",\"green\",\"teal\"]},                        {\"responsive\": true}                    ).then(function(){\n",
              "                            \n",
              "var gd = document.getElementById('fde2427c-9f83-4d0c-a955-fb2f453aecfc');\n",
              "var x = new MutationObserver(function (mutations, observer) {{\n",
              "        var display = window.getComputedStyle(gd).display;\n",
              "        if (!display || display === 'none') {{\n",
              "            console.log([gd, 'removed!']);\n",
              "            Plotly.purge(gd);\n",
              "            observer.disconnect();\n",
              "        }}\n",
              "}});\n",
              "\n",
              "// Listen for the removal of the full notebook cells\n",
              "var notebookContainer = gd.closest('#notebook-container');\n",
              "if (notebookContainer) {{\n",
              "    x.observe(notebookContainer, {childList: true});\n",
              "}}\n",
              "\n",
              "// Listen for the clearing of the current output cell\n",
              "var outputEl = gd.closest('.output');\n",
              "if (outputEl) {{\n",
              "    x.observe(outputEl, {childList: true});\n",
              "}}\n",
              "\n",
              "                        })                };                            </script>        </div>\n",
              "</body>\n",
              "</html>"
            ]
          },
          "metadata": {}
        }
      ]
    },
    {
      "cell_type": "markdown",
      "metadata": {
        "id": "T6LVQVY9dwXv"
      },
      "source": [
        "Although our dataset didn't have many features, as an exercise, we also constructed a correlation heatmap to explore any relationships between the columns. Predictably, there was a very high correlation between the number of backers and the amount pledged. On the flip side, there was almost no correlation between a campaign's length with any other feature. There was also a slight negative correlation between funding goals and the other 3 features."
      ]
    },
    {
      "cell_type": "code",
      "metadata": {
        "colab": {
          "base_uri": "https://localhost:8080/",
          "height": 487
        },
        "id": "YO7RQDLQLIDC",
        "cellView": "form",
        "outputId": "fd038eb4-0691-4aef-d2dd-5a0f1443190f"
      },
      "source": [
        "#@title\n",
        "\n",
        "# Creating a Pandas correlation map\n",
        "corr = clean_df.corr()\n",
        "\n",
        "# Setting up the matplotlib plot configuration\n",
        "f, ax = plt.subplots(figsize=(8, 6))\n",
        "\n",
        "# Generating a mask for upper traingle\n",
        "mask = np.triu(np.ones_like(corr, dtype=bool))\n",
        "\n",
        "# Draw the heatmap\n",
        "sns.heatmap(corr, annot=True, cmap='magma', mask=mask)"
      ],
      "execution_count": null,
      "outputs": [
        {
          "output_type": "execute_result",
          "data": {
            "text/plain": [
              "<matplotlib.axes._subplots.AxesSubplot at 0x7f344838dc90>"
            ]
          },
          "metadata": {},
          "execution_count": 103
        },
        {
          "output_type": "display_data",
          "data": {
            "image/png": "[encoded data removed]",
            "text/plain": [
              "<Figure size 576x432 with 2 Axes>"
            ]
          },
          "metadata": {
            "needs_background": "light"
          }
        }
      ]
    },
    {
      "cell_type": "markdown",
      "metadata": {
        "id": "62AynPdHsRIu"
      },
      "source": [
        "### Breaking down capital allocations and backer numbers amongst project subcategories\n",
        "\n",
        "We found that product design, hardware, and documentaries were the top 3 subcategories that received the most funding. Tabletop games were in 4th place, collectively receiving about $350 K of the financing for the entire subcategory amongst projects that succeeded. This is good. This signals that board games that succeed in their funding goals receive an appropriate amount of attention from patrons. However, as a subcategory, it only captures 4% of the total allotment towards successful projects when compared to the leading subcategory, product design, which captures 31% of the funding.\n",
        "\n",
        "If we look at projects that failed in their campaign goals, about $42 K went towards tabletop games that failed, representing about 4% of the total amount allocated towards projects that failed. Respectively, dance, crafts, and journalism were the three categories that earned the least funding.\n",
        "\n",
        "What's astounding is that this dataset represents campaign data dating from 2009 to 2017. During that period, projects listed in the ceramics, conceptual art, gaming hardware, jewelry, movie theatres, music videos, video art, wearables, and young adults subcategories received zero funding. Based on these figures, we can infer two things. Either users on the platform simply don't value these types of projects, OR there was an error in Kickstarter's data collection processes. My hunch is the latter because a quick Google search of one of the \"movie theatre\" project reveals that there was indeed backers who funded projects in this subcategory. A campaign to [restore an old American movie theatre Vassar, Michigan]('https://www.kickstarter.com/projects/70967183/become-a-movie-hero?ref=discovery&term=movie%20theaters'), is the example I found representing this anomaly.\n",
        "\n"
      ]
    },
    {
      "cell_type": "code",
      "metadata": {
        "colab": {
          "base_uri": "https://localhost:8080/",
          "height": 230
        },
        "id": "ujUTpfDE1lhS",
        "cellView": "form",
        "outputId": "6f67efa3-8693-4851-ac9b-01d9d798efed"
      },
      "source": [
        "#@title\n",
        "# What are the top/bottom 3 categories that have raised the most money? \n",
        "\n",
        "money_categories = \"\"\"\n",
        "SELECT category, SUM(pledged) AS total_raised, SUM(\n",
        "  CASE currency\n",
        "  WHEN 'USD' THEN ROUND(pledged * 1.2561, 2)\n",
        "  WHEN 'GBP' THEN ROUND(pledged * 1.6875, 2)\n",
        "  WHEN 'EUR' THEN ROUND(pledged * 1.4204, 2)\n",
        "  WHEN 'SEK' THEN ROUND(pledged * 0.1410, 2)\n",
        "  WHEN 'HKD' THEN ROUND(pledged * 0.16122, 2)\n",
        "  WHEN 'AUD' THEN ROUND(pledged * 0.9164, 2)\n",
        "  WHEN 'MXN' THEN ROUND(pledged * 0.0604, 2)\n",
        "  WHEN 'NZD' THEN ROUND(pledged * 0.8802, 2)\n",
        "  WHEN 'DKK' THEN ROUND(pledged * 0.1908, 2)\n",
        "  WHEN 'NOK' THEN ROUND(pledged * 0.1434, 2)\n",
        "  WHEN 'SGD' THEN ROUND(pledged * 0.9246, 2)\n",
        "  WHEN 'CHF' THEN ROUND(pledged * 1.3482, 2)\n",
        "  ELSE pledged\n",
        "  END\n",
        ") AS total_raised_CAD\n",
        "FROM ks_combined\n",
        "GROUP BY category\n",
        "ORDER BY total_raised_CAD DESC;\n",
        "\"\"\"\n",
        "\n",
        "money_category = engine.execute(money_categories).fetchall()\n",
        "moneycats_df = pd.DataFrame(money_category, columns=['category', 'total_raised', 'total_raised_CAD'])\n",
        "print(moneycats_df.head(3), '\\n')\n",
        "moneycats_df.tail(3)"
      ],
      "execution_count": null,
      "outputs": [
        {
          "output_type": "stream",
          "name": "stdout",
          "text": [
            "     category  total_raised  total_raised_CAD\n",
            "0      Design    2160275.66        2764317.65\n",
            "1  Technology    1414466.78        1814114.90\n",
            "2       Games     850050.89        1087996.88 \n",
            "\n"
          ]
        },
        {
          "output_type": "execute_result",
          "data": {
            "text/html": [
              "<div>\n",
              "<style scoped>\n",
              "    .dataframe tbody tr th:only-of-type {\n",
              "        vertical-align: middle;\n",
              "    }\n",
              "\n",
              "    .dataframe tbody tr th {\n",
              "        vertical-align: top;\n",
              "    }\n",
              "\n",
              "    .dataframe thead th {\n",
              "        text-align: right;\n",
              "    }\n",
              "</style>\n",
              "<table border=\"1\" class=\"dataframe\">\n",
              "  <thead>\n",
              "    <tr style=\"text-align: right;\">\n",
              "      <th></th>\n",
              "      <th>category</th>\n",
              "      <th>total_raised</th>\n",
              "      <th>total_raised_CAD</th>\n",
              "    </tr>\n",
              "  </thead>\n",
              "  <tbody>\n",
              "    <tr>\n",
              "      <th>12</th>\n",
              "      <td>Journalism</td>\n",
              "      <td>77427.13</td>\n",
              "      <td>97457.53</td>\n",
              "    </tr>\n",
              "    <tr>\n",
              "      <th>13</th>\n",
              "      <td>Crafts</td>\n",
              "      <td>35573.79</td>\n",
              "      <td>45273.49</td>\n",
              "    </tr>\n",
              "    <tr>\n",
              "      <th>14</th>\n",
              "      <td>Dance</td>\n",
              "      <td>34407.65</td>\n",
              "      <td>43219.45</td>\n",
              "    </tr>\n",
              "  </tbody>\n",
              "</table>\n",
              "</div>"
            ],
            "text/plain": [
              "      category  total_raised  total_raised_CAD\n",
              "12  Journalism      77427.13          97457.53\n",
              "13      Crafts      35573.79          45273.49\n",
              "14       Dance      34407.65          43219.45"
            ]
          },
          "metadata": {},
          "execution_count": 16
        }
      ]
    },
    {
      "cell_type": "code",
      "metadata": {
        "colab": {
          "base_uri": "https://localhost:8080/",
          "height": 453
        },
        "id": "zdp13rLxCaqw",
        "cellView": "form",
        "outputId": "27cbfa9c-7aff-4e34-9ff7-0aab04a53b7b"
      },
      "source": [
        "#@title\n",
        "# What are the top/bottom 3 subcategories that have raised the most money?\n",
        "\n",
        "money_subcategories = \"\"\"\n",
        "SELECT subcategory, SUM(pledged) AS total_raised, SUM(\n",
        "  CASE currency\n",
        "  WHEN 'USD' THEN ROUND(pledged * 1.2561, 2)\n",
        "  WHEN 'GBP' THEN ROUND(pledged * 1.6875, 2)\n",
        "  WHEN 'EUR' THEN ROUND(pledged * 1.4204, 2)\n",
        "  WHEN 'SEK' THEN ROUND(pledged * 0.1410, 2)\n",
        "  WHEN 'HKD' THEN ROUND(pledged * 0.16122, 2)\n",
        "  WHEN 'AUD' THEN ROUND(pledged * 0.9164, 2)\n",
        "  WHEN 'MXN' THEN ROUND(pledged * 0.0604, 2)\n",
        "  WHEN 'NZD' THEN ROUND(pledged * 0.8802, 2)\n",
        "  WHEN 'DKK' THEN ROUND(pledged * 0.1908, 2)\n",
        "  WHEN 'NOK' THEN ROUND(pledged * 0.1434, 2)\n",
        "  WHEN 'SGD' THEN ROUND(pledged * 0.9246, 2)\n",
        "  WHEN 'CHF' THEN ROUND(pledged * 1.3482, 2)\n",
        "  ELSE pledged\n",
        "  END\n",
        ") AS total_raised_CAD,\n",
        "SUM(backers) AS total_backers\n",
        "FROM ks_combined\n",
        "GROUP BY subcategory\n",
        "ORDER BY total_raised_CAD DESC;\n",
        "\"\"\"\n",
        "\n",
        "money_subcategory = engine.execute(money_subcategories).fetchall()\n",
        "moneysubcats_df = pd.DataFrame(money_subcategory, columns=['subcategory', 'total_raised', 'total_raised_CAD', 'total_backers'])\n",
        "print(moneysubcats_df.head(5), '\\n')\n",
        "moneysubcats_df[moneysubcats_df['total_raised'] == 0]"
      ],
      "execution_count": null,
      "outputs": [
        {
          "output_type": "stream",
          "name": "stdout",
          "text": [
            "      subcategory  total_raised  total_raised_CAD  total_backers\n",
            "0  Product Design    2094870.97        2683433.08          20910\n",
            "1        Hardware    1097373.38        1407756.25           8949\n",
            "2     Video Games     451468.70         567290.54           6353\n",
            "3     Documentary     304414.68         447562.10           4520\n",
            "4  Tabletop Games     312200.53         404688.55           7981 \n",
            "\n"
          ]
        },
        {
          "output_type": "execute_result",
          "data": {
            "text/html": [
              "<div>\n",
              "<style scoped>\n",
              "    .dataframe tbody tr th:only-of-type {\n",
              "        vertical-align: middle;\n",
              "    }\n",
              "\n",
              "    .dataframe tbody tr th {\n",
              "        vertical-align: top;\n",
              "    }\n",
              "\n",
              "    .dataframe thead th {\n",
              "        text-align: right;\n",
              "    }\n",
              "</style>\n",
              "<table border=\"1\" class=\"dataframe\">\n",
              "  <thead>\n",
              "    <tr style=\"text-align: right;\">\n",
              "      <th></th>\n",
              "      <th>subcategory</th>\n",
              "      <th>total_raised</th>\n",
              "      <th>total_raised_CAD</th>\n",
              "      <th>total_backers</th>\n",
              "    </tr>\n",
              "  </thead>\n",
              "  <tbody>\n",
              "    <tr>\n",
              "      <th>115</th>\n",
              "      <td>Ceramics</td>\n",
              "      <td>0.0</td>\n",
              "      <td>0.0</td>\n",
              "      <td>0</td>\n",
              "    </tr>\n",
              "    <tr>\n",
              "      <th>116</th>\n",
              "      <td>Conceptual Art</td>\n",
              "      <td>0.0</td>\n",
              "      <td>0.0</td>\n",
              "      <td>0</td>\n",
              "    </tr>\n",
              "    <tr>\n",
              "      <th>117</th>\n",
              "      <td>Gaming Hardware</td>\n",
              "      <td>0.0</td>\n",
              "      <td>0.0</td>\n",
              "      <td>0</td>\n",
              "    </tr>\n",
              "    <tr>\n",
              "      <th>118</th>\n",
              "      <td>Jewelry</td>\n",
              "      <td>0.0</td>\n",
              "      <td>0.0</td>\n",
              "      <td>0</td>\n",
              "    </tr>\n",
              "    <tr>\n",
              "      <th>119</th>\n",
              "      <td>Movie Theaters</td>\n",
              "      <td>0.0</td>\n",
              "      <td>0.0</td>\n",
              "      <td>0</td>\n",
              "    </tr>\n",
              "    <tr>\n",
              "      <th>120</th>\n",
              "      <td>Music Videos</td>\n",
              "      <td>0.0</td>\n",
              "      <td>0.0</td>\n",
              "      <td>0</td>\n",
              "    </tr>\n",
              "    <tr>\n",
              "      <th>121</th>\n",
              "      <td>Video Art</td>\n",
              "      <td>0.0</td>\n",
              "      <td>0.0</td>\n",
              "      <td>0</td>\n",
              "    </tr>\n",
              "    <tr>\n",
              "      <th>122</th>\n",
              "      <td>Wearables</td>\n",
              "      <td>0.0</td>\n",
              "      <td>0.0</td>\n",
              "      <td>0</td>\n",
              "    </tr>\n",
              "    <tr>\n",
              "      <th>123</th>\n",
              "      <td>Young Adult</td>\n",
              "      <td>0.0</td>\n",
              "      <td>0.0</td>\n",
              "      <td>0</td>\n",
              "    </tr>\n",
              "  </tbody>\n",
              "</table>\n",
              "</div>"
            ],
            "text/plain": [
              "         subcategory  total_raised  total_raised_CAD  total_backers\n",
              "115         Ceramics           0.0               0.0              0\n",
              "116   Conceptual Art           0.0               0.0              0\n",
              "117  Gaming Hardware           0.0               0.0              0\n",
              "118          Jewelry           0.0               0.0              0\n",
              "119   Movie Theaters           0.0               0.0              0\n",
              "120     Music Videos           0.0               0.0              0\n",
              "121        Video Art           0.0               0.0              0\n",
              "122        Wearables           0.0               0.0              0\n",
              "123      Young Adult           0.0               0.0              0"
            ]
          },
          "metadata": {},
          "execution_count": 17
        }
      ]
    },
    {
      "cell_type": "code",
      "metadata": {
        "colab": {
          "base_uri": "https://localhost:8080/",
          "height": 542
        },
        "id": "MKEK7vEZnSHE",
        "cellView": "form",
        "outputId": "c89382b4-515a-4c02-85a7-4d1f648f246d"
      },
      "source": [
        "#@title\n",
        "\n",
        "outcome_breakdown = px.treemap(outcome_df, \n",
        "                          path=[px.Constant('country'), 'outcome', 'subcategory'],\n",
        "                          values='backers',\n",
        "                          color='outcome',\n",
        "                          color_discrete_sequence=['gold', 'teal', 'lavender'],\n",
        "                          title='Backer Tree'\n",
        "                          )\n",
        "outcome_breakdown.show()"
      ],
      "execution_count": null,
      "outputs": [
        {
          "output_type": "display_data",
          "data": {
            "text/html": [
              "<html>\n",
              "<head><meta charset=\"utf-8\" /></head>\n",
              "<body>\n",
              "    <div>            <script src=\"https://cdnjs.cloudflare.com/ajax/libs/mathjax/2.7.5/MathJax.js?config=TeX-AMS-MML_SVG\"></script><script type=\"text/javascript\">if (window.MathJax) {MathJax.Hub.Config({SVG: {font: \"STIX-Web\"}});}</script>                <script type=\"text/javascript\">window.PlotlyConfig = {MathJaxConfig: 'local'};</script>\n",
              "        <script src=\"https://cdn.plot.ly/plotly-2.6.3.min.js\"></script>                <div id=\"38f5e79f-2ab0-4205-a641-5427d1afd6f7\" class=\"plotly-graph-div\" style=\"height:525px; width:100%;\"></div>            <script type=\"text/javascript\">                                    window.PLOTLYENV=window.PLOTLYENV || {};                                    if (document.getElementById(\"38f5e79f-2ab0-4205-a641-5427d1afd6f7\")) {                    Plotly.newPlot(                        \"38f5e79f-2ab0-4205-a641-5427d1afd6f7\",                        [{\"branchvalues\":\"total\",\"customdata\":[[\"failed\"],[\"failed\"],[\"successful\"],[\"failed\"],[\"failed\"],[\"successful\"],[\"successful\"],[\"failed\"],[\"successful\"],[\"successful\"],[\"successful\"],[\"failed\"],[\"failed\"],[\"successful\"],[\"failed\"],[\"failed\"],[\"successful\"],[\"successful\"],[\"successful\"],[\"successful\"],[\"successful\"],[\"successful\"],[\"successful\"],[\"successful\"],[\"successful\"],[\"successful\"],[\"failed\"],[\"successful\"],[\"failed\"],[\"failed\"],[\"failed\"],[\"failed\"],[\"successful\"],[\"successful\"],[\"successful\"],[\"failed\"],[\"successful\"],[\"failed\"],[\"failed\"],[\"failed\"],[\"successful\"],[\"successful\"],[\"failed\"],[\"failed\"],[\"failed\"],[\"successful\"],[\"failed\"],[\"successful\"],[\"failed\"],[\"failed\"],[\"successful\"],[\"failed\"],[\"successful\"],[\"successful\"],[\"failed\"],[\"failed\"],[\"successful\"],[\"failed\"],[\"successful\"],[\"successful\"],[\"failed\"],[\"successful\"],[\"failed\"],[\"successful\"],[\"successful\"],[\"successful\"],[\"failed\"],[\"successful\"],[\"failed\"],[\"failed\"],[\"successful\"],[\"failed\"],[\"failed\"],[\"failed\"],[\"failed\"],[\"successful\"],[\"successful\"],[\"successful\"],[\"successful\"],[\"failed\"],[\"failed\"],[\"failed\"],[\"successful\"],[\"failed\"],[\"successful\"],[\"failed\"],[\"successful\"],[\"failed\"],[\"failed\"],[\"successful\"],[\"failed\"],[\"successful\"],[\"failed\"],[\"successful\"],[\"failed\"],[\"successful\"],[\"failed\"],[\"failed\"],[\"successful\"],[\"successful\"],[\"failed\"],[\"successful\"],[\"failed\"],[\"successful\"],[\"failed\"],[\"successful\"],[\"successful\"],[\"failed\"],[\"successful\"],[\"successful\"],[\"successful\"],[\"successful\"],[\"failed\"],[\"failed\"],[\"successful\"],[\"failed\"],[\"failed\"],[\"failed\"],[\"successful\"],[\"failed\"],[\"failed\"],[\"successful\"],[\"failed\"],[\"successful\"],[\"failed\"],[\"failed\"],[\"failed\"],[\"failed\"],[\"failed\"],[\"successful\"],[\"failed\"],[\"successful\"],[\"failed\"],[\"failed\"],[\"successful\"],[\"failed\"],[\"failed\"],[\"successful\"],[\"failed\"],[\"failed\"],[\"successful\"],[\"failed\"],[\"failed\"],[\"failed\"],[\"successful\"],[\"failed\"],[\"failed\"],[\"failed\"],[\"failed\"],[\"failed\"],[\"successful\"],[\"failed\"],[\"successful\"],[\"failed\"],[\"successful\"],[\"failed\"],[\"successful\"],[\"failed\"],[\"successful\"],[\"successful\"],[\"failed\"],[\"failed\"],[\"failed\"],[\"successful\"],[\"successful\"],[\"failed\"],[\"successful\"],[\"successful\"],[\"failed\"],[\"successful\"],[\"failed\"],[\"successful\"],[\"failed\"],[\"failed\"],[\"successful\"],[\"successful\"],[\"successful\"],[\"successful\"],[\"failed\"],[\"successful\"],[\"failed\"],[\"failed\"],[\"successful\"],[\"failed\"],[\"successful\"],[\"failed\"],[\"failed\"],[\"failed\"],[\"failed\"],[\"(?)\"]],\"domain\":{\"x\":[0.0,1.0],\"y\":[0.0,1.0]},\"hovertemplate\":\"labels=%{label}<br>backers=%{value}<br>parent=%{parent}<br>id=%{id}<br>outcome=%{customdata[0]}<extra></extra>\",\"ids\":[\"country/failed/3D Printing\",\"country/failed/Indie Rock\",\"country/successful/Illustration\",\"country/failed/Ready-to-wear\",\"country/failed/Horror\",\"country/successful/Hip-Hop\",\"country/successful/Hardware\",\"country/failed/Hardware\",\"country/successful/Graphic Novels\",\"country/successful/Restaurants\",\"country/successful/Rock\",\"country/failed/Glass\",\"country/failed/Gaming Hardware\",\"country/successful/Indie Rock\",\"country/failed/Games\",\"country/failed/Gadgets\",\"country/successful/Footwear\",\"country/successful/Science Fiction\",\"country/successful/Food Trucks\",\"country/successful/Food\",\"country/successful/Sculpture\",\"country/successful/Fine Art\",\"country/successful/Film & Video\",\"country/successful/Festivals\",\"country/successful/Small Batch\",\"country/successful/Fashion\",\"country/failed/Software\",\"country/successful/Gadgets\",\"country/failed/Interactive Design\",\"country/failed/Jazz\",\"country/failed/Jewelry\",\"country/failed/Playing Cards\",\"country/successful/Photography\",\"country/successful/Poetry\",\"country/successful/Photobooks\",\"country/failed/Photobooks\",\"country/successful/Periodicals\",\"country/failed/Performances\",\"country/failed/Performance Art\",\"country/failed/Painting\",\"country/successful/Nonfiction\",\"country/successful/Pottery\",\"country/failed/Nature\",\"country/failed/Print\",\"country/failed/Narrative Film\",\"country/successful/Musical\",\"country/failed/Product Design\",\"country/successful/Product Design\",\"country/failed/Movie Theaters\",\"country/failed/Public Art\",\"country/successful/Public Art\",\"country/failed/Mixed Media\",\"country/successful/Makerspaces\",\"country/successful/Live Games\",\"country/failed/Live Games\",\"country/failed/Publishing\",\"country/successful/Journalism\",\"country/failed/Journalism\",\"country/successful/Farms\",\"country/successful/Sound\",\"country/failed/Fiction\",\"country/successful/Plays\",\"country/failed/Crafts\",\"country/successful/Country & Folk\",\"country/successful/Translations\",\"country/successful/Comics\",\"country/failed/Comics\",\"country/successful/Comic Books\",\"country/failed/Comic Books\",\"country/failed/Farmer's Markets\",\"country/successful/Apparel\",\"country/failed/Apps\",\"country/failed/Comedy\",\"country/failed/Apparel\",\"country/failed/Architecture\",\"country/successful/Architecture\",\"country/successful/Civic Design\",\"country/successful/Childrenswear\",\"country/successful/Children's Books\",\"country/failed/Children's Books\",\"country/failed/Ceramics\",\"country/failed/Candles\",\"country/successful/Camera Equipment\",\"country/failed/Calendars\",\"country/successful/Video Games\",\"country/failed/Web\",\"country/successful/Classical Music\",\"country/failed/Art\",\"country/failed/DIY\",\"country/successful/Drinks\",\"country/failed/Tabletop Games\",\"country/successful/Fabrication Tools\",\"country/failed/Accessories\",\"country/successful/World Music\",\"country/failed/Embroidery\",\"country/successful/Electronic Music\",\"country/failed/Action\",\"country/failed/Animation\",\"country/successful/DIY\",\"country/successful/Animation\",\"country/failed/Technology\",\"country/successful/Technology\",\"country/failed/Television\",\"country/successful/Documentary\",\"country/failed/Theater\",\"country/successful/Theater\",\"country/successful/Anthologies\",\"country/failed/Thrillers\",\"country/successful/Dance\",\"country/successful/Faith\",\"country/successful/Thrillers\",\"country/successful/Events\",\"country/failed/Experimental\",\"country/failed/Pop\",\"country/successful/Pop\",\"country/failed\",\"country/failed/World Music\",\"country/failed/Space Exploration\",\"country/successful/Printing\",\"country/failed/Poetry\",\"country/failed/Small Batch\",\"country/successful/Shorts\",\"country/failed/Shorts\",\"country/successful/Tabletop Games\",\"country/failed/Sculpture\",\"country/failed/Science Fiction\",\"country/failed/Rock\",\"country/failed/Translations\",\"country/failed/Restaurants\",\"country/successful/Punk\",\"country/failed/Video Art\",\"country/successful/Publishing\",\"country/failed/Video Games\",\"country/failed/Webseries\",\"country/successful/Webseries\",\"country/failed/Puzzles\",\"country/failed/Illustration\",\"country/successful/Playing Cards\",\"country/failed/Fashion\",\"country/failed/Farms\",\"country/successful/Fantasy\",\"country/failed/Events\",\"country/failed/Electronic Music\",\"country/failed/Drinks\",\"country/successful/Drama\",\"country/failed/Drama\",\"country/failed/Documentary\",\"country/failed/Digital Art\",\"country/failed/Design\",\"country/failed/DIY Electronics\",\"country/successful/Crafts\",\"country/failed/Cookbooks\",\"country/successful/Comedy\",\"country/failed/Classical Music\",\"country/successful/Blues\",\"country/failed/Blues\",\"country/successful/Art Books\",\"country/failed/Art Books\",\"country/successful/Art\",\"country/successful/Accessories\",\"country/failed/Academic\",\"country/failed/Festivals\",\"country/failed/Plays\",\"country/successful/Fiction\",\"country/successful/Flight\",\"country/failed/Photography\",\"country/successful/Performance Art\",\"country/successful/Painting\",\"country/failed/Nonfiction\",\"country/successful/Narrative Film\",\"country/failed/Musical\",\"country/successful/Music\",\"country/failed/Music\",\"country/failed/Mobile Games\",\"country/successful/Mixed Media\",\"country/successful/Letterpress\",\"country/successful/Jazz\",\"country/successful/Installations\",\"country/failed/Installations\",\"country/successful\",\"country/failed/Hip-Hop\",\"country/failed/Graphic Novels\",\"country/successful/Graphic Design\",\"country/failed/Graphic Design\",\"country/successful/Games\",\"country/failed/Footwear\",\"country/failed/Food Trucks\",\"country/failed/Food\",\"country/failed/Film & Video\",\"country\"],\"labels\":[\"3D Printing\",\"Indie Rock\",\"Illustration\",\"Ready-to-wear\",\"Horror\",\"Hip-Hop\",\"Hardware\",\"Hardware\",\"Graphic Novels\",\"Restaurants\",\"Rock\",\"Glass\",\"Gaming Hardware\",\"Indie Rock\",\"Games\",\"Gadgets\",\"Footwear\",\"Science Fiction\",\"Food Trucks\",\"Food\",\"Sculpture\",\"Fine Art\",\"Film & Video\",\"Festivals\",\"Small Batch\",\"Fashion\",\"Software\",\"Gadgets\",\"Interactive Design\",\"Jazz\",\"Jewelry\",\"Playing Cards\",\"Photography\",\"Poetry\",\"Photobooks\",\"Photobooks\",\"Periodicals\",\"Performances\",\"Performance Art\",\"Painting\",\"Nonfiction\",\"Pottery\",\"Nature\",\"Print\",\"Narrative Film\",\"Musical\",\"Product Design\",\"Product Design\",\"Movie Theaters\",\"Public Art\",\"Public Art\",\"Mixed Media\",\"Makerspaces\",\"Live Games\",\"Live Games\",\"Publishing\",\"Journalism\",\"Journalism\",\"Farms\",\"Sound\",\"Fiction\",\"Plays\",\"Crafts\",\"Country & Folk\",\"Translations\",\"Comics\",\"Comics\",\"Comic Books\",\"Comic Books\",\"Farmer's Markets\",\"Apparel\",\"Apps\",\"Comedy\",\"Apparel\",\"Architecture\",\"Architecture\",\"Civic Design\",\"Childrenswear\",\"Children's Books\",\"Children's Books\",\"Ceramics\",\"Candles\",\"Camera Equipment\",\"Calendars\",\"Video Games\",\"Web\",\"Classical Music\",\"Art\",\"DIY\",\"Drinks\",\"Tabletop Games\",\"Fabrication Tools\",\"Accessories\",\"World Music\",\"Embroidery\",\"Electronic Music\",\"Action\",\"Animation\",\"DIY\",\"Animation\",\"Technology\",\"Technology\",\"Television\",\"Documentary\",\"Theater\",\"Theater\",\"Anthologies\",\"Thrillers\",\"Dance\",\"Faith\",\"Thrillers\",\"Events\",\"Experimental\",\"Pop\",\"Pop\",\"failed\",\"World Music\",\"Space Exploration\",\"Printing\",\"Poetry\",\"Small Batch\",\"Shorts\",\"Shorts\",\"Tabletop Games\",\"Sculpture\",\"Science Fiction\",\"Rock\",\"Translations\",\"Restaurants\",\"Punk\",\"Video Art\",\"Publishing\",\"Video Games\",\"Webseries\",\"Webseries\",\"Puzzles\",\"Illustration\",\"Playing Cards\",\"Fashion\",\"Farms\",\"Fantasy\",\"Events\",\"Electronic Music\",\"Drinks\",\"Drama\",\"Drama\",\"Documentary\",\"Digital Art\",\"Design\",\"DIY Electronics\",\"Crafts\",\"Cookbooks\",\"Comedy\",\"Classical Music\",\"Blues\",\"Blues\",\"Art Books\",\"Art Books\",\"Art\",\"Accessories\",\"Academic\",\"Festivals\",\"Plays\",\"Fiction\",\"Flight\",\"Photography\",\"Performance Art\",\"Painting\",\"Nonfiction\",\"Narrative Film\",\"Musical\",\"Music\",\"Music\",\"Mobile Games\",\"Mixed Media\",\"Letterpress\",\"Jazz\",\"Installations\",\"Installations\",\"successful\",\"Hip-Hop\",\"Graphic Novels\",\"Graphic Design\",\"Graphic Design\",\"Games\",\"Footwear\",\"Food Trucks\",\"Food\",\"Film & Video\",\"country\"],\"marker\":{\"colors\":[\"gold\",\"gold\",\"teal\",\"gold\",\"gold\",\"teal\",\"teal\",\"gold\",\"teal\",\"teal\",\"teal\",\"gold\",\"gold\",\"teal\",\"gold\",\"gold\",\"teal\",\"teal\",\"teal\",\"teal\",\"teal\",\"teal\",\"teal\",\"teal\",\"teal\",\"teal\",\"gold\",\"teal\",\"gold\",\"gold\",\"gold\",\"gold\",\"teal\",\"teal\",\"teal\",\"gold\",\"teal\",\"gold\",\"gold\",\"gold\",\"teal\",\"teal\",\"gold\",\"gold\",\"gold\",\"teal\",\"gold\",\"teal\",\"gold\",\"gold\",\"teal\",\"gold\",\"teal\",\"teal\",\"gold\",\"gold\",\"teal\",\"gold\",\"teal\",\"teal\",\"gold\",\"teal\",\"gold\",\"teal\",\"teal\",\"teal\",\"gold\",\"teal\",\"gold\",\"gold\",\"teal\",\"gold\",\"gold\",\"gold\",\"gold\",\"teal\",\"teal\",\"teal\",\"teal\",\"gold\",\"gold\",\"gold\",\"teal\",\"gold\",\"teal\",\"gold\",\"teal\",\"gold\",\"gold\",\"teal\",\"gold\",\"teal\",\"gold\",\"teal\",\"gold\",\"teal\",\"gold\",\"gold\",\"teal\",\"teal\",\"gold\",\"teal\",\"gold\",\"teal\",\"gold\",\"teal\",\"teal\",\"gold\",\"teal\",\"teal\",\"teal\",\"teal\",\"gold\",\"gold\",\"teal\",\"gold\",\"gold\",\"gold\",\"teal\",\"gold\",\"gold\",\"teal\",\"gold\",\"teal\",\"gold\",\"gold\",\"gold\",\"gold\",\"gold\",\"teal\",\"gold\",\"teal\",\"gold\",\"gold\",\"teal\",\"gold\",\"gold\",\"teal\",\"gold\",\"gold\",\"teal\",\"gold\",\"gold\",\"gold\",\"teal\",\"gold\",\"gold\",\"gold\",\"gold\",\"gold\",\"teal\",\"gold\",\"teal\",\"gold\",\"teal\",\"gold\",\"teal\",\"gold\",\"teal\",\"teal\",\"gold\",\"gold\",\"gold\",\"teal\",\"teal\",\"gold\",\"teal\",\"teal\",\"gold\",\"teal\",\"gold\",\"teal\",\"gold\",\"gold\",\"teal\",\"teal\",\"teal\",\"teal\",\"gold\",\"teal\",\"gold\",\"gold\",\"teal\",\"gold\",\"teal\",\"gold\",\"gold\",\"gold\",\"gold\",\"lavender\"]},\"name\":\"\",\"parents\":[\"country/failed\",\"country/failed\",\"country/successful\",\"country/failed\",\"country/failed\",\"country/successful\",\"country/successful\",\"country/failed\",\"country/successful\",\"country/successful\",\"country/successful\",\"country/failed\",\"country/failed\",\"country/successful\",\"country/failed\",\"country/failed\",\"country/successful\",\"country/successful\",\"country/successful\",\"country/successful\",\"country/successful\",\"country/successful\",\"country/successful\",\"country/successful\",\"country/successful\",\"country/successful\",\"country/failed\",\"country/successful\",\"country/failed\",\"country/failed\",\"country/failed\",\"country/failed\",\"country/successful\",\"country/successful\",\"country/successful\",\"country/failed\",\"country/successful\",\"country/failed\",\"country/failed\",\"country/failed\",\"country/successful\",\"country/successful\",\"country/failed\",\"country/failed\",\"country/failed\",\"country/successful\",\"country/failed\",\"country/successful\",\"country/failed\",\"country/failed\",\"country/successful\",\"country/failed\",\"country/successful\",\"country/successful\",\"country/failed\",\"country/failed\",\"country/successful\",\"country/failed\",\"country/successful\",\"country/successful\",\"country/failed\",\"country/successful\",\"country/failed\",\"country/successful\",\"country/successful\",\"country/successful\",\"country/failed\",\"country/successful\",\"country/failed\",\"country/failed\",\"country/successful\",\"country/failed\",\"country/failed\",\"country/failed\",\"country/failed\",\"country/successful\",\"country/successful\",\"country/successful\",\"country/successful\",\"country/failed\",\"country/failed\",\"country/failed\",\"country/successful\",\"country/failed\",\"country/successful\",\"country/failed\",\"country/successful\",\"country/failed\",\"country/failed\",\"country/successful\",\"country/failed\",\"country/successful\",\"country/failed\",\"country/successful\",\"country/failed\",\"country/successful\",\"country/failed\",\"country/failed\",\"country/successful\",\"country/successful\",\"country/failed\",\"country/successful\",\"country/failed\",\"country/successful\",\"country/failed\",\"country/successful\",\"country/successful\",\"country/failed\",\"country/successful\",\"country/successful\",\"country/successful\",\"country/successful\",\"country/failed\",\"country/failed\",\"country/successful\",\"country\",\"country/failed\",\"country/failed\",\"country/successful\",\"country/failed\",\"country/failed\",\"country/successful\",\"country/failed\",\"country/successful\",\"country/failed\",\"country/failed\",\"country/failed\",\"country/failed\",\"country/failed\",\"country/successful\",\"country/failed\",\"country/successful\",\"country/failed\",\"country/failed\",\"country/successful\",\"country/failed\",\"country/failed\",\"country/successful\",\"country/failed\",\"country/failed\",\"country/successful\",\"country/failed\",\"country/failed\",\"country/failed\",\"country/successful\",\"country/failed\",\"country/failed\",\"country/failed\",\"country/failed\",\"country/failed\",\"country/successful\",\"country/failed\",\"country/successful\",\"country/failed\",\"country/successful\",\"country/failed\",\"country/successful\",\"country/failed\",\"country/successful\",\"country/successful\",\"country/failed\",\"country/failed\",\"country/failed\",\"country/successful\",\"country/successful\",\"country/failed\",\"country/successful\",\"country/successful\",\"country/failed\",\"country/successful\",\"country/failed\",\"country/successful\",\"country/failed\",\"country/failed\",\"country/successful\",\"country/successful\",\"country/successful\",\"country/successful\",\"country/failed\",\"country\",\"country/failed\",\"country/failed\",\"country/successful\",\"country/failed\",\"country/successful\",\"country/failed\",\"country/failed\",\"country/failed\",\"country/failed\",\"\"],\"values\":[2,4,686,1,3,151,8417,436,486,104,1314,1,0,629,51,47,38,96,55,893,43,66,981,151,40,721,10,1231,17,15,0,88,531,298,187,3,555,8,59,6,1019,24,3,4,44,96,852,19497,0,15,1314,26,60,391,20,97,1336,14,46,105,82,17,69,118,30,1019,198,1241,12,5,1358,69,6,10,2,42,173,253,495,89,0,4,85,5,208,33,244,219,1,506,667,67,63,64,1,180,1,36,80,62,359,735,1,3684,159,714,378,0,383,16,206,36,26,0,369,12326,4,14,50,27,47,1212,157,6860,13,1,106,0,13,7,0,403,5936,72,863,23,21,861,114,22,776,2,2,2,27,4,835,10,44,25,66,0,540,0,39,7,537,84,661,1239,2,0,9,385,319,102,331,193,40,394,2,2370,77,40,54,235,180,706,3,74452,12,41,554,171,266,0,2,266,31,86778],\"type\":\"treemap\"}],                        {\"template\":{\"data\":{\"bar\":[{\"error_x\":{\"color\":\"#2a3f5f\"},\"error_y\":{\"color\":\"#2a3f5f\"},\"marker\":{\"line\":{\"color\":\"#E5ECF6\",\"width\":0.5},\"pattern\":{\"fillmode\":\"overlay\",\"size\":10,\"solidity\":0.2}},\"type\":\"bar\"}],\"barpolar\":[{\"marker\":{\"line\":{\"color\":\"#E5ECF6\",\"width\":0.5},\"pattern\":{\"fillmode\":\"overlay\",\"size\":10,\"solidity\":0.2}},\"type\":\"barpolar\"}],\"carpet\":[{\"aaxis\":{\"endlinecolor\":\"#2a3f5f\",\"gridcolor\":\"white\",\"linecolor\":\"white\",\"minorgridcolor\":\"white\",\"startlinecolor\":\"#2a3f5f\"},\"baxis\":{\"endlinecolor\":\"#2a3f5f\",\"gridcolor\":\"white\",\"linecolor\":\"white\",\"minorgridcolor\":\"white\",\"startlinecolor\":\"#2a3f5f\"},\"type\":\"carpet\"}],\"choropleth\":[{\"colorbar\":{\"outlinewidth\":0,\"ticks\":\"\"},\"type\":\"choropleth\"}],\"contour\":[{\"colorbar\":{\"outlinewidth\":0,\"ticks\":\"\"},\"colorscale\":[[0.0,\"#0d0887\"],[0.1111111111111111,\"#46039f\"],[0.2222222222222222,\"#7201a8\"],[0.3333333333333333,\"#9c179e\"],[0.4444444444444444,\"#bd3786\"],[0.5555555555555556,\"#d8576b\"],[0.6666666666666666,\"#ed7953\"],[0.7777777777777778,\"#fb9f3a\"],[0.8888888888888888,\"#fdca26\"],[1.0,\"#f0f921\"]],\"type\":\"contour\"}],\"contourcarpet\":[{\"colorbar\":{\"outlinewidth\":0,\"ticks\":\"\"},\"type\":\"contourcarpet\"}],\"heatmap\":[{\"colorbar\":{\"outlinewidth\":0,\"ticks\":\"\"},\"colorscale\":[[0.0,\"#0d0887\"],[0.1111111111111111,\"#46039f\"],[0.2222222222222222,\"#7201a8\"],[0.3333333333333333,\"#9c179e\"],[0.4444444444444444,\"#bd3786\"],[0.5555555555555556,\"#d8576b\"],[0.6666666666666666,\"#ed7953\"],[0.7777777777777778,\"#fb9f3a\"],[0.8888888888888888,\"#fdca26\"],[1.0,\"#f0f921\"]],\"type\":\"heatmap\"}],\"heatmapgl\":[{\"colorbar\":{\"outlinewidth\":0,\"ticks\":\"\"},\"colorscale\":[[0.0,\"#0d0887\"],[0.1111111111111111,\"#46039f\"],[0.2222222222222222,\"#7201a8\"],[0.3333333333333333,\"#9c179e\"],[0.4444444444444444,\"#bd3786\"],[0.5555555555555556,\"#d8576b\"],[0.6666666666666666,\"#ed7953\"],[0.7777777777777778,\"#fb9f3a\"],[0.8888888888888888,\"#fdca26\"],[1.0,\"#f0f921\"]],\"type\":\"heatmapgl\"}],\"histogram\":[{\"marker\":{\"pattern\":{\"fillmode\":\"overlay\",\"size\":10,\"solidity\":0.2}},\"type\":\"histogram\"}],\"histogram2d\":[{\"colorbar\":{\"outlinewidth\":0,\"ticks\":\"\"},\"colorscale\":[[0.0,\"#0d0887\"],[0.1111111111111111,\"#46039f\"],[0.2222222222222222,\"#7201a8\"],[0.3333333333333333,\"#9c179e\"],[0.4444444444444444,\"#bd3786\"],[0.5555555555555556,\"#d8576b\"],[0.6666666666666666,\"#ed7953\"],[0.7777777777777778,\"#fb9f3a\"],[0.8888888888888888,\"#fdca26\"],[1.0,\"#f0f921\"]],\"type\":\"histogram2d\"}],\"histogram2dcontour\":[{\"colorbar\":{\"outlinewidth\":0,\"ticks\":\"\"},\"colorscale\":[[0.0,\"#0d0887\"],[0.1111111111111111,\"#46039f\"],[0.2222222222222222,\"#7201a8\"],[0.3333333333333333,\"#9c179e\"],[0.4444444444444444,\"#bd3786\"],[0.5555555555555556,\"#d8576b\"],[0.6666666666666666,\"#ed7953\"],[0.7777777777777778,\"#fb9f3a\"],[0.8888888888888888,\"#fdca26\"],[1.0,\"#f0f921\"]],\"type\":\"histogram2dcontour\"}],\"mesh3d\":[{\"colorbar\":{\"outlinewidth\":0,\"ticks\":\"\"},\"type\":\"mesh3d\"}],\"parcoords\":[{\"line\":{\"colorbar\":{\"outlinewidth\":0,\"ticks\":\"\"}},\"type\":\"parcoords\"}],\"pie\":[{\"automargin\":true,\"type\":\"pie\"}],\"scatter\":[{\"marker\":{\"colorbar\":{\"outlinewidth\":0,\"ticks\":\"\"}},\"type\":\"scatter\"}],\"scatter3d\":[{\"line\":{\"colorbar\":{\"outlinewidth\":0,\"ticks\":\"\"}},\"marker\":{\"colorbar\":{\"outlinewidth\":0,\"ticks\":\"\"}},\"type\":\"scatter3d\"}],\"scattercarpet\":[{\"marker\":{\"colorbar\":{\"outlinewidth\":0,\"ticks\":\"\"}},\"type\":\"scattercarpet\"}],\"scattergeo\":[{\"marker\":{\"colorbar\":{\"outlinewidth\":0,\"ticks\":\"\"}},\"type\":\"scattergeo\"}],\"scattergl\":[{\"marker\":{\"colorbar\":{\"outlinewidth\":0,\"ticks\":\"\"}},\"type\":\"scattergl\"}],\"scattermapbox\":[{\"marker\":{\"colorbar\":{\"outlinewidth\":0,\"ticks\":\"\"}},\"type\":\"scattermapbox\"}],\"scatterpolar\":[{\"marker\":{\"colorbar\":{\"outlinewidth\":0,\"ticks\":\"\"}},\"type\":\"scatterpolar\"}],\"scatterpolargl\":[{\"marker\":{\"colorbar\":{\"outlinewidth\":0,\"ticks\":\"\"}},\"type\":\"scatterpolargl\"}],\"scatterternary\":[{\"marker\":{\"colorbar\":{\"outlinewidth\":0,\"ticks\":\"\"}},\"type\":\"scatterternary\"}],\"surface\":[{\"colorbar\":{\"outlinewidth\":0,\"ticks\":\"\"},\"colorscale\":[[0.0,\"#0d0887\"],[0.1111111111111111,\"#46039f\"],[0.2222222222222222,\"#7201a8\"],[0.3333333333333333,\"#9c179e\"],[0.4444444444444444,\"#bd3786\"],[0.5555555555555556,\"#d8576b\"],[0.6666666666666666,\"#ed7953\"],[0.7777777777777778,\"#fb9f3a\"],[0.8888888888888888,\"#fdca26\"],[1.0,\"#f0f921\"]],\"type\":\"surface\"}],\"table\":[{\"cells\":{\"fill\":{\"color\":\"#EBF0F8\"},\"line\":{\"color\":\"white\"}},\"header\":{\"fill\":{\"color\":\"#C8D4E3\"},\"line\":{\"color\":\"white\"}},\"type\":\"table\"}]},\"layout\":{\"annotationdefaults\":{\"arrowcolor\":\"#2a3f5f\",\"arrowhead\":0,\"arrowwidth\":1},\"autotypenumbers\":\"strict\",\"coloraxis\":{\"colorbar\":{\"outlinewidth\":0,\"ticks\":\"\"}},\"colorscale\":{\"diverging\":[[0,\"#8e0152\"],[0.1,\"#c51b7d\"],[0.2,\"#de77ae\"],[0.3,\"#f1b6da\"],[0.4,\"#fde0ef\"],[0.5,\"#f7f7f7\"],[0.6,\"#e6f5d0\"],[0.7,\"#b8e186\"],[0.8,\"#7fbc41\"],[0.9,\"#4d9221\"],[1,\"#276419\"]],\"sequential\":[[0.0,\"#0d0887\"],[0.1111111111111111,\"#46039f\"],[0.2222222222222222,\"#7201a8\"],[0.3333333333333333,\"#9c179e\"],[0.4444444444444444,\"#bd3786\"],[0.5555555555555556,\"#d8576b\"],[0.6666666666666666,\"#ed7953\"],[0.7777777777777778,\"#fb9f3a\"],[0.8888888888888888,\"#fdca26\"],[1.0,\"#f0f921\"]],\"sequentialminus\":[[0.0,\"#0d0887\"],[0.1111111111111111,\"#46039f\"],[0.2222222222222222,\"#7201a8\"],[0.3333333333333333,\"#9c179e\"],[0.4444444444444444,\"#bd3786\"],[0.5555555555555556,\"#d8576b\"],[0.6666666666666666,\"#ed7953\"],[0.7777777777777778,\"#fb9f3a\"],[0.8888888888888888,\"#fdca26\"],[1.0,\"#f0f921\"]]},\"colorway\":[\"#636efa\",\"#EF553B\",\"#00cc96\",\"#ab63fa\",\"#FFA15A\",\"#19d3f3\",\"#FF6692\",\"#B6E880\",\"#FF97FF\",\"#FECB52\"],\"font\":{\"color\":\"#2a3f5f\"},\"geo\":{\"bgcolor\":\"white\",\"lakecolor\":\"white\",\"landcolor\":\"#E5ECF6\",\"showlakes\":true,\"showland\":true,\"subunitcolor\":\"white\"},\"hoverlabel\":{\"align\":\"left\"},\"hovermode\":\"closest\",\"mapbox\":{\"style\":\"light\"},\"paper_bgcolor\":\"white\",\"plot_bgcolor\":\"#E5ECF6\",\"polar\":{\"angularaxis\":{\"gridcolor\":\"white\",\"linecolor\":\"white\",\"ticks\":\"\"},\"bgcolor\":\"#E5ECF6\",\"radialaxis\":{\"gridcolor\":\"white\",\"linecolor\":\"white\",\"ticks\":\"\"}},\"scene\":{\"xaxis\":{\"backgroundcolor\":\"#E5ECF6\",\"gridcolor\":\"white\",\"gridwidth\":2,\"linecolor\":\"white\",\"showbackground\":true,\"ticks\":\"\",\"zerolinecolor\":\"white\"},\"yaxis\":{\"backgroundcolor\":\"#E5ECF6\",\"gridcolor\":\"white\",\"gridwidth\":2,\"linecolor\":\"white\",\"showbackground\":true,\"ticks\":\"\",\"zerolinecolor\":\"white\"},\"zaxis\":{\"backgroundcolor\":\"#E5ECF6\",\"gridcolor\":\"white\",\"gridwidth\":2,\"linecolor\":\"white\",\"showbackground\":true,\"ticks\":\"\",\"zerolinecolor\":\"white\"}},\"shapedefaults\":{\"line\":{\"color\":\"#2a3f5f\"}},\"ternary\":{\"aaxis\":{\"gridcolor\":\"white\",\"linecolor\":\"white\",\"ticks\":\"\"},\"baxis\":{\"gridcolor\":\"white\",\"linecolor\":\"white\",\"ticks\":\"\"},\"bgcolor\":\"#E5ECF6\",\"caxis\":{\"gridcolor\":\"white\",\"linecolor\":\"white\",\"ticks\":\"\"}},\"title\":{\"x\":0.05},\"xaxis\":{\"automargin\":true,\"gridcolor\":\"white\",\"linecolor\":\"white\",\"ticks\":\"\",\"title\":{\"standoff\":15},\"zerolinecolor\":\"white\",\"zerolinewidth\":2},\"yaxis\":{\"automargin\":true,\"gridcolor\":\"white\",\"linecolor\":\"white\",\"ticks\":\"\",\"title\":{\"standoff\":15},\"zerolinecolor\":\"white\",\"zerolinewidth\":2}}},\"legend\":{\"tracegroupgap\":0},\"title\":{\"text\":\"Backer Tree\"},\"treemapcolorway\":[\"gold\",\"teal\",\"lavender\"]},                        {\"responsive\": true}                    ).then(function(){\n",
              "                            \n",
              "var gd = document.getElementById('38f5e79f-2ab0-4205-a641-5427d1afd6f7');\n",
              "var x = new MutationObserver(function (mutations, observer) {{\n",
              "        var display = window.getComputedStyle(gd).display;\n",
              "        if (!display || display === 'none') {{\n",
              "            console.log([gd, 'removed!']);\n",
              "            Plotly.purge(gd);\n",
              "            observer.disconnect();\n",
              "        }}\n",
              "}});\n",
              "\n",
              "// Listen for the removal of the full notebook cells\n",
              "var notebookContainer = gd.closest('#notebook-container');\n",
              "if (notebookContainer) {{\n",
              "    x.observe(notebookContainer, {childList: true});\n",
              "}}\n",
              "\n",
              "// Listen for the clearing of the current output cell\n",
              "var outputEl = gd.closest('.output');\n",
              "if (outputEl) {{\n",
              "    x.observe(outputEl, {childList: true});\n",
              "}}\n",
              "\n",
              "                        })                };                            </script>        </div>\n",
              "</body>\n",
              "</html>"
            ]
          },
          "metadata": {}
        }
      ]
    },
    {
      "cell_type": "markdown",
      "metadata": {
        "id": "zXAbOASPJtb6"
      },
      "source": [
        "Since we love treemaps so much, we couldn't help but construct another one to look for trends amongst the number of backers rather than capital. Again, the results were similar to the previous graph. The only significant difference was that \"Tabletop Games\" were now in 3rd place with 6,860 total people backing projects, up from 4th in total funding. With these results, we can infer that more people gravitated towards board game projects but contributed less individually."
      ]
    },
    {
      "cell_type": "code",
      "metadata": {
        "colab": {
          "base_uri": "https://localhost:8080/",
          "height": 213
        },
        "id": "tMfUayYFwQEh",
        "outputId": "a9017565-f5b6-427a-e0d9-48043a4764f5"
      },
      "source": [
        "#@title\n",
        "# What are the top/bottom 3 categories with the most backers? \n",
        "\n",
        "top_cat = \"\"\"\n",
        "SELECT category, SUM(backers) AS total_backers\n",
        "FROM ks_combined\n",
        "GROUP BY category\n",
        "ORDER BY total_backers DESC;\n",
        "\"\"\"\n",
        "\n",
        "top_cat_result = engine.execute(top_cat).fetchall()\n",
        "cat_backers = pd.DataFrame(top_cat_result, columns=['category', 'total_backers'])"
      ],
      "execution_count": null,
      "outputs": [
        {
          "output_type": "stream",
          "name": "stdout",
          "text": [
            "     category  total_backers\n",
            "0      Design          21916\n",
            "1       Games          16106\n",
            "2  Technology          12269\n"
          ]
        },
        {
          "output_type": "execute_result",
          "data": {
            "text/html": [
              "<div>\n",
              "<style scoped>\n",
              "    .dataframe tbody tr th:only-of-type {\n",
              "        vertical-align: middle;\n",
              "    }\n",
              "\n",
              "    .dataframe tbody tr th {\n",
              "        vertical-align: top;\n",
              "    }\n",
              "\n",
              "    .dataframe thead th {\n",
              "        text-align: right;\n",
              "    }\n",
              "</style>\n",
              "<table border=\"1\" class=\"dataframe\">\n",
              "  <thead>\n",
              "    <tr style=\"text-align: right;\">\n",
              "      <th></th>\n",
              "      <th>category</th>\n",
              "      <th>total_backers</th>\n",
              "    </tr>\n",
              "  </thead>\n",
              "  <tbody>\n",
              "    <tr>\n",
              "      <th>12</th>\n",
              "      <td>Photography</td>\n",
              "      <td>902</td>\n",
              "    </tr>\n",
              "    <tr>\n",
              "      <th>13</th>\n",
              "      <td>Crafts</td>\n",
              "      <td>584</td>\n",
              "    </tr>\n",
              "    <tr>\n",
              "      <th>14</th>\n",
              "      <td>Dance</td>\n",
              "      <td>391</td>\n",
              "    </tr>\n",
              "  </tbody>\n",
              "</table>\n",
              "</div>"
            ],
            "text/plain": [
              "       category  total_backers\n",
              "12  Photography            902\n",
              "13       Crafts            584\n",
              "14        Dance            391"
            ]
          },
          "metadata": {},
          "execution_count": 19
        }
      ]
    },
    {
      "cell_type": "code",
      "metadata": {
        "colab": {
          "base_uri": "https://localhost:8080/",
          "height": 401
        },
        "id": "KzIx6SX01zUK",
        "cellView": "form",
        "outputId": "2e1487ee-7645-4615-b2ec-ce041f8bb158"
      },
      "source": [
        "#@title\n",
        "\n",
        "# What are the top/bottom 3 subcategories by backers?\n",
        "\n",
        "subcat_backers = \"\"\"\n",
        "SELECT subcategory, SUM(backers) AS total_backers\n",
        "FROM ks_combined\n",
        "GROUP BY subcategory\n",
        "ORDER BY total_backers DESC;\n",
        "\"\"\"\n",
        "\n",
        "subcat_backers_result = engine.execute(subcat_backers).fetchall()\n",
        "subcat_df = pd.DataFrame(subcat_backers_result, columns=['subcategory', 'total_backers'])"
      ],
      "execution_count": null,
      "outputs": [
        {
          "output_type": "stream",
          "name": "stdout",
          "text": [
            "      subcategory  total_backers\n",
            "0  Product Design          20910\n",
            "1        Hardware           8949\n",
            "2  Tabletop Games           7981\n"
          ]
        },
        {
          "output_type": "execute_result",
          "data": {
            "text/html": [
              "<div>\n",
              "<style scoped>\n",
              "    .dataframe tbody tr th:only-of-type {\n",
              "        vertical-align: middle;\n",
              "    }\n",
              "\n",
              "    .dataframe tbody tr th {\n",
              "        vertical-align: top;\n",
              "    }\n",
              "\n",
              "    .dataframe thead th {\n",
              "        text-align: right;\n",
              "    }\n",
              "</style>\n",
              "<table border=\"1\" class=\"dataframe\">\n",
              "  <thead>\n",
              "    <tr style=\"text-align: right;\">\n",
              "      <th></th>\n",
              "      <th>subcategory</th>\n",
              "      <th>total_backers</th>\n",
              "    </tr>\n",
              "  </thead>\n",
              "  <tbody>\n",
              "    <tr>\n",
              "      <th>115</th>\n",
              "      <td>Ceramics</td>\n",
              "      <td>0</td>\n",
              "    </tr>\n",
              "    <tr>\n",
              "      <th>116</th>\n",
              "      <td>Conceptual Art</td>\n",
              "      <td>0</td>\n",
              "    </tr>\n",
              "    <tr>\n",
              "      <th>117</th>\n",
              "      <td>Gaming Hardware</td>\n",
              "      <td>0</td>\n",
              "    </tr>\n",
              "    <tr>\n",
              "      <th>118</th>\n",
              "      <td>Jewelry</td>\n",
              "      <td>0</td>\n",
              "    </tr>\n",
              "    <tr>\n",
              "      <th>119</th>\n",
              "      <td>Movie Theaters</td>\n",
              "      <td>0</td>\n",
              "    </tr>\n",
              "    <tr>\n",
              "      <th>120</th>\n",
              "      <td>Music Videos</td>\n",
              "      <td>0</td>\n",
              "    </tr>\n",
              "    <tr>\n",
              "      <th>121</th>\n",
              "      <td>Video Art</td>\n",
              "      <td>0</td>\n",
              "    </tr>\n",
              "    <tr>\n",
              "      <th>122</th>\n",
              "      <td>Wearables</td>\n",
              "      <td>0</td>\n",
              "    </tr>\n",
              "    <tr>\n",
              "      <th>123</th>\n",
              "      <td>Young Adult</td>\n",
              "      <td>0</td>\n",
              "    </tr>\n",
              "  </tbody>\n",
              "</table>\n",
              "</div>"
            ],
            "text/plain": [
              "         subcategory  total_backers\n",
              "115         Ceramics              0\n",
              "116   Conceptual Art              0\n",
              "117  Gaming Hardware              0\n",
              "118          Jewelry              0\n",
              "119   Movie Theaters              0\n",
              "120     Music Videos              0\n",
              "121        Video Art              0\n",
              "122        Wearables              0\n",
              "123      Young Adult              0"
            ]
          },
          "metadata": {},
          "execution_count": 20
        }
      ]
    },
    {
      "cell_type": "markdown",
      "metadata": {
        "id": "MJFDUtr3Mf-5"
      },
      "source": [
        "### Ranking funding opportunities per country\n",
        "\n",
        "\n",
        "For good measure, we also created one more treemap to visualize which countries tended to back more projects, both in terms of individual capital and people. Again, this information can help us focus on where to deploy our attention and resources. Unsurprisingly, the US far outpaced any other country in both capital and backers. Approximately 75,000 Americans collectively pledged **$7.5 M** towards various projects.\n",
        "\n",
        "The British came in 2nd place regarding the number of backers at almost 7,000 and 3rd place in capital pledged at \\$**705 K**, nearly 10x less than their American counterparts. Austrians also had an impressive turnout on the platform, coming in 2nd place with capital allocated at \\$**730 K** but only 9th in total backers with 278 people. At face value, it seems that Austrians either have deeper pockets than most other platform users or are simply more enthusiastic about the projects they come across. As their data suggests, each Austrian pledged on an average of \\$**2,625** to Kickstarter ventures since they made up the 2nd largest funding pool on the platform with relatively few backers. However, without more data, we can't reach solid conclusions about Austrian's platform activity."
      ]
    },
    {
      "cell_type": "code",
      "metadata": {
        "id": "dPlyyndbPNmE",
        "cellView": "form"
      },
      "source": [
        "#@title\n",
        "# Rank the top three countries with the most successful campaigns in terms of dollars (total amount pledged), and in terms of the number of campaigns backed.\n",
        "\n",
        "country_rank_query = \"\"\"\n",
        "SELECT \n",
        "country, \n",
        "SUM(pledged) AS total_pledged_native,\n",
        "currency, \n",
        "COUNT(name) AS total_projects_funded, \n",
        "SUM(backers) AS total_backers, \n",
        "SUM(\n",
        "  CASE currency\n",
        "  WHEN 'USD' THEN ROUND(pledged * 1.2561, 2)\n",
        "  WHEN 'GBP' THEN ROUND(pledged * 1.6875, 2)\n",
        "  WHEN 'EUR' THEN ROUND(pledged * 1.4204, 2)\n",
        "  WHEN 'SEK' THEN ROUND(pledged * 0.1410, 2)\n",
        "  WHEN 'HKD' THEN ROUND(pledged * 0.16122, 2)\n",
        "  WHEN 'AUD' THEN ROUND(pledged * 0.9164, 2)\n",
        "  WHEN 'MXN' THEN ROUND(pledged * 0.0604, 2)\n",
        "  WHEN 'NZD' THEN ROUND(pledged * 0.8802, 2)\n",
        "  WHEN 'DKK' THEN ROUND(pledged * 0.1908, 2)\n",
        "  WHEN 'NOK' THEN ROUND(pledged * 0.1434, 2)\n",
        "  WHEN 'SGD' THEN ROUND(pledged * 0.9246, 2)\n",
        "  WHEN 'CHF' THEN ROUND(pledged * 1.3482, 2)\n",
        "  ELSE pledged\n",
        "  END\n",
        "  ) AS total_pledged_CAD\n",
        "FROM ks_combined\n",
        "GROUP BY country\n",
        "ORDER BY total_pledged_CAD DESC;\n",
        "\"\"\"\n",
        "\n",
        "country_ranking = engine.execute(country_rank_query).fetchall()\n",
        "country_rankings_df = pd.DataFrame(country_ranking, columns=['country', 'total_pledged (native currency)', 'currency', 'total_projects_funded', 'total_backers', 'total_pledged_CAD'])\n",
        "country_replacements = {\n",
        "    'US':'United States',\n",
        "    'AT': 'Austria',\n",
        "    'GB': 'Great Britain',\n",
        "    'DE': 'Germany',\n",
        "    'AU': 'Australia',\n",
        "    'CA': 'Canada',\n",
        "    'IT': 'Italy',\n",
        "    'CH': 'Switzerland',\n",
        "    'SG': 'Singapore',\n",
        "    'FR': 'France',\n",
        "    'NZ': 'New Zealand',\n",
        "    'NL': 'Netherlands',\n",
        "    'ES': 'Spain',\n",
        "    'SE': 'Sweeden',\n",
        "    'BE': 'Belgium',\n",
        "    'IE': 'Ireland',\n",
        "    'DK': 'Denmark',\n",
        "    'NO': 'Norway',\n",
        "    'HK': 'Hong Kong',\n",
        "    'MX': 'Mexico'\n",
        "}\n",
        "country_rankings_df['country'].replace(country_replacements, inplace=True)\n",
        "# country_rankings_df.sort_values(by='total_backers', ascending=False).head(9)\n",
        "\n",
        "\n",
        "## Notes\n",
        "#2 The country labelled as 'AT' stands for Austria. Their high rank is only driven by the Vello Bike+ project which was responsible for all the funding in this country.\n",
        "#8 is Switzerland with CHF representing the Swiss Franc"
      ],
      "execution_count": null,
      "outputs": []
    },
    {
      "cell_type": "code",
      "metadata": {
        "colab": {
          "base_uri": "https://localhost:8080/",
          "height": 542
        },
        "id": "qsip-sPE5MwQ",
        "cellView": "form",
        "outputId": "2205a353-e73c-4eca-fced-f545241e8fa5"
      },
      "source": [
        "#@title\n",
        "funding_tree = px.treemap(country_rankings_df, \n",
        "                          path=[px.Constant('currency'), 'currency', 'country'],\n",
        "                          values='total_pledged_CAD',\n",
        "                          color='total_backers',\n",
        "                          color_continuous_scale='Tealgrn',\n",
        "                          title='Kickstarter Funding Breakdown by Country')\n",
        "funding_tree.show()"
      ],
      "execution_count": null,
      "outputs": [
        {
          "output_type": "display_data",
          "data": {
            "text/html": [
              "<html>\n",
              "<head><meta charset=\"utf-8\" /></head>\n",
              "<body>\n",
              "    <div>            <script src=\"https://cdnjs.cloudflare.com/ajax/libs/mathjax/2.7.5/MathJax.js?config=TeX-AMS-MML_SVG\"></script><script type=\"text/javascript\">if (window.MathJax) {MathJax.Hub.Config({SVG: {font: \"STIX-Web\"}});}</script>                <script type=\"text/javascript\">window.PlotlyConfig = {MathJaxConfig: 'local'};</script>\n",
              "        <script src=\"https://cdn.plot.ly/plotly-2.6.3.min.js\"></script>                <div id=\"97d4c754-78c1-4cc8-984b-927eb6ba630b\" class=\"plotly-graph-div\" style=\"height:525px; width:100%;\"></div>            <script type=\"text/javascript\">                                    window.PLOTLYENV=window.PLOTLYENV || {};                                    if (document.getElementById(\"97d4c754-78c1-4cc8-984b-927eb6ba630b\")) {                    Plotly.newPlot(                        \"97d4c754-78c1-4cc8-984b-927eb6ba630b\",                        [{\"branchvalues\":\"total\",\"customdata\":[[2250.0],[278.0],[4.0],[908.0],[66.0],[232.0],[669.0],[6998.0],[37.0],[17.0],[311.0],[51.0],[15.0],[425.0],[36.0],[918.0],[17.0],[263.0],[178.0],[74988.0],[2250.0],[908.0000000000001],[178.0],[66.0],[384.8936263328237],[6998.0],[37.0],[51.0],[36.0],[425.0],[263.0],[918.0],[74988.0],[58892.80148851868]],\"domain\":{\"x\":[0.0,1.0],\"y\":[0.0,1.0]},\"hovertemplate\":\"labels=%{label}<br>total_pledged_CAD=%{value}<br>parent=%{parent}<br>id=%{id}<br>total_backers=%{color}<extra></extra>\",\"ids\":[\"currency/AUD/Australia\",\"currency/EUR/Austria\",\"currency/EUR/Belgium\",\"currency/CAD/Canada\",\"currency/DKK/Denmark\",\"currency/EUR/France\",\"currency/EUR/Germany\",\"currency/GBP/Great Britain\",\"currency/HKD/Hong Kong\",\"currency/EUR/Ireland\",\"currency/EUR/Italy\",\"currency/MXN/Mexico\",\"currency/EUR/Netherlands\",\"currency/NZD/New Zealand\",\"currency/NOK/Norway\",\"currency/SGD/Singapore\",\"currency/EUR/Spain\",\"currency/SEK/Sweeden\",\"currency/CHF/Switzerland\",\"currency/USD/United States\",\"currency/AUD\",\"currency/CAD\",\"currency/CHF\",\"currency/DKK\",\"currency/EUR\",\"currency/GBP\",\"currency/HKD\",\"currency/MXN\",\"currency/NOK\",\"currency/NZD\",\"currency/SEK\",\"currency/SGD\",\"currency/USD\",\"currency\"],\"labels\":[\"Australia\",\"Austria\",\"Belgium\",\"Canada\",\"Denmark\",\"France\",\"Germany\",\"Great Britain\",\"Hong Kong\",\"Ireland\",\"Italy\",\"Mexico\",\"Netherlands\",\"New Zealand\",\"Norway\",\"Singapore\",\"Spain\",\"Sweeden\",\"Switzerland\",\"United States\",\"AUD\",\"CAD\",\"CHF\",\"DKK\",\"EUR\",\"GBP\",\"HKD\",\"MXN\",\"NOK\",\"NZD\",\"SEK\",\"SGD\",\"USD\",\"currency\"],\"marker\":{\"coloraxis\":\"coloraxis\",\"colors\":[2250.0,278.0,4.0,908.0,66.0,232.0,669.0,6998.0,37.0,17.0,311.0,51.0,15.0,425.0,36.0,918.0,17.0,263.0,178.0,74988.0,2250.0,908.0000000000001,178.0,66.0,384.8936263328237,6998.0,37.0,51.0,36.0,425.0,263.0,918.0,74988.0,58892.80148851868]},\"name\":\"\",\"parents\":[\"currency/AUD\",\"currency/EUR\",\"currency/EUR\",\"currency/CAD\",\"currency/DKK\",\"currency/EUR\",\"currency/EUR\",\"currency/GBP\",\"currency/HKD\",\"currency/EUR\",\"currency/EUR\",\"currency/MXN\",\"currency/EUR\",\"currency/NZD\",\"currency/NOK\",\"currency/SGD\",\"currency/EUR\",\"currency/SEK\",\"currency/CHF\",\"currency/USD\",\"currency\",\"currency\",\"currency\",\"currency\",\"currency\",\"currency\",\"currency\",\"currency\",\"currency\",\"currency\",\"currency\",\"currency\",\"currency\",\"\"],\"values\":[149743.65000000002,729759.94,907.37,50564.509999999995,434.17999999999995,25995.65,316239.05,705225.86,282.65999999999997,807.79,48716.42,196.32,8379.34,24115.63,412.39,31949.35,1419.39,1062.16,37464.02,7446801.919999994,149743.65000000002,50564.509999999995,37464.02,434.17999999999995,1132224.95,705225.86,282.65999999999997,196.32,412.39,24115.63,1062.16,31949.35,7446801.919999994,9580477.599999994],\"type\":\"treemap\"}],                        {\"template\":{\"data\":{\"bar\":[{\"error_x\":{\"color\":\"#2a3f5f\"},\"error_y\":{\"color\":\"#2a3f5f\"},\"marker\":{\"line\":{\"color\":\"#E5ECF6\",\"width\":0.5},\"pattern\":{\"fillmode\":\"overlay\",\"size\":10,\"solidity\":0.2}},\"type\":\"bar\"}],\"barpolar\":[{\"marker\":{\"line\":{\"color\":\"#E5ECF6\",\"width\":0.5},\"pattern\":{\"fillmode\":\"overlay\",\"size\":10,\"solidity\":0.2}},\"type\":\"barpolar\"}],\"carpet\":[{\"aaxis\":{\"endlinecolor\":\"#2a3f5f\",\"gridcolor\":\"white\",\"linecolor\":\"white\",\"minorgridcolor\":\"white\",\"startlinecolor\":\"#2a3f5f\"},\"baxis\":{\"endlinecolor\":\"#2a3f5f\",\"gridcolor\":\"white\",\"linecolor\":\"white\",\"minorgridcolor\":\"white\",\"startlinecolor\":\"#2a3f5f\"},\"type\":\"carpet\"}],\"choropleth\":[{\"colorbar\":{\"outlinewidth\":0,\"ticks\":\"\"},\"type\":\"choropleth\"}],\"contour\":[{\"colorbar\":{\"outlinewidth\":0,\"ticks\":\"\"},\"colorscale\":[[0.0,\"#0d0887\"],[0.1111111111111111,\"#46039f\"],[0.2222222222222222,\"#7201a8\"],[0.3333333333333333,\"#9c179e\"],[0.4444444444444444,\"#bd3786\"],[0.5555555555555556,\"#d8576b\"],[0.6666666666666666,\"#ed7953\"],[0.7777777777777778,\"#fb9f3a\"],[0.8888888888888888,\"#fdca26\"],[1.0,\"#f0f921\"]],\"type\":\"contour\"}],\"contourcarpet\":[{\"colorbar\":{\"outlinewidth\":0,\"ticks\":\"\"},\"type\":\"contourcarpet\"}],\"heatmap\":[{\"colorbar\":{\"outlinewidth\":0,\"ticks\":\"\"},\"colorscale\":[[0.0,\"#0d0887\"],[0.1111111111111111,\"#46039f\"],[0.2222222222222222,\"#7201a8\"],[0.3333333333333333,\"#9c179e\"],[0.4444444444444444,\"#bd3786\"],[0.5555555555555556,\"#d8576b\"],[0.6666666666666666,\"#ed7953\"],[0.7777777777777778,\"#fb9f3a\"],[0.8888888888888888,\"#fdca26\"],[1.0,\"#f0f921\"]],\"type\":\"heatmap\"}],\"heatmapgl\":[{\"colorbar\":{\"outlinewidth\":0,\"ticks\":\"\"},\"colorscale\":[[0.0,\"#0d0887\"],[0.1111111111111111,\"#46039f\"],[0.2222222222222222,\"#7201a8\"],[0.3333333333333333,\"#9c179e\"],[0.4444444444444444,\"#bd3786\"],[0.5555555555555556,\"#d8576b\"],[0.6666666666666666,\"#ed7953\"],[0.7777777777777778,\"#fb9f3a\"],[0.8888888888888888,\"#fdca26\"],[1.0,\"#f0f921\"]],\"type\":\"heatmapgl\"}],\"histogram\":[{\"marker\":{\"pattern\":{\"fillmode\":\"overlay\",\"size\":10,\"solidity\":0.2}},\"type\":\"histogram\"}],\"histogram2d\":[{\"colorbar\":{\"outlinewidth\":0,\"ticks\":\"\"},\"colorscale\":[[0.0,\"#0d0887\"],[0.1111111111111111,\"#46039f\"],[0.2222222222222222,\"#7201a8\"],[0.3333333333333333,\"#9c179e\"],[0.4444444444444444,\"#bd3786\"],[0.5555555555555556,\"#d8576b\"],[0.6666666666666666,\"#ed7953\"],[0.7777777777777778,\"#fb9f3a\"],[0.8888888888888888,\"#fdca26\"],[1.0,\"#f0f921\"]],\"type\":\"histogram2d\"}],\"histogram2dcontour\":[{\"colorbar\":{\"outlinewidth\":0,\"ticks\":\"\"},\"colorscale\":[[0.0,\"#0d0887\"],[0.1111111111111111,\"#46039f\"],[0.2222222222222222,\"#7201a8\"],[0.3333333333333333,\"#9c179e\"],[0.4444444444444444,\"#bd3786\"],[0.5555555555555556,\"#d8576b\"],[0.6666666666666666,\"#ed7953\"],[0.7777777777777778,\"#fb9f3a\"],[0.8888888888888888,\"#fdca26\"],[1.0,\"#f0f921\"]],\"type\":\"histogram2dcontour\"}],\"mesh3d\":[{\"colorbar\":{\"outlinewidth\":0,\"ticks\":\"\"},\"type\":\"mesh3d\"}],\"parcoords\":[{\"line\":{\"colorbar\":{\"outlinewidth\":0,\"ticks\":\"\"}},\"type\":\"parcoords\"}],\"pie\":[{\"automargin\":true,\"type\":\"pie\"}],\"scatter\":[{\"marker\":{\"colorbar\":{\"outlinewidth\":0,\"ticks\":\"\"}},\"type\":\"scatter\"}],\"scatter3d\":[{\"line\":{\"colorbar\":{\"outlinewidth\":0,\"ticks\":\"\"}},\"marker\":{\"colorbar\":{\"outlinewidth\":0,\"ticks\":\"\"}},\"type\":\"scatter3d\"}],\"scattercarpet\":[{\"marker\":{\"colorbar\":{\"outlinewidth\":0,\"ticks\":\"\"}},\"type\":\"scattercarpet\"}],\"scattergeo\":[{\"marker\":{\"colorbar\":{\"outlinewidth\":0,\"ticks\":\"\"}},\"type\":\"scattergeo\"}],\"scattergl\":[{\"marker\":{\"colorbar\":{\"outlinewidth\":0,\"ticks\":\"\"}},\"type\":\"scattergl\"}],\"scattermapbox\":[{\"marker\":{\"colorbar\":{\"outlinewidth\":0,\"ticks\":\"\"}},\"type\":\"scattermapbox\"}],\"scatterpolar\":[{\"marker\":{\"colorbar\":{\"outlinewidth\":0,\"ticks\":\"\"}},\"type\":\"scatterpolar\"}],\"scatterpolargl\":[{\"marker\":{\"colorbar\":{\"outlinewidth\":0,\"ticks\":\"\"}},\"type\":\"scatterpolargl\"}],\"scatterternary\":[{\"marker\":{\"colorbar\":{\"outlinewidth\":0,\"ticks\":\"\"}},\"type\":\"scatterternary\"}],\"surface\":[{\"colorbar\":{\"outlinewidth\":0,\"ticks\":\"\"},\"colorscale\":[[0.0,\"#0d0887\"],[0.1111111111111111,\"#46039f\"],[0.2222222222222222,\"#7201a8\"],[0.3333333333333333,\"#9c179e\"],[0.4444444444444444,\"#bd3786\"],[0.5555555555555556,\"#d8576b\"],[0.6666666666666666,\"#ed7953\"],[0.7777777777777778,\"#fb9f3a\"],[0.8888888888888888,\"#fdca26\"],[1.0,\"#f0f921\"]],\"type\":\"surface\"}],\"table\":[{\"cells\":{\"fill\":{\"color\":\"#EBF0F8\"},\"line\":{\"color\":\"white\"}},\"header\":{\"fill\":{\"color\":\"#C8D4E3\"},\"line\":{\"color\":\"white\"}},\"type\":\"table\"}]},\"layout\":{\"annotationdefaults\":{\"arrowcolor\":\"#2a3f5f\",\"arrowhead\":0,\"arrowwidth\":1},\"autotypenumbers\":\"strict\",\"coloraxis\":{\"colorbar\":{\"outlinewidth\":0,\"ticks\":\"\"}},\"colorscale\":{\"diverging\":[[0,\"#8e0152\"],[0.1,\"#c51b7d\"],[0.2,\"#de77ae\"],[0.3,\"#f1b6da\"],[0.4,\"#fde0ef\"],[0.5,\"#f7f7f7\"],[0.6,\"#e6f5d0\"],[0.7,\"#b8e186\"],[0.8,\"#7fbc41\"],[0.9,\"#4d9221\"],[1,\"#276419\"]],\"sequential\":[[0.0,\"#0d0887\"],[0.1111111111111111,\"#46039f\"],[0.2222222222222222,\"#7201a8\"],[0.3333333333333333,\"#9c179e\"],[0.4444444444444444,\"#bd3786\"],[0.5555555555555556,\"#d8576b\"],[0.6666666666666666,\"#ed7953\"],[0.7777777777777778,\"#fb9f3a\"],[0.8888888888888888,\"#fdca26\"],[1.0,\"#f0f921\"]],\"sequentialminus\":[[0.0,\"#0d0887\"],[0.1111111111111111,\"#46039f\"],[0.2222222222222222,\"#7201a8\"],[0.3333333333333333,\"#9c179e\"],[0.4444444444444444,\"#bd3786\"],[0.5555555555555556,\"#d8576b\"],[0.6666666666666666,\"#ed7953\"],[0.7777777777777778,\"#fb9f3a\"],[0.8888888888888888,\"#fdca26\"],[1.0,\"#f0f921\"]]},\"colorway\":[\"#636efa\",\"#EF553B\",\"#00cc96\",\"#ab63fa\",\"#FFA15A\",\"#19d3f3\",\"#FF6692\",\"#B6E880\",\"#FF97FF\",\"#FECB52\"],\"font\":{\"color\":\"#2a3f5f\"},\"geo\":{\"bgcolor\":\"white\",\"lakecolor\":\"white\",\"landcolor\":\"#E5ECF6\",\"showlakes\":true,\"showland\":true,\"subunitcolor\":\"white\"},\"hoverlabel\":{\"align\":\"left\"},\"hovermode\":\"closest\",\"mapbox\":{\"style\":\"light\"},\"paper_bgcolor\":\"white\",\"plot_bgcolor\":\"#E5ECF6\",\"polar\":{\"angularaxis\":{\"gridcolor\":\"white\",\"linecolor\":\"white\",\"ticks\":\"\"},\"bgcolor\":\"#E5ECF6\",\"radialaxis\":{\"gridcolor\":\"white\",\"linecolor\":\"white\",\"ticks\":\"\"}},\"scene\":{\"xaxis\":{\"backgroundcolor\":\"#E5ECF6\",\"gridcolor\":\"white\",\"gridwidth\":2,\"linecolor\":\"white\",\"showbackground\":true,\"ticks\":\"\",\"zerolinecolor\":\"white\"},\"yaxis\":{\"backgroundcolor\":\"#E5ECF6\",\"gridcolor\":\"white\",\"gridwidth\":2,\"linecolor\":\"white\",\"showbackground\":true,\"ticks\":\"\",\"zerolinecolor\":\"white\"},\"zaxis\":{\"backgroundcolor\":\"#E5ECF6\",\"gridcolor\":\"white\",\"gridwidth\":2,\"linecolor\":\"white\",\"showbackground\":true,\"ticks\":\"\",\"zerolinecolor\":\"white\"}},\"shapedefaults\":{\"line\":{\"color\":\"#2a3f5f\"}},\"ternary\":{\"aaxis\":{\"gridcolor\":\"white\",\"linecolor\":\"white\",\"ticks\":\"\"},\"baxis\":{\"gridcolor\":\"white\",\"linecolor\":\"white\",\"ticks\":\"\"},\"bgcolor\":\"#E5ECF6\",\"caxis\":{\"gridcolor\":\"white\",\"linecolor\":\"white\",\"ticks\":\"\"}},\"title\":{\"x\":0.05},\"xaxis\":{\"automargin\":true,\"gridcolor\":\"white\",\"linecolor\":\"white\",\"ticks\":\"\",\"title\":{\"standoff\":15},\"zerolinecolor\":\"white\",\"zerolinewidth\":2},\"yaxis\":{\"automargin\":true,\"gridcolor\":\"white\",\"linecolor\":\"white\",\"ticks\":\"\",\"title\":{\"standoff\":15},\"zerolinecolor\":\"white\",\"zerolinewidth\":2}}},\"coloraxis\":{\"colorbar\":{\"title\":{\"text\":\"total_backers\"}},\"colorscale\":[[0.0,\"rgb(176, 242, 188)\"],[0.16666666666666666,\"rgb(137, 232, 172)\"],[0.3333333333333333,\"rgb(103, 219, 165)\"],[0.5,\"rgb(76, 200, 163)\"],[0.6666666666666666,\"rgb(56, 178, 163)\"],[0.8333333333333334,\"rgb(44, 152, 160)\"],[1.0,\"rgb(37, 125, 152)\"]]},\"legend\":{\"tracegroupgap\":0},\"title\":{\"text\":\"Kickstarter Funding Breakdown by Country\"}},                        {\"responsive\": true}                    ).then(function(){\n",
              "                            \n",
              "var gd = document.getElementById('97d4c754-78c1-4cc8-984b-927eb6ba630b');\n",
              "var x = new MutationObserver(function (mutations, observer) {{\n",
              "        var display = window.getComputedStyle(gd).display;\n",
              "        if (!display || display === 'none') {{\n",
              "            console.log([gd, 'removed!']);\n",
              "            Plotly.purge(gd);\n",
              "            observer.disconnect();\n",
              "        }}\n",
              "}});\n",
              "\n",
              "// Listen for the removal of the full notebook cells\n",
              "var notebookContainer = gd.closest('#notebook-container');\n",
              "if (notebookContainer) {{\n",
              "    x.observe(notebookContainer, {childList: true});\n",
              "}}\n",
              "\n",
              "// Listen for the clearing of the current output cell\n",
              "var outputEl = gd.closest('.output');\n",
              "if (outputEl) {{\n",
              "    x.observe(outputEl, {childList: true});\n",
              "}}\n",
              "\n",
              "                        })                };                            </script>        </div>\n",
              "</body>\n",
              "</html>"
            ]
          },
          "metadata": {}
        }
      ]
    },
    {
      "cell_type": "code",
      "metadata": {
        "id": "b4LdKo7jTXLZ",
        "cellView": "form"
      },
      "source": [
        "#@title\n",
        "# Do longer, or shorter campaigns tend to raise more money? Why?\n",
        "\n",
        "timediff_query = \"\"\"\n",
        "SELECT \n",
        "name,\n",
        "category,\n",
        "subcategory, \n",
        "launched, \n",
        "deadline, \n",
        "(julianday(deadline)-julianday(launched)) AS total_campaign_days, \n",
        "goal,\n",
        "pledged, \n",
        "currency,  \n",
        "CASE currency\n",
        "  WHEN 'USD' THEN ROUND(pledged * 1.2561, 2)\n",
        "  WHEN 'GBP' THEN ROUND(pledged * 1.6875, 2)\n",
        "  WHEN 'EUR' THEN ROUND(pledged * 1.4204, 2)\n",
        "  WHEN 'SEK' THEN ROUND(pledged * 0.1410, 2)\n",
        "  WHEN 'HKD' THEN ROUND(pledged * 0.16122, 2)\n",
        "  WHEN 'AUD' THEN ROUND(pledged * 0.9164, 2)\n",
        "  WHEN 'MXN' THEN ROUND(pledged * 0.0604, 2)\n",
        "  WHEN 'NZD' THEN ROUND(pledged * 0.8802, 2)\n",
        "  WHEN 'DKK' THEN ROUND(pledged * 0.1908, 2)\n",
        "  WHEN 'NOK' THEN ROUND(pledged * 0.1434, 2)\n",
        "  WHEN 'SGD' THEN ROUND(pledged * 0.9246, 2)\n",
        "  WHEN 'CHF' THEN ROUND(pledged * 1.3482, 2)\n",
        "  ELSE pledged\n",
        "  END AS total_pledged_CAD,\n",
        "backers, \n",
        "outcome, \n",
        "country\n",
        "FROM ks_combined;\n",
        "\"\"\"\n",
        "\n",
        "time_differece = engine.execute(timediff_query).fetchall()\n",
        "time_difference_df = pd.DataFrame(time_differece, columns=['name', 'category', 'subcategory', 'launched', 'deadline', 'total_campaign_days', 'goal', 'pledged', 'currency', 'pledged_CAD', 'backers', 'outcome', 'country'])"
      ],
      "execution_count": null,
      "outputs": []
    },
    {
      "cell_type": "code",
      "metadata": {
        "id": "yPb1Uw0hFVsb",
        "colab": {
          "base_uri": "https://localhost:8080/",
          "height": 611
        },
        "cellView": "form",
        "outputId": "554707ab-11c3-4062-d505-d38a0a9676bd"
      },
      "source": [
        "#@title\n",
        "fig = px.scatter(time_difference_df, \n",
        "                 x=\"backers\", \n",
        "                 y=\"pledged_CAD\", \n",
        "                 color='outcome', \n",
        "                 color_discrete_sequence=['red', 'green', 'white', 'orange'],\n",
        "                 title='Individual project funding (in CAD) vs. Number of backers for successful campaigns',\n",
        "                 trendline='ols'\n",
        "                 )\n",
        "\n",
        "# fig.update_layout(legend=dict(\n",
        "#                        yanchor='auto',\n",
        "#                        y=0.98,\n",
        "#                        xanchor='auto',\n",
        "#                        x=0.99                       \n",
        "#                    ),\n",
        "                  # height=500)"
      ],
      "execution_count": null,
      "outputs": [
        {
          "output_type": "stream",
          "name": "stderr",
          "text": [
            "/usr/local/lib/python3.7/dist-packages/statsmodels/tools/_testing.py:19: FutureWarning:\n",
            "\n",
            "pandas.util.testing is deprecated. Use the functions in the public API at pandas.testing instead.\n",
            "\n"
          ]
        },
        {
          "output_type": "display_data",
          "data": {
            "text/html": [
              "<html>\n",
              "<head><meta charset=\"utf-8\" /></head>\n",
              "<body>\n",
              "    <div>            <script src=\"https://cdnjs.cloudflare.com/ajax/libs/mathjax/2.7.5/MathJax.js?config=TeX-AMS-MML_SVG\"></script><script type=\"text/javascript\">if (window.MathJax) {MathJax.Hub.Config({SVG: {font: \"STIX-Web\"}});}</script>                <script type=\"text/javascript\">window.PlotlyConfig = {MathJaxConfig: 'local'};</script>\n",
              "        <script src=\"https://cdn.plot.ly/plotly-2.6.3.min.js\"></script>                <div id=\"0cc93660-5ecb-427b-a324-95c8279207ec\" class=\"plotly-graph-div\" style=\"height:525px; width:100%;\"></div>            <script type=\"text/javascript\">                                    window.PLOTLYENV=window.PLOTLYENV || {};                                    if (document.getElementById(\"0cc93660-5ecb-427b-a324-95c8279207ec\")) {                    Plotly.newPlot(                        \"0cc93660-5ecb-427b-a324-95c8279207ec\",                        [{\"hovertemplate\":\"outcome=failed<br>backers=%{x}<br>pledged_CAD=%{y}<extra></extra>\",\"legendgroup\":\"failed\",\"marker\":{\"color\":\"red\",\"symbol\":\"circle\"},\"mode\":\"markers\",\"name\":\"failed\",\"orientation\":\"v\",\"showlegend\":true,\"x\":[3,28,2,5,45,4,0,11,4,5,2,2,8,1,161,43,3,1,9,11,2,25,0,0,5,0,6,15,49,0,3,91,2,1,3,8,0,46,1,9,2,38,0,2,26,0,3,1,1,1,29,0,4,20,32,1,27,0,27,1296,24,55,1,2,2,0,5,6,2,2,1,0,0,0,0,15,0,14,2,1,0,0,42,0,0,2,1,50,2,2,96,16,0,18,3,27,1,1,9,0,3,23,1,9,0,43,3,15,20,4,3,6,159,5,6,0,2,14,50,0,17,0,4,6,0,0,59,12,3,7,19,5,0,0,12,7,1,1,12,52,147,2,1,44,0,413,13,6,7,0,2,2,6,41,94,21,44,2,42,1,2,2,22,8,11,0,15,3,4,1,4,6,0,0,6,0,86,8,4,13,6,0,1,3,0,0,1,8,54,7,1,3,2,0,0,0,16,138,1,14,2,10,3,20,1,0,1,4,2,0,3,1,1,4,0,1,2,0,11,0,2,0,5,16,1,0,71,0,66,5,0,0,30,15,2,1,4,1,1,20,0,41,6,2,0,0,9,2,0,3,0,28,2,2,29,0,2,9,0,4,6,1,2,54,35,4,5,5,0,158,20,1,3,0,0,11,28,0,17,1,2,1,7,0,1,9,0,4,0,6,7,2,34,4,1,1,3,22,0,2,32,0,17,17,2,1,0,1,9,19,4,15,0,3,5,0,2,14,13,11,0,27,6,5,13,0,21,0,0,15,0,2,0,74,0,16,0,226,1,1,49,34,0,2,0,1,5,7,8,1,2,5,2,2,1,14,4,8,2,10,5,0,9,8,0,1,140,8,1,4,6,2,38,4,64,0,5,5,7,7,1,1,1,1,3,1,0,1,13,44,1,10,2,5,1,3,3,0,10,0,0,0,0,0,1,45,0,3,2,2,6,1,1,0,0,0,37,10,1,0,1,4,4201,9,5,3,0,138,35,22,2,37,1,47,5,0,40,3,46,11,1,0,4,64,2,5,1,3,3,2,0,0,0,2,6,5,7,0,1,4,0,0,5,2,2,7,0,3,3,6,0,1,0,2,1,123,21,44,0,147,0,23,0,1,28,2,74,20,13,1,0,2,20,1,2,0,8,10,1,9,0,5,2,1,3,0,2,14,1,4,27,0,2,1,70,29,13,248],\"xaxis\":\"x\",\"y\":[25.12,1880.38,2.51,288.9,11701.83,202.23,0.0,384.37,139.43,508.72,126.87,2.51,533.84,1.26,7515.01,1869.08,34.17,25.12,1288.76,1759.8,37.68,2073.82,0.0,0.0,352.96,0.0,232.38,352.96,1575.15,0.0,82.16,8881.88,37.68,68.95,389.39,1228.47,0.0,3102.57,25.89,384.37,376.83,2200.69,0.0,71.6,839.07,0.0,258.76,1.26,114.48,6.28,3249.67,0.0,76.62,893.09,2819.94,25.12,465.32,0.0,1866.56,218574.07,1291.27,2063.77,62.8,37.68,12.56,0.0,213.54,100.49,188.41,5.16,25.12,0.0,0.0,0.0,0.0,2569.98,0.0,3455.53,32.66,1.26,0.0,0.0,6981.4,0.0,0.0,31.4,628.05,4045.9,7.54,125.61,6864.61,799.86,0.0,556.77,42.92,4493.07,6.28,24.69,614.23,0.0,8.04,3450.08,2.46,1006.14,0.0,1350.31,69.09,296.44,1645.49,82.9,101.74,433.35,10225.91,170.83,44.1,0.0,138.17,787.45,3988.12,0.0,187.04,0.0,326.59,252.48,0.0,0.0,10761.98,663.51,122.3,150.73,927.0,326.59,0.0,0.0,870.62,302.72,31.4,1.55,574.04,3249.53,3617.14,26.38,62.8,7060.54,0.0,47724.69,1023.72,78.71,246.2,0.0,256.24,13.82,390.65,2906.21,7972.47,799.59,1661.82,30.15,5477.85,5.78,26.38,1.26,1357.45,339.15,104.26,0.0,910.67,22.34,192.71,125.61,87.93,1268.66,0.0,0.0,11.3,0.0,5376.94,979.76,2983.22,1469.64,80.39,0.0,65.32,134.4,0.0,0.0,12.56,729.89,5951.39,226.1,1.51,60.43,282.62,0.0,0.0,0.0,1042.56,35307.71,1.26,1090.29,12.56,71.06,169.57,1085.27,7.95,0.0,1.26,268.81,94.21,0.0,13.64,125.61,6.28,6.33,0.0,4.08,13.82,0.0,332.87,0.0,56.52,0.0,118.48,1391.78,31.4,0.0,9214.75,0.0,7752.65,183.39,0.0,0.0,930.24,804.53,51.5,1.26,75.37,2.56,1.26,2858.88,0.0,2723.62,142.8,18.84,0.0,0.0,1570.12,2.8,0.0,151.99,0.0,2706.9,19.14,2.51,1346.54,0.0,62.8,2367.75,0.0,170.83,282.62,3.3,64.06,2031.11,1089.29,301.46,194.7,114.31,0.0,10793.67,470.82,1.26,119.33,0.0,0.0,96.67,1411.17,0.0,3244.64,6.28,7.54,251.22,185.9,0.0,11.88,998.6,0.0,41.45,0.0,183.39,596.65,12.56,4679.44,28.43,1.26,1.26,100.49,987.75,0.0,2227.53,3995.04,0.0,2013.16,1127.98,3.77,31.4,0.0,2.41,733.56,758.38,145.92,870.14,0.0,51.5,97.4,0.0,2.51,670.76,2449.39,452.2,0.0,21816.52,252.48,302.72,97.98,0.0,3322.38,0.0,0.0,517.51,0.0,131.89,0.0,3115.13,0.0,792.6,0.0,16412.2,6.28,13.03,8583.25,4068.51,0.0,50.24,0.0,1.26,164.55,1174.45,163.29,2.51,119.33,1296.3,89.61,157.01,25.12,897.75,356.28,653.17,2.51,835.1,64.06,0.0,257.19,48.93,0.0,0.74,9182.09,407.11,1.26,12730.57,203.49,87.93,1678.15,263.78,4867.39,0.0,1.44,396.93,168.77,158.27,1.26,178.37,6.28,1.26,200.98,1.26,0.0,6.28,297.7,2080.1,1.26,904.39,64.06,628.05,2.51,71.6,69.86,0.0,2047.44,0.0,0.0,0.0,0.0,0.0,0.81,6453.84,0.0,329.1,27.63,4.94,1080.25,0.9,52.03,0.0,0.0,0.0,2911.64,320.31,1.26,0.0,1.26,70.34,283103.57,251.1,28.89,143.2,0.0,11298.62,4003.19,1452.05,157.01,934.54,26.51,2539.83,1048.84,0.0,2968.16,62.8,1777.38,1552.54,31.4,0.0,25.06,9584.04,2.51,76.51,31.4,76.62,45.22,50.24,0.0,0.0,0.0,7.54,1513.6,144.45,276.34,0.0,15.31,109.68,0.0,0.0,81.65,43.96,2.51,496.16,0.0,281.37,155.52,77.88,0.0,31.4,0.0,11317.46,7.93,7565.49,1250.78,1145.56,0.0,5111.06,0.0,2872.7,0.0,1.26,1327.7,131.89,5298.23,1670.61,2483.31,1.26,0.0,1262.38,876.76,1.26,157.01,0.0,349.2,579.06,280.68,244.94,0.0,121.84,25.12,12.56,16.55,0.0,90.24,277.25,18.84,226.1,5026.91,0.0,23.09,62.8,1958.26,2964.4,3088.75,5539.17],\"yaxis\":\"y\",\"type\":\"scatter\"},{\"hovertemplate\":\"<b>OLS trendline</b><br>pledged_CAD = 76.2656 * backers + 268.163<br>R<sup>2</sup>=0.864478<br><br>outcome=failed<br>backers=%{x}<br>pledged_CAD=%{y} <b>(trend)</b><extra></extra>\",\"legendgroup\":\"failed\",\"marker\":{\"color\":\"red\",\"symbol\":\"circle\"},\"mode\":\"lines\",\"name\":\"failed\",\"showlegend\":false,\"x\":[0,0,0,0,0,0,0,0,0,0,0,0,0,0,0,0,0,0,0,0,0,0,0,0,0,0,0,0,0,0,0,0,0,0,0,0,0,0,0,0,0,0,0,0,0,0,0,0,0,0,0,0,0,0,0,0,0,0,0,0,0,0,0,0,0,0,0,0,0,0,0,0,0,0,0,0,0,0,0,0,0,0,0,0,0,0,0,0,0,0,0,0,0,0,0,0,0,0,0,0,0,0,0,0,0,0,0,0,0,0,0,0,0,0,0,0,1,1,1,1,1,1,1,1,1,1,1,1,1,1,1,1,1,1,1,1,1,1,1,1,1,1,1,1,1,1,1,1,1,1,1,1,1,1,1,1,1,1,1,1,1,1,1,1,1,1,1,1,1,1,1,1,1,1,1,1,1,1,1,1,1,1,1,1,1,1,1,1,1,1,1,2,2,2,2,2,2,2,2,2,2,2,2,2,2,2,2,2,2,2,2,2,2,2,2,2,2,2,2,2,2,2,2,2,2,2,2,2,2,2,2,2,2,2,2,2,2,2,2,2,2,2,2,2,2,2,2,2,2,2,2,2,2,3,3,3,3,3,3,3,3,3,3,3,3,3,3,3,3,3,3,3,3,3,3,3,3,3,3,3,3,3,3,4,4,4,4,4,4,4,4,4,4,4,4,4,4,4,4,4,4,4,4,4,4,4,5,5,5,5,5,5,5,5,5,5,5,5,5,5,5,5,5,5,5,5,5,5,5,5,6,6,6,6,6,6,6,6,6,6,6,6,6,6,6,6,6,6,7,7,7,7,7,7,7,7,7,7,7,8,8,8,8,8,8,8,8,8,8,9,9,9,9,9,9,9,9,9,9,9,10,10,10,10,10,10,11,11,11,11,11,11,11,12,12,12,13,13,13,13,13,13,13,14,14,14,14,14,14,15,15,15,15,15,15,15,16,16,16,16,17,17,17,17,18,19,19,20,20,20,20,20,20,20,21,21,21,22,22,22,23,23,24,25,26,27,27,27,27,27,28,28,28,28,29,29,29,30,32,32,34,34,35,35,37,37,38,38,40,41,41,42,42,43,43,44,44,44,44,45,45,46,46,47,49,49,50,50,52,54,54,55,59,64,64,66,70,71,74,74,86,91,94,96,123,138,138,140,147,147,158,159,161,226,248,413,1296,4201],\"xaxis\":\"x\",\"y\":[268.16310022400614,268.16310022400614,268.16310022400614,268.16310022400614,268.16310022400614,268.16310022400614,268.16310022400614,268.16310022400614,268.16310022400614,268.16310022400614,268.16310022400614,268.16310022400614,268.16310022400614,268.16310022400614,268.16310022400614,268.16310022400614,268.16310022400614,268.16310022400614,268.16310022400614,268.16310022400614,268.16310022400614,268.16310022400614,268.16310022400614,268.16310022400614,268.16310022400614,268.16310022400614,268.16310022400614,268.16310022400614,268.16310022400614,268.16310022400614,268.16310022400614,268.16310022400614,268.16310022400614,268.16310022400614,268.16310022400614,268.16310022400614,268.16310022400614,268.16310022400614,268.16310022400614,268.16310022400614,268.16310022400614,268.16310022400614,268.16310022400614,268.16310022400614,268.16310022400614,268.16310022400614,268.16310022400614,268.16310022400614,268.16310022400614,268.16310022400614,268.16310022400614,268.16310022400614,268.16310022400614,268.16310022400614,268.16310022400614,268.16310022400614,268.16310022400614,268.16310022400614,268.16310022400614,268.16310022400614,268.16310022400614,268.16310022400614,268.16310022400614,268.16310022400614,268.16310022400614,268.16310022400614,268.16310022400614,268.16310022400614,268.16310022400614,268.16310022400614,268.16310022400614,268.16310022400614,268.16310022400614,268.16310022400614,268.16310022400614,268.16310022400614,268.16310022400614,268.16310022400614,268.16310022400614,268.16310022400614,268.16310022400614,268.16310022400614,268.16310022400614,268.16310022400614,268.16310022400614,268.16310022400614,268.16310022400614,268.16310022400614,268.16310022400614,268.16310022400614,268.16310022400614,268.16310022400614,268.16310022400614,268.16310022400614,268.16310022400614,268.16310022400614,268.16310022400614,268.16310022400614,268.16310022400614,268.16310022400614,268.16310022400614,268.16310022400614,268.16310022400614,268.16310022400614,268.16310022400614,268.16310022400614,268.16310022400614,268.16310022400614,268.16310022400614,268.16310022400614,268.16310022400614,268.16310022400614,268.16310022400614,268.16310022400614,268.16310022400614,268.16310022400614,344.42871389299563,344.42871389299563,344.42871389299563,344.42871389299563,344.42871389299563,344.42871389299563,344.42871389299563,344.42871389299563,344.42871389299563,344.42871389299563,344.42871389299563,344.42871389299563,344.42871389299563,344.42871389299563,344.42871389299563,344.42871389299563,344.42871389299563,344.42871389299563,344.42871389299563,344.42871389299563,344.42871389299563,344.42871389299563,344.42871389299563,344.42871389299563,344.42871389299563,344.42871389299563,344.42871389299563,344.42871389299563,344.42871389299563,344.42871389299563,344.42871389299563,344.42871389299563,344.42871389299563,344.42871389299563,344.42871389299563,344.42871389299563,344.42871389299563,344.42871389299563,344.42871389299563,344.42871389299563,344.42871389299563,344.42871389299563,344.42871389299563,344.42871389299563,344.42871389299563,344.42871389299563,344.42871389299563,344.42871389299563,344.42871389299563,344.42871389299563,344.42871389299563,344.42871389299563,344.42871389299563,344.42871389299563,344.42871389299563,344.42871389299563,344.42871389299563,344.42871389299563,344.42871389299563,344.42871389299563,344.42871389299563,344.42871389299563,344.42871389299563,344.42871389299563,344.42871389299563,344.42871389299563,344.42871389299563,344.42871389299563,344.42871389299563,344.42871389299563,344.42871389299563,344.42871389299563,344.42871389299563,344.42871389299563,344.42871389299563,420.6943275619851,420.6943275619851,420.6943275619851,420.6943275619851,420.6943275619851,420.6943275619851,420.6943275619851,420.6943275619851,420.6943275619851,420.6943275619851,420.6943275619851,420.6943275619851,420.6943275619851,420.6943275619851,420.6943275619851,420.6943275619851,420.6943275619851,420.6943275619851,420.6943275619851,420.6943275619851,420.6943275619851,420.6943275619851,420.6943275619851,420.6943275619851,420.6943275619851,420.6943275619851,420.6943275619851,420.6943275619851,420.6943275619851,420.6943275619851,420.6943275619851,420.6943275619851,420.6943275619851,420.6943275619851,420.6943275619851,420.6943275619851,420.6943275619851,420.6943275619851,420.6943275619851,420.6943275619851,420.6943275619851,420.6943275619851,420.6943275619851,420.6943275619851,420.6943275619851,420.6943275619851,420.6943275619851,420.6943275619851,420.6943275619851,420.6943275619851,420.6943275619851,420.6943275619851,420.6943275619851,420.6943275619851,420.6943275619851,420.6943275619851,420.6943275619851,420.6943275619851,420.6943275619851,420.6943275619851,420.6943275619851,420.6943275619851,496.9599412309746,496.9599412309746,496.9599412309746,496.9599412309746,496.9599412309746,496.9599412309746,496.9599412309746,496.9599412309746,496.9599412309746,496.9599412309746,496.9599412309746,496.9599412309746,496.9599412309746,496.9599412309746,496.9599412309746,496.9599412309746,496.9599412309746,496.9599412309746,496.9599412309746,496.9599412309746,496.9599412309746,496.9599412309746,496.9599412309746,496.9599412309746,496.9599412309746,496.9599412309746,496.9599412309746,496.9599412309746,496.9599412309746,496.9599412309746,573.2255548999641,573.2255548999641,573.2255548999641,573.2255548999641,573.2255548999641,573.2255548999641,573.2255548999641,573.2255548999641,573.2255548999641,573.2255548999641,573.2255548999641,573.2255548999641,573.2255548999641,573.2255548999641,573.2255548999641,573.2255548999641,573.2255548999641,573.2255548999641,573.2255548999641,573.2255548999641,573.2255548999641,573.2255548999641,573.2255548999641,649.4911685689535,649.4911685689535,649.4911685689535,649.4911685689535,649.4911685689535,649.4911685689535,649.4911685689535,649.4911685689535,649.4911685689535,649.4911685689535,649.4911685689535,649.4911685689535,649.4911685689535,649.4911685689535,649.4911685689535,649.4911685689535,649.4911685689535,649.4911685689535,649.4911685689535,649.4911685689535,649.4911685689535,649.4911685689535,649.4911685689535,649.4911685689535,725.7567822379431,725.7567822379431,725.7567822379431,725.7567822379431,725.7567822379431,725.7567822379431,725.7567822379431,725.7567822379431,725.7567822379431,725.7567822379431,725.7567822379431,725.7567822379431,725.7567822379431,725.7567822379431,725.7567822379431,725.7567822379431,725.7567822379431,725.7567822379431,802.0223959069325,802.0223959069325,802.0223959069325,802.0223959069325,802.0223959069325,802.0223959069325,802.0223959069325,802.0223959069325,802.0223959069325,802.0223959069325,802.0223959069325,878.288009575922,878.288009575922,878.288009575922,878.288009575922,878.288009575922,878.288009575922,878.288009575922,878.288009575922,878.288009575922,878.288009575922,954.5536232449116,954.5536232449116,954.5536232449116,954.5536232449116,954.5536232449116,954.5536232449116,954.5536232449116,954.5536232449116,954.5536232449116,954.5536232449116,954.5536232449116,1030.819236913901,1030.819236913901,1030.819236913901,1030.819236913901,1030.819236913901,1030.819236913901,1107.0848505828903,1107.0848505828903,1107.0848505828903,1107.0848505828903,1107.0848505828903,1107.0848505828903,1107.0848505828903,1183.35046425188,1183.35046425188,1183.35046425188,1259.6160779208694,1259.6160779208694,1259.6160779208694,1259.6160779208694,1259.6160779208694,1259.6160779208694,1259.6160779208694,1335.8816915898587,1335.8816915898587,1335.8816915898587,1335.8816915898587,1335.8816915898587,1335.8816915898587,1412.1473052588485,1412.1473052588485,1412.1473052588485,1412.1473052588485,1412.1473052588485,1412.1473052588485,1412.1473052588485,1488.4129189278378,1488.4129189278378,1488.4129189278378,1488.4129189278378,1564.6785325968276,1564.6785325968276,1564.6785325968276,1564.6785325968276,1640.944146265817,1717.2097599348062,1717.2097599348062,1793.475373603796,1793.475373603796,1793.475373603796,1793.475373603796,1793.475373603796,1793.475373603796,1793.475373603796,1869.7409872727853,1869.7409872727853,1869.7409872727853,1946.0066009417746,1946.0066009417746,1946.0066009417746,2022.2722146107644,2022.2722146107644,2098.5378282797537,2174.8034419487435,2251.069055617733,2327.334669286722,2327.334669286722,2327.334669286722,2327.334669286722,2327.334669286722,2403.6002829557115,2403.6002829557115,2403.6002829557115,2403.6002829557115,2479.8658966247012,2479.8658966247012,2479.8658966247012,2556.1315102936906,2708.6627376316696,2708.6627376316696,2861.1939649696487,2861.1939649696487,2937.459578638638,2937.459578638638,3089.990805976617,3089.990805976617,3166.2564196456065,3166.2564196456065,3318.7876469835855,3395.053260652575,3395.053260652575,3471.3188743215646,3471.3188743215646,3547.584487990554,3547.584487990554,3623.8501016595433,3623.8501016595433,3623.8501016595433,3623.8501016595433,3700.115715328533,3700.115715328533,3776.3813289975224,3776.3813289975224,3852.646942666512,4005.1781700044908,4005.1781700044908,4081.4437836734805,4081.4437836734805,4233.97501101146,4386.506238349439,4386.506238349439,4462.771852018428,4767.834306694386,5149.162375039334,5149.162375039334,5301.693602377312,5606.7560570532705,5683.02167072226,5911.818511729229,5911.818511729229,6827.005875757102,7208.33394410205,7437.130785109019,7589.662012446997,9648.833581509714,10792.817786544556,10792.817786544556,10945.349013882535,11479.208309565462,11479.208309565462,12318.130059924346,12394.395673593335,12546.926900931314,17504.191789415632,19182.0352901334,31765.861545516666,99108.39841523438,320660.00612364884],\"yaxis\":\"y\",\"type\":\"scatter\"},{\"hovertemplate\":\"outcome=successful<br>backers=%{x}<br>pledged_CAD=%{y}<extra></extra>\",\"legendgroup\":\"successful\",\"marker\":{\"color\":\"green\",\"symbol\":\"circle\"},\"mode\":\"markers\",\"name\":\"successful\",\"orientation\":\"v\",\"showlegend\":true,\"x\":[23,218,6,23,43,75,99,224,225,15,73,164,228,18,309,1287,255,285,35,32,55,56,61,60,17,57,103,40,39,1312,52,108,166,105,16,48,81,30,77,81,69,34,21,18,445,155,68,81,1415,21,107,297,36,57,185,8,19,60,18,213,17,860,24,170,85,224,32,83,8,57,193,20,282,30,150,505,32,325,89,18,99,31,42,30,45,56,238,174,199,3015,63,56,800,12,99,226,283,51,14,42,35,125,74,64,20,43,24,431,41,41,40,46,8019,661,39,164,14,77,391,142,39,18,10,70,398,133,42,11,406,83,48,15,1317,37,78,23,37,67,54,95,112,165,120,65,48,60,147,242,47,241,36,109,92,120,194,31,14,422,68,173,51,85,137,8,64,82,32,67,177,24,130,43,39,745,79,115,62,219,71,13,178,86,14,21,154,23,25,63,122,68,572,22,12,10,70,35,132,98,115,5,40,416,19,16,59,89,45,253,30,42,114,9,64,99,133,52,652,45,23,21,30,42,73,319,41,24,19,124,34,210,168,59,67,274,16,124,101,8,16,11,122,18,918,88,117,206,27,252,178,40,2396,41,13,2395,42,42,65,393,678,102,19,19,706,197,283,39,18,19,168,48,4400,52,146,48,49,15,57,18,101,37,138,24,60,191,3674,50,67,104,48,284,89,38,114,41,130,175,66,13,143,38,235,1880,31,228,144,303,53,89,1433,366,32,36,54,740,170,44,277,83,105,7,271,271,10,209,55,82,505,15,278,31,147,47,66,29,447,58,91,187,10,45,48,93,34,378,38,56,69,110,40,53,169,505,398,859,17,28],\"xaxis\":\"x\",\"y\":[698.3,11047.4,3171.65,1915.55,1876.61,4606.28,7344.42,15757.77,8062.91,5025.66,10156.82,11394.08,6627.2,5361.03,56557.16,303993.79,32917.36,13319.68,7536.6,6427.46,6877.15,2821.2,3617.57,10106.58,1092.81,1999.71,5103.53,2945.55,3140.25,94288.51,2827.48,39411.39,79002.32,6307.9,2034.88,2794.82,5312.05,15173.69,4094.89,8209.15,9797.58,922.61,1256.1,3372.63,33834.81,5761.73,6281.76,6677.43,86010.53,5143.57,3155.32,35211.1,2392.94,5948.89,13236.81,948.36,1555.22,3210.59,1045.32,32426.22,736.07,31654.98,2882.75,14724.0,45203.27,8948.9,6564.38,13433.57,285.71,2372.79,39913.83,929.51,32216.45,2111.5,32345.83,32242.25,10847.28,25300.59,4499.92,2941.79,21574.92,3152.81,9023.82,1021.21,2013.53,5124.89,13380.5,27714.59,26040.62,533358.9,5455.24,11304.9,77153.05,3140.25,1901.25,18150.65,14539.85,196.32,458.48,1326.44,4628.83,5089.72,7104.5,7775.26,1012.42,6607.09,1915.55,78339.19,12713.91,5126.14,1890.43,5705.21,1109715.11,141281.66,3787.14,5310.79,1806.27,6625.93,8805.26,21148.96,1542.49,1318.9,364.27,3806.06,229552.92,9995.93,3297.26,2512.2,45247.21,2383.25,6782.94,653.17,52324.1,3218.13,10369.11,3579.88,3147.79,17657.0,3270.85,5285.67,6766.61,11966.86,12784.59,2772.21,4277.02,6462.63,11592.12,10144.26,1524.91,20764.53,412.39,13070.98,13559.6,6877.15,6475.2,848.21,1256.1,20646.14,6625.93,24833.1,2081.36,6468.91,16764.77,1168.17,5291.61,19086.44,1827.63,15708.67,25794.26,2293.64,11750.82,2872.7,1331.23,32414.73,7648.39,10100.3,1666.84,14453.94,21068.39,1392.74,18654.34,10493.46,2570.14,1425.67,31433.9,1198.32,1131.75,2162.65,15697.48,13032.04,35786.82,17872.06,653.17,1507.32,3540.95,2097.69,18178.51,23839.52,9974.06,383.12,811.44,38695.49,3386.45,2588.03,4315.96,6828.16,5765.5,26391.92,3489.45,1960.77,20853.77,401.95,4565.85,4422.63,14721.49,3272.14,78363.15,3059.86,2639.07,2006.76,7888.31,8947.83,2654.84,25278.77,7032.9,1107.88,472.29,10582.01,7575.54,28891.56,7677.04,1634.16,15377.18,21260.75,1134.26,14158.23,15953.73,1001.26,1934.39,630.56,19374.4,979.76,31949.35,5539.11,15946.19,31741.16,1276.2,13695.47,37464.02,5325.86,165834.72,10342.18,1571.96,238060.6,3211.86,3387.7,2271.78,51381.21,40195.2,13867.34,8364.36,5048.27,146046.75,20844.98,14200.21,6368.62,1469.64,1363.45,21353.7,4179.04,255224.45,6312.53,7540.87,4239.34,3831.11,1188.27,4057.2,1010.0,6936.18,4201.65,15458.82,1641.72,3863.76,20388.44,216427.95,2154.21,3597.87,7753.42,10339.6,28800.83,9496.12,4334.1,2639.07,5152.52,13325.96,12106.29,24971.27,722.26,88482.2,4898.79,15921.33,31661.26,3049.66,25925.31,14529.31,29068.04,6054.4,3947.92,56364.98,34213.65,2323.4,1062.66,4779.46,66368.56,10180.69,3782.98,26867.98,5249.24,13471.09,378.09,13568.39,45322.6,359.24,9866.24,2912.09,5170.11,33780.3,968.31,729759.94,910.29,8332.97,3523.36,6878.4,3831.11,32711.98,2792.31,7599.4,23227.8,5503.22,1645.49,1904.25,10458.29,2718.2,10489.69,16778.32,3304.51,4182.81,5606.01,1563.84,6668.63,15274.18,172569.3,23347.58,43536.43,578.69,238.64],\"yaxis\":\"y\",\"type\":\"scatter\"},{\"hovertemplate\":\"<b>OLS trendline</b><br>pledged_CAD = 109.455 * backers + 454.891<br>R<sup>2</sup>=0.639641<br><br>outcome=successful<br>backers=%{x}<br>pledged_CAD=%{y} <b>(trend)</b><extra></extra>\",\"legendgroup\":\"successful\",\"marker\":{\"color\":\"green\",\"symbol\":\"circle\"},\"mode\":\"lines\",\"name\":\"successful\",\"showlegend\":false,\"x\":[5,6,7,8,8,8,8,9,10,10,10,10,11,11,12,12,13,13,13,14,14,14,14,15,15,15,15,16,16,16,16,17,17,17,18,18,18,18,18,18,18,18,19,19,19,19,19,19,20,20,21,21,21,21,22,23,23,23,23,23,24,24,24,24,24,25,27,28,29,30,30,30,30,30,31,31,31,31,32,32,32,32,32,34,34,34,35,35,35,36,36,36,37,37,37,38,38,38,39,39,39,39,39,40,40,40,40,40,41,41,41,41,41,42,42,42,42,42,42,42,43,43,43,44,45,45,45,45,46,47,47,48,48,48,48,48,48,48,49,50,51,51,52,52,52,53,53,54,54,55,55,56,56,56,56,57,57,57,57,58,59,59,60,60,60,60,61,62,63,63,64,64,64,65,65,66,66,67,67,67,67,68,68,68,69,69,70,70,71,73,73,74,75,77,77,78,79,81,81,81,82,82,83,83,83,85,85,86,88,89,89,89,89,91,92,93,95,98,99,99,99,99,101,101,102,103,104,105,105,107,108,109,110,112,114,114,115,115,117,120,120,122,122,124,124,125,130,130,132,133,133,137,138,142,143,144,146,147,147,150,154,155,164,164,165,166,168,168,169,170,170,173,174,175,177,178,178,185,187,191,193,194,197,199,206,209,210,213,218,219,224,224,225,226,228,228,235,238,241,242,252,253,255,271,271,274,277,278,282,283,283,284,285,297,303,309,319,325,366,378,391,393,398,398,406,416,422,431,445,447,505,505,505,572,652,661,678,706,740,745,800,859,860,918,1287,1312,1317,1415,1433,1880,2395,2396,3015,3674,4400,8019],\"xaxis\":\"x\",\"y\":[1002.1660056318277,1111.6209658915573,1221.0759261512867,1330.5308864110161,1330.5308864110161,1330.5308864110161,1330.5308864110161,1439.9858466707458,1549.4408069304752,1549.4408069304752,1549.4408069304752,1549.4408069304752,1658.8957671902047,1658.8957671902047,1768.3507274499343,1768.3507274499343,1877.8056877096637,1877.8056877096637,1877.8056877096637,1987.2606479693932,1987.2606479693932,1987.2606479693932,1987.2606479693932,2096.715608229123,2096.715608229123,2096.715608229123,2096.715608229123,2206.170568488852,2206.170568488852,2206.170568488852,2206.170568488852,2315.625528748582,2315.625528748582,2315.625528748582,2425.0804890083114,2425.0804890083114,2425.0804890083114,2425.0804890083114,2425.0804890083114,2425.0804890083114,2425.0804890083114,2425.0804890083114,2534.535449268041,2534.535449268041,2534.535449268041,2534.535449268041,2534.535449268041,2534.535449268041,2643.99040952777,2643.99040952777,2753.4453697874997,2753.4453697874997,2753.4453697874997,2753.4453697874997,2862.900330047229,2972.355290306959,2972.355290306959,2972.355290306959,2972.355290306959,2972.355290306959,3081.8102505666884,3081.8102505666884,3081.8102505666884,3081.8102505666884,3081.8102505666884,3191.265210826418,3410.1751313458767,3519.630091605606,3629.085051865336,3738.5400121250655,3738.5400121250655,3738.5400121250655,3738.5400121250655,3738.5400121250655,3847.994972384795,3847.994972384795,3847.994972384795,3847.994972384795,3957.4499326445243,3957.4499326445243,3957.4499326445243,3957.4499326445243,3957.4499326445243,4176.359853163984,4176.359853163984,4176.359853163984,4285.814813423713,4285.814813423713,4285.814813423713,4395.2697736834425,4395.2697736834425,4395.2697736834425,4504.724733943172,4504.724733943172,4504.724733943172,4614.179694202901,4614.179694202901,4614.179694202901,4723.634654462631,4723.634654462631,4723.634654462631,4723.634654462631,4723.634654462631,4833.08961472236,4833.08961472236,4833.08961472236,4833.08961472236,4833.08961472236,4942.54457498209,4942.54457498209,4942.54457498209,4942.54457498209,4942.54457498209,5051.999535241819,5051.999535241819,5051.999535241819,5051.999535241819,5051.999535241819,5051.999535241819,5051.999535241819,5161.454495501549,5161.454495501549,5161.454495501549,5270.909455761278,5380.364416021008,5380.364416021008,5380.364416021008,5380.364416021008,5489.819376280738,5599.274336540467,5599.274336540467,5708.729296800197,5708.729296800197,5708.729296800197,5708.729296800197,5708.729296800197,5708.729296800197,5708.729296800197,5818.184257059926,5927.6392173196555,6037.094177579384,6037.094177579384,6146.549137839114,6146.549137839114,6146.549137839114,6256.004098098844,6256.004098098844,6365.459058358573,6365.459058358573,6474.914018618303,6474.914018618303,6584.368978878032,6584.368978878032,6584.368978878032,6584.368978878032,6693.823939137762,6693.823939137762,6693.823939137762,6693.823939137762,6803.278899397492,6912.733859657221,6912.733859657221,7022.188819916951,7022.188819916951,7022.188819916951,7022.188819916951,7131.64378017668,7241.09874043641,7350.553700696139,7350.553700696139,7460.008660955868,7460.008660955868,7460.008660955868,7569.463621215598,7569.463621215598,7678.918581475327,7678.918581475327,7788.373541735057,7788.373541735057,7788.373541735057,7788.373541735057,7897.828501994786,7897.828501994786,7897.828501994786,8007.283462254516,8007.283462254516,8116.738422514245,8116.738422514245,8226.193382773974,8445.103303293434,8445.103303293434,8554.558263553165,8664.013223812894,8882.923144332352,8882.923144332352,8992.378104592082,9101.833064851811,9320.74298537127,9320.74298537127,9320.74298537127,9430.197945631,9430.197945631,9539.652905890729,9539.652905890729,9539.652905890729,9758.562826410189,9758.562826410189,9868.017786669918,10086.927707189376,10196.382667449107,10196.382667449107,10196.382667449107,10196.382667449107,10415.292587968564,10524.747548228295,10634.202508488024,10853.112429007482,11181.477309786671,11290.932270046402,11290.932270046402,11290.932270046402,11290.932270046402,11509.84219056586,11509.84219056586,11619.297150825589,11728.75211108532,11838.207071345048,11947.662031604777,11947.662031604777,12166.571952124237,12276.026912383966,12385.481872643697,12494.936832903426,12713.846753422884,12932.756673942344,12932.756673942344,13042.211634202073,13042.211634202073,13261.121554721532,13589.486435500721,13589.486435500721,13808.39635602018,13808.39635602018,14027.306276539639,14027.306276539639,14136.761236799368,14684.036038098016,14684.036038098016,14902.945958617474,15012.400918877203,15012.400918877203,15450.220759916123,15559.675720175852,15997.49556121477,16106.950521474499,16216.40548173423,16435.315402253687,16544.770362513416,16544.770362513416,16873.135243292607,17310.955084331523,17420.41004459125,18405.50468692882,18405.50468692882,18514.95964718855,18624.414607448278,18843.324527967736,18843.324527967736,18952.779488227465,19062.234448487197,19062.234448487197,19390.599329266384,19500.054289526113,19609.509249785842,19828.419170305304,19937.874130565033,19937.874130565033,20704.05885238314,20922.968772902597,21360.788613941517,21579.698534460975,21689.153494720704,22017.51837549989,22236.428296019352,23002.61301783746,23330.977898616646,23440.432858876375,23768.797739655565,24316.072540954214,24425.527501213943,24972.802302512588,24972.802302512588,25082.25726277232,25191.71222303205,25410.622143551507,25410.622143551507,26176.806865369614,26505.1717461488,26833.53662692799,26942.99158718772,28037.541189785014,28146.996150044746,28365.906070564204,30117.185434719875,30117.185434719875,30445.550315499066,30773.915196278253,30883.37015653798,31321.1899975769,31430.64495783663,31430.64495783663,31540.09991809636,31649.554878356088,32963.01440147284,33619.74416303122,34276.4739245896,35371.023527186895,36027.75328874527,40515.406659394175,41828.86618251093,43251.78066588742,43470.690586406876,44017.965387705524,44017.965387705524,44893.605069783356,45988.15467238065,46644.88443393903,47629.9790762766,49162.34851991281,49381.25844043227,55729.64613549658,55729.64613549658,55729.64613549658,63063.128472898454,71819.52529367682,72804.61993601438,74665.35426042978,77730.09314770221,81451.56179653302,81998.83659783166,88018.85941211678,94476.70206744083,94586.15702770055,100934.54472276487,141323.42505860503,144059.79906509828,144607.0738663969,155333.6599718504,157303.84925652557,206230.21649262466,262599.5210263853,262708.97598664503,330461.59638741764,402592.4151985794,482056.716347143,878174.2175271041],\"yaxis\":\"y\",\"type\":\"scatter\"},{\"hovertemplate\":\"outcome=canceled<br>backers=%{x}<br>pledged_CAD=%{y}<extra></extra>\",\"legendgroup\":\"canceled\",\"marker\":{\"color\":\"white\",\"symbol\":\"circle\"},\"mode\":\"markers\",\"name\":\"canceled\",\"orientation\":\"v\",\"showlegend\":true,\"x\":[0,19,30,0,1,16,24,1,0,0,20,0,0,2,0,18,4,9,148,0,1,0,53,1,2,7,0,46,1,197,100,6,5,0,0,3,1,3,0,13,6,28,0,0,7,11,36,2,21,3,44,1,0,0,3,28,55,56,15,7,0,0,52,0,56,6,3,0,25,0,0,37,0,0,0,1,45,0,7,0,2,0,0,13,0,3,8,0,1,8,13,85,21,3,67],\"xaxis\":\"x\",\"y\":[0.0,1145.56,5492.93,0.0,92.64,2485.82,7305.48,11.3,0.0,0.0,95.62,0.0,0.0,22.55,0.0,339.15,907.37,566.5,8169.69,0.0,31.4,0.0,12141.46,40.26,50.24,439.27,0.0,19947.53,62.8,13104.89,5890.3,501.18,1382.97,0.0,0.0,138.17,0.78,263.78,0.0,371.36,316.54,3783.37,0.0,0.0,959.92,401.95,1421.52,37.68,1980.26,70.34,6976.38,31.4,0.0,0.0,74.11,1142.01,3980.58,6454.97,668.25,79.13,0.0,0.0,10924.5,0.0,4123.35,95.46,292.53,0.0,4836.23,0.0,0.0,194.03,0.0,0.0,0.0,62.8,2450.65,0.0,243.57,0.0,87.93,0.0,0.0,26684.59,0.0,1269.1,430.84,0.0,0.74,596.65,929.51,4391.33,685.76,25.12,14144.94],\"yaxis\":\"y\",\"type\":\"scatter\"},{\"hovertemplate\":\"<b>OLS trendline</b><br>pledged_CAD = 82.5566 * backers + 601.985<br>R<sup>2</sup>=0.339212<br><br>outcome=canceled<br>backers=%{x}<br>pledged_CAD=%{y} <b>(trend)</b><extra></extra>\",\"legendgroup\":\"canceled\",\"marker\":{\"color\":\"white\",\"symbol\":\"circle\"},\"mode\":\"lines\",\"name\":\"canceled\",\"showlegend\":false,\"x\":[0,0,0,0,0,0,0,0,0,0,0,0,0,0,0,0,0,0,0,0,0,0,0,0,0,0,0,0,0,0,0,0,1,1,1,1,1,1,1,1,1,2,2,2,2,3,3,3,3,3,3,3,4,5,6,6,6,7,7,7,7,8,8,9,11,13,13,13,15,16,18,19,20,21,21,24,25,28,28,30,36,37,44,45,46,52,53,55,56,56,67,85,100,148,197],\"xaxis\":\"x\",\"y\":[601.9846852751641,601.9846852751641,601.9846852751641,601.9846852751641,601.9846852751641,601.9846852751641,601.9846852751641,601.9846852751641,601.9846852751641,601.9846852751641,601.9846852751641,601.9846852751641,601.9846852751641,601.9846852751641,601.9846852751641,601.9846852751641,601.9846852751641,601.9846852751641,601.9846852751641,601.9846852751641,601.9846852751641,601.9846852751641,601.9846852751641,601.9846852751641,601.9846852751641,601.9846852751641,601.9846852751641,601.9846852751641,601.9846852751641,601.9846852751641,601.9846852751641,601.9846852751641,684.5413044134816,684.5413044134816,684.5413044134816,684.5413044134816,684.5413044134816,684.5413044134816,684.5413044134816,684.5413044134816,684.5413044134816,767.0979235517992,767.0979235517992,767.0979235517992,767.0979235517992,849.6545426901167,849.6545426901167,849.6545426901167,849.6545426901167,849.6545426901167,849.6545426901167,849.6545426901167,932.2111618284343,1014.7677809667518,1097.3244001050693,1097.3244001050693,1097.3244001050693,1179.881019243387,1179.881019243387,1179.881019243387,1179.881019243387,1262.4376383817043,1262.4376383817043,1344.994257520022,1510.107495796657,1675.220734073292,1675.220734073292,1675.220734073292,1840.3339723499273,1922.8905914882448,2088.00382976488,2170.5604489031975,2253.1170680415153,2335.6736871798325,2335.6736871798325,2583.3435445947853,2665.900163733103,2913.5700211480553,2913.5700211480553,3078.6832594246907,3574.0229742545953,3656.579593392913,4234.475927361136,4317.032546499454,4399.589165637771,4894.928880467676,4977.485499605994,5142.598737882629,5225.155357020947,5225.155357020947,6133.278167542439,7619.297312032156,8857.646599106918,12820.36431774616,16865.63865552372],\"yaxis\":\"y\",\"type\":\"scatter\"},{\"hovertemplate\":\"outcome=suspended<br>backers=%{x}<br>pledged_CAD=%{y}<extra></extra>\",\"legendgroup\":\"suspended\",\"marker\":{\"color\":\"orange\",\"symbol\":\"circle\"},\"mode\":\"markers\",\"name\":\"suspended\",\"orientation\":\"v\",\"showlegend\":true,\"x\":[240,0,2,1,0,8,75,33,0],\"xaxis\":\"x\",\"y\":[947.66,0.0,37.68,1.26,0.0,445.92,1921.83,1449.54,0.0],\"yaxis\":\"y\",\"type\":\"scatter\"},{\"hovertemplate\":\"<b>OLS trendline</b><br>pledged_CAD = 4.62284 * backers + 349.366<br>R<sup>2</sup>=0.247155<br><br>outcome=suspended<br>backers=%{x}<br>pledged_CAD=%{y} <b>(trend)</b><extra></extra>\",\"legendgroup\":\"suspended\",\"marker\":{\"color\":\"orange\",\"symbol\":\"circle\"},\"mode\":\"lines\",\"name\":\"suspended\",\"showlegend\":false,\"x\":[0,0,0,1,2,8,33,75,240],\"xaxis\":\"x\",\"y\":[349.36569186312306,349.36569186312306,349.36569186312306,353.9885296715684,358.6113674800138,386.34839433068606,501.9193395418205,696.0785274965262,1458.846765890013],\"yaxis\":\"y\",\"type\":\"scatter\"},{\"hovertemplate\":\"outcome=live<br>backers=%{x}<br>pledged_CAD=%{y}<extra></extra>\",\"legendgroup\":\"live\",\"marker\":{\"color\":\"red\",\"symbol\":\"circle\"},\"mode\":\"markers\",\"name\":\"live\",\"orientation\":\"v\",\"showlegend\":true,\"x\":[9,4,0,0,1],\"xaxis\":\"x\",\"y\":[3168.59,449.94,0.0,0.0,165.73],\"yaxis\":\"y\",\"type\":\"scatter\"},{\"hovertemplate\":\"<b>OLS trendline</b><br>pledged_CAD = 338.212 * backers + -190.142<br>R<sup>2</sup>=0.908211<br><br>outcome=live<br>backers=%{x}<br>pledged_CAD=%{y} <b>(trend)</b><extra></extra>\",\"legendgroup\":\"live\",\"marker\":{\"color\":\"red\",\"symbol\":\"circle\"},\"mode\":\"lines\",\"name\":\"live\",\"showlegend\":false,\"x\":[0,0,1,4,9],\"xaxis\":\"x\",\"y\":[-190.14190476190444,-190.14190476190444,148.07020408163285,1162.7065306122447,2853.7670748299315],\"yaxis\":\"y\",\"type\":\"scatter\"}],                        {\"template\":{\"data\":{\"bar\":[{\"error_x\":{\"color\":\"#2a3f5f\"},\"error_y\":{\"color\":\"#2a3f5f\"},\"marker\":{\"line\":{\"color\":\"#E5ECF6\",\"width\":0.5},\"pattern\":{\"fillmode\":\"overlay\",\"size\":10,\"solidity\":0.2}},\"type\":\"bar\"}],\"barpolar\":[{\"marker\":{\"line\":{\"color\":\"#E5ECF6\",\"width\":0.5},\"pattern\":{\"fillmode\":\"overlay\",\"size\":10,\"solidity\":0.2}},\"type\":\"barpolar\"}],\"carpet\":[{\"aaxis\":{\"endlinecolor\":\"#2a3f5f\",\"gridcolor\":\"white\",\"linecolor\":\"white\",\"minorgridcolor\":\"white\",\"startlinecolor\":\"#2a3f5f\"},\"baxis\":{\"endlinecolor\":\"#2a3f5f\",\"gridcolor\":\"white\",\"linecolor\":\"white\",\"minorgridcolor\":\"white\",\"startlinecolor\":\"#2a3f5f\"},\"type\":\"carpet\"}],\"choropleth\":[{\"colorbar\":{\"outlinewidth\":0,\"ticks\":\"\"},\"type\":\"choropleth\"}],\"contour\":[{\"colorbar\":{\"outlinewidth\":0,\"ticks\":\"\"},\"colorscale\":[[0.0,\"#0d0887\"],[0.1111111111111111,\"#46039f\"],[0.2222222222222222,\"#7201a8\"],[0.3333333333333333,\"#9c179e\"],[0.4444444444444444,\"#bd3786\"],[0.5555555555555556,\"#d8576b\"],[0.6666666666666666,\"#ed7953\"],[0.7777777777777778,\"#fb9f3a\"],[0.8888888888888888,\"#fdca26\"],[1.0,\"#f0f921\"]],\"type\":\"contour\"}],\"contourcarpet\":[{\"colorbar\":{\"outlinewidth\":0,\"ticks\":\"\"},\"type\":\"contourcarpet\"}],\"heatmap\":[{\"colorbar\":{\"outlinewidth\":0,\"ticks\":\"\"},\"colorscale\":[[0.0,\"#0d0887\"],[0.1111111111111111,\"#46039f\"],[0.2222222222222222,\"#7201a8\"],[0.3333333333333333,\"#9c179e\"],[0.4444444444444444,\"#bd3786\"],[0.5555555555555556,\"#d8576b\"],[0.6666666666666666,\"#ed7953\"],[0.7777777777777778,\"#fb9f3a\"],[0.8888888888888888,\"#fdca26\"],[1.0,\"#f0f921\"]],\"type\":\"heatmap\"}],\"heatmapgl\":[{\"colorbar\":{\"outlinewidth\":0,\"ticks\":\"\"},\"colorscale\":[[0.0,\"#0d0887\"],[0.1111111111111111,\"#46039f\"],[0.2222222222222222,\"#7201a8\"],[0.3333333333333333,\"#9c179e\"],[0.4444444444444444,\"#bd3786\"],[0.5555555555555556,\"#d8576b\"],[0.6666666666666666,\"#ed7953\"],[0.7777777777777778,\"#fb9f3a\"],[0.8888888888888888,\"#fdca26\"],[1.0,\"#f0f921\"]],\"type\":\"heatmapgl\"}],\"histogram\":[{\"marker\":{\"pattern\":{\"fillmode\":\"overlay\",\"size\":10,\"solidity\":0.2}},\"type\":\"histogram\"}],\"histogram2d\":[{\"colorbar\":{\"outlinewidth\":0,\"ticks\":\"\"},\"colorscale\":[[0.0,\"#0d0887\"],[0.1111111111111111,\"#46039f\"],[0.2222222222222222,\"#7201a8\"],[0.3333333333333333,\"#9c179e\"],[0.4444444444444444,\"#bd3786\"],[0.5555555555555556,\"#d8576b\"],[0.6666666666666666,\"#ed7953\"],[0.7777777777777778,\"#fb9f3a\"],[0.8888888888888888,\"#fdca26\"],[1.0,\"#f0f921\"]],\"type\":\"histogram2d\"}],\"histogram2dcontour\":[{\"colorbar\":{\"outlinewidth\":0,\"ticks\":\"\"},\"colorscale\":[[0.0,\"#0d0887\"],[0.1111111111111111,\"#46039f\"],[0.2222222222222222,\"#7201a8\"],[0.3333333333333333,\"#9c179e\"],[0.4444444444444444,\"#bd3786\"],[0.5555555555555556,\"#d8576b\"],[0.6666666666666666,\"#ed7953\"],[0.7777777777777778,\"#fb9f3a\"],[0.8888888888888888,\"#fdca26\"],[1.0,\"#f0f921\"]],\"type\":\"histogram2dcontour\"}],\"mesh3d\":[{\"colorbar\":{\"outlinewidth\":0,\"ticks\":\"\"},\"type\":\"mesh3d\"}],\"parcoords\":[{\"line\":{\"colorbar\":{\"outlinewidth\":0,\"ticks\":\"\"}},\"type\":\"parcoords\"}],\"pie\":[{\"automargin\":true,\"type\":\"pie\"}],\"scatter\":[{\"marker\":{\"colorbar\":{\"outlinewidth\":0,\"ticks\":\"\"}},\"type\":\"scatter\"}],\"scatter3d\":[{\"line\":{\"colorbar\":{\"outlinewidth\":0,\"ticks\":\"\"}},\"marker\":{\"colorbar\":{\"outlinewidth\":0,\"ticks\":\"\"}},\"type\":\"scatter3d\"}],\"scattercarpet\":[{\"marker\":{\"colorbar\":{\"outlinewidth\":0,\"ticks\":\"\"}},\"type\":\"scattercarpet\"}],\"scattergeo\":[{\"marker\":{\"colorbar\":{\"outlinewidth\":0,\"ticks\":\"\"}},\"type\":\"scattergeo\"}],\"scattergl\":[{\"marker\":{\"colorbar\":{\"outlinewidth\":0,\"ticks\":\"\"}},\"type\":\"scattergl\"}],\"scattermapbox\":[{\"marker\":{\"colorbar\":{\"outlinewidth\":0,\"ticks\":\"\"}},\"type\":\"scattermapbox\"}],\"scatterpolar\":[{\"marker\":{\"colorbar\":{\"outlinewidth\":0,\"ticks\":\"\"}},\"type\":\"scatterpolar\"}],\"scatterpolargl\":[{\"marker\":{\"colorbar\":{\"outlinewidth\":0,\"ticks\":\"\"}},\"type\":\"scatterpolargl\"}],\"scatterternary\":[{\"marker\":{\"colorbar\":{\"outlinewidth\":0,\"ticks\":\"\"}},\"type\":\"scatterternary\"}],\"surface\":[{\"colorbar\":{\"outlinewidth\":0,\"ticks\":\"\"},\"colorscale\":[[0.0,\"#0d0887\"],[0.1111111111111111,\"#46039f\"],[0.2222222222222222,\"#7201a8\"],[0.3333333333333333,\"#9c179e\"],[0.4444444444444444,\"#bd3786\"],[0.5555555555555556,\"#d8576b\"],[0.6666666666666666,\"#ed7953\"],[0.7777777777777778,\"#fb9f3a\"],[0.8888888888888888,\"#fdca26\"],[1.0,\"#f0f921\"]],\"type\":\"surface\"}],\"table\":[{\"cells\":{\"fill\":{\"color\":\"#EBF0F8\"},\"line\":{\"color\":\"white\"}},\"header\":{\"fill\":{\"color\":\"#C8D4E3\"},\"line\":{\"color\":\"white\"}},\"type\":\"table\"}]},\"layout\":{\"annotationdefaults\":{\"arrowcolor\":\"#2a3f5f\",\"arrowhead\":0,\"arrowwidth\":1},\"autotypenumbers\":\"strict\",\"coloraxis\":{\"colorbar\":{\"outlinewidth\":0,\"ticks\":\"\"}},\"colorscale\":{\"diverging\":[[0,\"#8e0152\"],[0.1,\"#c51b7d\"],[0.2,\"#de77ae\"],[0.3,\"#f1b6da\"],[0.4,\"#fde0ef\"],[0.5,\"#f7f7f7\"],[0.6,\"#e6f5d0\"],[0.7,\"#b8e186\"],[0.8,\"#7fbc41\"],[0.9,\"#4d9221\"],[1,\"#276419\"]],\"sequential\":[[0.0,\"#0d0887\"],[0.1111111111111111,\"#46039f\"],[0.2222222222222222,\"#7201a8\"],[0.3333333333333333,\"#9c179e\"],[0.4444444444444444,\"#bd3786\"],[0.5555555555555556,\"#d8576b\"],[0.6666666666666666,\"#ed7953\"],[0.7777777777777778,\"#fb9f3a\"],[0.8888888888888888,\"#fdca26\"],[1.0,\"#f0f921\"]],\"sequentialminus\":[[0.0,\"#0d0887\"],[0.1111111111111111,\"#46039f\"],[0.2222222222222222,\"#7201a8\"],[0.3333333333333333,\"#9c179e\"],[0.4444444444444444,\"#bd3786\"],[0.5555555555555556,\"#d8576b\"],[0.6666666666666666,\"#ed7953\"],[0.7777777777777778,\"#fb9f3a\"],[0.8888888888888888,\"#fdca26\"],[1.0,\"#f0f921\"]]},\"colorway\":[\"#636efa\",\"#EF553B\",\"#00cc96\",\"#ab63fa\",\"#FFA15A\",\"#19d3f3\",\"#FF6692\",\"#B6E880\",\"#FF97FF\",\"#FECB52\"],\"font\":{\"color\":\"#2a3f5f\"},\"geo\":{\"bgcolor\":\"white\",\"lakecolor\":\"white\",\"landcolor\":\"#E5ECF6\",\"showlakes\":true,\"showland\":true,\"subunitcolor\":\"white\"},\"hoverlabel\":{\"align\":\"left\"},\"hovermode\":\"closest\",\"mapbox\":{\"style\":\"light\"},\"paper_bgcolor\":\"white\",\"plot_bgcolor\":\"#E5ECF6\",\"polar\":{\"angularaxis\":{\"gridcolor\":\"white\",\"linecolor\":\"white\",\"ticks\":\"\"},\"bgcolor\":\"#E5ECF6\",\"radialaxis\":{\"gridcolor\":\"white\",\"linecolor\":\"white\",\"ticks\":\"\"}},\"scene\":{\"xaxis\":{\"backgroundcolor\":\"#E5ECF6\",\"gridcolor\":\"white\",\"gridwidth\":2,\"linecolor\":\"white\",\"showbackground\":true,\"ticks\":\"\",\"zerolinecolor\":\"white\"},\"yaxis\":{\"backgroundcolor\":\"#E5ECF6\",\"gridcolor\":\"white\",\"gridwidth\":2,\"linecolor\":\"white\",\"showbackground\":true,\"ticks\":\"\",\"zerolinecolor\":\"white\"},\"zaxis\":{\"backgroundcolor\":\"#E5ECF6\",\"gridcolor\":\"white\",\"gridwidth\":2,\"linecolor\":\"white\",\"showbackground\":true,\"ticks\":\"\",\"zerolinecolor\":\"white\"}},\"shapedefaults\":{\"line\":{\"color\":\"#2a3f5f\"}},\"ternary\":{\"aaxis\":{\"gridcolor\":\"white\",\"linecolor\":\"white\",\"ticks\":\"\"},\"baxis\":{\"gridcolor\":\"white\",\"linecolor\":\"white\",\"ticks\":\"\"},\"bgcolor\":\"#E5ECF6\",\"caxis\":{\"gridcolor\":\"white\",\"linecolor\":\"white\",\"ticks\":\"\"}},\"title\":{\"x\":0.05},\"xaxis\":{\"automargin\":true,\"gridcolor\":\"white\",\"linecolor\":\"white\",\"ticks\":\"\",\"title\":{\"standoff\":15},\"zerolinecolor\":\"white\",\"zerolinewidth\":2},\"yaxis\":{\"automargin\":true,\"gridcolor\":\"white\",\"linecolor\":\"white\",\"ticks\":\"\",\"title\":{\"standoff\":15},\"zerolinecolor\":\"white\",\"zerolinewidth\":2}}},\"xaxis\":{\"anchor\":\"y\",\"domain\":[0.0,1.0],\"title\":{\"text\":\"backers\"}},\"yaxis\":{\"anchor\":\"x\",\"domain\":[0.0,1.0],\"title\":{\"text\":\"pledged_CAD\"}},\"legend\":{\"title\":{\"text\":\"outcome\"},\"tracegroupgap\":0},\"title\":{\"text\":\"Individual project funding (in CAD) vs. Number of backers for successful campaigns\"}},                        {\"responsive\": true}                    ).then(function(){\n",
              "                            \n",
              "var gd = document.getElementById('0cc93660-5ecb-427b-a324-95c8279207ec');\n",
              "var x = new MutationObserver(function (mutations, observer) {{\n",
              "        var display = window.getComputedStyle(gd).display;\n",
              "        if (!display || display === 'none') {{\n",
              "            console.log([gd, 'removed!']);\n",
              "            Plotly.purge(gd);\n",
              "            observer.disconnect();\n",
              "        }}\n",
              "}});\n",
              "\n",
              "// Listen for the removal of the full notebook cells\n",
              "var notebookContainer = gd.closest('#notebook-container');\n",
              "if (notebookContainer) {{\n",
              "    x.observe(notebookContainer, {childList: true});\n",
              "}}\n",
              "\n",
              "// Listen for the clearing of the current output cell\n",
              "var outputEl = gd.closest('.output');\n",
              "if (outputEl) {{\n",
              "    x.observe(outputEl, {childList: true});\n",
              "}}\n",
              "\n",
              "                        })                };                            </script>        </div>\n",
              "</body>\n",
              "</html>"
            ]
          },
          "metadata": {}
        }
      ]
    },
    {
      "cell_type": "code",
      "metadata": {
        "id": "f-9lnb16ABZu",
        "colab": {
          "base_uri": "https://localhost:8080/",
          "height": 206
        },
        "cellView": "form",
        "outputId": "1cacb23d-6670-4ab0-ab30-9f351df3675e"
      },
      "source": [
        "#@title\n",
        "\n",
        "success_query = \"\"\"\n",
        "SELECT \n",
        "SUM(pledged) AS total_pledged_native,\n",
        "COUNT(name) AS total_projects_funded, \n",
        "SUM(backers) AS total_backers, \n",
        "(julianday(deadline)-julianday(launched)) AS total_campaign_days,\n",
        "SUM(\n",
        "  CASE currency\n",
        "  WHEN 'USD' THEN ROUND(pledged * 1.2561, 2)\n",
        "  WHEN 'GBP' THEN ROUND(pledged * 1.6875, 2)\n",
        "  WHEN 'EUR' THEN ROUND(pledged * 1.4204, 2)\n",
        "  WHEN 'SEK' THEN ROUND(pledged * 0.1410, 2)\n",
        "  WHEN 'HKD' THEN ROUND(pledged * 0.16122, 2)\n",
        "  WHEN 'AUD' THEN ROUND(pledged * 0.9164, 2)\n",
        "  WHEN 'MXN' THEN ROUND(pledged * 0.0604, 2)\n",
        "  WHEN 'NZD' THEN ROUND(pledged * 0.8802, 2)\n",
        "  WHEN 'DKK' THEN ROUND(pledged * 0.1908, 2)\n",
        "  WHEN 'NOK' THEN ROUND(pledged * 0.1434, 2)\n",
        "  WHEN 'SGD' THEN ROUND(pledged * 0.9246, 2)\n",
        "  WHEN 'CHF' THEN ROUND(pledged * 1.3482, 2)\n",
        "  ELSE pledged\n",
        "  END\n",
        "  ) AS total_pledged_CAD,\n",
        "  SUM(goal) AS total_funding_goals\n",
        "FROM ks_combined\n",
        "WHERE outcome == 'successful'\n",
        "GROUP BY total_campaign_days\n",
        "ORDER BY total_campaign_days DESC;\n",
        "\"\"\"\n",
        "\n",
        "success_tracker = engine.execute(success_query).fetchall()\n",
        "success_tracker_df = pd.DataFrame(success_tracker, columns=['total_pledged_native', 'total_projects_funded', 'total_backers', 'total_campaign_days', 'total_pledged_CAD', 'total_funding_goals'])"
      ],
      "execution_count": null,
      "outputs": [
        {
          "output_type": "execute_result",
          "data": {
            "text/html": [
              "<div>\n",
              "<style scoped>\n",
              "    .dataframe tbody tr th:only-of-type {\n",
              "        vertical-align: middle;\n",
              "    }\n",
              "\n",
              "    .dataframe tbody tr th {\n",
              "        vertical-align: top;\n",
              "    }\n",
              "\n",
              "    .dataframe thead th {\n",
              "        text-align: right;\n",
              "    }\n",
              "</style>\n",
              "<table border=\"1\" class=\"dataframe\">\n",
              "  <thead>\n",
              "    <tr style=\"text-align: right;\">\n",
              "      <th></th>\n",
              "      <th>total_pledged_native</th>\n",
              "      <th>total_projects_funded</th>\n",
              "      <th>total_backers</th>\n",
              "      <th>total_campaign_days</th>\n",
              "      <th>total_pledged_CAD</th>\n",
              "      <th>total_funding_goals</th>\n",
              "    </tr>\n",
              "  </thead>\n",
              "  <tbody>\n",
              "    <tr>\n",
              "      <th>0</th>\n",
              "      <td>16650.92</td>\n",
              "      <td>3</td>\n",
              "      <td>147</td>\n",
              "      <td>90.0</td>\n",
              "      <td>20915.22</td>\n",
              "      <td>16500.00</td>\n",
              "    </tr>\n",
              "    <tr>\n",
              "      <th>1</th>\n",
              "      <td>1245.00</td>\n",
              "      <td>1</td>\n",
              "      <td>40</td>\n",
              "      <td>89.0</td>\n",
              "      <td>1563.84</td>\n",
              "      <td>1000.00</td>\n",
              "    </tr>\n",
              "    <tr>\n",
              "      <th>2</th>\n",
              "      <td>1525.00</td>\n",
              "      <td>1</td>\n",
              "      <td>24</td>\n",
              "      <td>82.0</td>\n",
              "      <td>1915.55</td>\n",
              "      <td>1500.00</td>\n",
              "    </tr>\n",
              "    <tr>\n",
              "      <th>3</th>\n",
              "      <td>6089.00</td>\n",
              "      <td>1</td>\n",
              "      <td>79</td>\n",
              "      <td>72.0</td>\n",
              "      <td>7648.39</td>\n",
              "      <td>5000.00</td>\n",
              "    </tr>\n",
              "    <tr>\n",
              "      <th>4</th>\n",
              "      <td>788177.66</td>\n",
              "      <td>19</td>\n",
              "      <td>5205</td>\n",
              "      <td>60.0</td>\n",
              "      <td>1077085.77</td>\n",
              "      <td>224359.61</td>\n",
              "    </tr>\n",
              "  </tbody>\n",
              "</table>\n",
              "</div>"
            ],
            "text/plain": [
              "   total_pledged_native  ...  total_funding_goals\n",
              "0              16650.92  ...             16500.00\n",
              "1               1245.00  ...              1000.00\n",
              "2               1525.00  ...              1500.00\n",
              "3               6089.00  ...              5000.00\n",
              "4             788177.66  ...            224359.61\n",
              "\n",
              "[5 rows x 6 columns]"
            ]
          },
          "metadata": {},
          "execution_count": 25
        }
      ]
    },
    {
      "cell_type": "markdown",
      "metadata": {
        "id": "t49adlC1NBFG"
      },
      "source": [
        "### Deep diving into Board Games\n",
        "\n",
        "Now that we've surveyed the competitive landscape regarding funding interest in tabletop games let's take a deeper dive into our direct board game competitors. In this section, we'll start to hone in on the business questions we defined at the beginning of this analysis regarding the number of backers we'll need to succeed and an estimate for a realistic fundraising target.\n",
        "\n",
        "If we shift our attention towards some descriptive statistics about this subcategory, I think we'll find a few numbers that can help us address our business requirements. For example, as of 2017, there were only 42 board games funded through Kickstarter, while the average campaign length lasted about 34 days. In addition, there were about 190 backers per project. The average amount pledged for each project was \\$9,635, falling short of the mean goal amount of \\$18,118."
      ]
    },
    {
      "cell_type": "code",
      "metadata": {
        "id": "qhs6iWTWDJba",
        "cellView": "form"
      },
      "source": [
        "#@title\n",
        "# What was the amount the most successful board game company raised? How many backers did they have?\n",
        "\n",
        "boardgame_campaigns = \"\"\"\n",
        "SELECT \n",
        "name, \n",
        "backers, \n",
        "(julianday(deadline)-julianday(launched)) AS total_campaign_days,\n",
        "pledged,\n",
        "currency,\n",
        "  CASE currency\n",
        "  WHEN 'USD' THEN ROUND(pledged * 1.2561, 2)\n",
        "  WHEN 'GBP' THEN ROUND(pledged * 1.6875, 2)\n",
        "  WHEN 'EUR' THEN ROUND(pledged * 1.4204, 2)\n",
        "  WHEN 'SEK' THEN ROUND(pledged * 0.1410, 2)\n",
        "  WHEN 'HKD' THEN ROUND(pledged * 0.16122, 2)\n",
        "  WHEN 'AUD' THEN ROUND(pledged * 0.9164, 2)\n",
        "  WHEN 'MXN' THEN ROUND(pledged * 0.0604, 2)\n",
        "  WHEN 'NZD' THEN ROUND(pledged * 0.8802, 2)\n",
        "  WHEN 'DKK' THEN ROUND(pledged * 0.1908, 2)\n",
        "  WHEN 'NOK' THEN ROUND(pledged * 0.1434, 2)\n",
        "  WHEN 'SGD' THEN ROUND(pledged * 0.9246, 2)\n",
        "  WHEN 'CHF' THEN ROUND(pledged * 1.3482, 2)\n",
        "  ELSE pledged\n",
        "  END AS pledged_CAD,\n",
        "country,\n",
        "goal,\n",
        "outcome\n",
        "FROM ks_combined\n",
        "WHERE subcategory == 'Tabletop Games'\n",
        "ORDER BY goal DESC;\n",
        "\"\"\"\n",
        "\n",
        "boardgame_campaigns_query = engine.execute(boardgame_campaigns).fetchall()\n",
        "BGcampaign_df = pd.DataFrame(boardgame_campaigns_query, columns=['board_game', 'backers', 'total_campaign_days', 'pledged', 'currency', 'pledged_CAD', 'country', 'goal', 'outcome'])\n",
        "BGcampaign_df['country'].replace(country_replacements, inplace=True)"
      ],
      "execution_count": null,
      "outputs": []
    },
    {
      "cell_type": "code",
      "metadata": {
        "colab": {
          "base_uri": "https://localhost:8080/",
          "height": 300
        },
        "id": "y-97ni0Puhmi",
        "outputId": "d3ac7bca-048a-417c-f1a1-a550d2ca9908"
      },
      "source": [
        "#@title\n",
        "BGcampaign_df[['backers', 'total_campaign_days', 'pledged_CAD', 'goal']].describe()"
      ],
      "execution_count": null,
      "outputs": [
        {
          "output_type": "execute_result",
          "data": {
            "text/html": [
              "<div>\n",
              "<style scoped>\n",
              "    .dataframe tbody tr th:only-of-type {\n",
              "        vertical-align: middle;\n",
              "    }\n",
              "\n",
              "    .dataframe tbody tr th {\n",
              "        vertical-align: top;\n",
              "    }\n",
              "\n",
              "    .dataframe thead th {\n",
              "        text-align: right;\n",
              "    }\n",
              "</style>\n",
              "<table border=\"1\" class=\"dataframe\">\n",
              "  <thead>\n",
              "    <tr style=\"text-align: right;\">\n",
              "      <th></th>\n",
              "      <th>backers</th>\n",
              "      <th>total_campaign_days</th>\n",
              "      <th>pledged_CAD</th>\n",
              "      <th>goal</th>\n",
              "    </tr>\n",
              "  </thead>\n",
              "  <tbody>\n",
              "    <tr>\n",
              "      <th>count</th>\n",
              "      <td>42.000000</td>\n",
              "      <td>42.000000</td>\n",
              "      <td>42.000000</td>\n",
              "      <td>42.000000</td>\n",
              "    </tr>\n",
              "    <tr>\n",
              "      <th>mean</th>\n",
              "      <td>190.023810</td>\n",
              "      <td>33.761905</td>\n",
              "      <td>9635.441667</td>\n",
              "      <td>18118.083333</td>\n",
              "    </tr>\n",
              "    <tr>\n",
              "      <th>std</th>\n",
              "      <td>369.460813</td>\n",
              "      <td>11.738636</td>\n",
              "      <td>16131.164724</td>\n",
              "      <td>39753.965340</td>\n",
              "    </tr>\n",
              "    <tr>\n",
              "      <th>min</th>\n",
              "      <td>0.000000</td>\n",
              "      <td>8.000000</td>\n",
              "      <td>0.000000</td>\n",
              "      <td>88.000000</td>\n",
              "    </tr>\n",
              "    <tr>\n",
              "      <th>25%</th>\n",
              "      <td>13.000000</td>\n",
              "      <td>30.000000</td>\n",
              "      <td>520.650000</td>\n",
              "      <td>2625.000000</td>\n",
              "    </tr>\n",
              "    <tr>\n",
              "      <th>50%</th>\n",
              "      <td>49.000000</td>\n",
              "      <td>30.000000</td>\n",
              "      <td>2725.735000</td>\n",
              "      <td>7571.785000</td>\n",
              "    </tr>\n",
              "    <tr>\n",
              "      <th>75%</th>\n",
              "      <td>214.000000</td>\n",
              "      <td>32.750000</td>\n",
              "      <td>11081.625000</td>\n",
              "      <td>15000.000000</td>\n",
              "    </tr>\n",
              "    <tr>\n",
              "      <th>max</th>\n",
              "      <td>1880.000000</td>\n",
              "      <td>60.000000</td>\n",
              "      <td>78363.150000</td>\n",
              "      <td>250000.000000</td>\n",
              "    </tr>\n",
              "  </tbody>\n",
              "</table>\n",
              "</div>"
            ],
            "text/plain": [
              "           backers  total_campaign_days   pledged_CAD           goal\n",
              "count    42.000000            42.000000     42.000000      42.000000\n",
              "mean    190.023810            33.761905   9635.441667   18118.083333\n",
              "std     369.460813            11.738636  16131.164724   39753.965340\n",
              "min       0.000000             8.000000      0.000000      88.000000\n",
              "25%      13.000000            30.000000    520.650000    2625.000000\n",
              "50%      49.000000            30.000000   2725.735000    7571.785000\n",
              "75%     214.000000            32.750000  11081.625000   15000.000000\n",
              "max    1880.000000            60.000000  78363.150000  250000.000000"
            ]
          },
          "metadata": {},
          "execution_count": 27
        }
      ]
    },
    {
      "cell_type": "markdown",
      "metadata": {
        "id": "i6LMMhFg4WEe"
      },
      "source": [
        "Earlier, we specified that we needed at least \\$ **15 K** to get the project running. So to keep track of that target, we drew a line across the x-axis in the scatterplot below. Of the 42 projects listed, 9 managed to exceed \\$ **15 K** in funding, and only one of those projects failed to reach their funding target.\n",
        "\n",
        "We also found it useful to draw a simple Least Square Regression trendline to help us make some rough estimates about the number of backers needed to achieve our funding goal. According to the trendline for tabletop game patrons, reaching at least \\$ **15 K** will require the participation of 226 backers who will contribute a minimum of \\$ **68** each."
      ]
    },
    {
      "cell_type": "code",
      "metadata": {
        "cellView": "form",
        "id": "1WYQ4f9z4ydV"
      },
      "source": [
        "#@title\n",
        "\n",
        "plus_15k = BGcampaign_df[BGcampaign_df['pledged_CAD'] >= 15000].sort_values('pledged_CAD', ascending=False)"
      ],
      "execution_count": null,
      "outputs": []
    },
    {
      "cell_type": "code",
      "metadata": {
        "colab": {
          "base_uri": "https://localhost:8080/",
          "height": 542
        },
        "id": "kBwGRzSEPBQU",
        "cellView": "form",
        "outputId": "f28ccb50-0e05-4418-f6f6-a1a675caea5d"
      },
      "source": [
        "#@title\n",
        "\n",
        "fig = px.scatter(BGcampaign_df, \n",
        "                 x=\"backers\", \n",
        "                 y=\"pledged_CAD\", \n",
        "                 color='outcome', \n",
        "                 color_discrete_sequence=['red', 'white', 'green', 'orange'],\n",
        "                 title='The relationship between the number of backers and capital pledged for boardgames',\n",
        "                 trendline='ols'\n",
        "                 )\n",
        "\n",
        "fig.add_shape(type='line', x0=0, y0=15000, x1=1880, y1=15000, line=dict(color='Black',), xref='x', yref='y', name='Min. Funding Needed')\n",
        "\n",
        "fig.show()"
      ],
      "execution_count": null,
      "outputs": [
        {
          "output_type": "display_data",
          "data": {
            "text/html": [
              "<html>\n",
              "<head><meta charset=\"utf-8\" /></head>\n",
              "<body>\n",
              "    <div>            <script src=\"https://cdnjs.cloudflare.com/ajax/libs/mathjax/2.7.5/MathJax.js?config=TeX-AMS-MML_SVG\"></script><script type=\"text/javascript\">if (window.MathJax) {MathJax.Hub.Config({SVG: {font: \"STIX-Web\"}});}</script>                <script type=\"text/javascript\">window.PlotlyConfig = {MathJaxConfig: 'local'};</script>\n",
              "        <script src=\"https://cdn.plot.ly/plotly-2.6.3.min.js\"></script>                <div id=\"f1046b33-63e5-421a-bd3d-f2867605a54f\" class=\"plotly-graph-div\" style=\"height:525px; width:100%;\"></div>            <script type=\"text/javascript\">                                    window.PLOTLYENV=window.PLOTLYENV || {};                                    if (document.getElementById(\"f1046b33-63e5-421a-bd3d-f2867605a54f\")) {                    Plotly.newPlot(                        \"f1046b33-63e5-421a-bd3d-f2867605a54f\",                        [{\"hovertemplate\":\"outcome=failed<br>backers=%{x}<br>pledged_CAD=%{y}<extra></extra>\",\"legendgroup\":\"failed\",\"marker\":{\"color\":\"red\",\"symbol\":\"circle\"},\"mode\":\"markers\",\"name\":\"failed\",\"orientation\":\"v\",\"showlegend\":true,\"x\":[0,1,40,13,226,123,50,74,8,10,55,7,38,13,9],\"xaxis\":\"x\",\"y\":[0.0,0.9,2968.16,2483.31,16412.2,7565.49,4045.9,3115.13,349.2,579.06,2063.77,168.77,2200.69,297.7,257.19],\"yaxis\":\"y\",\"type\":\"scatter\"},{\"hovertemplate\":\"<b>OLS trendline</b><br>pledged_CAD = 69.2346 * backers + -244.802<br>R<sup>2</sup>=0.955656<br><br>outcome=failed<br>backers=%{x}<br>pledged_CAD=%{y} <b>(trend)</b><extra></extra>\",\"legendgroup\":\"failed\",\"marker\":{\"color\":\"red\",\"symbol\":\"circle\"},\"mode\":\"lines\",\"name\":\"failed\",\"showlegend\":false,\"x\":[0,1,7,8,9,10,13,13,38,40,50,55,74,123,226],\"xaxis\":\"x\",\"y\":[-244.80159082508658,-175.56696734326306,239.84077354767817,309.0753970295017,378.3100205113252,447.5446439931487,655.2485144386194,655.2485144386194,2386.114101484208,2524.5833484478544,3216.92958326609,3563.1027006752074,4878.560546829855,8271.057097439207,15402.223316067031],\"yaxis\":\"y\",\"type\":\"scatter\"},{\"hovertemplate\":\"outcome=canceled<br>backers=%{x}<br>pledged_CAD=%{y}<extra></extra>\",\"legendgroup\":\"canceled\",\"marker\":{\"color\":\"white\",\"symbol\":\"circle\"},\"mode\":\"markers\",\"name\":\"canceled\",\"orientation\":\"v\",\"showlegend\":true,\"x\":[3,6,13,55,28,6,85,18],\"xaxis\":\"x\",\"y\":[70.34,501.18,371.36,3980.58,1142.01,316.54,4391.33,339.15],\"yaxis\":\"y\",\"type\":\"scatter\"},{\"hovertemplate\":\"<b>OLS trendline</b><br>pledged_CAD = 58.2921 * backers + -170.254<br>R<sup>2</sup>=0.925284<br><br>outcome=canceled<br>backers=%{x}<br>pledged_CAD=%{y} <b>(trend)</b><extra></extra>\",\"legendgroup\":\"canceled\",\"marker\":{\"color\":\"white\",\"symbol\":\"circle\"},\"mode\":\"lines\",\"name\":\"canceled\",\"showlegend\":false,\"x\":[3,6,6,13,18,28,55,85],\"xaxis\":\"x\",\"y\":[4.622776408601169,179.49921517804108,179.49921517804108,587.544238973401,879.0049702558008,1461.9264328206007,3035.81438174556,4784.57876943996],\"yaxis\":\"y\",\"type\":\"scatter\"},{\"hovertemplate\":\"outcome=successful<br>backers=%{x}<br>pledged_CAD=%{y}<extra></extra>\",\"legendgroup\":\"successful\",\"marker\":{\"color\":\"green\",\"symbol\":\"circle\"},\"mode\":\"markers\",\"name\":\"successful\",\"orientation\":\"v\",\"showlegend\":true,\"x\":[652,1433,572,422,242,81,228,48,283,178,1880,164,398,21,48,30,25,155],\"xaxis\":\"x\",\"y\":[78363.15,56364.98,35786.82,20646.14,10144.26,8209.15,25925.31,4179.04,14200.21,18654.34,31661.26,11394.08,23347.58,1425.67,1904.25,1021.21,1131.75,5761.73],\"yaxis\":\"y\",\"type\":\"scatter\"},{\"hovertemplate\":\"<b>OLS trendline</b><br>pledged_CAD = 26.6612 * backers + 9290.27<br>R<sup>2</sup>=0.420983<br><br>outcome=successful<br>backers=%{x}<br>pledged_CAD=%{y} <b>(trend)</b><extra></extra>\",\"legendgroup\":\"successful\",\"marker\":{\"color\":\"green\",\"symbol\":\"circle\"},\"mode\":\"lines\",\"name\":\"successful\",\"showlegend\":false,\"x\":[21,25,30,48,48,81,155,164,178,228,242,283,398,422,572,652,1433,1880],\"xaxis\":\"x\",\"y\":[9850.156113679792,9956.801050399177,10090.107221298409,10570.009436535644,10570.009436535644,11449.830164470572,13422.761493779199,13662.712601397814,14035.969879915663,15369.03158890798,15742.288867425827,16835.399468799525,19901.44139948185,20541.311019798162,24540.496146775105,26673.39488116281,47495.818775622785,59413.39045401408],\"yaxis\":\"y\",\"type\":\"scatter\"},{\"hovertemplate\":\"outcome=suspended<br>backers=%{x}<br>pledged_CAD=%{y}<extra></extra>\",\"legendgroup\":\"suspended\",\"marker\":{\"color\":\"orange\",\"symbol\":\"circle\"},\"mode\":\"markers\",\"name\":\"suspended\",\"orientation\":\"v\",\"showlegend\":true,\"x\":[240],\"xaxis\":\"x\",\"y\":[947.66],\"yaxis\":\"y\",\"type\":\"scatter\"},{\"hovertemplate\":\"outcome=suspended<extra></extra>\",\"legendgroup\":\"suspended\",\"marker\":{\"color\":\"orange\",\"symbol\":\"circle\"},\"mode\":\"lines\",\"name\":\"suspended\",\"showlegend\":false,\"xaxis\":\"x\",\"yaxis\":\"y\",\"type\":\"scatter\"}],                        {\"template\":{\"data\":{\"bar\":[{\"error_x\":{\"color\":\"#2a3f5f\"},\"error_y\":{\"color\":\"#2a3f5f\"},\"marker\":{\"line\":{\"color\":\"#E5ECF6\",\"width\":0.5},\"pattern\":{\"fillmode\":\"overlay\",\"size\":10,\"solidity\":0.2}},\"type\":\"bar\"}],\"barpolar\":[{\"marker\":{\"line\":{\"color\":\"#E5ECF6\",\"width\":0.5},\"pattern\":{\"fillmode\":\"overlay\",\"size\":10,\"solidity\":0.2}},\"type\":\"barpolar\"}],\"carpet\":[{\"aaxis\":{\"endlinecolor\":\"#2a3f5f\",\"gridcolor\":\"white\",\"linecolor\":\"white\",\"minorgridcolor\":\"white\",\"startlinecolor\":\"#2a3f5f\"},\"baxis\":{\"endlinecolor\":\"#2a3f5f\",\"gridcolor\":\"white\",\"linecolor\":\"white\",\"minorgridcolor\":\"white\",\"startlinecolor\":\"#2a3f5f\"},\"type\":\"carpet\"}],\"choropleth\":[{\"colorbar\":{\"outlinewidth\":0,\"ticks\":\"\"},\"type\":\"choropleth\"}],\"contour\":[{\"colorbar\":{\"outlinewidth\":0,\"ticks\":\"\"},\"colorscale\":[[0.0,\"#0d0887\"],[0.1111111111111111,\"#46039f\"],[0.2222222222222222,\"#7201a8\"],[0.3333333333333333,\"#9c179e\"],[0.4444444444444444,\"#bd3786\"],[0.5555555555555556,\"#d8576b\"],[0.6666666666666666,\"#ed7953\"],[0.7777777777777778,\"#fb9f3a\"],[0.8888888888888888,\"#fdca26\"],[1.0,\"#f0f921\"]],\"type\":\"contour\"}],\"contourcarpet\":[{\"colorbar\":{\"outlinewidth\":0,\"ticks\":\"\"},\"type\":\"contourcarpet\"}],\"heatmap\":[{\"colorbar\":{\"outlinewidth\":0,\"ticks\":\"\"},\"colorscale\":[[0.0,\"#0d0887\"],[0.1111111111111111,\"#46039f\"],[0.2222222222222222,\"#7201a8\"],[0.3333333333333333,\"#9c179e\"],[0.4444444444444444,\"#bd3786\"],[0.5555555555555556,\"#d8576b\"],[0.6666666666666666,\"#ed7953\"],[0.7777777777777778,\"#fb9f3a\"],[0.8888888888888888,\"#fdca26\"],[1.0,\"#f0f921\"]],\"type\":\"heatmap\"}],\"heatmapgl\":[{\"colorbar\":{\"outlinewidth\":0,\"ticks\":\"\"},\"colorscale\":[[0.0,\"#0d0887\"],[0.1111111111111111,\"#46039f\"],[0.2222222222222222,\"#7201a8\"],[0.3333333333333333,\"#9c179e\"],[0.4444444444444444,\"#bd3786\"],[0.5555555555555556,\"#d8576b\"],[0.6666666666666666,\"#ed7953\"],[0.7777777777777778,\"#fb9f3a\"],[0.8888888888888888,\"#fdca26\"],[1.0,\"#f0f921\"]],\"type\":\"heatmapgl\"}],\"histogram\":[{\"marker\":{\"pattern\":{\"fillmode\":\"overlay\",\"size\":10,\"solidity\":0.2}},\"type\":\"histogram\"}],\"histogram2d\":[{\"colorbar\":{\"outlinewidth\":0,\"ticks\":\"\"},\"colorscale\":[[0.0,\"#0d0887\"],[0.1111111111111111,\"#46039f\"],[0.2222222222222222,\"#7201a8\"],[0.3333333333333333,\"#9c179e\"],[0.4444444444444444,\"#bd3786\"],[0.5555555555555556,\"#d8576b\"],[0.6666666666666666,\"#ed7953\"],[0.7777777777777778,\"#fb9f3a\"],[0.8888888888888888,\"#fdca26\"],[1.0,\"#f0f921\"]],\"type\":\"histogram2d\"}],\"histogram2dcontour\":[{\"colorbar\":{\"outlinewidth\":0,\"ticks\":\"\"},\"colorscale\":[[0.0,\"#0d0887\"],[0.1111111111111111,\"#46039f\"],[0.2222222222222222,\"#7201a8\"],[0.3333333333333333,\"#9c179e\"],[0.4444444444444444,\"#bd3786\"],[0.5555555555555556,\"#d8576b\"],[0.6666666666666666,\"#ed7953\"],[0.7777777777777778,\"#fb9f3a\"],[0.8888888888888888,\"#fdca26\"],[1.0,\"#f0f921\"]],\"type\":\"histogram2dcontour\"}],\"mesh3d\":[{\"colorbar\":{\"outlinewidth\":0,\"ticks\":\"\"},\"type\":\"mesh3d\"}],\"parcoords\":[{\"line\":{\"colorbar\":{\"outlinewidth\":0,\"ticks\":\"\"}},\"type\":\"parcoords\"}],\"pie\":[{\"automargin\":true,\"type\":\"pie\"}],\"scatter\":[{\"marker\":{\"colorbar\":{\"outlinewidth\":0,\"ticks\":\"\"}},\"type\":\"scatter\"}],\"scatter3d\":[{\"line\":{\"colorbar\":{\"outlinewidth\":0,\"ticks\":\"\"}},\"marker\":{\"colorbar\":{\"outlinewidth\":0,\"ticks\":\"\"}},\"type\":\"scatter3d\"}],\"scattercarpet\":[{\"marker\":{\"colorbar\":{\"outlinewidth\":0,\"ticks\":\"\"}},\"type\":\"scattercarpet\"}],\"scattergeo\":[{\"marker\":{\"colorbar\":{\"outlinewidth\":0,\"ticks\":\"\"}},\"type\":\"scattergeo\"}],\"scattergl\":[{\"marker\":{\"colorbar\":{\"outlinewidth\":0,\"ticks\":\"\"}},\"type\":\"scattergl\"}],\"scattermapbox\":[{\"marker\":{\"colorbar\":{\"outlinewidth\":0,\"ticks\":\"\"}},\"type\":\"scattermapbox\"}],\"scatterpolar\":[{\"marker\":{\"colorbar\":{\"outlinewidth\":0,\"ticks\":\"\"}},\"type\":\"scatterpolar\"}],\"scatterpolargl\":[{\"marker\":{\"colorbar\":{\"outlinewidth\":0,\"ticks\":\"\"}},\"type\":\"scatterpolargl\"}],\"scatterternary\":[{\"marker\":{\"colorbar\":{\"outlinewidth\":0,\"ticks\":\"\"}},\"type\":\"scatterternary\"}],\"surface\":[{\"colorbar\":{\"outlinewidth\":0,\"ticks\":\"\"},\"colorscale\":[[0.0,\"#0d0887\"],[0.1111111111111111,\"#46039f\"],[0.2222222222222222,\"#7201a8\"],[0.3333333333333333,\"#9c179e\"],[0.4444444444444444,\"#bd3786\"],[0.5555555555555556,\"#d8576b\"],[0.6666666666666666,\"#ed7953\"],[0.7777777777777778,\"#fb9f3a\"],[0.8888888888888888,\"#fdca26\"],[1.0,\"#f0f921\"]],\"type\":\"surface\"}],\"table\":[{\"cells\":{\"fill\":{\"color\":\"#EBF0F8\"},\"line\":{\"color\":\"white\"}},\"header\":{\"fill\":{\"color\":\"#C8D4E3\"},\"line\":{\"color\":\"white\"}},\"type\":\"table\"}]},\"layout\":{\"annotationdefaults\":{\"arrowcolor\":\"#2a3f5f\",\"arrowhead\":0,\"arrowwidth\":1},\"autotypenumbers\":\"strict\",\"coloraxis\":{\"colorbar\":{\"outlinewidth\":0,\"ticks\":\"\"}},\"colorscale\":{\"diverging\":[[0,\"#8e0152\"],[0.1,\"#c51b7d\"],[0.2,\"#de77ae\"],[0.3,\"#f1b6da\"],[0.4,\"#fde0ef\"],[0.5,\"#f7f7f7\"],[0.6,\"#e6f5d0\"],[0.7,\"#b8e186\"],[0.8,\"#7fbc41\"],[0.9,\"#4d9221\"],[1,\"#276419\"]],\"sequential\":[[0.0,\"#0d0887\"],[0.1111111111111111,\"#46039f\"],[0.2222222222222222,\"#7201a8\"],[0.3333333333333333,\"#9c179e\"],[0.4444444444444444,\"#bd3786\"],[0.5555555555555556,\"#d8576b\"],[0.6666666666666666,\"#ed7953\"],[0.7777777777777778,\"#fb9f3a\"],[0.8888888888888888,\"#fdca26\"],[1.0,\"#f0f921\"]],\"sequentialminus\":[[0.0,\"#0d0887\"],[0.1111111111111111,\"#46039f\"],[0.2222222222222222,\"#7201a8\"],[0.3333333333333333,\"#9c179e\"],[0.4444444444444444,\"#bd3786\"],[0.5555555555555556,\"#d8576b\"],[0.6666666666666666,\"#ed7953\"],[0.7777777777777778,\"#fb9f3a\"],[0.8888888888888888,\"#fdca26\"],[1.0,\"#f0f921\"]]},\"colorway\":[\"#636efa\",\"#EF553B\",\"#00cc96\",\"#ab63fa\",\"#FFA15A\",\"#19d3f3\",\"#FF6692\",\"#B6E880\",\"#FF97FF\",\"#FECB52\"],\"font\":{\"color\":\"#2a3f5f\"},\"geo\":{\"bgcolor\":\"white\",\"lakecolor\":\"white\",\"landcolor\":\"#E5ECF6\",\"showlakes\":true,\"showland\":true,\"subunitcolor\":\"white\"},\"hoverlabel\":{\"align\":\"left\"},\"hovermode\":\"closest\",\"mapbox\":{\"style\":\"light\"},\"paper_bgcolor\":\"white\",\"plot_bgcolor\":\"#E5ECF6\",\"polar\":{\"angularaxis\":{\"gridcolor\":\"white\",\"linecolor\":\"white\",\"ticks\":\"\"},\"bgcolor\":\"#E5ECF6\",\"radialaxis\":{\"gridcolor\":\"white\",\"linecolor\":\"white\",\"ticks\":\"\"}},\"scene\":{\"xaxis\":{\"backgroundcolor\":\"#E5ECF6\",\"gridcolor\":\"white\",\"gridwidth\":2,\"linecolor\":\"white\",\"showbackground\":true,\"ticks\":\"\",\"zerolinecolor\":\"white\"},\"yaxis\":{\"backgroundcolor\":\"#E5ECF6\",\"gridcolor\":\"white\",\"gridwidth\":2,\"linecolor\":\"white\",\"showbackground\":true,\"ticks\":\"\",\"zerolinecolor\":\"white\"},\"zaxis\":{\"backgroundcolor\":\"#E5ECF6\",\"gridcolor\":\"white\",\"gridwidth\":2,\"linecolor\":\"white\",\"showbackground\":true,\"ticks\":\"\",\"zerolinecolor\":\"white\"}},\"shapedefaults\":{\"line\":{\"color\":\"#2a3f5f\"}},\"ternary\":{\"aaxis\":{\"gridcolor\":\"white\",\"linecolor\":\"white\",\"ticks\":\"\"},\"baxis\":{\"gridcolor\":\"white\",\"linecolor\":\"white\",\"ticks\":\"\"},\"bgcolor\":\"#E5ECF6\",\"caxis\":{\"gridcolor\":\"white\",\"linecolor\":\"white\",\"ticks\":\"\"}},\"title\":{\"x\":0.05},\"xaxis\":{\"automargin\":true,\"gridcolor\":\"white\",\"linecolor\":\"white\",\"ticks\":\"\",\"title\":{\"standoff\":15},\"zerolinecolor\":\"white\",\"zerolinewidth\":2},\"yaxis\":{\"automargin\":true,\"gridcolor\":\"white\",\"linecolor\":\"white\",\"ticks\":\"\",\"title\":{\"standoff\":15},\"zerolinecolor\":\"white\",\"zerolinewidth\":2}}},\"xaxis\":{\"anchor\":\"y\",\"domain\":[0.0,1.0],\"title\":{\"text\":\"backers\"}},\"yaxis\":{\"anchor\":\"x\",\"domain\":[0.0,1.0],\"title\":{\"text\":\"pledged_CAD\"}},\"legend\":{\"title\":{\"text\":\"outcome\"},\"tracegroupgap\":0},\"title\":{\"text\":\"The relationship between the number of backers and capital pledged for boardgames\"},\"shapes\":[{\"line\":{\"color\":\"Black\"},\"name\":\"Min. Funding Needed\",\"type\":\"line\",\"x0\":0,\"x1\":1880,\"xref\":\"x\",\"y0\":15000,\"y1\":15000,\"yref\":\"y\"}]},                        {\"responsive\": true}                    ).then(function(){\n",
              "                            \n",
              "var gd = document.getElementById('f1046b33-63e5-421a-bd3d-f2867605a54f');\n",
              "var x = new MutationObserver(function (mutations, observer) {{\n",
              "        var display = window.getComputedStyle(gd).display;\n",
              "        if (!display || display === 'none') {{\n",
              "            console.log([gd, 'removed!']);\n",
              "            Plotly.purge(gd);\n",
              "            observer.disconnect();\n",
              "        }}\n",
              "}});\n",
              "\n",
              "// Listen for the removal of the full notebook cells\n",
              "var notebookContainer = gd.closest('#notebook-container');\n",
              "if (notebookContainer) {{\n",
              "    x.observe(notebookContainer, {childList: true});\n",
              "}}\n",
              "\n",
              "// Listen for the clearing of the current output cell\n",
              "var outputEl = gd.closest('.output');\n",
              "if (outputEl) {{\n",
              "    x.observe(outputEl, {childList: true});\n",
              "}}\n",
              "\n",
              "                        })                };                            </script>        </div>\n",
              "</body>\n",
              "</html>"
            ]
          },
          "metadata": {}
        }
      ]
    },
    {
      "cell_type": "markdown",
      "metadata": {
        "id": "UsJYj8tZ8UJ4"
      },
      "source": [
        "Additionally, there's much evidence to suggest that tabletop game campaigns typically last around 30 days. However, there's no evidence to suggest that a campaign will succeed if it's being circulated for 30 days since almost an equal amount of campaigns fail during this period. The correlation heatmap we saw earlier also highlights how the campaigning period has little to do with a campaign's success rate. In summary, most Kickstarter initiatives seem to run for around 30 days. Still, they are a very low indicator for whether a project succeeds."
      ]
    },
    {
      "cell_type": "code",
      "metadata": {
        "id": "n6fIr7V19rf1",
        "colab": {
          "base_uri": "https://localhost:8080/",
          "height": 542
        },
        "cellView": "form",
        "outputId": "52794ee2-992a-4ad4-f785-77fa8909116f"
      },
      "source": [
        "#@title\n",
        "hist = px.histogram(BGcampaign_df, \n",
        "                    x='total_campaign_days', \n",
        "                    color='outcome',\n",
        "                    color_discrete_sequence=['Purple', 'Orange', 'Teal', 'Navy'],\n",
        "                    title=\"Number of board games funded per campaign length\",\n",
        "                    barmode='stack',\n",
        "                    labels={\n",
        "                        'count': '# of board games funded',\n",
        "                        'total_campaign_days': 'Campaign length (in days)'\n",
        "                    },\n",
        "                    nbins=28)\n",
        "# hist.update_layout(height=400,\n",
        "#                    legend=dict(\n",
        "#                        yanchor='top',\n",
        "#                        y=0.98,\n",
        "#                        xanchor='right',\n",
        "#                        x=0.99\n",
        "#                    ))\n",
        "hist.show()"
      ],
      "execution_count": null,
      "outputs": [
        {
          "output_type": "display_data",
          "data": {
            "text/html": [
              "<html>\n",
              "<head><meta charset=\"utf-8\" /></head>\n",
              "<body>\n",
              "    <div>            <script src=\"https://cdnjs.cloudflare.com/ajax/libs/mathjax/2.7.5/MathJax.js?config=TeX-AMS-MML_SVG\"></script><script type=\"text/javascript\">if (window.MathJax) {MathJax.Hub.Config({SVG: {font: \"STIX-Web\"}});}</script>                <script type=\"text/javascript\">window.PlotlyConfig = {MathJaxConfig: 'local'};</script>\n",
              "        <script src=\"https://cdn.plot.ly/plotly-2.6.3.min.js\"></script>                <div id=\"b57f205d-826c-495b-b4c5-82187e481fa3\" class=\"plotly-graph-div\" style=\"height:525px; width:100%;\"></div>            <script type=\"text/javascript\">                                    window.PLOTLYENV=window.PLOTLYENV || {};                                    if (document.getElementById(\"b57f205d-826c-495b-b4c5-82187e481fa3\")) {                    Plotly.newPlot(                        \"b57f205d-826c-495b-b4c5-82187e481fa3\",                        [{\"alignmentgroup\":\"True\",\"bingroup\":\"x\",\"hovertemplate\":\"outcome=failed<br>Campaign length (in days)=%{x}<br>count=%{y}<extra></extra>\",\"legendgroup\":\"failed\",\"marker\":{\"color\":\"Purple\",\"pattern\":{\"shape\":\"\"}},\"name\":\"failed\",\"nbinsx\":28,\"offsetgroup\":\"failed\",\"orientation\":\"v\",\"showlegend\":true,\"x\":[30.0,60.0,33.0,45.0,31.0,32.0,30.0,31.0,59.0,30.0,30.0,30.0,30.0,30.0,30.0],\"xaxis\":\"x\",\"yaxis\":\"y\",\"type\":\"histogram\"},{\"alignmentgroup\":\"True\",\"bingroup\":\"x\",\"hovertemplate\":\"outcome=canceled<br>Campaign length (in days)=%{x}<br>count=%{y}<extra></extra>\",\"legendgroup\":\"canceled\",\"marker\":{\"color\":\"Orange\",\"pattern\":{\"shape\":\"\"}},\"name\":\"canceled\",\"nbinsx\":28,\"offsetgroup\":\"canceled\",\"orientation\":\"v\",\"showlegend\":true,\"x\":[60.0,30.0,50.0,30.0,58.0,30.0,40.0,21.0],\"xaxis\":\"x\",\"yaxis\":\"y\",\"type\":\"histogram\"},{\"alignmentgroup\":\"True\",\"bingroup\":\"x\",\"hovertemplate\":\"outcome=successful<br>Campaign length (in days)=%{x}<br>count=%{y}<extra></extra>\",\"legendgroup\":\"successful\",\"marker\":{\"color\":\"Teal\",\"pattern\":{\"shape\":\"\"}},\"name\":\"successful\",\"nbinsx\":28,\"offsetgroup\":\"successful\",\"orientation\":\"v\",\"showlegend\":true,\"x\":[45.0,31.0,20.0,30.0,32.0,21.0,30.0,46.0,56.0,25.0,31.0,30.0,21.0,30.0,22.0,30.0,30.0,8.0],\"xaxis\":\"x\",\"yaxis\":\"y\",\"type\":\"histogram\"},{\"alignmentgroup\":\"True\",\"bingroup\":\"x\",\"hovertemplate\":\"outcome=suspended<br>Campaign length (in days)=%{x}<br>count=%{y}<extra></extra>\",\"legendgroup\":\"suspended\",\"marker\":{\"color\":\"Navy\",\"pattern\":{\"shape\":\"\"}},\"name\":\"suspended\",\"nbinsx\":28,\"offsetgroup\":\"suspended\",\"orientation\":\"v\",\"showlegend\":true,\"x\":[30.0],\"xaxis\":\"x\",\"yaxis\":\"y\",\"type\":\"histogram\"}],                        {\"template\":{\"data\":{\"bar\":[{\"error_x\":{\"color\":\"#2a3f5f\"},\"error_y\":{\"color\":\"#2a3f5f\"},\"marker\":{\"line\":{\"color\":\"#E5ECF6\",\"width\":0.5},\"pattern\":{\"fillmode\":\"overlay\",\"size\":10,\"solidity\":0.2}},\"type\":\"bar\"}],\"barpolar\":[{\"marker\":{\"line\":{\"color\":\"#E5ECF6\",\"width\":0.5},\"pattern\":{\"fillmode\":\"overlay\",\"size\":10,\"solidity\":0.2}},\"type\":\"barpolar\"}],\"carpet\":[{\"aaxis\":{\"endlinecolor\":\"#2a3f5f\",\"gridcolor\":\"white\",\"linecolor\":\"white\",\"minorgridcolor\":\"white\",\"startlinecolor\":\"#2a3f5f\"},\"baxis\":{\"endlinecolor\":\"#2a3f5f\",\"gridcolor\":\"white\",\"linecolor\":\"white\",\"minorgridcolor\":\"white\",\"startlinecolor\":\"#2a3f5f\"},\"type\":\"carpet\"}],\"choropleth\":[{\"colorbar\":{\"outlinewidth\":0,\"ticks\":\"\"},\"type\":\"choropleth\"}],\"contour\":[{\"colorbar\":{\"outlinewidth\":0,\"ticks\":\"\"},\"colorscale\":[[0.0,\"#0d0887\"],[0.1111111111111111,\"#46039f\"],[0.2222222222222222,\"#7201a8\"],[0.3333333333333333,\"#9c179e\"],[0.4444444444444444,\"#bd3786\"],[0.5555555555555556,\"#d8576b\"],[0.6666666666666666,\"#ed7953\"],[0.7777777777777778,\"#fb9f3a\"],[0.8888888888888888,\"#fdca26\"],[1.0,\"#f0f921\"]],\"type\":\"contour\"}],\"contourcarpet\":[{\"colorbar\":{\"outlinewidth\":0,\"ticks\":\"\"},\"type\":\"contourcarpet\"}],\"heatmap\":[{\"colorbar\":{\"outlinewidth\":0,\"ticks\":\"\"},\"colorscale\":[[0.0,\"#0d0887\"],[0.1111111111111111,\"#46039f\"],[0.2222222222222222,\"#7201a8\"],[0.3333333333333333,\"#9c179e\"],[0.4444444444444444,\"#bd3786\"],[0.5555555555555556,\"#d8576b\"],[0.6666666666666666,\"#ed7953\"],[0.7777777777777778,\"#fb9f3a\"],[0.8888888888888888,\"#fdca26\"],[1.0,\"#f0f921\"]],\"type\":\"heatmap\"}],\"heatmapgl\":[{\"colorbar\":{\"outlinewidth\":0,\"ticks\":\"\"},\"colorscale\":[[0.0,\"#0d0887\"],[0.1111111111111111,\"#46039f\"],[0.2222222222222222,\"#7201a8\"],[0.3333333333333333,\"#9c179e\"],[0.4444444444444444,\"#bd3786\"],[0.5555555555555556,\"#d8576b\"],[0.6666666666666666,\"#ed7953\"],[0.7777777777777778,\"#fb9f3a\"],[0.8888888888888888,\"#fdca26\"],[1.0,\"#f0f921\"]],\"type\":\"heatmapgl\"}],\"histogram\":[{\"marker\":{\"pattern\":{\"fillmode\":\"overlay\",\"size\":10,\"solidity\":0.2}},\"type\":\"histogram\"}],\"histogram2d\":[{\"colorbar\":{\"outlinewidth\":0,\"ticks\":\"\"},\"colorscale\":[[0.0,\"#0d0887\"],[0.1111111111111111,\"#46039f\"],[0.2222222222222222,\"#7201a8\"],[0.3333333333333333,\"#9c179e\"],[0.4444444444444444,\"#bd3786\"],[0.5555555555555556,\"#d8576b\"],[0.6666666666666666,\"#ed7953\"],[0.7777777777777778,\"#fb9f3a\"],[0.8888888888888888,\"#fdca26\"],[1.0,\"#f0f921\"]],\"type\":\"histogram2d\"}],\"histogram2dcontour\":[{\"colorbar\":{\"outlinewidth\":0,\"ticks\":\"\"},\"colorscale\":[[0.0,\"#0d0887\"],[0.1111111111111111,\"#46039f\"],[0.2222222222222222,\"#7201a8\"],[0.3333333333333333,\"#9c179e\"],[0.4444444444444444,\"#bd3786\"],[0.5555555555555556,\"#d8576b\"],[0.6666666666666666,\"#ed7953\"],[0.7777777777777778,\"#fb9f3a\"],[0.8888888888888888,\"#fdca26\"],[1.0,\"#f0f921\"]],\"type\":\"histogram2dcontour\"}],\"mesh3d\":[{\"colorbar\":{\"outlinewidth\":0,\"ticks\":\"\"},\"type\":\"mesh3d\"}],\"parcoords\":[{\"line\":{\"colorbar\":{\"outlinewidth\":0,\"ticks\":\"\"}},\"type\":\"parcoords\"}],\"pie\":[{\"automargin\":true,\"type\":\"pie\"}],\"scatter\":[{\"marker\":{\"colorbar\":{\"outlinewidth\":0,\"ticks\":\"\"}},\"type\":\"scatter\"}],\"scatter3d\":[{\"line\":{\"colorbar\":{\"outlinewidth\":0,\"ticks\":\"\"}},\"marker\":{\"colorbar\":{\"outlinewidth\":0,\"ticks\":\"\"}},\"type\":\"scatter3d\"}],\"scattercarpet\":[{\"marker\":{\"colorbar\":{\"outlinewidth\":0,\"ticks\":\"\"}},\"type\":\"scattercarpet\"}],\"scattergeo\":[{\"marker\":{\"colorbar\":{\"outlinewidth\":0,\"ticks\":\"\"}},\"type\":\"scattergeo\"}],\"scattergl\":[{\"marker\":{\"colorbar\":{\"outlinewidth\":0,\"ticks\":\"\"}},\"type\":\"scattergl\"}],\"scattermapbox\":[{\"marker\":{\"colorbar\":{\"outlinewidth\":0,\"ticks\":\"\"}},\"type\":\"scattermapbox\"}],\"scatterpolar\":[{\"marker\":{\"colorbar\":{\"outlinewidth\":0,\"ticks\":\"\"}},\"type\":\"scatterpolar\"}],\"scatterpolargl\":[{\"marker\":{\"colorbar\":{\"outlinewidth\":0,\"ticks\":\"\"}},\"type\":\"scatterpolargl\"}],\"scatterternary\":[{\"marker\":{\"colorbar\":{\"outlinewidth\":0,\"ticks\":\"\"}},\"type\":\"scatterternary\"}],\"surface\":[{\"colorbar\":{\"outlinewidth\":0,\"ticks\":\"\"},\"colorscale\":[[0.0,\"#0d0887\"],[0.1111111111111111,\"#46039f\"],[0.2222222222222222,\"#7201a8\"],[0.3333333333333333,\"#9c179e\"],[0.4444444444444444,\"#bd3786\"],[0.5555555555555556,\"#d8576b\"],[0.6666666666666666,\"#ed7953\"],[0.7777777777777778,\"#fb9f3a\"],[0.8888888888888888,\"#fdca26\"],[1.0,\"#f0f921\"]],\"type\":\"surface\"}],\"table\":[{\"cells\":{\"fill\":{\"color\":\"#EBF0F8\"},\"line\":{\"color\":\"white\"}},\"header\":{\"fill\":{\"color\":\"#C8D4E3\"},\"line\":{\"color\":\"white\"}},\"type\":\"table\"}]},\"layout\":{\"annotationdefaults\":{\"arrowcolor\":\"#2a3f5f\",\"arrowhead\":0,\"arrowwidth\":1},\"autotypenumbers\":\"strict\",\"coloraxis\":{\"colorbar\":{\"outlinewidth\":0,\"ticks\":\"\"}},\"colorscale\":{\"diverging\":[[0,\"#8e0152\"],[0.1,\"#c51b7d\"],[0.2,\"#de77ae\"],[0.3,\"#f1b6da\"],[0.4,\"#fde0ef\"],[0.5,\"#f7f7f7\"],[0.6,\"#e6f5d0\"],[0.7,\"#b8e186\"],[0.8,\"#7fbc41\"],[0.9,\"#4d9221\"],[1,\"#276419\"]],\"sequential\":[[0.0,\"#0d0887\"],[0.1111111111111111,\"#46039f\"],[0.2222222222222222,\"#7201a8\"],[0.3333333333333333,\"#9c179e\"],[0.4444444444444444,\"#bd3786\"],[0.5555555555555556,\"#d8576b\"],[0.6666666666666666,\"#ed7953\"],[0.7777777777777778,\"#fb9f3a\"],[0.8888888888888888,\"#fdca26\"],[1.0,\"#f0f921\"]],\"sequentialminus\":[[0.0,\"#0d0887\"],[0.1111111111111111,\"#46039f\"],[0.2222222222222222,\"#7201a8\"],[0.3333333333333333,\"#9c179e\"],[0.4444444444444444,\"#bd3786\"],[0.5555555555555556,\"#d8576b\"],[0.6666666666666666,\"#ed7953\"],[0.7777777777777778,\"#fb9f3a\"],[0.8888888888888888,\"#fdca26\"],[1.0,\"#f0f921\"]]},\"colorway\":[\"#636efa\",\"#EF553B\",\"#00cc96\",\"#ab63fa\",\"#FFA15A\",\"#19d3f3\",\"#FF6692\",\"#B6E880\",\"#FF97FF\",\"#FECB52\"],\"font\":{\"color\":\"#2a3f5f\"},\"geo\":{\"bgcolor\":\"white\",\"lakecolor\":\"white\",\"landcolor\":\"#E5ECF6\",\"showlakes\":true,\"showland\":true,\"subunitcolor\":\"white\"},\"hoverlabel\":{\"align\":\"left\"},\"hovermode\":\"closest\",\"mapbox\":{\"style\":\"light\"},\"paper_bgcolor\":\"white\",\"plot_bgcolor\":\"#E5ECF6\",\"polar\":{\"angularaxis\":{\"gridcolor\":\"white\",\"linecolor\":\"white\",\"ticks\":\"\"},\"bgcolor\":\"#E5ECF6\",\"radialaxis\":{\"gridcolor\":\"white\",\"linecolor\":\"white\",\"ticks\":\"\"}},\"scene\":{\"xaxis\":{\"backgroundcolor\":\"#E5ECF6\",\"gridcolor\":\"white\",\"gridwidth\":2,\"linecolor\":\"white\",\"showbackground\":true,\"ticks\":\"\",\"zerolinecolor\":\"white\"},\"yaxis\":{\"backgroundcolor\":\"#E5ECF6\",\"gridcolor\":\"white\",\"gridwidth\":2,\"linecolor\":\"white\",\"showbackground\":true,\"ticks\":\"\",\"zerolinecolor\":\"white\"},\"zaxis\":{\"backgroundcolor\":\"#E5ECF6\",\"gridcolor\":\"white\",\"gridwidth\":2,\"linecolor\":\"white\",\"showbackground\":true,\"ticks\":\"\",\"zerolinecolor\":\"white\"}},\"shapedefaults\":{\"line\":{\"color\":\"#2a3f5f\"}},\"ternary\":{\"aaxis\":{\"gridcolor\":\"white\",\"linecolor\":\"white\",\"ticks\":\"\"},\"baxis\":{\"gridcolor\":\"white\",\"linecolor\":\"white\",\"ticks\":\"\"},\"bgcolor\":\"#E5ECF6\",\"caxis\":{\"gridcolor\":\"white\",\"linecolor\":\"white\",\"ticks\":\"\"}},\"title\":{\"x\":0.05},\"xaxis\":{\"automargin\":true,\"gridcolor\":\"white\",\"linecolor\":\"white\",\"ticks\":\"\",\"title\":{\"standoff\":15},\"zerolinecolor\":\"white\",\"zerolinewidth\":2},\"yaxis\":{\"automargin\":true,\"gridcolor\":\"white\",\"linecolor\":\"white\",\"ticks\":\"\",\"title\":{\"standoff\":15},\"zerolinecolor\":\"white\",\"zerolinewidth\":2}}},\"xaxis\":{\"anchor\":\"y\",\"domain\":[0.0,1.0],\"title\":{\"text\":\"Campaign length (in days)\"}},\"yaxis\":{\"anchor\":\"x\",\"domain\":[0.0,1.0],\"title\":{\"text\":\"count\"}},\"legend\":{\"title\":{\"text\":\"outcome\"},\"tracegroupgap\":0},\"title\":{\"text\":\"Number of board games funded per campaign length\"},\"barmode\":\"stack\"},                        {\"responsive\": true}                    ).then(function(){\n",
              "                            \n",
              "var gd = document.getElementById('b57f205d-826c-495b-b4c5-82187e481fa3');\n",
              "var x = new MutationObserver(function (mutations, observer) {{\n",
              "        var display = window.getComputedStyle(gd).display;\n",
              "        if (!display || display === 'none') {{\n",
              "            console.log([gd, 'removed!']);\n",
              "            Plotly.purge(gd);\n",
              "            observer.disconnect();\n",
              "        }}\n",
              "}});\n",
              "\n",
              "// Listen for the removal of the full notebook cells\n",
              "var notebookContainer = gd.closest('#notebook-container');\n",
              "if (notebookContainer) {{\n",
              "    x.observe(notebookContainer, {childList: true});\n",
              "}}\n",
              "\n",
              "// Listen for the clearing of the current output cell\n",
              "var outputEl = gd.closest('.output');\n",
              "if (outputEl) {{\n",
              "    x.observe(outputEl, {childList: true});\n",
              "}}\n",
              "\n",
              "                        })                };                            </script>        </div>\n",
              "</body>\n",
              "</html>"
            ]
          },
          "metadata": {}
        }
      ]
    },
    {
      "cell_type": "markdown",
      "metadata": {
        "id": "9UJGlo9yTY9M"
      },
      "source": [
        "Finally, let's look at a scatter plot visualizing the relationship between a project's stated goal vs. the actual amount pledged. Another linear regression line tells us that the projects that raised more than the minimum \\$ **15 K** we require and succeeded had a stated goal of around \\$ **2,500**. Of the 9 of the 42 board game projects that raised more than our minimum requirement, only 2 indicated \\$ **15 K** to be their goal *succeeded* in raising those funds."
      ]
    },
    {
      "cell_type": "code",
      "metadata": {
        "colab": {
          "base_uri": "https://localhost:8080/",
          "height": 542
        },
        "id": "MdKxC973OCNB",
        "cellView": "form",
        "outputId": "be7b2ffe-44db-4cf0-b4e4-5655bf9ca8df"
      },
      "source": [
        "#@title\n",
        "fig = px.scatter(BGcampaign_df, \n",
        "                 x=\"goal\", \n",
        "                 y=\"pledged_CAD\", \n",
        "                 color='outcome', \n",
        "                 color_discrete_sequence=['red', 'white', 'green', 'orange'],\n",
        "                 title='Stated Goal vs. Amount Pledged for Board Games',\n",
        "                 trendline='ols'\n",
        "                 )\n",
        "\n",
        "fig.add_shape(type='line', x0=15000, y0=0, x1=15000, y1=80000, line=dict(color='Black',), xref='x', yref='y', name='Min. Funding Needed')\n",
        "fig.update_layout(xaxis_title='Stated Goal (in CAD)', yaxis_title='Amount Raised (in CAD)')\n",
        "fig.show()"
      ],
      "execution_count": null,
      "outputs": [
        {
          "output_type": "display_data",
          "data": {
            "text/html": [
              "<html>\n",
              "<head><meta charset=\"utf-8\" /></head>\n",
              "<body>\n",
              "    <div>            <script src=\"https://cdnjs.cloudflare.com/ajax/libs/mathjax/2.7.5/MathJax.js?config=TeX-AMS-MML_SVG\"></script><script type=\"text/javascript\">if (window.MathJax) {MathJax.Hub.Config({SVG: {font: \"STIX-Web\"}});}</script>                <script type=\"text/javascript\">window.PlotlyConfig = {MathJaxConfig: 'local'};</script>\n",
              "        <script src=\"https://cdn.plot.ly/plotly-2.6.3.min.js\"></script>                <div id=\"8705b2e1-da2f-4844-b0ba-8b02cb93f43d\" class=\"plotly-graph-div\" style=\"height:525px; width:100%;\"></div>            <script type=\"text/javascript\">                                    window.PLOTLYENV=window.PLOTLYENV || {};                                    if (document.getElementById(\"8705b2e1-da2f-4844-b0ba-8b02cb93f43d\")) {                    Plotly.newPlot(                        \"8705b2e1-da2f-4844-b0ba-8b02cb93f43d\",                        [{\"hovertemplate\":\"outcome=failed<br>goal=%{x}<br>pledged_CAD=%{y}<extra></extra>\",\"legendgroup\":\"failed\",\"marker\":{\"color\":\"red\",\"symbol\":\"circle\"},\"mode\":\"markers\",\"name\":\"failed\",\"orientation\":\"v\",\"showlegend\":true,\"x\":[250000.0,67494.6,45000.0,25000.0,22000.0,16000.0,15000.0,15000.0,12500.0,10000.0,8000.0,7143.57,7000.0,7000.0,287.56],\"xaxis\":\"x\",\"y\":[0.0,0.9,2968.16,2483.31,16412.2,7565.49,4045.9,3115.13,349.2,579.06,2063.77,168.77,2200.69,297.7,257.19],\"yaxis\":\"y\",\"type\":\"scatter\"},{\"hovertemplate\":\"<b>OLS trendline</b><br>pledged_CAD = -0.0112046 * goal + 3212.86<br>R<sup>2</sup>=0.026483<br><br>outcome=failed<br>goal=%{x}<br>pledged_CAD=%{y} <b>(trend)</b><extra></extra>\",\"legendgroup\":\"failed\",\"marker\":{\"color\":\"red\",\"symbol\":\"circle\"},\"mode\":\"lines\",\"name\":\"failed\",\"showlegend\":false,\"x\":[287.56,7000.0,7000.0,7143.57,8000.0,10000.0,12500.0,15000.0,15000.0,16000.0,22000.0,25000.0,45000.0,67494.6,250000.0],\"xaxis\":\"x\",\"y\":[3209.6421109419925,3134.4320491238454,3134.4320491238454,3132.8234077691022,3123.227470488037,3100.8183132164195,3072.8068666268978,3044.795420037376,3044.795420037376,3033.5908414015676,2966.3633695867156,2932.74963367929,2708.6580609631174,2456.615546382056,411.71944062234616],\"yaxis\":\"y\",\"type\":\"scatter\"},{\"hovertemplate\":\"outcome=canceled<br>goal=%{x}<br>pledged_CAD=%{y}<extra></extra>\",\"legendgroup\":\"canceled\",\"marker\":{\"color\":\"white\",\"symbol\":\"circle\"},\"mode\":\"markers\",\"name\":\"canceled\",\"orientation\":\"v\",\"showlegend\":true,\"x\":[56000.0,50000.0,12175.63,12000.0,10893.25,10000.0,5000.0,4600.0],\"xaxis\":\"x\",\"y\":[70.34,501.18,371.36,3980.58,1142.01,316.54,4391.33,339.15],\"yaxis\":\"y\",\"type\":\"scatter\"},{\"hovertemplate\":\"<b>OLS trendline</b><br>pledged_CAD = -0.0346464 * goal + 2084.89<br>R<sup>2</sup>=0.164795<br><br>outcome=canceled<br>goal=%{x}<br>pledged_CAD=%{y} <b>(trend)</b><extra></extra>\",\"legendgroup\":\"canceled\",\"marker\":{\"color\":\"white\",\"symbol\":\"circle\"},\"mode\":\"lines\",\"name\":\"canceled\",\"showlegend\":false,\"x\":[4600.0,5000.0,10000.0,10893.25,12000.0,12175.63,50000.0,56000.0],\"xaxis\":\"x\",\"y\":[1925.5119736092042,1911.6534296750906,1738.4216304986696,1707.4737695758022,1669.1289108281012,1663.0439706502302,352.56723708730283,144.68907807559776],\"yaxis\":\"y\",\"type\":\"scatter\"},{\"hovertemplate\":\"outcome=successful<br>goal=%{x}<br>pledged_CAD=%{y}<extra></extra>\",\"legendgroup\":\"successful\",\"marker\":{\"color\":\"green\",\"symbol\":\"circle\"},\"mode\":\"markers\",\"name\":\"successful\",\"orientation\":\"v\",\"showlegend\":true,\"x\":[21151.87,15000.0,10000.0,6942.95,6500.0,4472.39,4226.01,3000.0,2500.0,2000.0,1650.0,1500.0,1027.61,1000.0,1000.0,500.0,500.0,88.0],\"xaxis\":\"x\",\"y\":[78363.15,56364.98,35786.82,20646.14,10144.26,8209.15,25925.31,4179.04,14200.21,18654.34,31661.26,11394.08,23347.58,1425.67,1904.25,1021.21,1131.75,5761.73],\"yaxis\":\"y\",\"type\":\"scatter\"},{\"hovertemplate\":\"<b>OLS trendline</b><br>pledged_CAD = 3.27273 * goal + 4349.53<br>R<sup>2</sup>=0.795354<br><br>outcome=successful<br>goal=%{x}<br>pledged_CAD=%{y} <b>(trend)</b><extra></extra>\",\"legendgroup\":\"successful\",\"marker\":{\"color\":\"green\",\"symbol\":\"circle\"},\"mode\":\"lines\",\"name\":\"successful\",\"showlegend\":false,\"x\":[88.0,500.0,500.0,1000.0,1000.0,1027.61,1500.0,1650.0,2000.0,2500.0,3000.0,4226.01,4472.39,6500.0,6942.95,10000.0,15000.0,21151.87],\"xaxis\":\"x\",\"y\":[4637.530255731723,5985.896355832741,5985.896355832741,7622.26298216893,7622.26298216893,7712.623147275214,9258.629608505118,9749.539596405975,10894.996234841306,12531.362861177497,14167.729487513685,18180.133182622547,18986.469201415966,25622.295871867005,27071.953066138234,37076.86225622032,53440.52851958221,73573.95803469983],\"yaxis\":\"y\",\"type\":\"scatter\"},{\"hovertemplate\":\"outcome=suspended<br>goal=%{x}<br>pledged_CAD=%{y}<extra></extra>\",\"legendgroup\":\"suspended\",\"marker\":{\"color\":\"orange\",\"symbol\":\"circle\"},\"mode\":\"markers\",\"name\":\"suspended\",\"orientation\":\"v\",\"showlegend\":true,\"x\":[9806.06],\"xaxis\":\"x\",\"y\":[947.66],\"yaxis\":\"y\",\"type\":\"scatter\"},{\"hovertemplate\":\"outcome=suspended<extra></extra>\",\"legendgroup\":\"suspended\",\"marker\":{\"color\":\"orange\",\"symbol\":\"circle\"},\"mode\":\"lines\",\"name\":\"suspended\",\"showlegend\":false,\"xaxis\":\"x\",\"yaxis\":\"y\",\"type\":\"scatter\"}],                        {\"template\":{\"data\":{\"bar\":[{\"error_x\":{\"color\":\"#2a3f5f\"},\"error_y\":{\"color\":\"#2a3f5f\"},\"marker\":{\"line\":{\"color\":\"#E5ECF6\",\"width\":0.5},\"pattern\":{\"fillmode\":\"overlay\",\"size\":10,\"solidity\":0.2}},\"type\":\"bar\"}],\"barpolar\":[{\"marker\":{\"line\":{\"color\":\"#E5ECF6\",\"width\":0.5},\"pattern\":{\"fillmode\":\"overlay\",\"size\":10,\"solidity\":0.2}},\"type\":\"barpolar\"}],\"carpet\":[{\"aaxis\":{\"endlinecolor\":\"#2a3f5f\",\"gridcolor\":\"white\",\"linecolor\":\"white\",\"minorgridcolor\":\"white\",\"startlinecolor\":\"#2a3f5f\"},\"baxis\":{\"endlinecolor\":\"#2a3f5f\",\"gridcolor\":\"white\",\"linecolor\":\"white\",\"minorgridcolor\":\"white\",\"startlinecolor\":\"#2a3f5f\"},\"type\":\"carpet\"}],\"choropleth\":[{\"colorbar\":{\"outlinewidth\":0,\"ticks\":\"\"},\"type\":\"choropleth\"}],\"contour\":[{\"colorbar\":{\"outlinewidth\":0,\"ticks\":\"\"},\"colorscale\":[[0.0,\"#0d0887\"],[0.1111111111111111,\"#46039f\"],[0.2222222222222222,\"#7201a8\"],[0.3333333333333333,\"#9c179e\"],[0.4444444444444444,\"#bd3786\"],[0.5555555555555556,\"#d8576b\"],[0.6666666666666666,\"#ed7953\"],[0.7777777777777778,\"#fb9f3a\"],[0.8888888888888888,\"#fdca26\"],[1.0,\"#f0f921\"]],\"type\":\"contour\"}],\"contourcarpet\":[{\"colorbar\":{\"outlinewidth\":0,\"ticks\":\"\"},\"type\":\"contourcarpet\"}],\"heatmap\":[{\"colorbar\":{\"outlinewidth\":0,\"ticks\":\"\"},\"colorscale\":[[0.0,\"#0d0887\"],[0.1111111111111111,\"#46039f\"],[0.2222222222222222,\"#7201a8\"],[0.3333333333333333,\"#9c179e\"],[0.4444444444444444,\"#bd3786\"],[0.5555555555555556,\"#d8576b\"],[0.6666666666666666,\"#ed7953\"],[0.7777777777777778,\"#fb9f3a\"],[0.8888888888888888,\"#fdca26\"],[1.0,\"#f0f921\"]],\"type\":\"heatmap\"}],\"heatmapgl\":[{\"colorbar\":{\"outlinewidth\":0,\"ticks\":\"\"},\"colorscale\":[[0.0,\"#0d0887\"],[0.1111111111111111,\"#46039f\"],[0.2222222222222222,\"#7201a8\"],[0.3333333333333333,\"#9c179e\"],[0.4444444444444444,\"#bd3786\"],[0.5555555555555556,\"#d8576b\"],[0.6666666666666666,\"#ed7953\"],[0.7777777777777778,\"#fb9f3a\"],[0.8888888888888888,\"#fdca26\"],[1.0,\"#f0f921\"]],\"type\":\"heatmapgl\"}],\"histogram\":[{\"marker\":{\"pattern\":{\"fillmode\":\"overlay\",\"size\":10,\"solidity\":0.2}},\"type\":\"histogram\"}],\"histogram2d\":[{\"colorbar\":{\"outlinewidth\":0,\"ticks\":\"\"},\"colorscale\":[[0.0,\"#0d0887\"],[0.1111111111111111,\"#46039f\"],[0.2222222222222222,\"#7201a8\"],[0.3333333333333333,\"#9c179e\"],[0.4444444444444444,\"#bd3786\"],[0.5555555555555556,\"#d8576b\"],[0.6666666666666666,\"#ed7953\"],[0.7777777777777778,\"#fb9f3a\"],[0.8888888888888888,\"#fdca26\"],[1.0,\"#f0f921\"]],\"type\":\"histogram2d\"}],\"histogram2dcontour\":[{\"colorbar\":{\"outlinewidth\":0,\"ticks\":\"\"},\"colorscale\":[[0.0,\"#0d0887\"],[0.1111111111111111,\"#46039f\"],[0.2222222222222222,\"#7201a8\"],[0.3333333333333333,\"#9c179e\"],[0.4444444444444444,\"#bd3786\"],[0.5555555555555556,\"#d8576b\"],[0.6666666666666666,\"#ed7953\"],[0.7777777777777778,\"#fb9f3a\"],[0.8888888888888888,\"#fdca26\"],[1.0,\"#f0f921\"]],\"type\":\"histogram2dcontour\"}],\"mesh3d\":[{\"colorbar\":{\"outlinewidth\":0,\"ticks\":\"\"},\"type\":\"mesh3d\"}],\"parcoords\":[{\"line\":{\"colorbar\":{\"outlinewidth\":0,\"ticks\":\"\"}},\"type\":\"parcoords\"}],\"pie\":[{\"automargin\":true,\"type\":\"pie\"}],\"scatter\":[{\"marker\":{\"colorbar\":{\"outlinewidth\":0,\"ticks\":\"\"}},\"type\":\"scatter\"}],\"scatter3d\":[{\"line\":{\"colorbar\":{\"outlinewidth\":0,\"ticks\":\"\"}},\"marker\":{\"colorbar\":{\"outlinewidth\":0,\"ticks\":\"\"}},\"type\":\"scatter3d\"}],\"scattercarpet\":[{\"marker\":{\"colorbar\":{\"outlinewidth\":0,\"ticks\":\"\"}},\"type\":\"scattercarpet\"}],\"scattergeo\":[{\"marker\":{\"colorbar\":{\"outlinewidth\":0,\"ticks\":\"\"}},\"type\":\"scattergeo\"}],\"scattergl\":[{\"marker\":{\"colorbar\":{\"outlinewidth\":0,\"ticks\":\"\"}},\"type\":\"scattergl\"}],\"scattermapbox\":[{\"marker\":{\"colorbar\":{\"outlinewidth\":0,\"ticks\":\"\"}},\"type\":\"scattermapbox\"}],\"scatterpolar\":[{\"marker\":{\"colorbar\":{\"outlinewidth\":0,\"ticks\":\"\"}},\"type\":\"scatterpolar\"}],\"scatterpolargl\":[{\"marker\":{\"colorbar\":{\"outlinewidth\":0,\"ticks\":\"\"}},\"type\":\"scatterpolargl\"}],\"scatterternary\":[{\"marker\":{\"colorbar\":{\"outlinewidth\":0,\"ticks\":\"\"}},\"type\":\"scatterternary\"}],\"surface\":[{\"colorbar\":{\"outlinewidth\":0,\"ticks\":\"\"},\"colorscale\":[[0.0,\"#0d0887\"],[0.1111111111111111,\"#46039f\"],[0.2222222222222222,\"#7201a8\"],[0.3333333333333333,\"#9c179e\"],[0.4444444444444444,\"#bd3786\"],[0.5555555555555556,\"#d8576b\"],[0.6666666666666666,\"#ed7953\"],[0.7777777777777778,\"#fb9f3a\"],[0.8888888888888888,\"#fdca26\"],[1.0,\"#f0f921\"]],\"type\":\"surface\"}],\"table\":[{\"cells\":{\"fill\":{\"color\":\"#EBF0F8\"},\"line\":{\"color\":\"white\"}},\"header\":{\"fill\":{\"color\":\"#C8D4E3\"},\"line\":{\"color\":\"white\"}},\"type\":\"table\"}]},\"layout\":{\"annotationdefaults\":{\"arrowcolor\":\"#2a3f5f\",\"arrowhead\":0,\"arrowwidth\":1},\"autotypenumbers\":\"strict\",\"coloraxis\":{\"colorbar\":{\"outlinewidth\":0,\"ticks\":\"\"}},\"colorscale\":{\"diverging\":[[0,\"#8e0152\"],[0.1,\"#c51b7d\"],[0.2,\"#de77ae\"],[0.3,\"#f1b6da\"],[0.4,\"#fde0ef\"],[0.5,\"#f7f7f7\"],[0.6,\"#e6f5d0\"],[0.7,\"#b8e186\"],[0.8,\"#7fbc41\"],[0.9,\"#4d9221\"],[1,\"#276419\"]],\"sequential\":[[0.0,\"#0d0887\"],[0.1111111111111111,\"#46039f\"],[0.2222222222222222,\"#7201a8\"],[0.3333333333333333,\"#9c179e\"],[0.4444444444444444,\"#bd3786\"],[0.5555555555555556,\"#d8576b\"],[0.6666666666666666,\"#ed7953\"],[0.7777777777777778,\"#fb9f3a\"],[0.8888888888888888,\"#fdca26\"],[1.0,\"#f0f921\"]],\"sequentialminus\":[[0.0,\"#0d0887\"],[0.1111111111111111,\"#46039f\"],[0.2222222222222222,\"#7201a8\"],[0.3333333333333333,\"#9c179e\"],[0.4444444444444444,\"#bd3786\"],[0.5555555555555556,\"#d8576b\"],[0.6666666666666666,\"#ed7953\"],[0.7777777777777778,\"#fb9f3a\"],[0.8888888888888888,\"#fdca26\"],[1.0,\"#f0f921\"]]},\"colorway\":[\"#636efa\",\"#EF553B\",\"#00cc96\",\"#ab63fa\",\"#FFA15A\",\"#19d3f3\",\"#FF6692\",\"#B6E880\",\"#FF97FF\",\"#FECB52\"],\"font\":{\"color\":\"#2a3f5f\"},\"geo\":{\"bgcolor\":\"white\",\"lakecolor\":\"white\",\"landcolor\":\"#E5ECF6\",\"showlakes\":true,\"showland\":true,\"subunitcolor\":\"white\"},\"hoverlabel\":{\"align\":\"left\"},\"hovermode\":\"closest\",\"mapbox\":{\"style\":\"light\"},\"paper_bgcolor\":\"white\",\"plot_bgcolor\":\"#E5ECF6\",\"polar\":{\"angularaxis\":{\"gridcolor\":\"white\",\"linecolor\":\"white\",\"ticks\":\"\"},\"bgcolor\":\"#E5ECF6\",\"radialaxis\":{\"gridcolor\":\"white\",\"linecolor\":\"white\",\"ticks\":\"\"}},\"scene\":{\"xaxis\":{\"backgroundcolor\":\"#E5ECF6\",\"gridcolor\":\"white\",\"gridwidth\":2,\"linecolor\":\"white\",\"showbackground\":true,\"ticks\":\"\",\"zerolinecolor\":\"white\"},\"yaxis\":{\"backgroundcolor\":\"#E5ECF6\",\"gridcolor\":\"white\",\"gridwidth\":2,\"linecolor\":\"white\",\"showbackground\":true,\"ticks\":\"\",\"zerolinecolor\":\"white\"},\"zaxis\":{\"backgroundcolor\":\"#E5ECF6\",\"gridcolor\":\"white\",\"gridwidth\":2,\"linecolor\":\"white\",\"showbackground\":true,\"ticks\":\"\",\"zerolinecolor\":\"white\"}},\"shapedefaults\":{\"line\":{\"color\":\"#2a3f5f\"}},\"ternary\":{\"aaxis\":{\"gridcolor\":\"white\",\"linecolor\":\"white\",\"ticks\":\"\"},\"baxis\":{\"gridcolor\":\"white\",\"linecolor\":\"white\",\"ticks\":\"\"},\"bgcolor\":\"#E5ECF6\",\"caxis\":{\"gridcolor\":\"white\",\"linecolor\":\"white\",\"ticks\":\"\"}},\"title\":{\"x\":0.05},\"xaxis\":{\"automargin\":true,\"gridcolor\":\"white\",\"linecolor\":\"white\",\"ticks\":\"\",\"title\":{\"standoff\":15},\"zerolinecolor\":\"white\",\"zerolinewidth\":2},\"yaxis\":{\"automargin\":true,\"gridcolor\":\"white\",\"linecolor\":\"white\",\"ticks\":\"\",\"title\":{\"standoff\":15},\"zerolinecolor\":\"white\",\"zerolinewidth\":2}}},\"xaxis\":{\"anchor\":\"y\",\"domain\":[0.0,1.0],\"title\":{\"text\":\"Stated Goal (in CAD)\"}},\"yaxis\":{\"anchor\":\"x\",\"domain\":[0.0,1.0],\"title\":{\"text\":\"Amount Raised (in CAD)\"}},\"legend\":{\"title\":{\"text\":\"outcome\"},\"tracegroupgap\":0},\"title\":{\"text\":\"Stated Goal vs. Amount Pledged for Board Games\"},\"shapes\":[{\"line\":{\"color\":\"Black\"},\"name\":\"Min. Funding Needed\",\"type\":\"line\",\"x0\":15000,\"x1\":15000,\"xref\":\"x\",\"y0\":0,\"y1\":80000,\"yref\":\"y\"}]},                        {\"responsive\": true}                    ).then(function(){\n",
              "                            \n",
              "var gd = document.getElementById('8705b2e1-da2f-4844-b0ba-8b02cb93f43d');\n",
              "var x = new MutationObserver(function (mutations, observer) {{\n",
              "        var display = window.getComputedStyle(gd).display;\n",
              "        if (!display || display === 'none') {{\n",
              "            console.log([gd, 'removed!']);\n",
              "            Plotly.purge(gd);\n",
              "            observer.disconnect();\n",
              "        }}\n",
              "}});\n",
              "\n",
              "// Listen for the removal of the full notebook cells\n",
              "var notebookContainer = gd.closest('#notebook-container');\n",
              "if (notebookContainer) {{\n",
              "    x.observe(notebookContainer, {childList: true});\n",
              "}}\n",
              "\n",
              "// Listen for the clearing of the current output cell\n",
              "var outputEl = gd.closest('.output');\n",
              "if (outputEl) {{\n",
              "    x.observe(outputEl, {childList: true});\n",
              "}}\n",
              "\n",
              "                        })                };                            </script>        </div>\n",
              "</body>\n",
              "</html>"
            ]
          },
          "metadata": {}
        }
      ]
    },
    {
      "cell_type": "code",
      "metadata": {
        "colab": {
          "base_uri": "https://localhost:8080/",
          "height": 542
        },
        "id": "ur2uhhQKr1Yy",
        "outputId": "f3459c27-a877-47d1-9f09-527d75554e0b"
      },
      "source": [
        "sorted_1 = BGcampaign_df.sort_values(by='backers')\n",
        "\n",
        "area1 = go.Figure()\n",
        "area1.add_trace(go.Scatter(x=sorted_1['backers'], y=sorted_1['pledged_CAD'], fill='tozeroy', name='Capital Received (CAD)')) # fill down to xaxis\n",
        "area1.add_trace(go.Scatter(x=sorted_1['backers'], y=sorted_1['goal'], fill='tonexty', name='Funding Goal')) # fill to trace0 y\n",
        "area1.update_layout(title='Board Games Funding Success Rate',\n",
        "                   xaxis_title='Number of backers',\n",
        "                   yaxis_title='Amount Raised (in CAD)')\n",
        "\n",
        "area1.add_shape(type='line', x0=0, y0=15000, x1=1600, y1=15000, line=dict(color='Black',), xref='x', yref='y', name='Min. Funding Needed')\n",
        "\n",
        "\n",
        "area1.show()"
      ],
      "execution_count": null,
      "outputs": [
        {
          "output_type": "display_data",
          "data": {
            "text/html": [
              "<html>\n",
              "<head><meta charset=\"utf-8\" /></head>\n",
              "<body>\n",
              "    <div>            <script src=\"https://cdnjs.cloudflare.com/ajax/libs/mathjax/2.7.5/MathJax.js?config=TeX-AMS-MML_SVG\"></script><script type=\"text/javascript\">if (window.MathJax) {MathJax.Hub.Config({SVG: {font: \"STIX-Web\"}});}</script>                <script type=\"text/javascript\">window.PlotlyConfig = {MathJaxConfig: 'local'};</script>\n",
              "        <script src=\"https://cdn.plot.ly/plotly-2.6.3.min.js\"></script>                <div id=\"1f48bef8-3e1f-4ae0-87cf-0be49c9070ea\" class=\"plotly-graph-div\" style=\"height:525px; width:100%;\"></div>            <script type=\"text/javascript\">                                    window.PLOTLYENV=window.PLOTLYENV || {};                                    if (document.getElementById(\"1f48bef8-3e1f-4ae0-87cf-0be49c9070ea\")) {                    Plotly.newPlot(                        \"1f48bef8-3e1f-4ae0-87cf-0be49c9070ea\",                        [{\"fill\":\"tozeroy\",\"name\":\"Capital Received (CAD)\",\"x\":[0,1,3,6,6,7,8,9,10,13,13,13,18,21,25,28,30,38,40,48,48,50,55,55,74,81,85,123,155,164,178,226,228,240,242,283,398,422,572,652,1433,1880],\"y\":[0.0,0.9,70.34,501.18,316.54,168.77,349.2,257.19,579.06,371.36,297.7,2483.31,339.15,1425.67,1131.75,1142.01,1021.21,2200.69,2968.16,1904.25,4179.04,4045.9,2063.77,3980.58,3115.13,8209.15,4391.33,7565.49,5761.73,11394.08,18654.34,16412.2,25925.31,947.66,10144.26,14200.21,23347.58,20646.14,35786.82,78363.15,56364.98,31661.26],\"type\":\"scatter\"},{\"fill\":\"tonexty\",\"name\":\"Funding Goal\",\"x\":[0,1,3,6,6,7,8,9,10,13,13,13,18,21,25,28,30,38,40,48,48,50,55,55,74,81,85,123,155,164,178,226,228,240,242,283,398,422,572,652,1433,1880],\"y\":[250000.0,67494.6,56000.0,50000.0,10000.0,7143.57,12500.0,287.56,10000.0,12175.63,7000.0,25000.0,4600.0,1000.0,500.0,10893.25,500.0,7000.0,45000.0,1000.0,3000.0,15000.0,8000.0,12000.0,15000.0,4472.39,5000.0,16000.0,88.0,1500.0,2000.0,22000.0,4226.01,9806.06,6500.0,2500.0,1027.61,6942.95,10000.0,21151.87,15000.0,1650.0],\"type\":\"scatter\"}],                        {\"template\":{\"data\":{\"bar\":[{\"error_x\":{\"color\":\"#2a3f5f\"},\"error_y\":{\"color\":\"#2a3f5f\"},\"marker\":{\"line\":{\"color\":\"#E5ECF6\",\"width\":0.5},\"pattern\":{\"fillmode\":\"overlay\",\"size\":10,\"solidity\":0.2}},\"type\":\"bar\"}],\"barpolar\":[{\"marker\":{\"line\":{\"color\":\"#E5ECF6\",\"width\":0.5},\"pattern\":{\"fillmode\":\"overlay\",\"size\":10,\"solidity\":0.2}},\"type\":\"barpolar\"}],\"carpet\":[{\"aaxis\":{\"endlinecolor\":\"#2a3f5f\",\"gridcolor\":\"white\",\"linecolor\":\"white\",\"minorgridcolor\":\"white\",\"startlinecolor\":\"#2a3f5f\"},\"baxis\":{\"endlinecolor\":\"#2a3f5f\",\"gridcolor\":\"white\",\"linecolor\":\"white\",\"minorgridcolor\":\"white\",\"startlinecolor\":\"#2a3f5f\"},\"type\":\"carpet\"}],\"choropleth\":[{\"colorbar\":{\"outlinewidth\":0,\"ticks\":\"\"},\"type\":\"choropleth\"}],\"contour\":[{\"colorbar\":{\"outlinewidth\":0,\"ticks\":\"\"},\"colorscale\":[[0.0,\"#0d0887\"],[0.1111111111111111,\"#46039f\"],[0.2222222222222222,\"#7201a8\"],[0.3333333333333333,\"#9c179e\"],[0.4444444444444444,\"#bd3786\"],[0.5555555555555556,\"#d8576b\"],[0.6666666666666666,\"#ed7953\"],[0.7777777777777778,\"#fb9f3a\"],[0.8888888888888888,\"#fdca26\"],[1.0,\"#f0f921\"]],\"type\":\"contour\"}],\"contourcarpet\":[{\"colorbar\":{\"outlinewidth\":0,\"ticks\":\"\"},\"type\":\"contourcarpet\"}],\"heatmap\":[{\"colorbar\":{\"outlinewidth\":0,\"ticks\":\"\"},\"colorscale\":[[0.0,\"#0d0887\"],[0.1111111111111111,\"#46039f\"],[0.2222222222222222,\"#7201a8\"],[0.3333333333333333,\"#9c179e\"],[0.4444444444444444,\"#bd3786\"],[0.5555555555555556,\"#d8576b\"],[0.6666666666666666,\"#ed7953\"],[0.7777777777777778,\"#fb9f3a\"],[0.8888888888888888,\"#fdca26\"],[1.0,\"#f0f921\"]],\"type\":\"heatmap\"}],\"heatmapgl\":[{\"colorbar\":{\"outlinewidth\":0,\"ticks\":\"\"},\"colorscale\":[[0.0,\"#0d0887\"],[0.1111111111111111,\"#46039f\"],[0.2222222222222222,\"#7201a8\"],[0.3333333333333333,\"#9c179e\"],[0.4444444444444444,\"#bd3786\"],[0.5555555555555556,\"#d8576b\"],[0.6666666666666666,\"#ed7953\"],[0.7777777777777778,\"#fb9f3a\"],[0.8888888888888888,\"#fdca26\"],[1.0,\"#f0f921\"]],\"type\":\"heatmapgl\"}],\"histogram\":[{\"marker\":{\"pattern\":{\"fillmode\":\"overlay\",\"size\":10,\"solidity\":0.2}},\"type\":\"histogram\"}],\"histogram2d\":[{\"colorbar\":{\"outlinewidth\":0,\"ticks\":\"\"},\"colorscale\":[[0.0,\"#0d0887\"],[0.1111111111111111,\"#46039f\"],[0.2222222222222222,\"#7201a8\"],[0.3333333333333333,\"#9c179e\"],[0.4444444444444444,\"#bd3786\"],[0.5555555555555556,\"#d8576b\"],[0.6666666666666666,\"#ed7953\"],[0.7777777777777778,\"#fb9f3a\"],[0.8888888888888888,\"#fdca26\"],[1.0,\"#f0f921\"]],\"type\":\"histogram2d\"}],\"histogram2dcontour\":[{\"colorbar\":{\"outlinewidth\":0,\"ticks\":\"\"},\"colorscale\":[[0.0,\"#0d0887\"],[0.1111111111111111,\"#46039f\"],[0.2222222222222222,\"#7201a8\"],[0.3333333333333333,\"#9c179e\"],[0.4444444444444444,\"#bd3786\"],[0.5555555555555556,\"#d8576b\"],[0.6666666666666666,\"#ed7953\"],[0.7777777777777778,\"#fb9f3a\"],[0.8888888888888888,\"#fdca26\"],[1.0,\"#f0f921\"]],\"type\":\"histogram2dcontour\"}],\"mesh3d\":[{\"colorbar\":{\"outlinewidth\":0,\"ticks\":\"\"},\"type\":\"mesh3d\"}],\"parcoords\":[{\"line\":{\"colorbar\":{\"outlinewidth\":0,\"ticks\":\"\"}},\"type\":\"parcoords\"}],\"pie\":[{\"automargin\":true,\"type\":\"pie\"}],\"scatter\":[{\"marker\":{\"colorbar\":{\"outlinewidth\":0,\"ticks\":\"\"}},\"type\":\"scatter\"}],\"scatter3d\":[{\"line\":{\"colorbar\":{\"outlinewidth\":0,\"ticks\":\"\"}},\"marker\":{\"colorbar\":{\"outlinewidth\":0,\"ticks\":\"\"}},\"type\":\"scatter3d\"}],\"scattercarpet\":[{\"marker\":{\"colorbar\":{\"outlinewidth\":0,\"ticks\":\"\"}},\"type\":\"scattercarpet\"}],\"scattergeo\":[{\"marker\":{\"colorbar\":{\"outlinewidth\":0,\"ticks\":\"\"}},\"type\":\"scattergeo\"}],\"scattergl\":[{\"marker\":{\"colorbar\":{\"outlinewidth\":0,\"ticks\":\"\"}},\"type\":\"scattergl\"}],\"scattermapbox\":[{\"marker\":{\"colorbar\":{\"outlinewidth\":0,\"ticks\":\"\"}},\"type\":\"scattermapbox\"}],\"scatterpolar\":[{\"marker\":{\"colorbar\":{\"outlinewidth\":0,\"ticks\":\"\"}},\"type\":\"scatterpolar\"}],\"scatterpolargl\":[{\"marker\":{\"colorbar\":{\"outlinewidth\":0,\"ticks\":\"\"}},\"type\":\"scatterpolargl\"}],\"scatterternary\":[{\"marker\":{\"colorbar\":{\"outlinewidth\":0,\"ticks\":\"\"}},\"type\":\"scatterternary\"}],\"surface\":[{\"colorbar\":{\"outlinewidth\":0,\"ticks\":\"\"},\"colorscale\":[[0.0,\"#0d0887\"],[0.1111111111111111,\"#46039f\"],[0.2222222222222222,\"#7201a8\"],[0.3333333333333333,\"#9c179e\"],[0.4444444444444444,\"#bd3786\"],[0.5555555555555556,\"#d8576b\"],[0.6666666666666666,\"#ed7953\"],[0.7777777777777778,\"#fb9f3a\"],[0.8888888888888888,\"#fdca26\"],[1.0,\"#f0f921\"]],\"type\":\"surface\"}],\"table\":[{\"cells\":{\"fill\":{\"color\":\"#EBF0F8\"},\"line\":{\"color\":\"white\"}},\"header\":{\"fill\":{\"color\":\"#C8D4E3\"},\"line\":{\"color\":\"white\"}},\"type\":\"table\"}]},\"layout\":{\"annotationdefaults\":{\"arrowcolor\":\"#2a3f5f\",\"arrowhead\":0,\"arrowwidth\":1},\"autotypenumbers\":\"strict\",\"coloraxis\":{\"colorbar\":{\"outlinewidth\":0,\"ticks\":\"\"}},\"colorscale\":{\"diverging\":[[0,\"#8e0152\"],[0.1,\"#c51b7d\"],[0.2,\"#de77ae\"],[0.3,\"#f1b6da\"],[0.4,\"#fde0ef\"],[0.5,\"#f7f7f7\"],[0.6,\"#e6f5d0\"],[0.7,\"#b8e186\"],[0.8,\"#7fbc41\"],[0.9,\"#4d9221\"],[1,\"#276419\"]],\"sequential\":[[0.0,\"#0d0887\"],[0.1111111111111111,\"#46039f\"],[0.2222222222222222,\"#7201a8\"],[0.3333333333333333,\"#9c179e\"],[0.4444444444444444,\"#bd3786\"],[0.5555555555555556,\"#d8576b\"],[0.6666666666666666,\"#ed7953\"],[0.7777777777777778,\"#fb9f3a\"],[0.8888888888888888,\"#fdca26\"],[1.0,\"#f0f921\"]],\"sequentialminus\":[[0.0,\"#0d0887\"],[0.1111111111111111,\"#46039f\"],[0.2222222222222222,\"#7201a8\"],[0.3333333333333333,\"#9c179e\"],[0.4444444444444444,\"#bd3786\"],[0.5555555555555556,\"#d8576b\"],[0.6666666666666666,\"#ed7953\"],[0.7777777777777778,\"#fb9f3a\"],[0.8888888888888888,\"#fdca26\"],[1.0,\"#f0f921\"]]},\"colorway\":[\"#636efa\",\"#EF553B\",\"#00cc96\",\"#ab63fa\",\"#FFA15A\",\"#19d3f3\",\"#FF6692\",\"#B6E880\",\"#FF97FF\",\"#FECB52\"],\"font\":{\"color\":\"#2a3f5f\"},\"geo\":{\"bgcolor\":\"white\",\"lakecolor\":\"white\",\"landcolor\":\"#E5ECF6\",\"showlakes\":true,\"showland\":true,\"subunitcolor\":\"white\"},\"hoverlabel\":{\"align\":\"left\"},\"hovermode\":\"closest\",\"mapbox\":{\"style\":\"light\"},\"paper_bgcolor\":\"white\",\"plot_bgcolor\":\"#E5ECF6\",\"polar\":{\"angularaxis\":{\"gridcolor\":\"white\",\"linecolor\":\"white\",\"ticks\":\"\"},\"bgcolor\":\"#E5ECF6\",\"radialaxis\":{\"gridcolor\":\"white\",\"linecolor\":\"white\",\"ticks\":\"\"}},\"scene\":{\"xaxis\":{\"backgroundcolor\":\"#E5ECF6\",\"gridcolor\":\"white\",\"gridwidth\":2,\"linecolor\":\"white\",\"showbackground\":true,\"ticks\":\"\",\"zerolinecolor\":\"white\"},\"yaxis\":{\"backgroundcolor\":\"#E5ECF6\",\"gridcolor\":\"white\",\"gridwidth\":2,\"linecolor\":\"white\",\"showbackground\":true,\"ticks\":\"\",\"zerolinecolor\":\"white\"},\"zaxis\":{\"backgroundcolor\":\"#E5ECF6\",\"gridcolor\":\"white\",\"gridwidth\":2,\"linecolor\":\"white\",\"showbackground\":true,\"ticks\":\"\",\"zerolinecolor\":\"white\"}},\"shapedefaults\":{\"line\":{\"color\":\"#2a3f5f\"}},\"ternary\":{\"aaxis\":{\"gridcolor\":\"white\",\"linecolor\":\"white\",\"ticks\":\"\"},\"baxis\":{\"gridcolor\":\"white\",\"linecolor\":\"white\",\"ticks\":\"\"},\"bgcolor\":\"#E5ECF6\",\"caxis\":{\"gridcolor\":\"white\",\"linecolor\":\"white\",\"ticks\":\"\"}},\"title\":{\"x\":0.05},\"xaxis\":{\"automargin\":true,\"gridcolor\":\"white\",\"linecolor\":\"white\",\"ticks\":\"\",\"title\":{\"standoff\":15},\"zerolinecolor\":\"white\",\"zerolinewidth\":2},\"yaxis\":{\"automargin\":true,\"gridcolor\":\"white\",\"linecolor\":\"white\",\"ticks\":\"\",\"title\":{\"standoff\":15},\"zerolinecolor\":\"white\",\"zerolinewidth\":2}}},\"title\":{\"text\":\"Board Games Funding Success Rate\"},\"xaxis\":{\"title\":{\"text\":\"Number of backers\"}},\"yaxis\":{\"title\":{\"text\":\"Amount Raised (in CAD)\"}},\"shapes\":[{\"line\":{\"color\":\"Black\"},\"name\":\"Min. Funding Needed\",\"type\":\"line\",\"x0\":0,\"x1\":1600,\"xref\":\"x\",\"y0\":15000,\"y1\":15000,\"yref\":\"y\"}]},                        {\"responsive\": true}                    ).then(function(){\n",
              "                            \n",
              "var gd = document.getElementById('1f48bef8-3e1f-4ae0-87cf-0be49c9070ea');\n",
              "var x = new MutationObserver(function (mutations, observer) {{\n",
              "        var display = window.getComputedStyle(gd).display;\n",
              "        if (!display || display === 'none') {{\n",
              "            console.log([gd, 'removed!']);\n",
              "            Plotly.purge(gd);\n",
              "            observer.disconnect();\n",
              "        }}\n",
              "}});\n",
              "\n",
              "// Listen for the removal of the full notebook cells\n",
              "var notebookContainer = gd.closest('#notebook-container');\n",
              "if (notebookContainer) {{\n",
              "    x.observe(notebookContainer, {childList: true});\n",
              "}}\n",
              "\n",
              "// Listen for the clearing of the current output cell\n",
              "var outputEl = gd.closest('.output');\n",
              "if (outputEl) {{\n",
              "    x.observe(outputEl, {childList: true});\n",
              "}}\n",
              "\n",
              "                        })                };                            </script>        </div>\n",
              "</body>\n",
              "</html>"
            ]
          },
          "metadata": {}
        }
      ]
    },
    {
      "cell_type": "markdown",
      "metadata": {
        "id": "5Jp6u_C0MQAJ"
      },
      "source": [
        "## **Stage 5 - Recommendations**\n",
        "\n",
        "Now that we've had the chance to look at the data, let's re-contextualize what the business objectives were for conducting this analysis:\n",
        "\n",
        "1. What is a realistic Kickstarter campaign goal (in dollars) should the company aim to raise?\n",
        "2. How many backers will be needed to meet their goal?\n",
        "3. How many backers can the company realistically expect, based on trends in their category?\n",
        "\n",
        "We'll reiterate our previous findings to now directly address these questions.\n",
        "\n",
        "In terms of a realistic campaign goal, well \\$ **18 K** seemed to be the average for the `Tabletop Games` subcategory. However, what's interesting is that the Linear Regression trendline from the scatter plot shows us that of the projects that raised more than \\\\$ **15 K**, their stated goal was at least \\$ **2,500**. In general, we know that the stated goal has a low correlation with the actual amount raised. Therefore if the community truly gravitates towards a project, then there's a clear precedent for raising way past the company's initial funding target. \n",
        "\n",
        "<br>\n",
        "\n",
        "**Recommendation 1**: Based on the evidence we've found, we recommend setting the campaign target at around \\$ **2,600**, a figure just slightly above what the Regression trendline picked up. If we're confident in the product and the community agrees on the game's premium value, then expect to raise far more than this public-facing campaign target published on the website.\n",
        "\n",
        "<br>\n",
        "\n",
        "Now, regarding the number of backers needed. For board game projects that raised at least \\$ **15 K**, an average of about 242 people backed those projects, which values each backer's contribution to be on average of \\$61. \n",
        "\n",
        "**Recommendation 2:** Therefore, we recommend aiming for between 240-260 backers who are all willing to contribute at least \\$ **57-62** on the project. Please note, the number of backers needed to hit the minimum threshold is 26-36% higher than the average number of backers in this subcategory at 190. Reaching people at scale truly matters if we hope to surpass the minimum required capital for launching this project. However,  the area plot graph in the previous section reveals that once we've reached at least 242 backers, the funding we raise is almost guaranteed to exceed our target.\n",
        "\n",
        "<br>\n",
        "\n",
        "**Recommendation 3:** Since a large number of projects run campaigns for about 30 days, we recommend sticking with the herd on this one since it seems to be the standard campaign length for the community. \n",
        "\n",
        "<br>\n",
        "\n",
        "**Recommendation 4:** The Kickstarter community in the US far outpaces any other community, both in terms of capital and backers, which signifies that there's more of an appetite for crowdfunding amongst Americans. Therefore, we should focus our efforts on appealing to the community.\n",
        "\n",
        "<br>\n",
        "\n",
        "With the data-driven approaches explored in this analysis, there's no doubt that this Kickstarter campaign will succeed, given that the game is enjoyable, intuitive, and fully resonates amongst its userbase! On behalf of our Data Science Consulting team, thank you for allowing us to participate in this project!\n",
        "\n",
        "\n",
        "\n"
      ]
    }
  ]
}